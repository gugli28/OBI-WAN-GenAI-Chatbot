{
 "cells": [
  {
   "cell_type": "code",
   "execution_count": 1,
   "id": "65b4f701",
   "metadata": {},
   "outputs": [],
   "source": [
    "# from vertexai.preview.language_models import TextGenerationModel\n",
    "\n",
    "\n",
    "# def interview(temperature: float = 0.2) -> None:\n",
    "#     \"\"\"Ideation example with a Large Language Model\"\"\"\n",
    "\n",
    "#     # TODO developer - override these parameters as needed:\n",
    "#     parameters = {\n",
    "#         \"temperature\": temperature,  # Temperature controls the degree of randomness in token selection.\n",
    "#         \"max_output_tokens\": 256,  # Token limit determines the maximum amount of text output.\n",
    "#         \"top_p\": 0.8,  # Tokens are selected from most probable to least until the sum of their probabilities equals the top_p value.\n",
    "#         \"top_k\": 40,  # A top_k of 1 means the selected token is the most probable among all tokens.\n",
    "#     }\n",
    "\n",
    "#     model = TextGenerationModel.from_pretrained(\"text-bison@001\")\n",
    "#     response = model.predict(\n",
    "#         \"Give me ten interview questions for the role of program manager.\",\n",
    "#         **parameters,\n",
    "#     )\n",
    "#     print(f\"Response from Model: {response.text}\")\n",
    "\n",
    "# interview()"
   ]
  },
  {
   "cell_type": "code",
   "execution_count": null,
   "id": "56229713",
   "metadata": {},
   "outputs": [],
   "source": [
    "# !gcloud config list\n",
    "# !pip install urllib3==1.22\n",
    "# !pip install urllib3==1.24.3"
   ]
  },
  {
   "cell_type": "code",
   "execution_count": 3,
   "id": "c17d6465",
   "metadata": {},
   "outputs": [],
   "source": [
    "# !gcloud init\n",
    "# !pip install google-cloud-aiplatform"
   ]
  },
  {
   "cell_type": "code",
   "execution_count": 4,
   "id": "ecee91de",
   "metadata": {},
   "outputs": [],
   "source": [
    "import urllib\n",
    "import warnings\n",
    "from pathlib import Path as p\n",
    "from pprint import pprint\n",
    "\n",
    "import pandas as pd\n",
    "from langchain import PromptTemplate\n",
    "from langchain.chains.question_answering import load_qa_chain\n",
    "from langchain.document_loaders import PyPDFLoader\n",
    "from langchain.embeddings import VertexAIEmbeddings\n",
    "from langchain.llms import VertexAI\n",
    "from langchain.text_splitter import CharacterTextSplitter\n",
    "from langchain.vectorstores import Chroma\n",
    "\n",
    "warnings.filterwarnings(\"ignore\")"
   ]
  },
  {
   "cell_type": "code",
   "execution_count": 5,
   "id": "37e00dfb",
   "metadata": {},
   "outputs": [],
   "source": [
    "# !pip install google-cloud-aiplatform==1.25.0\n",
    "# !pip install langchain==0.0.187\n",
    "# !pip install xmltodict==0.13.0\n",
    "# !pip install unstructured==0.7.0 # used by langchain\n",
    "# !pip install pdf2image==1.16.3 #used by langchain\n",
    "# !pip install requests==2.31.0\n",
    "# !pip install beautifulsoup4==4.12.2\n",
    "# !pip install pypdf"
   ]
  },
  {
   "cell_type": "code",
   "execution_count": null,
   "id": "7be695d6",
   "metadata": {},
   "outputs": [],
   "source": [
    "from langchain.document_loaders import PyPDFLoader\n",
    "from langchain.document_loaders import CSVLoader\n",
    "file = 'OutdoorClothingCatalog_1000.csv'\n",
    "loader1 = CSVLoader(file_path=file)\n",
    "pdfFile = '/OfferCreationviaGrumbles.pdf'\n",
    "\n",
    "loader1\n",
    "# loader = PyPDFLoader(pdfFile)\n",
    "# # /Users/princekumar.k/Documents/Mylearnings/GenAI/venv/env\n",
    "# pages = loader.load_and_split()\n",
    "# len(pages)\n",
    "# # pages[0]\n",
    "# documents = pages"
   ]
  },
  {
   "cell_type": "code",
   "execution_count": 6,
   "id": "dcb1319b",
   "metadata": {},
   "outputs": [],
   "source": [
    "# import pathlib\n",
    "# desktop = pathlib.Path(\".\")\n",
    "# desktop.parent"
   ]
  },
  {
   "cell_type": "code",
   "execution_count": 7,
   "id": "98c3a3a4",
   "metadata": {},
   "outputs": [
    {
     "name": "stdout",
     "output_type": "stream",
     "text": [
      "SOP/Incentivised Attach SOP.pdf\n",
      "2\n"
     ]
    }
   ],
   "source": [
    "import pathlib\n",
    "desktop = pathlib.Path(\"./SOP\")\n",
    "files = []\n",
    "list(desktop.iterdir())\n",
    "for item in list(desktop.iterdir()):\n",
    "    print(str(item))\n",
    "    fileLoader = PyPDFLoader(str(item))\n",
    "    pages = fileLoader.load_and_split()\n",
    "    files.append(fileLoader)\n",
    "    break\n",
    "\n",
    "documents = files\n",
    "documents\n",
    "\n",
    "print(len(pages))"
   ]
  },
  {
   "cell_type": "code",
   "execution_count": null,
   "id": "221f9ef9",
   "metadata": {},
   "outputs": [],
   "source": [
    "import pathlib\n",
    "desktop = pathlib.Path(\"./SOP\")\n",
    "files = []\n",
    "list(desktop.iterdir())\n",
    "pages1 = []\n",
    "# for item in list(desktop.iterdir())[:1]:\n",
    "for item in list(desktop.iterdir()):\n",
    "    try:\n",
    "        print(str(item))\n",
    "        fileLoader = PyPDFLoader(str(item))\n",
    "#         pages = fileLoader.load_and_split()\n",
    "#         print(len(fileLoader.load_and_split()))\n",
    "        pages1.append(fileLoader.load_and_split())\n",
    "#         files.append(pages)\n",
    "    except:\n",
    "        print(\"An exception occurred\")\n",
    "  \n",
    "print (type(pages1))\n"
   ]
  },
  {
   "cell_type": "code",
   "execution_count": null,
   "id": "dc20d1d4",
   "metadata": {},
   "outputs": [],
   "source": [
    "\n",
    "pages = []\n",
    "print(len(pages1))\n",
    "for item in pages1:\n",
    "    try:\n",
    "        if(item.page_content):\n",
    "            pages.append(item)\n",
    "            print(item)\n",
    "\n",
    "    except:\n",
    "        for item2 in item:\n",
    "            pages.append(item2)\n",
    "print(len(pages))"
   ]
  },
  {
   "cell_type": "code",
   "execution_count": null,
   "id": "63ad919b",
   "metadata": {},
   "outputs": [],
   "source": [
    "vertex_llm_text = VertexAI(model_name=\"text-bison@001\")\n",
    "vertex_embeddings = VertexAIEmbeddings(model_name=\"textembedding-gecko@001\")"
   ]
  },
  {
   "cell_type": "code",
   "execution_count": null,
   "id": "738102ad",
   "metadata": {},
   "outputs": [],
   "source": [
    "context = \"\\n\".join(str(p.page_content) for p in pages)\n",
    "print(\"The total words in the context: \", len(context))"
   ]
  },
  {
   "cell_type": "code",
   "execution_count": null,
   "id": "c52b86ef",
   "metadata": {},
   "outputs": [],
   "source": [
    "question = \"What is Incentivised Attach?\"\n",
    "prompt_template = \"\"\"Answer the question as precise as possible using the provided context. If the answer is\n",
    "                    not contained in the context, say \"answer not available in context\" \\n\\n\n",
    "                    Context: \\n {context}?\\n\n",
    "                    Question: \\n {question} \\n\n",
    "                    Answer:\n",
    "                  \"\"\"\n",
    "\n",
    "prompt = PromptTemplate(\n",
    "    template=prompt_template, \n",
    "    input_variables=[\"context\", \"question\"]\n",
    ")"
   ]
  },
  {
   "cell_type": "code",
   "execution_count": null,
   "id": "2f999a73",
   "metadata": {},
   "outputs": [],
   "source": []
  },
  {
   "cell_type": "code",
   "execution_count": null,
   "id": "d5eb19f1",
   "metadata": {},
   "outputs": [],
   "source": [
    "stuff_chain = load_qa_chain(vertex_llm_text, chain_type=\"stuff\", prompt=prompt)"
   ]
  },
  {
   "cell_type": "code",
   "execution_count": null,
   "id": "0bc3beb6",
   "metadata": {},
   "outputs": [],
   "source": [
    "stuff_answer = stuff_chain(\n",
    "    {\"input_documents\": pages, \"question\": question}, \n",
    "    return_only_outputs=True\n",
    ")"
   ]
  },
  {
   "cell_type": "code",
   "execution_count": null,
   "id": "7a9d630b",
   "metadata": {},
   "outputs": [],
   "source": [
    "print(len(stuff_answer))"
   ]
  },
  {
   "cell_type": "code",
   "execution_count": null,
   "id": "31e67445",
   "metadata": {},
   "outputs": [],
   "source": [
    "try:\n",
    "    print(\n",
    "        stuff_chain(\n",
    "            {\"input_documents\": pages[7:], \"question\": question},\n",
    "            return_only_outputs=True,\n",
    "        )\n",
    "    )\n",
    "except Exception as e:\n",
    "    print(\n",
    "        \"The code failed since it won't be able to run inference on such a huge context and throws this exception: \",\n",
    "        e,\n",
    "    )"
   ]
  },
  {
   "cell_type": "code",
   "execution_count": null,
   "id": "536d524d",
   "metadata": {},
   "outputs": [],
   "source": [
    "question_prompt_template = f\"\"\"\n",
    "                    Answer the question as precise as possible using the provided context. \\n\\n\n",
    "                    Context: \\n {context} \\n\n",
    "                    Question: \\n {question} \\n\n",
    "                    Answer:\n",
    "                    \"\"\"\n",
    "question_prompt = PromptTemplate(\n",
    "    template=question_prompt_template, input_variables=[\"context\", \"question\"]\n",
    ")\n",
    "\n",
    "# summaries is required. a bit confusing.\n",
    "combine_prompt_template = \"\"\"Given the extracted content and the question, create a final answer.\n",
    "If the answer is not contained in the context, say \"answer not available in context. \\n\\n\n",
    "Summaries: \\n {summaries}?\\n\n",
    "Question: \\n {question} \\n\n",
    "Answer:\n",
    "\"\"\"\n",
    "combine_prompt = PromptTemplate(\n",
    "    template=combine_prompt_template, input_variables=[\"summaries\", \"question\"]\n",
    ")"
   ]
  }
 ],
 "metadata": {
  "kernelspec": {
   "display_name": "Python 3 (ipykernel)",
   "language": "python",
   "name": "python3"
  },
  "language_info": {
   "codemirror_mode": {
    "name": "ipython",
    "version": 3
   },
   "file_extension": ".py",
   "mimetype": "text/x-python",
   "name": "python",
   "nbconvert_exporter": "python",
   "pygments_lexer": "ipython3",
   "version": "3.9.6"
  }
 },
 "nbformat": 4,
 "nbformat_minor": 5
}
