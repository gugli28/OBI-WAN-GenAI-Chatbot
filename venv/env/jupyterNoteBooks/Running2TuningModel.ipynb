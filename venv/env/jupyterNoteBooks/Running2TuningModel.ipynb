{
 "cells": [
  {
   "cell_type": "code",
   "execution_count": 1,
   "id": "049ded7b",
   "metadata": {},
   "outputs": [],
   "source": [
    "import urllib\n",
    "import warnings\n",
    "from pathlib import Path as p\n",
    "from pprint import pprint\n",
    "\n",
    "import pandas as pd\n",
    "from langchain import PromptTemplate\n",
    "from langchain.chains.question_answering import load_qa_chain\n",
    "from langchain.document_loaders import PyPDFLoader\n",
    "from langchain.embeddings import VertexAIEmbeddings\n",
    "from langchain.llms import VertexAI\n",
    "from langchain.text_splitter import CharacterTextSplitter\n",
    "from langchain.vectorstores import Chroma\n",
    "from IPython.display import display, Markdown\n",
    "\n",
    "warnings.filterwarnings(\"ignore\")"
   ]
  },
  {
   "cell_type": "code",
   "execution_count": 2,
   "id": "d1d25f40",
   "metadata": {},
   "outputs": [],
   "source": [
    "# from langchain.document_loaders import PyPDFLoader\n",
    "# from langchain.document_loaders import CSVLoader\n",
    "# file = 'OutdoorClothingCatalog_1000.csv'\n",
    "# loader1 = CSVLoader(file_path=file)\n",
    "# pdfFile = '/OfferCreationviaGrumbles.pdf'\n",
    "\n",
    "# loader1"
   ]
  },
  {
   "cell_type": "code",
   "execution_count": 5,
   "id": "4e2f135c",
   "metadata": {},
   "outputs": [
    {
     "name": "stdout",
     "output_type": "stream",
     "text": [
      "RelevantSOPs/Offer Maintainance Doc.pdf\n",
      "RelevantSOPs/_SOP for Shipping Rule Creation.pdf\n",
      "RelevantSOPs/Offer Business Use Cases (2).pdf\n",
      "RelevantSOPs/Seller Recommendation for an Offer.pdf\n",
      "RelevantSOPs/Offer Creation via Grumbles .pdf\n",
      "<class 'list'>\n"
     ]
    }
   ],
   "source": [
    "import pathlib\n",
    "desktop = pathlib.Path(\"./RelevantSOPs\")\n",
    "files = []\n",
    "list(desktop.iterdir())\n",
    "pages1 = []\n",
    "# for item in list(desktop.iterdir())[:1]:\n",
    "for item in list(desktop.iterdir()):\n",
    "    try:\n",
    "        print(str(item))\n",
    "        fileLoader = PyPDFLoader(str(item))\n",
    "#         pages = fileLoader.load_and_split()\n",
    "#         print(len(fileLoader.load_and_split()))\n",
    "        pages1.append(fileLoader.load_and_split())\n",
    "#         files.append(pages)\n",
    "    except:\n",
    "        print(\"An exception occurred\")\n",
    "  \n",
    "print (type(pages1))\n"
   ]
  },
  {
   "cell_type": "code",
   "execution_count": 6,
   "id": "cfd78bdd",
   "metadata": {},
   "outputs": [
    {
     "name": "stdout",
     "output_type": "stream",
     "text": [
      "5\n",
      "43\n"
     ]
    }
   ],
   "source": [
    "\n",
    "pages = []\n",
    "print(len(pages1))\n",
    "for item in pages1:\n",
    "    try:\n",
    "        if(item.page_content):\n",
    "            pages.append(item)\n",
    "            print(item)\n",
    "#         print(\"-------------------------------------------\")\n",
    "        \n",
    "#         print(item.page_content)\n",
    "#         print(\"+++++++++++++++++++++++++++++++++++++++++++++++++++++++++++++++\")\n",
    "    except:\n",
    "        for item2 in item:\n",
    "            pages.append(item2)\n",
    "\n",
    "print(len(pages))"
   ]
  },
  {
   "cell_type": "code",
   "execution_count": 22,
   "id": "ebd6ad71",
   "metadata": {},
   "outputs": [],
   "source": [
    "vertex_llm_text = VertexAI(model_name=\"text-bison@001\")\n",
    "vertex_embeddings = VertexAIEmbeddings(model_name=\"textembedding-gecko@001\")"
   ]
  },
  {
   "cell_type": "code",
   "execution_count": 6,
   "id": "d85ea93b",
   "metadata": {},
   "outputs": [],
   "source": [
    "# text_splitter = CharacterTextSplitter(chunk_size=10000, chunk_overlap=0)\n",
    "\n",
    "# for item in pages:\n",
    "# #     if()\n",
    "#     try:\n",
    "# #         context = \"\\n\\n\".join(str(p.page_content) for p in pages)\n",
    "#         context +=\"\\n\\n\".join(str(item.page_content))\n",
    "#         texts = text_splitter.split_text(context)\n",
    "#     except:\n",
    "# #         print(item)\n",
    "#         print(\"ERRRRR\")\n",
    "\n",
    "# print(type(context))"
   ]
  },
  {
   "cell_type": "code",
   "execution_count": 7,
   "id": "1ea2b563",
   "metadata": {},
   "outputs": [],
   "source": [
    "# vector_index = Chroma.from_texts(texts, vertex_embeddings).as_retriever()"
   ]
  },
  {
   "cell_type": "code",
   "execution_count": 7,
   "id": "7092820e",
   "metadata": {},
   "outputs": [
    {
     "name": "stderr",
     "output_type": "stream",
     "text": [
      "E0623 11:51:08.165872000 4495455744 ssl_transport_security.cc:1420]    Handshake failed with fatal error SSL_ERROR_SSL: error:1000007d:SSL routines:OPENSSL_internal:CERTIFICATE_VERIFY_FAILED.\n",
      "E0623 11:51:08.201892000 4495455744 ssl_transport_security.cc:1420]    Handshake failed with fatal error SSL_ERROR_SSL: error:1000007d:SSL routines:OPENSSL_internal:CERTIFICATE_VERIFY_FAILED.\n",
      "E0623 11:51:08.237215000 4495455744 ssl_transport_security.cc:1420]    Handshake failed with fatal error SSL_ERROR_SSL: error:1000007d:SSL routines:OPENSSL_internal:CERTIFICATE_VERIFY_FAILED.\n",
      "E0623 11:51:08.266340000 4495455744 ssl_transport_security.cc:1420]    Handshake failed with fatal error SSL_ERROR_SSL: error:1000007d:SSL routines:OPENSSL_internal:CERTIFICATE_VERIFY_FAILED.\n",
      "E0623 11:51:08.295764000 4495455744 ssl_transport_security.cc:1420]    Handshake failed with fatal error SSL_ERROR_SSL: error:1000007d:SSL routines:OPENSSL_internal:CERTIFICATE_VERIFY_FAILED.\n",
      "E0623 11:51:08.347802000 4495455744 ssl_transport_security.cc:1420]    Handshake failed with fatal error SSL_ERROR_SSL: error:1000007d:SSL routines:OPENSSL_internal:CERTIFICATE_VERIFY_FAILED.\n",
      "E0623 11:51:08.383243000 4495455744 ssl_transport_security.cc:1420]    Handshake failed with fatal error SSL_ERROR_SSL: error:1000007d:SSL routines:OPENSSL_internal:CERTIFICATE_VERIFY_FAILED.\n",
      "E0623 11:51:08.416953000 4495455744 ssl_transport_security.cc:1420]    Handshake failed with fatal error SSL_ERROR_SSL: error:1000007d:SSL routines:OPENSSL_internal:CERTIFICATE_VERIFY_FAILED.\n",
      "E0623 11:51:08.446192000 4495455744 ssl_transport_security.cc:1420]    Handshake failed with fatal error SSL_ERROR_SSL: error:1000007d:SSL routines:OPENSSL_internal:CERTIFICATE_VERIFY_FAILED.\n",
      "E0623 11:51:08.476729000 4495455744 ssl_transport_security.cc:1420]    Handshake failed with fatal error SSL_ERROR_SSL: error:1000007d:SSL routines:OPENSSL_internal:CERTIFICATE_VERIFY_FAILED.\n"
     ]
    }
   ],
   "source": [
    "# !pip install docarray\n",
    "from langchain.vectorstores import DocArrayInMemorySearch\n",
    "db = DocArrayInMemorySearch.from_documents(\n",
    "    pages, \n",
    "    vertex_embeddings\n",
    ")"
   ]
  },
  {
   "cell_type": "code",
   "execution_count": 10,
   "id": "d3b13aac",
   "metadata": {},
   "outputs": [],
   "source": [
    "### we will use above vectorstore to find answer to query\n",
    "# query = \"What is Incentivised offer\""
   ]
  },
  {
   "cell_type": "code",
   "execution_count": 11,
   "id": "f953cee1",
   "metadata": {},
   "outputs": [],
   "source": [
    "## find all similar document\n",
    "# docs = db.similarity_search(query)\n",
    "# print(len(docs))\n",
    "## 4 docs are returned\n",
    "# docs[0] ## indeed a shirt"
   ]
  },
  {
   "cell_type": "code",
   "execution_count": 8,
   "id": "ef9349f5",
   "metadata": {},
   "outputs": [],
   "source": [
    "retriever = db.as_retriever()"
   ]
  },
  {
   "cell_type": "code",
   "execution_count": 9,
   "id": "6f30c363",
   "metadata": {},
   "outputs": [],
   "source": [
    "from vertexai.preview.language_models import TextGenerationModel\n",
    "\n",
    "\n",
    "def getResponse(prompt ,temperature: float = 0.2):\n",
    "    \"\"\"Ideation example with a Large Language Model\"\"\"\n",
    "\n",
    "    # TODO developer - override these parameters as needed:\n",
    "    parameters = {\n",
    "        \"temperature\": temperature,  # Temperature controls the degree of randomness in token selection.\n",
    "        \"max_output_tokens\": 256,  # Token limit determines the maximum amount of text output.\n",
    "        \"top_p\": 0.8,  # Tokens are selected from most probable to least until the sum of their probabilities equals the top_p value.\n",
    "        \"top_k\": 40,  # A top_k of 1 means the selected token is the most probable among all tokens.\n",
    "    }\n",
    "\n",
    "    model = TextGenerationModel.from_pretrained(\"text-bison@001\")\n",
    "    response = model.predict(\n",
    "        prompt,\n",
    "        **parameters,\n",
    "    )\n",
    "    \n",
    "    return response\n"
   ]
  },
  {
   "cell_type": "code",
   "execution_count": 16,
   "id": "6bb258bf",
   "metadata": {},
   "outputs": [
    {
     "name": "stdout",
     "output_type": "stream",
     "text": [
      "5\n",
      "page_content='Buy\\nP1,\\nget\\nx%\\noff\\non\\nP2\\nIncentivised\\nAttach\\nOffers\\nare\\nmulti\\nproduct\\ngroup\\noffers\\nthat\\nhave\\na\\nhurdle\\non\\n1\\nproduct\\ngroup,\\nand\\na\\ngiveaway\\non\\na\\ndifferent\\nproduct\\ngroup.\\nProduct\\ngroup\\nrefers\\nto\\na\\nset\\nof\\nFSNs\\ndefined\\nby\\nthe\\noffer\\ncreator.\\nIf\\nthe\\ncombo\\noffer\\nhas\\n2\\nPGs,\\na\\nuser\\nneeds\\nto\\nbuy\\nan\\nitem\\nfrom\\neach\\nof\\nthe\\nPG\\nwhich\\nwill\\nmake\\nhim/her\\neligible\\nfor\\ndiscount\\non\\nthe\\nsecond\\nPG.\\nE.g.\\nBuy\\nmobiles,\\nget\\n10%\\noff\\non\\nearphones\\nPG1\\n-\\nMobiles\\nPG\\n2\\n-\\nEarphones\\nIf\\na\\ncustomer\\npurchases\\nboth\\n1\\nmobile\\nand\\n1\\nearphones\\nin\\nthe\\nsame\\ntransaction,\\nthey\\nwill\\nget\\n10%\\noff\\non\\nthe\\nearphones\\nlistings.\\nIncentivised\\nAttach\\nOffers\\nare\\nalso\\nknown\\nas\\nBundle\\nOffers.\\nHurdle\\nis\\non\\nbuying\\nPG1\\n+\\nPG2\\ntogether\\nGiveaway\\nis\\non\\nPG2\\nin\\nform\\nof\\npercentage\\ndiscount.\\nW h a t\\ni s\\na\\nP r o m i s e\\nC a l l o u t\\nO f f e r ?\\nA n s w e r :\\nThese\\nare\\ntransaction\\nbased\\noffers\\nwith\\na\\ndeferred\\ngiveaway.\\nie\\n-\\nA\\nuser\\nwho\\nshops\\nfrom\\na\\nparticular\\nselection\\nas\\nper\\ndefined\\ncriteria\\ngets\\na\\nbenefit\\non\\nhis\\nnext\\npurchase\\non\\na\\npredefined\\nset\\nof\\nproducts.\\nExample:\\n●\\nShop\\nworth\\nRs\\n1000\\nin\\nlifestyle\\nand\\nget\\n10%\\noff\\non\\nyour\\nnext\\nlifestyle\\npurchase\\nbefore\\n31\\nAugust\\n●\\nShop\\nworth\\nRs\\n200\\nfrom\\nPuma\\nand\\nget\\nextra\\n5%\\noff\\non\\nPuma\\nduring\\nthe\\nnext\\nPayday\\nsale\\n●\\nShop\\nin\\nDecember,\\nget\\n10%\\noff\\non\\nyour\\npurchase\\nfor\\nthe\\nnext\\n3\\nmonths\\nThere\\nare\\n2\\nsteps\\nto\\nevery\\npromise\\ncallout\\noffer.\\n1.\\nCreation\\nof\\nthe\\ntargeted\\ngiveaway\\noffer\\n-\\n○\\nThis\\nis\\nthe\\noffer\\nwith\\nthe\\ngiveaway\\nwhich\\nwill\\nbe\\napplicable\\non\\nthe\\ncustomer’s\\nsecond\\norder\\n○\\nCustomers\\nwho\\nare\\neligible\\nas\\nper\\nthe\\ndefined\\ncriteria\\nwill\\nbe\\nautomatic\\nmapped\\nto\\nthis\\noffer.\\n○\\nThis\\nis\\nto\\nbe\\ncreated\\nfirst,\\nas\\nthis\\nis\\nan\\ninput\\nto\\nthe\\nfirst\\ncallout\\noffers.\\n○\\nThis\\nis\\ncreated\\non\\nlistings\\non\\nwhich\\ndiscounts\\nwould\\nbe\\ngiven.\\nSeller\\nburn\\nwill\\nbe\\nconfigured\\non\\nthis\\noffer.\\n2.\\nCreation\\nof\\nthe\\nPromise\\ncallout\\noffer\\n-\\n○\\nThis\\nis\\nthe\\ncallout\\noffer\\nwhich\\nwill\\nbe\\nvisible\\non\\nthe\\ncustomer’s\\nfirst\\norder.\\n○\\nThis\\nis\\nto\\nbe\\ncreated\\nsecond,\\nas\\nthis\\nrequires\\nthe\\nabove\\noffer\\nto\\nbe\\ngiven\\nas\\ninput\\n○\\nThis\\nis\\ncreated\\non\\nlistings\\non\\nwhich\\ncallout\\nwould\\nbe\\ndone.\\nThere\\nis\\nno\\nseller\\nburn\\nassociated\\nwith\\nthis\\noffer.\\n○\\nAny\\ncustomer\\nwho\\nfulfils\\nthe\\ncriteria\\ndefined\\nin\\nthis\\noffer\\nwill\\nbe\\nautomatically\\nmapped\\nto\\nthe\\ntargeted\\ngiveaway\\noffer.\\nExample:\\nShop\\nworth\\nRs\\n1000\\nfrom\\nPuma\\nand\\nget\\nextra\\n10%\\noff\\non\\nPuma\\non\\nyour\\nnext\\npurchase\\nTo\\nenable\\nthis\\nconstruct,\\n2\\noffers\\nwill\\nhave\\nto\\nbe\\ncreated\\non\\nGrumbles.\\nThe\\nsteps\\nfor\\neach\\nhas\\nbeen\\ndetailed\\nbelow' metadata={'source': 'RelevantSOPs/Offer Business Use Cases (2).pdf', 'page': 6}\n",
      "[Document(page_content='W h a t\\ni s\\nG r u m b l e s ?\\nH o w\\nt o\\ng e t\\nG r u m b l e s\\nA c c e s s\\nU s i n g\\nG r u m b l e s\\nW h a t\\na r e\\nC o n d i t i o n a l\\nO ﬀ e r s ?\\nD e ﬁ n i n g\\nt h e\\no ﬀ e r\\nO ﬀ e r\\nT y p e\\nO ﬀ e r\\nF o r m a t\\nP r o d u c t\\nS e l e c t i o n\\nD i s c o v e r y\\nS u m m a r y\\nS c r e e n\\nA p p r o v i n g\\no ﬀ e r s\\nW h o\\na p p r o v e s\\no ﬀ e r s ?\\nR o l e\\no f\\no ﬀ e r\\na p p r o v e r\\nH o w\\nt o\\na p p r o v e ?\\nP u b l i s h i n g\\no ﬀ e r s\\nP a u s i n g\\na n\\no ﬀ e r\\nS e l l e r\\nR e c o m m e n d a t i o n', metadata={'source': 'RelevantSOPs/Offer Creation via Grumbles .pdf', 'page': 0}), Document(page_content='W h a t\\ni s\\nG r u m b l e s ?\\nG r u m b l e s\\ni s\\nt h e\\nc o n s o l e\\np r o v i d e d\\nb y\\nP n P\\nw h e r e\\nu s e r s\\nc a n\\nc o n ﬁ g u r e\\no ﬀ e r s .\\nL i n k\\nh e r e\\n.\\nG r u m b l e s\\ni s\\nu s e d\\nf o r\\nt h e\\nf o l l o w i n g\\nf u n c t i o n a l i t i e s\\n-\\n●\\nO ﬀ e r\\nc r e a t i o n\\n●\\nO ﬀ e r\\na p p r o v a l\\n●\\nO ﬀ e r\\np u b l i s h i n g\\n●\\nC r e a t e\\ns e l l e r\\nr e c o m m e n d a t i o n\\n●\\nO ﬀ e r\\ne d i t i n g\\n●\\nS c h e d u l i n g\\no ﬀ e r\\np a u s e\\nH o w\\nt o\\ng e t\\nG r u m b l e s\\nA c c e s s\\n1 .\\nW r i t e\\nt o\\na s k i t @ ﬂ i p k a r t . c o m\\nw i t h\\na p p r o v a l\\nf r o m\\ny o u r\\nr e p o r t i n g\\nm a n a g e r\\n2 .\\nO n c e\\na s k i t\\nh a s\\np r o v i d e d\\na c c e s s ,\\nw r i t e\\nt o\\np n p - o n c a l l @ ﬂ i p k a r t . c o m\\nN o t e\\n-\\nT h i s\\nd o c u m e n t\\nw i l l\\nd e t a i l\\no u t\\nt h e\\ns e c t i o n s\\no n\\ng r u m b l e s\\nw h i c h\\na r e\\nc o m m o n\\nt o\\na l l\\no ﬀ e r\\nf o r m a t s .\\nA n y\\nc o n s t r a i n t s\\no r\\ni n s t r u c t i o n s\\ns p e c i ﬁ c\\nt o\\na n\\no ﬀ e r\\nf o r m a t\\nw i l l\\nb e\\ni n c l u d e d\\ni n\\nt h e\\nr e s p e c t i v e\\nS O P s .\\nP l e a s e\\nr e f e r\\nt o\\nS O P\\nf o r\\ns p e c i ﬁ c\\no ﬀ e r\\nf o r m a t s\\nb e f o r e\\ny o u\\nc r e a t e\\na n\\no ﬀ e r .\\nU s i n g\\nG r u m b l e s\\nL o g i n\\nt o\\ng r u m b l e s\\nu s i n g\\ny o u r\\nL D A P\\ni d .\\nG r u m b l e s\\nh o m e\\ns c r e e n\\np r o v i d e s\\na n\\no v e r v i e w\\no f\\na l l\\no ﬀ e r s\\ny o u ’ v e\\nc r e a t e d .\\n●\\nA l l\\n-\\nA l l\\no ﬀ e r s\\nw h i c h\\na r e\\nn o t\\ni n\\nd r a f t\\ns t a t e\\na r e\\ns h o w n\\nh e r e\\n●\\nL i v e\\n-\\nO ﬀ e r s\\ni n\\nU p c o m i n g ,\\nC o m i n g\\nS o o n\\na n d\\nL i v e\\ns t a t e', metadata={'source': 'RelevantSOPs/Offer Creation via Grumbles .pdf', 'page': 1}), Document(page_content='●\\nD r a f t s\\n-\\nO ﬀ e r s\\nt h a t\\nh a v e\\nn o t\\nb e e n\\np u b l i s h e d\\n●\\nA c t i o n\\nR e q u i r e d\\n-\\nO ﬀ e r s\\nf o r\\nw h i c h\\na r e\\ni n\\nN o\\nP a r t i c i p a t i o n\\n( S e l l e r\\nh a s n ’ t\\no p t e d\\ni n\\ny e t ) , \\nI n s u ﬃ c i e n t\\nP a r t i c i p a t i o n\\n(\\nS o m e\\ns e l l e r s\\nh a v e\\no p t e d\\ni n\\nb u t\\ng o\\nl i v e\\nc r i t e r i a\\nh a s\\nn o t\\nb e e n\\nm e t ) \\no r\\nN o\\nM a t c h i n g\\nP r o d u c t\\n●\\nN o t\\nl i v e\\n-\\nO ﬀ e r\\nw h i c h\\na r e\\nD i s a b l e d ,\\nE x p i r e d\\no r\\nP r e p a r i n g\\ns t a t e\\n●\\nW a i t i n g\\n-\\nO ﬀ e r s\\nt h a t\\nh a v e\\nb e e n\\nb l o c k e d\\nd u e\\nt o\\nh i g h\\nn u m b e r\\no f\\na ﬀ e c t e d\\nl i s t i n g s .\\nT h e s e \\nw i l l\\nb e\\nr e v i e w e d\\na n d\\na p p r o v e d\\nb y\\nt h e\\nP n P\\nt e a m .\\nW h a t\\na r e\\nC o n d i t i o n a l\\nO ﬀ e r s ?\\nC o n d i t i o n a l\\nO ﬀ e r s\\na r e\\ne x t r a\\ni n c e n t i v e s\\np r o v i d e d\\nt o\\nt h e\\nc u s t o m e r\\ni f\\nt h e y\\nf u l ﬁ l l\\nt h e\\nc r i t e r i a\\no f\\np u r c h a s e\\ns p e c i ﬁ e d\\ni n\\nt h e\\no ﬀ e r .\\nT h e s e\\na r e\\na p p l i e d\\na d d i t i v e l y\\no n\\nt o p\\no f\\nu n c o n d i t i o n a l\\no ﬀ e r s\\na n d\\np r i c e s .\\nE g\\n-\\n●\\nB a s k e t\\no ﬀ e r ,\\nw h e r e\\nt h e\\nc u s t o m e r\\ng e t s\\na\\nb e n e ﬁ t\\no n l y\\ni f\\nt h e\\nb a s k e t\\ns i z e\\nc r o s s e s\\nt h e\\nh u r d l e .\\n●\\nP a y m e n t\\nB a s e d\\nO ﬀ e r s ,\\nw h e r e\\nt h e\\nc u s t o m e r\\ng e t s\\na\\nb e n e ﬁ t\\ni f\\nt h e y\\np a y\\nw i t h\\na\\ns p e c i ﬁ c\\ni n s t r u m e n t .\\nD e ﬁ n i n g\\nt h e\\no ﬀ e r\\n1 .\\nC l i c k\\no n\\nC r e a t e\\nN e w\\nO ﬀ e r\\nO ﬀ e r\\nT y p e', metadata={'source': 'RelevantSOPs/Offer Creation via Grumbles .pdf', 'page': 2}), Document(page_content='1 .\\nC h o o s e\\nC o n d i t i o n a l\\nO ﬀ e r\\n2 .\\nS i n g l e\\ns e l l e r\\na n d\\nM a r k e t p l a c e\\nO ﬀ e r s\\n○\\nS i n g l e\\ns e l l e r\\no ﬀ e r s\\n-\\nT h e s e\\na r e\\no ﬀ e r s\\nc r e a t e d\\ns p e c i ﬁ c a l l y\\nf o r\\na\\np a r t i c u l a r\\ns e l l e r .\\nO n l y\\no ﬀ e r\\nf o r m a t s\\nw h i c h\\na r e\\ns t r o n g l y\\nc o u p l e d\\nw i t h\\na\\ns e l l e r\\na r e\\ns u p p o r t e d\\nh e r e .\\n( E g\\n-\\nP r o d u c t\\ne x c h a n g e ,\\nF r e e b i e )\\n○\\nM a r k e t p l a c e\\no ﬀ e r s\\n-\\nT h e s e\\na r e\\no ﬀ e r s\\nc r e a t e d\\nf o r\\nm u l t i p l e\\ns e l l e r s .\\nS e l l e r\\ni d\\nm a y\\no r\\nm a y\\nn o t\\nb e\\ng i v e n\\ni n\\nt h e s e\\no ﬀ e r s .\\nT h i s\\nr e q u i r e s\\na n\\no p t - i n\\nt o\\nb e\\nd o n e\\nb y\\ns e l l e r s\\nf r o m\\nt h e\\ns e l l e r\\nd a s h b o a r d .\\nN o t e :\\nI f\\na\\nb a s k e t\\no r\\na\\nl i s t i n g\\nd i s c o u n t\\nn e e d s\\nt o\\nb e\\nc r e a t e d\\nf o r\\na\\ns i n g l e\\ns i n g e r ,\\ni t\\nh a s\\nt o\\nb e\\nc o n ﬁ g u r e d\\na s\\na\\nm a r k e t p l a c e\\no ﬀ e r\\nw i t h\\ns e l l e r\\ni d\\nm e n t i o n e d\\ni n\\nt h e\\np r o d u c t\\ns e l e c t i o n\\np a g e .\\n3 .\\nS p e c i f y\\nm a r k e t p l a c e\\n( F k ,\\nE m e r a l d ,\\nG r o c e r y ,\\nH y p e r l o c a l )\\nf o r\\nw h i c h\\no ﬀ e r\\ni s\\nb e i n g\\nc r e a t e d\\n4 .\\nC h o o s e\\nP r o m o t i o n\\nl a b e l', metadata={'source': 'RelevantSOPs/Offer Creation via Grumbles .pdf', 'page': 3}), Document(page_content='P r o m o t i o n\\nl a b e l\\ni s\\nv i s i b l e\\no n\\nt h e\\ns e l l e r\\nd a s h b o a r d\\na n d\\ni s\\nu s e d\\nt o\\nc o n v e y\\nc o n t e x t\\nt o\\nt h e\\ns e l l e r .\\nE g\\n-\\nA l l\\nB B D\\no ﬀ e r s\\nw i l l\\nb e\\nc r e a t e d\\nu n d e r\\nt h e\\nT B B D\\n2 0 2 0\\nt a g .\\nT h i s\\nw i l l\\nb e\\nd i s p l a y e d\\no n\\nt h e\\ns e l l e r\\nd a s h b o a r d\\na n d\\nc o n v e y\\nt o\\ns e l l e r s\\nt h a t\\ni t\\ni s\\na\\nB B D\\no ﬀ e r .\\n5 .\\nE n t e r\\nO ﬀ e r\\nS t a r t\\nt i m e\\na n d\\nE n d\\nt i m e\\n○\\nA t\\nl e a s t\\n4\\nh o u r s\\nb e t w e e n\\no ﬀ e r\\nc r e a t i o n\\nt i m e\\na n d\\no ﬀ e r\\ns t a r t\\nt i m e\\n○\\nO ﬀ e r\\ne n d\\nt i m e\\ns h o u l d\\nb e\\ng r e a t e r\\nt h a n\\no ﬀ e r\\ns t a r t\\nt i m e\\n○\\nO ﬀ e r\\nd u r a t i o n\\ns h o u l d\\nb e\\nl e s s e r\\nt h a n\\n9 0\\nd a y s\\nO ﬀ e r\\nF o r m a t\\nC h o o s e\\no ﬀ e r\\nf o r m a t\\na s\\nr e q u i r e d\\nB a s k e t\\nO ﬀ e r s\\nT a r g e t e d\\nD i s c o u n t\\no n\\nF P\\nP r o m i s e\\nC a l l o u t\\nO ﬀ e r\\nC o m b o\\nO ﬀ e r s\\nM u l t i\\nU n i t\\nL i s t i n g\\nO ﬀ e r\\nI n c e n t i v i s e d\\nA t t a c h\\nC a l l o u t\\nO ﬀ e r s\\nN o t e\\n:\\nF o l l o w i n g\\nO ﬀ e r\\nf o r m a t s\\na r e\\nn o t\\ns u p p o r t e d\\no n\\nG r u m b l e s\\na n d\\ns h o u l d\\nn o t\\nb e\\nu s e d\\n●\\nL i s t i n g\\nF r e e b i e\\nO ﬀ e r\\n●\\nL i s t i n g\\nd i s c o u n t\\no n\\nA P\\n( m o v i n g\\nF P )\\n●\\nL i s t i n g\\nd i s c o u n t\\no n\\nA P\\n( s t a t i c\\nF P )\\n●\\nL i s t i n g\\nd i s c o u n t\\no n\\nM R P\\nP r o d u c t\\nS e l e c t i o n', metadata={'source': 'RelevantSOPs/Offer Creation via Grumbles .pdf', 'page': 4}), Document(page_content=\"S E L E C T\\nP R O D U C T S\\n-\\nI n\\nt h i s\\ns e c t i o n ,\\ny o u\\nw i l l\\ns p e c i f y\\nt h e\\ns e l e c t i o n\\no n\\nw h i c h\\nt h e\\no ﬀ e r\\ns h o u l d\\nb e\\nc r e a t e d .\\nS e l e c t i o n\\nc a n\\nb e\\nd e ﬁ n e d\\na l o n g\\n3\\np i v o t s .\\nA t\\nl e a s t\\no n e\\no f\\nt h e s e\\np i v o t s\\nh a s\\nt o\\nb e\\ns p e c i ﬁ e d\\n-\\n1 .\\nV e r t i c a l s\\nS p e c i f y\\nv e r t i c a l s\\nt h a t\\ns h o u l d\\nb e\\ne x c l u d e d / i n c l u d e d .\\n2 .\\nC a t e g o r i e s\\nS p e c i f y\\nc a t e g o r i e s\\nt h a t\\ns h o u l d\\nb e\\ne x c l u d e d / i n c l u d e d .\\n3 .\\nU p l o a d\\nF S N s\\n○\\nD o w n l o a d\\nt h e\\ns a m p l e\\nﬁ l e\\n○\\nA d d\\nt h e\\nl i s t\\no f\\nF S N s\\nt h a t\\ns h o u l d\\nb e\\ne x c l u d e d / i n c l u d e d\\nb e l o w\\nt h e\\nh e a d e r s\\np r o v i d e d\\ni n\\nt h e\\ns a m p l e\\nﬁ l e\\na n d\\nu p l o a d\\ni n\\n. c s v\\nf o r m a t\\n○\\nL i s t\\no f\\ne r r o r s\\n-\\n■\\n' H e a d e r s\\na r e\\nm i s s i n g '\\n-\\nC h e c k\\ni f\\na l l\\nh e a d e r s\\np r e s e n t\\ni n\\nt h e\\ns a m p l e\\nﬁ l e\\na r e\\np r e s e n t\\ni n\\nt h e\\nu p l o a d e d\\nﬁ l e\\n■\\n' N o\\ne n t r i e s\\na r e\\np r e s e n t '\\n-\\nC h e c k\\ni f\\nt h e\\nu p l o a d\\nﬁ l e\\nc o n t a i n s\\na n y\\nF S N s\", metadata={'source': 'RelevantSOPs/Offer Creation via Grumbles .pdf', 'page': 5}), Document(page_content=\"■\\n' r e q u e s t\\nc o n t a i n s\\nd u p l i c a t e\\ne n t r i e s '\\n-\\nR e m o v e\\nd u p l i c a t e\\ne n t r i e s\\nf r o m\\nu p l o a d e d\\nﬁ l e\\n■\\n' N o\\nL i s t i n g s\\no r\\nP r o d u c t s\\nf o u n d '\\n-\\nC h e c k\\ni f\\nt h e r e\\na r e\\na c t i v e\\nl i s t i n g s\\nm a p p e d\\nt o\\nt h e\\nF S N s\\nu p l o a d e d\\n○\\nP l e a s e\\nn o t e\\nt h a t\\nF S N\\nw h i t e l i s t\\no ﬀ e r s\\nc a n\\nb e\\nc r e a t e d\\nl e s s\\nt h a n\\n4\\nh o u r s\\nb e f o r e\\no ﬀ e r\\ng o\\nl i v e .\\nS E L E C T\\nS E L L E R S\\n-\\n●\\nM e n t i o n\\ns e l l e r\\ni d\\no n l y\\ni f\\nt h e\\no ﬀ e r\\ni s\\nb e i n g\\nc r e a t e d\\nf o r\\na\\nd e ﬁ n e d\\ns e t\\no f\\ns e l l e r s .\\nO p t\\ni n\\no p t i o n\\nw i l l\\nb e\\na v a i l a b l e\\no n l y\\nf o r\\nt h e\\ns e l l e r s\\nm e n t i o n e d\\nh e r e .\\n●\\nI f\\nn o\\ns e l l e r\\nh a s\\nb e e n\\nm e n t i o n e d ,\\na l l\\ne l i g i b l e\\ns e l l e r s\\nw i l l\\nb e\\na l l o w e d\\nt o\\no p t - i n\\nb y\\nd e f a u l t .\\nA P P L Y\\nF I L T E R S\\n-\\n●\\nF u r t h e r\\nﬁ l t e r s\\nb a s e d\\no n\\nb r a n d ,\\nA P ,\\nl i s t i n g\\nd i s c o u n t\\no n\\nA P\\na n d\\ns e r v i c e\\np r o ﬁ l e\\nc a n\\nb e\\na p p l i e d\\no n\\nt o p\\no f\\nt h e\\ns e l e c t i o n\\nc r i t e r i a\\nd e ﬁ n e d .\\nT h i s\\nﬁ e l d\\ni s\\no p t i o n a l .\\nN o t e :\\nF o r\\ng r o c e r y ,\\ny o u\\nc a n\\na l s o\\ns p e c i f y\\nB u s i n e s s\\nZ o n e\\no n\\nw h i c h\\no ﬀ e r\\ni s\\nb e i n g\\nc r e a t e d\\nD i s c o v e r y\", metadata={'source': 'RelevantSOPs/Offer Creation via Grumbles .pdf', 'page': 6}), Document(page_content='●\\nO ﬀ e r\\nt i t l e\\n-\\nF o r\\nn o n\\nt e m p l a t i s e d\\no ﬀ e r s ,\\nt h i s\\nw i l l\\nb e\\nt h e\\no ﬀ e r\\nc a l l o u t\\nt h a t\\ns h o w s\\nu p\\no n\\nt h e\\nu s e r\\ne x p e r i e n c e .\\nI n\\nc a s e\\no f\\nt e m p l a t i s e d\\no ﬀ e r s ,\\no ﬀ e r\\nc a l l o u t\\no n\\nt h e\\nu s e r\\ne x p e r i e n c e\\nw i l l\\nb e\\nc r e a t e d\\nb a s e d\\no n\\nt e m p l a t e s\\nd e ﬁ n e d\\ni n\\nP n P .\\n●\\nS e l l e r\\nt i t l e\\n-\\nT h i s\\nw i l l\\nb e\\ns h o w n\\no n\\nt h e\\ns e l l e r\\nd a s h b o a r d .\\n●\\nO ﬀ e r\\nD e s c r i p t i o n\\n-\\nT h i s\\ni s\\nu s e d\\nf o r\\nc o m m u n i c a t i o n\\na t\\nd i ﬀ e r e n t\\nt o u c h p o i n t s\\ni n\\nt h e\\nu s e r\\nj o u r n e y\\n●\\nV i e w / e d i t\\nT n C\\n-\\nD e f a u l t\\nT n C\\nb a s e d\\no n\\nt h e\\no ﬀ e r\\nt y p e\\nw i l l\\nb e\\np o p u l a t e d\\ni n\\nt h i s\\nﬁ e l d .\\nY o u\\nc a n\\ne d i t\\nt o\\ni n c l u d e\\nn e w\\nl i n e s .\\nP l e a s e\\nd o\\nn o t\\nr e m o v e\\na n y\\np a r t s\\nf r o m\\nt h e\\nd e f a u l t\\nT n C .\\nS u m m a r y\\nS c r e e n\\nP r e v i e w\\nt h e\\no ﬀ e r\\no n\\nt h i s\\ns c r e e n\\nb e f o r e\\ny o u\\ns u b m i t .\\nY o u\\nc a n\\nc l i c k\\no n\\ne d i t\\ni f\\ny o u\\nn e e d\\nt o\\nm o d i f y\\na n y\\ns e c t i o n .', metadata={'source': 'RelevantSOPs/Offer Creation via Grumbles .pdf', 'page': 7}), Document(page_content='A p p r o v i n g\\no ﬀ e r s\\nW h o\\na p p r o v e s\\no ﬀ e r s ?\\n●\\nA l l\\no ﬀ e r s\\ne x c e p t\\nt h e\\nc a s e s\\ns p e c i ﬁ e d\\nb e l o w\\na r e\\nf o r w a r d e d\\nt o\\nt h e\\no ﬀ e r\\nc r e a t o r ’ s\\nL 1\\nm a n a g e r\\nf o r\\na p p r o v a l\\n●\\nD O T D ,\\nD O T H\\no ﬀ e r s\\na r e\\nf o r w a r d e d\\nt o\\nt h e\\nc e n t r a l\\nt e a m\\nf o r\\na p p r o v a l .\\n●\\nT a r g e t e d\\no ﬀ e r s\\na r e\\nf o r w a r d e d\\nt o\\nt h e\\nT D\\na p p r o v e r s\\ng r o u p\\nc o n t a i n i n g\\nP o C s\\nf r o m\\na l l\\nB U s\\nf o r\\na p p r o v a l .\\nL i s t\\no f\\nm e m b e r s .\\nP l e a s e\\nr e f e r\\nt o\\nt h i s\\nS O P\\ni f\\ny o u ’ r e\\na p p r o v i n g\\na\\nT D\\n.\\nR o l e\\no f\\no ﬀ e r\\na p p r o v e r\\nP l e a s e\\nn o t e\\nt h a t\\nt h e r e\\ni s\\nn o\\ns y s t e m i c\\na n o m a l y\\nc h e c k\\np r e s e n t\\np r e s e n t\\nf o r\\nc o n d i t i o n a l\\no ﬀ e r s\\nc r e a t e d\\no n\\nG r u m b l e s .\\nT h e\\no ﬀ e r\\na p p r o v e r\\ni s\\nc o m p l e t e l y\\nr e s p o n s i b l e\\nt o\\nc h e c k\\na n d\\nv a l i d a t e\\nt h e\\no ﬀ e r\\nd e t a i l s\\nt o\\ne n s u r e\\nw r o n g\\ni n t e n t s\\nd o n ’ t\\ng o\\nl i v e .\\nW e\\nf o l l o w\\na\\nm a k e r - c h e c k e r\\np r o c e s s\\ni n\\no r d e r\\nt o\\ne n s u r e\\nn o\\ne r r o n e o u s\\ni n t e n t s\\ng e t\\nt h r o u g h\\nt h e\\ns y s t e m .\\nT h e\\na p p r o v e r\\ns h o u l d\\nc h e c k\\na n d\\nv a l i d a t e\\nt h e\\nf o l l o w i n g\\n-\\n1 .\\nS a n c t i t y\\no f\\no ﬀ e r\\nc o n s t r u c t\\na n d\\ni n t e n t\\nf o r\\nr u n n i n g\\nt h e\\no ﬀ e r\\n2 .\\nA c c u r a c y\\no f\\nO ﬀ e r\\nC o n ﬁ g u r a t i o n .\\nT h i s\\ni n c l u d e s\\n-\\n○\\nO ﬀ e r\\nt y p e ,\\nm a r k e t p l a c e ,\\nB U ,\\nS C\\ne t c\\n○\\nO ﬀ e r\\nd u r a t i o n ,\\no ﬀ e r\\ns t a r t\\nt i m e ,\\no ﬀ e r\\ne n d\\nt i m e\\n○\\nO ﬀ e r\\nc l a s s i ﬁ c a t i o n\\n○\\nO ﬀ e r\\nd e t a i l s\\n( o ﬀ e r\\nf o r m a t ,\\nh u r d l e ,\\ng i v e a w a y\\ne t c )\\n○\\nB u r n\\ns h a r e\\n○\\nP r o d u c t\\ns e l e c t i o n\\n○\\nA l l\\nd i s c o v e r y\\nﬁ e l d s\\n■\\nD o\\nt h e\\no ﬀ e r\\nt i t l e\\na n d\\nd e s c r i p t i o n\\na c c u r a t e l y\\nc o n v e y\\nt h e\\nd e t a i l s\\no f\\nt h e\\no ﬀ e r\\nc o n ﬁ g u r e d ?\\n■\\nC a n\\nt h e\\nu s e r\\ne a s i l y\\nu n d e r s t a n d\\nt h e\\nv a l u e\\np r o p o s i t i o n\\no f\\nt h e\\no ﬀ e r ?\\n○\\nT n C\\nH o w\\nt o\\na p p r o v e ?\\n1 .\\nS w i t c h\\nt o\\na p p r o v e r\\nm o d e\\no n\\nG r u m b l e s :', metadata={'source': 'RelevantSOPs/Offer Creation via Grumbles .pdf', 'page': 8}), Document(page_content='T h e r e\\na r e\\nn o\\na c c e s s\\nr e s t r i c t i o n s\\nb a s e d\\no n\\nm a r k e t p l a c e / B U\\ne t c .\\nO n\\nt h i s\\ns c r e e n\\ny o u\\ns h o u l d\\nb e\\na b l e\\nt o\\ns e e\\n-\\na .\\nA l l\\no ﬀ e r s\\nc r e a t e d\\nb y\\ny o u r\\nr e p o r t e e s\\nb .\\nA l l\\nt a r g e t e d\\no ﬀ e r s ,\\ni f\\ny o u\\na r e\\na\\np a r t\\no f\\nT D _ P r o m o t i o n s _ A p p r o v e r\\nc .\\nA l l\\nD o T D ,\\nD o T H\\no ﬀ e r s ,\\ni f\\ny o u ’ r e\\na\\np a r t\\no f\\n< i n s e r t\\ng r o u p\\nn a m e >\\n2 .\\nS e a r c h\\nf o r\\nc o n s o l e\\ni d\\nt o\\na p p r o v e .\\n3 .\\nC l i c k\\no n\\na p p r o v e\\no n\\nt h e\\nr e s p e c t i v e\\no ﬀ e r\\nc a r d .\\nA\\ns u m m a r y\\ns c r e e n\\nw i t h\\nd e t a i l s\\no f\\nt h e\\no ﬀ e r\\nw i l l\\ns h o w\\nu p .\\nY o u\\nc a n\\nu s e\\nt h i s\\ns c r e e n\\nt o\\nc h e c k\\na n d\\nv a l i d a t e\\nt h e\\no ﬀ e r .', metadata={'source': 'RelevantSOPs/Offer Creation via Grumbles .pdf', 'page': 9}), Document(page_content='4 .\\nC l i c k\\no n\\na p p r o v e\\ni f\\ny o u\\nw a n t\\nt h e\\no ﬀ e r\\nt o\\ng o\\nl i v e\\na s\\ni t\\ni s .\\nC l i c k\\no n\\nr e j e c t\\ni f\\nt h e r e\\na r e\\na n y\\ne r r o r s\\ni n\\nt h e\\nc o n s t r u c t .\\nP u b l i s h i n g\\no ﬀ e r s\\n●\\nO n c e\\nt h e\\no ﬀ e r\\nh a s\\nb e e n\\nc r e a t e d\\na n d\\na p p r o v e d ,\\nt h e\\no ﬀ e r\\nc r e a t o r\\nw i l l\\ns e e\\nt h e\\no p t i o n\\nt o\\np u b l i s h\\nt h e\\no ﬀ e r\\ni n\\nt h e\\nd r a f t s\\ns c r e e n\\no n\\nt h e\\ng r u m b l e s\\nh o m e\\np a g e .', metadata={'source': 'RelevantSOPs/Offer Creation via Grumbles .pdf', 'page': 10}), Document(page_content='●\\nC l i c k\\no n\\nt h e\\np u b l i s h\\nb u t t o n\\no n\\nt h e\\no ﬀ e r\\nc a r d\\n●\\nA\\ns u c c e s s\\nm e s s a g e\\nw i t h\\na\\nu n i q u e\\no ﬀ e r\\ni d\\nw i l l\\ns h o w\\nu p\\no n\\nt h e\\ns c r e e n\\no n c e\\nt h e\\no ﬀ e r\\nh a s\\nb e e n\\np u b l i s h e d .\\nP a u s i n g\\na n\\no ﬀ e r', metadata={'source': 'RelevantSOPs/Offer Creation via Grumbles .pdf', 'page': 11}), Document(page_content='●\\nC l i c k\\no n\\nt h e\\ns c h e d u l e\\np a u s e /\\nu n p a u s e\\no p t i o n\\no n\\nt h e\\no ﬀ e r\\nc a r d\\no n\\nt h e\\ng r u m b l e s\\ns c r e e n\\na f t e r\\nt h e\\no ﬀ e r\\nh a s\\nb e e n\\np u b l i s h e d\\n●\\nE n t e r\\np a u s e\\ns t a r t\\na n d\\ne n d\\nt i m e\\ni n\\nt h i s\\ns c r e e n\\n●\\nO n l y\\n1\\np a u s e\\nc a n\\nb e\\ns c h e d u l e d\\np e r\\no ﬀ e r\\n●\\nP a u s e d\\ns t a r t\\nt i m e\\nh a s\\nt o\\nb e\\ng r e a t e r\\nt h a n\\nO ﬀ e r\\ns t a r t\\nd a t e\\na n d\\n5 m i n s\\ng r e a t e r\\nt h a n\\nc u r r e n t\\nt i m e\\n●\\nF o r\\nb a s k e t / B M G N\\no ﬀ e r s ,\\nt h e\\np a u s e\\ns t a r t\\nt i m e\\nh a s\\nt o\\ne n d\\na t\\nx x : 0 0\\nS e l l e r\\nR e c o m m e n d a t i o n\\nC a s p e r\\nD e b u g g i n g', metadata={'source': 'RelevantSOPs/Offer Creation via Grumbles .pdf', 'page': 12})] ======\n",
      "\n",
      "\n",
      "\n",
      "page_content='A p p r o v e r\\nS c r e e n\\nf o r\\na\\nW h i t e l i s t\\nS e l l e r\\nR e c o m m e n d a t i o n\\n:\\nS a m p l e\\nS n a p s h o t\\no f\\nD o w n l o a d e d\\nﬁ l e\\nf o r\\na\\nW h i t e l i s t\\nS e l l e r\\nR e c o m m e n d a t i o n\\n:' metadata={'source': 'RelevantSOPs/Seller Recommendation for an Offer.pdf', 'page': 12}\n",
      "[Document(page_content='W h a t\\ni s\\nG r u m b l e s ?\\nH o w\\nt o\\ng e t\\nG r u m b l e s\\nA c c e s s\\nU s i n g\\nG r u m b l e s\\nW h a t\\na r e\\nC o n d i t i o n a l\\nO ﬀ e r s ?\\nD e ﬁ n i n g\\nt h e\\no ﬀ e r\\nO ﬀ e r\\nT y p e\\nO ﬀ e r\\nF o r m a t\\nP r o d u c t\\nS e l e c t i o n\\nD i s c o v e r y\\nS u m m a r y\\nS c r e e n\\nA p p r o v i n g\\no ﬀ e r s\\nW h o\\na p p r o v e s\\no ﬀ e r s ?\\nR o l e\\no f\\no ﬀ e r\\na p p r o v e r\\nH o w\\nt o\\na p p r o v e ?\\nP u b l i s h i n g\\no ﬀ e r s\\nP a u s i n g\\na n\\no ﬀ e r\\nS e l l e r\\nR e c o m m e n d a t i o n', metadata={'source': 'RelevantSOPs/Offer Creation via Grumbles .pdf', 'page': 0}), Document(page_content='W h a t\\ni s\\nG r u m b l e s ?\\nG r u m b l e s\\ni s\\nt h e\\nc o n s o l e\\np r o v i d e d\\nb y\\nP n P\\nw h e r e\\nu s e r s\\nc a n\\nc o n ﬁ g u r e\\no ﬀ e r s .\\nL i n k\\nh e r e\\n.\\nG r u m b l e s\\ni s\\nu s e d\\nf o r\\nt h e\\nf o l l o w i n g\\nf u n c t i o n a l i t i e s\\n-\\n●\\nO ﬀ e r\\nc r e a t i o n\\n●\\nO ﬀ e r\\na p p r o v a l\\n●\\nO ﬀ e r\\np u b l i s h i n g\\n●\\nC r e a t e\\ns e l l e r\\nr e c o m m e n d a t i o n\\n●\\nO ﬀ e r\\ne d i t i n g\\n●\\nS c h e d u l i n g\\no ﬀ e r\\np a u s e\\nH o w\\nt o\\ng e t\\nG r u m b l e s\\nA c c e s s\\n1 .\\nW r i t e\\nt o\\na s k i t @ ﬂ i p k a r t . c o m\\nw i t h\\na p p r o v a l\\nf r o m\\ny o u r\\nr e p o r t i n g\\nm a n a g e r\\n2 .\\nO n c e\\na s k i t\\nh a s\\np r o v i d e d\\na c c e s s ,\\nw r i t e\\nt o\\np n p - o n c a l l @ ﬂ i p k a r t . c o m\\nN o t e\\n-\\nT h i s\\nd o c u m e n t\\nw i l l\\nd e t a i l\\no u t\\nt h e\\ns e c t i o n s\\no n\\ng r u m b l e s\\nw h i c h\\na r e\\nc o m m o n\\nt o\\na l l\\no ﬀ e r\\nf o r m a t s .\\nA n y\\nc o n s t r a i n t s\\no r\\ni n s t r u c t i o n s\\ns p e c i ﬁ c\\nt o\\na n\\no ﬀ e r\\nf o r m a t\\nw i l l\\nb e\\ni n c l u d e d\\ni n\\nt h e\\nr e s p e c t i v e\\nS O P s .\\nP l e a s e\\nr e f e r\\nt o\\nS O P\\nf o r\\ns p e c i ﬁ c\\no ﬀ e r\\nf o r m a t s\\nb e f o r e\\ny o u\\nc r e a t e\\na n\\no ﬀ e r .\\nU s i n g\\nG r u m b l e s\\nL o g i n\\nt o\\ng r u m b l e s\\nu s i n g\\ny o u r\\nL D A P\\ni d .\\nG r u m b l e s\\nh o m e\\ns c r e e n\\np r o v i d e s\\na n\\no v e r v i e w\\no f\\na l l\\no ﬀ e r s\\ny o u ’ v e\\nc r e a t e d .\\n●\\nA l l\\n-\\nA l l\\no ﬀ e r s\\nw h i c h\\na r e\\nn o t\\ni n\\nd r a f t\\ns t a t e\\na r e\\ns h o w n\\nh e r e\\n●\\nL i v e\\n-\\nO ﬀ e r s\\ni n\\nU p c o m i n g ,\\nC o m i n g\\nS o o n\\na n d\\nL i v e\\ns t a t e', metadata={'source': 'RelevantSOPs/Offer Creation via Grumbles .pdf', 'page': 1}), Document(page_content='●\\nD r a f t s\\n-\\nO ﬀ e r s\\nt h a t\\nh a v e\\nn o t\\nb e e n\\np u b l i s h e d\\n●\\nA c t i o n\\nR e q u i r e d\\n-\\nO ﬀ e r s\\nf o r\\nw h i c h\\na r e\\ni n\\nN o\\nP a r t i c i p a t i o n\\n( S e l l e r\\nh a s n ’ t\\no p t e d\\ni n\\ny e t ) , \\nI n s u ﬃ c i e n t\\nP a r t i c i p a t i o n\\n(\\nS o m e\\ns e l l e r s\\nh a v e\\no p t e d\\ni n\\nb u t\\ng o\\nl i v e\\nc r i t e r i a\\nh a s\\nn o t\\nb e e n\\nm e t ) \\no r\\nN o\\nM a t c h i n g\\nP r o d u c t\\n●\\nN o t\\nl i v e\\n-\\nO ﬀ e r\\nw h i c h\\na r e\\nD i s a b l e d ,\\nE x p i r e d\\no r\\nP r e p a r i n g\\ns t a t e\\n●\\nW a i t i n g\\n-\\nO ﬀ e r s\\nt h a t\\nh a v e\\nb e e n\\nb l o c k e d\\nd u e\\nt o\\nh i g h\\nn u m b e r\\no f\\na ﬀ e c t e d\\nl i s t i n g s .\\nT h e s e \\nw i l l\\nb e\\nr e v i e w e d\\na n d\\na p p r o v e d\\nb y\\nt h e\\nP n P\\nt e a m .\\nW h a t\\na r e\\nC o n d i t i o n a l\\nO ﬀ e r s ?\\nC o n d i t i o n a l\\nO ﬀ e r s\\na r e\\ne x t r a\\ni n c e n t i v e s\\np r o v i d e d\\nt o\\nt h e\\nc u s t o m e r\\ni f\\nt h e y\\nf u l ﬁ l l\\nt h e\\nc r i t e r i a\\no f\\np u r c h a s e\\ns p e c i ﬁ e d\\ni n\\nt h e\\no ﬀ e r .\\nT h e s e\\na r e\\na p p l i e d\\na d d i t i v e l y\\no n\\nt o p\\no f\\nu n c o n d i t i o n a l\\no ﬀ e r s\\na n d\\np r i c e s .\\nE g\\n-\\n●\\nB a s k e t\\no ﬀ e r ,\\nw h e r e\\nt h e\\nc u s t o m e r\\ng e t s\\na\\nb e n e ﬁ t\\no n l y\\ni f\\nt h e\\nb a s k e t\\ns i z e\\nc r o s s e s\\nt h e\\nh u r d l e .\\n●\\nP a y m e n t\\nB a s e d\\nO ﬀ e r s ,\\nw h e r e\\nt h e\\nc u s t o m e r\\ng e t s\\na\\nb e n e ﬁ t\\ni f\\nt h e y\\np a y\\nw i t h\\na\\ns p e c i ﬁ c\\ni n s t r u m e n t .\\nD e ﬁ n i n g\\nt h e\\no ﬀ e r\\n1 .\\nC l i c k\\no n\\nC r e a t e\\nN e w\\nO ﬀ e r\\nO ﬀ e r\\nT y p e', metadata={'source': 'RelevantSOPs/Offer Creation via Grumbles .pdf', 'page': 2}), Document(page_content='1 .\\nC h o o s e\\nC o n d i t i o n a l\\nO ﬀ e r\\n2 .\\nS i n g l e\\ns e l l e r\\na n d\\nM a r k e t p l a c e\\nO ﬀ e r s\\n○\\nS i n g l e\\ns e l l e r\\no ﬀ e r s\\n-\\nT h e s e\\na r e\\no ﬀ e r s\\nc r e a t e d\\ns p e c i ﬁ c a l l y\\nf o r\\na\\np a r t i c u l a r\\ns e l l e r .\\nO n l y\\no ﬀ e r\\nf o r m a t s\\nw h i c h\\na r e\\ns t r o n g l y\\nc o u p l e d\\nw i t h\\na\\ns e l l e r\\na r e\\ns u p p o r t e d\\nh e r e .\\n( E g\\n-\\nP r o d u c t\\ne x c h a n g e ,\\nF r e e b i e )\\n○\\nM a r k e t p l a c e\\no ﬀ e r s\\n-\\nT h e s e\\na r e\\no ﬀ e r s\\nc r e a t e d\\nf o r\\nm u l t i p l e\\ns e l l e r s .\\nS e l l e r\\ni d\\nm a y\\no r\\nm a y\\nn o t\\nb e\\ng i v e n\\ni n\\nt h e s e\\no ﬀ e r s .\\nT h i s\\nr e q u i r e s\\na n\\no p t - i n\\nt o\\nb e\\nd o n e\\nb y\\ns e l l e r s\\nf r o m\\nt h e\\ns e l l e r\\nd a s h b o a r d .\\nN o t e :\\nI f\\na\\nb a s k e t\\no r\\na\\nl i s t i n g\\nd i s c o u n t\\nn e e d s\\nt o\\nb e\\nc r e a t e d\\nf o r\\na\\ns i n g l e\\ns i n g e r ,\\ni t\\nh a s\\nt o\\nb e\\nc o n ﬁ g u r e d\\na s\\na\\nm a r k e t p l a c e\\no ﬀ e r\\nw i t h\\ns e l l e r\\ni d\\nm e n t i o n e d\\ni n\\nt h e\\np r o d u c t\\ns e l e c t i o n\\np a g e .\\n3 .\\nS p e c i f y\\nm a r k e t p l a c e\\n( F k ,\\nE m e r a l d ,\\nG r o c e r y ,\\nH y p e r l o c a l )\\nf o r\\nw h i c h\\no ﬀ e r\\ni s\\nb e i n g\\nc r e a t e d\\n4 .\\nC h o o s e\\nP r o m o t i o n\\nl a b e l', metadata={'source': 'RelevantSOPs/Offer Creation via Grumbles .pdf', 'page': 3}), Document(page_content='P r o m o t i o n\\nl a b e l\\ni s\\nv i s i b l e\\no n\\nt h e\\ns e l l e r\\nd a s h b o a r d\\na n d\\ni s\\nu s e d\\nt o\\nc o n v e y\\nc o n t e x t\\nt o\\nt h e\\ns e l l e r .\\nE g\\n-\\nA l l\\nB B D\\no ﬀ e r s\\nw i l l\\nb e\\nc r e a t e d\\nu n d e r\\nt h e\\nT B B D\\n2 0 2 0\\nt a g .\\nT h i s\\nw i l l\\nb e\\nd i s p l a y e d\\no n\\nt h e\\ns e l l e r\\nd a s h b o a r d\\na n d\\nc o n v e y\\nt o\\ns e l l e r s\\nt h a t\\ni t\\ni s\\na\\nB B D\\no ﬀ e r .\\n5 .\\nE n t e r\\nO ﬀ e r\\nS t a r t\\nt i m e\\na n d\\nE n d\\nt i m e\\n○\\nA t\\nl e a s t\\n4\\nh o u r s\\nb e t w e e n\\no ﬀ e r\\nc r e a t i o n\\nt i m e\\na n d\\no ﬀ e r\\ns t a r t\\nt i m e\\n○\\nO ﬀ e r\\ne n d\\nt i m e\\ns h o u l d\\nb e\\ng r e a t e r\\nt h a n\\no ﬀ e r\\ns t a r t\\nt i m e\\n○\\nO ﬀ e r\\nd u r a t i o n\\ns h o u l d\\nb e\\nl e s s e r\\nt h a n\\n9 0\\nd a y s\\nO ﬀ e r\\nF o r m a t\\nC h o o s e\\no ﬀ e r\\nf o r m a t\\na s\\nr e q u i r e d\\nB a s k e t\\nO ﬀ e r s\\nT a r g e t e d\\nD i s c o u n t\\no n\\nF P\\nP r o m i s e\\nC a l l o u t\\nO ﬀ e r\\nC o m b o\\nO ﬀ e r s\\nM u l t i\\nU n i t\\nL i s t i n g\\nO ﬀ e r\\nI n c e n t i v i s e d\\nA t t a c h\\nC a l l o u t\\nO ﬀ e r s\\nN o t e\\n:\\nF o l l o w i n g\\nO ﬀ e r\\nf o r m a t s\\na r e\\nn o t\\ns u p p o r t e d\\no n\\nG r u m b l e s\\na n d\\ns h o u l d\\nn o t\\nb e\\nu s e d\\n●\\nL i s t i n g\\nF r e e b i e\\nO ﬀ e r\\n●\\nL i s t i n g\\nd i s c o u n t\\no n\\nA P\\n( m o v i n g\\nF P )\\n●\\nL i s t i n g\\nd i s c o u n t\\no n\\nA P\\n( s t a t i c\\nF P )\\n●\\nL i s t i n g\\nd i s c o u n t\\no n\\nM R P\\nP r o d u c t\\nS e l e c t i o n', metadata={'source': 'RelevantSOPs/Offer Creation via Grumbles .pdf', 'page': 4}), Document(page_content=\"S E L E C T\\nP R O D U C T S\\n-\\nI n\\nt h i s\\ns e c t i o n ,\\ny o u\\nw i l l\\ns p e c i f y\\nt h e\\ns e l e c t i o n\\no n\\nw h i c h\\nt h e\\no ﬀ e r\\ns h o u l d\\nb e\\nc r e a t e d .\\nS e l e c t i o n\\nc a n\\nb e\\nd e ﬁ n e d\\na l o n g\\n3\\np i v o t s .\\nA t\\nl e a s t\\no n e\\no f\\nt h e s e\\np i v o t s\\nh a s\\nt o\\nb e\\ns p e c i ﬁ e d\\n-\\n1 .\\nV e r t i c a l s\\nS p e c i f y\\nv e r t i c a l s\\nt h a t\\ns h o u l d\\nb e\\ne x c l u d e d / i n c l u d e d .\\n2 .\\nC a t e g o r i e s\\nS p e c i f y\\nc a t e g o r i e s\\nt h a t\\ns h o u l d\\nb e\\ne x c l u d e d / i n c l u d e d .\\n3 .\\nU p l o a d\\nF S N s\\n○\\nD o w n l o a d\\nt h e\\ns a m p l e\\nﬁ l e\\n○\\nA d d\\nt h e\\nl i s t\\no f\\nF S N s\\nt h a t\\ns h o u l d\\nb e\\ne x c l u d e d / i n c l u d e d\\nb e l o w\\nt h e\\nh e a d e r s\\np r o v i d e d\\ni n\\nt h e\\ns a m p l e\\nﬁ l e\\na n d\\nu p l o a d\\ni n\\n. c s v\\nf o r m a t\\n○\\nL i s t\\no f\\ne r r o r s\\n-\\n■\\n' H e a d e r s\\na r e\\nm i s s i n g '\\n-\\nC h e c k\\ni f\\na l l\\nh e a d e r s\\np r e s e n t\\ni n\\nt h e\\ns a m p l e\\nﬁ l e\\na r e\\np r e s e n t\\ni n\\nt h e\\nu p l o a d e d\\nﬁ l e\\n■\\n' N o\\ne n t r i e s\\na r e\\np r e s e n t '\\n-\\nC h e c k\\ni f\\nt h e\\nu p l o a d\\nﬁ l e\\nc o n t a i n s\\na n y\\nF S N s\", metadata={'source': 'RelevantSOPs/Offer Creation via Grumbles .pdf', 'page': 5}), Document(page_content=\"■\\n' r e q u e s t\\nc o n t a i n s\\nd u p l i c a t e\\ne n t r i e s '\\n-\\nR e m o v e\\nd u p l i c a t e\\ne n t r i e s\\nf r o m\\nu p l o a d e d\\nﬁ l e\\n■\\n' N o\\nL i s t i n g s\\no r\\nP r o d u c t s\\nf o u n d '\\n-\\nC h e c k\\ni f\\nt h e r e\\na r e\\na c t i v e\\nl i s t i n g s\\nm a p p e d\\nt o\\nt h e\\nF S N s\\nu p l o a d e d\\n○\\nP l e a s e\\nn o t e\\nt h a t\\nF S N\\nw h i t e l i s t\\no ﬀ e r s\\nc a n\\nb e\\nc r e a t e d\\nl e s s\\nt h a n\\n4\\nh o u r s\\nb e f o r e\\no ﬀ e r\\ng o\\nl i v e .\\nS E L E C T\\nS E L L E R S\\n-\\n●\\nM e n t i o n\\ns e l l e r\\ni d\\no n l y\\ni f\\nt h e\\no ﬀ e r\\ni s\\nb e i n g\\nc r e a t e d\\nf o r\\na\\nd e ﬁ n e d\\ns e t\\no f\\ns e l l e r s .\\nO p t\\ni n\\no p t i o n\\nw i l l\\nb e\\na v a i l a b l e\\no n l y\\nf o r\\nt h e\\ns e l l e r s\\nm e n t i o n e d\\nh e r e .\\n●\\nI f\\nn o\\ns e l l e r\\nh a s\\nb e e n\\nm e n t i o n e d ,\\na l l\\ne l i g i b l e\\ns e l l e r s\\nw i l l\\nb e\\na l l o w e d\\nt o\\no p t - i n\\nb y\\nd e f a u l t .\\nA P P L Y\\nF I L T E R S\\n-\\n●\\nF u r t h e r\\nﬁ l t e r s\\nb a s e d\\no n\\nb r a n d ,\\nA P ,\\nl i s t i n g\\nd i s c o u n t\\no n\\nA P\\na n d\\ns e r v i c e\\np r o ﬁ l e\\nc a n\\nb e\\na p p l i e d\\no n\\nt o p\\no f\\nt h e\\ns e l e c t i o n\\nc r i t e r i a\\nd e ﬁ n e d .\\nT h i s\\nﬁ e l d\\ni s\\no p t i o n a l .\\nN o t e :\\nF o r\\ng r o c e r y ,\\ny o u\\nc a n\\na l s o\\ns p e c i f y\\nB u s i n e s s\\nZ o n e\\no n\\nw h i c h\\no ﬀ e r\\ni s\\nb e i n g\\nc r e a t e d\\nD i s c o v e r y\", metadata={'source': 'RelevantSOPs/Offer Creation via Grumbles .pdf', 'page': 6}), Document(page_content='●\\nO ﬀ e r\\nt i t l e\\n-\\nF o r\\nn o n\\nt e m p l a t i s e d\\no ﬀ e r s ,\\nt h i s\\nw i l l\\nb e\\nt h e\\no ﬀ e r\\nc a l l o u t\\nt h a t\\ns h o w s\\nu p\\no n\\nt h e\\nu s e r\\ne x p e r i e n c e .\\nI n\\nc a s e\\no f\\nt e m p l a t i s e d\\no ﬀ e r s ,\\no ﬀ e r\\nc a l l o u t\\no n\\nt h e\\nu s e r\\ne x p e r i e n c e\\nw i l l\\nb e\\nc r e a t e d\\nb a s e d\\no n\\nt e m p l a t e s\\nd e ﬁ n e d\\ni n\\nP n P .\\n●\\nS e l l e r\\nt i t l e\\n-\\nT h i s\\nw i l l\\nb e\\ns h o w n\\no n\\nt h e\\ns e l l e r\\nd a s h b o a r d .\\n●\\nO ﬀ e r\\nD e s c r i p t i o n\\n-\\nT h i s\\ni s\\nu s e d\\nf o r\\nc o m m u n i c a t i o n\\na t\\nd i ﬀ e r e n t\\nt o u c h p o i n t s\\ni n\\nt h e\\nu s e r\\nj o u r n e y\\n●\\nV i e w / e d i t\\nT n C\\n-\\nD e f a u l t\\nT n C\\nb a s e d\\no n\\nt h e\\no ﬀ e r\\nt y p e\\nw i l l\\nb e\\np o p u l a t e d\\ni n\\nt h i s\\nﬁ e l d .\\nY o u\\nc a n\\ne d i t\\nt o\\ni n c l u d e\\nn e w\\nl i n e s .\\nP l e a s e\\nd o\\nn o t\\nr e m o v e\\na n y\\np a r t s\\nf r o m\\nt h e\\nd e f a u l t\\nT n C .\\nS u m m a r y\\nS c r e e n\\nP r e v i e w\\nt h e\\no ﬀ e r\\no n\\nt h i s\\ns c r e e n\\nb e f o r e\\ny o u\\ns u b m i t .\\nY o u\\nc a n\\nc l i c k\\no n\\ne d i t\\ni f\\ny o u\\nn e e d\\nt o\\nm o d i f y\\na n y\\ns e c t i o n .', metadata={'source': 'RelevantSOPs/Offer Creation via Grumbles .pdf', 'page': 7}), Document(page_content='A p p r o v i n g\\no ﬀ e r s\\nW h o\\na p p r o v e s\\no ﬀ e r s ?\\n●\\nA l l\\no ﬀ e r s\\ne x c e p t\\nt h e\\nc a s e s\\ns p e c i ﬁ e d\\nb e l o w\\na r e\\nf o r w a r d e d\\nt o\\nt h e\\no ﬀ e r\\nc r e a t o r ’ s\\nL 1\\nm a n a g e r\\nf o r\\na p p r o v a l\\n●\\nD O T D ,\\nD O T H\\no ﬀ e r s\\na r e\\nf o r w a r d e d\\nt o\\nt h e\\nc e n t r a l\\nt e a m\\nf o r\\na p p r o v a l .\\n●\\nT a r g e t e d\\no ﬀ e r s\\na r e\\nf o r w a r d e d\\nt o\\nt h e\\nT D\\na p p r o v e r s\\ng r o u p\\nc o n t a i n i n g\\nP o C s\\nf r o m\\na l l\\nB U s\\nf o r\\na p p r o v a l .\\nL i s t\\no f\\nm e m b e r s .\\nP l e a s e\\nr e f e r\\nt o\\nt h i s\\nS O P\\ni f\\ny o u ’ r e\\na p p r o v i n g\\na\\nT D\\n.\\nR o l e\\no f\\no ﬀ e r\\na p p r o v e r\\nP l e a s e\\nn o t e\\nt h a t\\nt h e r e\\ni s\\nn o\\ns y s t e m i c\\na n o m a l y\\nc h e c k\\np r e s e n t\\np r e s e n t\\nf o r\\nc o n d i t i o n a l\\no ﬀ e r s\\nc r e a t e d\\no n\\nG r u m b l e s .\\nT h e\\no ﬀ e r\\na p p r o v e r\\ni s\\nc o m p l e t e l y\\nr e s p o n s i b l e\\nt o\\nc h e c k\\na n d\\nv a l i d a t e\\nt h e\\no ﬀ e r\\nd e t a i l s\\nt o\\ne n s u r e\\nw r o n g\\ni n t e n t s\\nd o n ’ t\\ng o\\nl i v e .\\nW e\\nf o l l o w\\na\\nm a k e r - c h e c k e r\\np r o c e s s\\ni n\\no r d e r\\nt o\\ne n s u r e\\nn o\\ne r r o n e o u s\\ni n t e n t s\\ng e t\\nt h r o u g h\\nt h e\\ns y s t e m .\\nT h e\\na p p r o v e r\\ns h o u l d\\nc h e c k\\na n d\\nv a l i d a t e\\nt h e\\nf o l l o w i n g\\n-\\n1 .\\nS a n c t i t y\\no f\\no ﬀ e r\\nc o n s t r u c t\\na n d\\ni n t e n t\\nf o r\\nr u n n i n g\\nt h e\\no ﬀ e r\\n2 .\\nA c c u r a c y\\no f\\nO ﬀ e r\\nC o n ﬁ g u r a t i o n .\\nT h i s\\ni n c l u d e s\\n-\\n○\\nO ﬀ e r\\nt y p e ,\\nm a r k e t p l a c e ,\\nB U ,\\nS C\\ne t c\\n○\\nO ﬀ e r\\nd u r a t i o n ,\\no ﬀ e r\\ns t a r t\\nt i m e ,\\no ﬀ e r\\ne n d\\nt i m e\\n○\\nO ﬀ e r\\nc l a s s i ﬁ c a t i o n\\n○\\nO ﬀ e r\\nd e t a i l s\\n( o ﬀ e r\\nf o r m a t ,\\nh u r d l e ,\\ng i v e a w a y\\ne t c )\\n○\\nB u r n\\ns h a r e\\n○\\nP r o d u c t\\ns e l e c t i o n\\n○\\nA l l\\nd i s c o v e r y\\nﬁ e l d s\\n■\\nD o\\nt h e\\no ﬀ e r\\nt i t l e\\na n d\\nd e s c r i p t i o n\\na c c u r a t e l y\\nc o n v e y\\nt h e\\nd e t a i l s\\no f\\nt h e\\no ﬀ e r\\nc o n ﬁ g u r e d ?\\n■\\nC a n\\nt h e\\nu s e r\\ne a s i l y\\nu n d e r s t a n d\\nt h e\\nv a l u e\\np r o p o s i t i o n\\no f\\nt h e\\no ﬀ e r ?\\n○\\nT n C\\nH o w\\nt o\\na p p r o v e ?\\n1 .\\nS w i t c h\\nt o\\na p p r o v e r\\nm o d e\\no n\\nG r u m b l e s :', metadata={'source': 'RelevantSOPs/Offer Creation via Grumbles .pdf', 'page': 8}), Document(page_content='T h e r e\\na r e\\nn o\\na c c e s s\\nr e s t r i c t i o n s\\nb a s e d\\no n\\nm a r k e t p l a c e / B U\\ne t c .\\nO n\\nt h i s\\ns c r e e n\\ny o u\\ns h o u l d\\nb e\\na b l e\\nt o\\ns e e\\n-\\na .\\nA l l\\no ﬀ e r s\\nc r e a t e d\\nb y\\ny o u r\\nr e p o r t e e s\\nb .\\nA l l\\nt a r g e t e d\\no ﬀ e r s ,\\ni f\\ny o u\\na r e\\na\\np a r t\\no f\\nT D _ P r o m o t i o n s _ A p p r o v e r\\nc .\\nA l l\\nD o T D ,\\nD o T H\\no ﬀ e r s ,\\ni f\\ny o u ’ r e\\na\\np a r t\\no f\\n< i n s e r t\\ng r o u p\\nn a m e >\\n2 .\\nS e a r c h\\nf o r\\nc o n s o l e\\ni d\\nt o\\na p p r o v e .\\n3 .\\nC l i c k\\no n\\na p p r o v e\\no n\\nt h e\\nr e s p e c t i v e\\no ﬀ e r\\nc a r d .\\nA\\ns u m m a r y\\ns c r e e n\\nw i t h\\nd e t a i l s\\no f\\nt h e\\no ﬀ e r\\nw i l l\\ns h o w\\nu p .\\nY o u\\nc a n\\nu s e\\nt h i s\\ns c r e e n\\nt o\\nc h e c k\\na n d\\nv a l i d a t e\\nt h e\\no ﬀ e r .', metadata={'source': 'RelevantSOPs/Offer Creation via Grumbles .pdf', 'page': 9}), Document(page_content='4 .\\nC l i c k\\no n\\na p p r o v e\\ni f\\ny o u\\nw a n t\\nt h e\\no ﬀ e r\\nt o\\ng o\\nl i v e\\na s\\ni t\\ni s .\\nC l i c k\\no n\\nr e j e c t\\ni f\\nt h e r e\\na r e\\na n y\\ne r r o r s\\ni n\\nt h e\\nc o n s t r u c t .\\nP u b l i s h i n g\\no ﬀ e r s\\n●\\nO n c e\\nt h e\\no ﬀ e r\\nh a s\\nb e e n\\nc r e a t e d\\na n d\\na p p r o v e d ,\\nt h e\\no ﬀ e r\\nc r e a t o r\\nw i l l\\ns e e\\nt h e\\no p t i o n\\nt o\\np u b l i s h\\nt h e\\no ﬀ e r\\ni n\\nt h e\\nd r a f t s\\ns c r e e n\\no n\\nt h e\\ng r u m b l e s\\nh o m e\\np a g e .', metadata={'source': 'RelevantSOPs/Offer Creation via Grumbles .pdf', 'page': 10}), Document(page_content='●\\nC l i c k\\no n\\nt h e\\np u b l i s h\\nb u t t o n\\no n\\nt h e\\no ﬀ e r\\nc a r d\\n●\\nA\\ns u c c e s s\\nm e s s a g e\\nw i t h\\na\\nu n i q u e\\no ﬀ e r\\ni d\\nw i l l\\ns h o w\\nu p\\no n\\nt h e\\ns c r e e n\\no n c e\\nt h e\\no ﬀ e r\\nh a s\\nb e e n\\np u b l i s h e d .\\nP a u s i n g\\na n\\no ﬀ e r', metadata={'source': 'RelevantSOPs/Offer Creation via Grumbles .pdf', 'page': 11}), Document(page_content='●\\nC l i c k\\no n\\nt h e\\ns c h e d u l e\\np a u s e /\\nu n p a u s e\\no p t i o n\\no n\\nt h e\\no ﬀ e r\\nc a r d\\no n\\nt h e\\ng r u m b l e s\\ns c r e e n\\na f t e r\\nt h e\\no ﬀ e r\\nh a s\\nb e e n\\np u b l i s h e d\\n●\\nE n t e r\\np a u s e\\ns t a r t\\na n d\\ne n d\\nt i m e\\ni n\\nt h i s\\ns c r e e n\\n●\\nO n l y\\n1\\np a u s e\\nc a n\\nb e\\ns c h e d u l e d\\np e r\\no ﬀ e r\\n●\\nP a u s e d\\ns t a r t\\nt i m e\\nh a s\\nt o\\nb e\\ng r e a t e r\\nt h a n\\nO ﬀ e r\\ns t a r t\\nd a t e\\na n d\\n5 m i n s\\ng r e a t e r\\nt h a n\\nc u r r e n t\\nt i m e\\n●\\nF o r\\nb a s k e t / B M G N\\no ﬀ e r s ,\\nt h e\\np a u s e\\ns t a r t\\nt i m e\\nh a s\\nt o\\ne n d\\na t\\nx x : 0 0\\nS e l l e r\\nR e c o m m e n d a t i o n\\nC a s p e r\\nD e b u g g i n g', metadata={'source': 'RelevantSOPs/Offer Creation via Grumbles .pdf', 'page': 12})] ======\n",
      "\n",
      "\n",
      "\n",
      "page_content='○\\nCallout\\noffers/Promise\\nCallout\\noffers-\\nCallout\\non\\nsome\\nextra\\nvalue\\nprovided\\nto\\nuser\\nin\\nnext\\ntransactions\\n○\\nFree\\nShipping\\noffers-\\nGive\\nfree\\nshipping\\nto\\ncustomers\\nat\\nspecific\\nproduct\\nselection\\nor\\nbasket\\nlevel\\n○\\nShipping\\ndiscounts-\\nGive\\ndiscounts\\non\\nshipping\\nfee\\nat\\nspecific\\nproduct\\nselection\\nor\\nbasket\\nlevel.\\nThere\\nare\\nmultiple\\noffer\\nformats\\navailable\\nfor\\nbusiness\\nfor\\nthe\\nsame.\\nHere\\nis\\nthe\\nexample\\nand\\nlist\\nof\\noffers\\naccording\\nto\\ndifferent\\nbusiness\\nunits\\nin\\nflipkart\\nwith\\ntheir\\nrespective\\npriority\\nin\\ntable\\nbelow-\\nBusiness\\nunit\\nUse\\ncase\\nExample\\nRelevant\\noffer\\nformat(s) \\nin\\norder\\nof\\nrelevance \\nand\\nefficiency\\nMobiles,\\nElectronics, \\nLarge\\nImprove\\nvalue\\nor \\naffordability\\noffered\\non \\nproducts\\nI\\nwant\\nto\\ngive\\nextra \\nmonetary\\nvalue/discount\\nto \\ncustomers\\non\\nproducts.\\nE.g.-\\n“Save\\nextra\\nRs \\n1000\\non\\nApple\\niPhone \\n11”\\n1.\\nBank\\noffers \\n2.\\nExchange\\noffer/Prexo\\nbump\\noffer \\n3.\\nListing\\nDiscounts\\nMobiles,\\nElectronics, \\nLarge,\\nBGM\\n(Books \\nand\\nGeneral \\nMerchandise)\\nand \\nHome,\\nLifestyle\\nGive\\nextra\\ncoupons/vouchers\\non \\npurchase\\nI\\nwant\\nto\\ngive\\ndigital \\nfreebies-\\nFlipkart\\nand \\n3rd\\nparty\\ncoupons\\nto \\nimprove\\ncustomer \\ndelight\\nE.g-\\n“Get\\nMS\\nOffice \\n365\\nvoucher\\nfree\\nwith \\nproducts”\\n1.\\nDigital\\nFreebie/Listing \\nfreebie\\noffers \\n2.\\nPromise\\ncallout \\noffers\\n3.\\nCash\\nand\\nCoins\\nMobiles,\\nElectronics, \\nLarge,\\nBGM\\n(Books \\nand\\nGeneral \\nMerchandise)\\nand \\nHome,\\nLifestyle\\nImprove\\nAverage\\norder \\nvalue\\nor\\nimprove \\nbasket\\nbuilding \\nbehavior\\nI\\nwant\\nto\\nimprove\\nmy \\naverage\\norder\\nvalue \\nper\\ntransaction\\nE.g-\\nBuy\\nA+B\\nat\\n5%\\noff\\n1.\\nBank\\noffer \\n2.\\nAttach\\noffer\\n(for \\nlow\\nselling\\nprice \\nattach\\nproducts) \\n3.\\nCombo\\noffer \\n4.\\nBasket\\noffer\\nBGM\\n(Books\\nand \\nGeneral\\nMerchandise) \\nand\\nHome\\nImprove\\nunits\\nper\\norder \\nor\\nAverage\\norder\\nvalue\\nI\\nwant\\nto\\nimprove\\nunits \\nbought\\nper\\norder\\nor \\naverage\\norder\\nvalue\\nE.g-\\nBuy\\n3\\nproducts \\nand\\nsave\\n10%\\noff\\n1.\\nBasket\\noffer\\n( \\nBuy\\nX\\nat\\nY% \\noff,\\nBuy\\nX\\nunits \\nat\\nflat\\nRs\\nXXX) \\n2.\\nBuy\\n1\\nGet\\n1\\nfree \\n(BMGN\\noffer) \\n3.\\nCombo\\noffer \\n4.\\nPayment\\nbased \\noffers/Bank' metadata={'source': 'RelevantSOPs/Offer Business Use Cases (2).pdf', 'page': 1}\n",
      "[Document(page_content='W h a t\\ni s\\nG r u m b l e s ?\\nH o w\\nt o\\ng e t\\nG r u m b l e s\\nA c c e s s\\nU s i n g\\nG r u m b l e s\\nW h a t\\na r e\\nC o n d i t i o n a l\\nO ﬀ e r s ?\\nD e ﬁ n i n g\\nt h e\\no ﬀ e r\\nO ﬀ e r\\nT y p e\\nO ﬀ e r\\nF o r m a t\\nP r o d u c t\\nS e l e c t i o n\\nD i s c o v e r y\\nS u m m a r y\\nS c r e e n\\nA p p r o v i n g\\no ﬀ e r s\\nW h o\\na p p r o v e s\\no ﬀ e r s ?\\nR o l e\\no f\\no ﬀ e r\\na p p r o v e r\\nH o w\\nt o\\na p p r o v e ?\\nP u b l i s h i n g\\no ﬀ e r s\\nP a u s i n g\\na n\\no ﬀ e r\\nS e l l e r\\nR e c o m m e n d a t i o n', metadata={'source': 'RelevantSOPs/Offer Creation via Grumbles .pdf', 'page': 0}), Document(page_content='W h a t\\ni s\\nG r u m b l e s ?\\nG r u m b l e s\\ni s\\nt h e\\nc o n s o l e\\np r o v i d e d\\nb y\\nP n P\\nw h e r e\\nu s e r s\\nc a n\\nc o n ﬁ g u r e\\no ﬀ e r s .\\nL i n k\\nh e r e\\n.\\nG r u m b l e s\\ni s\\nu s e d\\nf o r\\nt h e\\nf o l l o w i n g\\nf u n c t i o n a l i t i e s\\n-\\n●\\nO ﬀ e r\\nc r e a t i o n\\n●\\nO ﬀ e r\\na p p r o v a l\\n●\\nO ﬀ e r\\np u b l i s h i n g\\n●\\nC r e a t e\\ns e l l e r\\nr e c o m m e n d a t i o n\\n●\\nO ﬀ e r\\ne d i t i n g\\n●\\nS c h e d u l i n g\\no ﬀ e r\\np a u s e\\nH o w\\nt o\\ng e t\\nG r u m b l e s\\nA c c e s s\\n1 .\\nW r i t e\\nt o\\na s k i t @ ﬂ i p k a r t . c o m\\nw i t h\\na p p r o v a l\\nf r o m\\ny o u r\\nr e p o r t i n g\\nm a n a g e r\\n2 .\\nO n c e\\na s k i t\\nh a s\\np r o v i d e d\\na c c e s s ,\\nw r i t e\\nt o\\np n p - o n c a l l @ ﬂ i p k a r t . c o m\\nN o t e\\n-\\nT h i s\\nd o c u m e n t\\nw i l l\\nd e t a i l\\no u t\\nt h e\\ns e c t i o n s\\no n\\ng r u m b l e s\\nw h i c h\\na r e\\nc o m m o n\\nt o\\na l l\\no ﬀ e r\\nf o r m a t s .\\nA n y\\nc o n s t r a i n t s\\no r\\ni n s t r u c t i o n s\\ns p e c i ﬁ c\\nt o\\na n\\no ﬀ e r\\nf o r m a t\\nw i l l\\nb e\\ni n c l u d e d\\ni n\\nt h e\\nr e s p e c t i v e\\nS O P s .\\nP l e a s e\\nr e f e r\\nt o\\nS O P\\nf o r\\ns p e c i ﬁ c\\no ﬀ e r\\nf o r m a t s\\nb e f o r e\\ny o u\\nc r e a t e\\na n\\no ﬀ e r .\\nU s i n g\\nG r u m b l e s\\nL o g i n\\nt o\\ng r u m b l e s\\nu s i n g\\ny o u r\\nL D A P\\ni d .\\nG r u m b l e s\\nh o m e\\ns c r e e n\\np r o v i d e s\\na n\\no v e r v i e w\\no f\\na l l\\no ﬀ e r s\\ny o u ’ v e\\nc r e a t e d .\\n●\\nA l l\\n-\\nA l l\\no ﬀ e r s\\nw h i c h\\na r e\\nn o t\\ni n\\nd r a f t\\ns t a t e\\na r e\\ns h o w n\\nh e r e\\n●\\nL i v e\\n-\\nO ﬀ e r s\\ni n\\nU p c o m i n g ,\\nC o m i n g\\nS o o n\\na n d\\nL i v e\\ns t a t e', metadata={'source': 'RelevantSOPs/Offer Creation via Grumbles .pdf', 'page': 1}), Document(page_content='●\\nD r a f t s\\n-\\nO ﬀ e r s\\nt h a t\\nh a v e\\nn o t\\nb e e n\\np u b l i s h e d\\n●\\nA c t i o n\\nR e q u i r e d\\n-\\nO ﬀ e r s\\nf o r\\nw h i c h\\na r e\\ni n\\nN o\\nP a r t i c i p a t i o n\\n( S e l l e r\\nh a s n ’ t\\no p t e d\\ni n\\ny e t ) , \\nI n s u ﬃ c i e n t\\nP a r t i c i p a t i o n\\n(\\nS o m e\\ns e l l e r s\\nh a v e\\no p t e d\\ni n\\nb u t\\ng o\\nl i v e\\nc r i t e r i a\\nh a s\\nn o t\\nb e e n\\nm e t ) \\no r\\nN o\\nM a t c h i n g\\nP r o d u c t\\n●\\nN o t\\nl i v e\\n-\\nO ﬀ e r\\nw h i c h\\na r e\\nD i s a b l e d ,\\nE x p i r e d\\no r\\nP r e p a r i n g\\ns t a t e\\n●\\nW a i t i n g\\n-\\nO ﬀ e r s\\nt h a t\\nh a v e\\nb e e n\\nb l o c k e d\\nd u e\\nt o\\nh i g h\\nn u m b e r\\no f\\na ﬀ e c t e d\\nl i s t i n g s .\\nT h e s e \\nw i l l\\nb e\\nr e v i e w e d\\na n d\\na p p r o v e d\\nb y\\nt h e\\nP n P\\nt e a m .\\nW h a t\\na r e\\nC o n d i t i o n a l\\nO ﬀ e r s ?\\nC o n d i t i o n a l\\nO ﬀ e r s\\na r e\\ne x t r a\\ni n c e n t i v e s\\np r o v i d e d\\nt o\\nt h e\\nc u s t o m e r\\ni f\\nt h e y\\nf u l ﬁ l l\\nt h e\\nc r i t e r i a\\no f\\np u r c h a s e\\ns p e c i ﬁ e d\\ni n\\nt h e\\no ﬀ e r .\\nT h e s e\\na r e\\na p p l i e d\\na d d i t i v e l y\\no n\\nt o p\\no f\\nu n c o n d i t i o n a l\\no ﬀ e r s\\na n d\\np r i c e s .\\nE g\\n-\\n●\\nB a s k e t\\no ﬀ e r ,\\nw h e r e\\nt h e\\nc u s t o m e r\\ng e t s\\na\\nb e n e ﬁ t\\no n l y\\ni f\\nt h e\\nb a s k e t\\ns i z e\\nc r o s s e s\\nt h e\\nh u r d l e .\\n●\\nP a y m e n t\\nB a s e d\\nO ﬀ e r s ,\\nw h e r e\\nt h e\\nc u s t o m e r\\ng e t s\\na\\nb e n e ﬁ t\\ni f\\nt h e y\\np a y\\nw i t h\\na\\ns p e c i ﬁ c\\ni n s t r u m e n t .\\nD e ﬁ n i n g\\nt h e\\no ﬀ e r\\n1 .\\nC l i c k\\no n\\nC r e a t e\\nN e w\\nO ﬀ e r\\nO ﬀ e r\\nT y p e', metadata={'source': 'RelevantSOPs/Offer Creation via Grumbles .pdf', 'page': 2}), Document(page_content='1 .\\nC h o o s e\\nC o n d i t i o n a l\\nO ﬀ e r\\n2 .\\nS i n g l e\\ns e l l e r\\na n d\\nM a r k e t p l a c e\\nO ﬀ e r s\\n○\\nS i n g l e\\ns e l l e r\\no ﬀ e r s\\n-\\nT h e s e\\na r e\\no ﬀ e r s\\nc r e a t e d\\ns p e c i ﬁ c a l l y\\nf o r\\na\\np a r t i c u l a r\\ns e l l e r .\\nO n l y\\no ﬀ e r\\nf o r m a t s\\nw h i c h\\na r e\\ns t r o n g l y\\nc o u p l e d\\nw i t h\\na\\ns e l l e r\\na r e\\ns u p p o r t e d\\nh e r e .\\n( E g\\n-\\nP r o d u c t\\ne x c h a n g e ,\\nF r e e b i e )\\n○\\nM a r k e t p l a c e\\no ﬀ e r s\\n-\\nT h e s e\\na r e\\no ﬀ e r s\\nc r e a t e d\\nf o r\\nm u l t i p l e\\ns e l l e r s .\\nS e l l e r\\ni d\\nm a y\\no r\\nm a y\\nn o t\\nb e\\ng i v e n\\ni n\\nt h e s e\\no ﬀ e r s .\\nT h i s\\nr e q u i r e s\\na n\\no p t - i n\\nt o\\nb e\\nd o n e\\nb y\\ns e l l e r s\\nf r o m\\nt h e\\ns e l l e r\\nd a s h b o a r d .\\nN o t e :\\nI f\\na\\nb a s k e t\\no r\\na\\nl i s t i n g\\nd i s c o u n t\\nn e e d s\\nt o\\nb e\\nc r e a t e d\\nf o r\\na\\ns i n g l e\\ns i n g e r ,\\ni t\\nh a s\\nt o\\nb e\\nc o n ﬁ g u r e d\\na s\\na\\nm a r k e t p l a c e\\no ﬀ e r\\nw i t h\\ns e l l e r\\ni d\\nm e n t i o n e d\\ni n\\nt h e\\np r o d u c t\\ns e l e c t i o n\\np a g e .\\n3 .\\nS p e c i f y\\nm a r k e t p l a c e\\n( F k ,\\nE m e r a l d ,\\nG r o c e r y ,\\nH y p e r l o c a l )\\nf o r\\nw h i c h\\no ﬀ e r\\ni s\\nb e i n g\\nc r e a t e d\\n4 .\\nC h o o s e\\nP r o m o t i o n\\nl a b e l', metadata={'source': 'RelevantSOPs/Offer Creation via Grumbles .pdf', 'page': 3}), Document(page_content='P r o m o t i o n\\nl a b e l\\ni s\\nv i s i b l e\\no n\\nt h e\\ns e l l e r\\nd a s h b o a r d\\na n d\\ni s\\nu s e d\\nt o\\nc o n v e y\\nc o n t e x t\\nt o\\nt h e\\ns e l l e r .\\nE g\\n-\\nA l l\\nB B D\\no ﬀ e r s\\nw i l l\\nb e\\nc r e a t e d\\nu n d e r\\nt h e\\nT B B D\\n2 0 2 0\\nt a g .\\nT h i s\\nw i l l\\nb e\\nd i s p l a y e d\\no n\\nt h e\\ns e l l e r\\nd a s h b o a r d\\na n d\\nc o n v e y\\nt o\\ns e l l e r s\\nt h a t\\ni t\\ni s\\na\\nB B D\\no ﬀ e r .\\n5 .\\nE n t e r\\nO ﬀ e r\\nS t a r t\\nt i m e\\na n d\\nE n d\\nt i m e\\n○\\nA t\\nl e a s t\\n4\\nh o u r s\\nb e t w e e n\\no ﬀ e r\\nc r e a t i o n\\nt i m e\\na n d\\no ﬀ e r\\ns t a r t\\nt i m e\\n○\\nO ﬀ e r\\ne n d\\nt i m e\\ns h o u l d\\nb e\\ng r e a t e r\\nt h a n\\no ﬀ e r\\ns t a r t\\nt i m e\\n○\\nO ﬀ e r\\nd u r a t i o n\\ns h o u l d\\nb e\\nl e s s e r\\nt h a n\\n9 0\\nd a y s\\nO ﬀ e r\\nF o r m a t\\nC h o o s e\\no ﬀ e r\\nf o r m a t\\na s\\nr e q u i r e d\\nB a s k e t\\nO ﬀ e r s\\nT a r g e t e d\\nD i s c o u n t\\no n\\nF P\\nP r o m i s e\\nC a l l o u t\\nO ﬀ e r\\nC o m b o\\nO ﬀ e r s\\nM u l t i\\nU n i t\\nL i s t i n g\\nO ﬀ e r\\nI n c e n t i v i s e d\\nA t t a c h\\nC a l l o u t\\nO ﬀ e r s\\nN o t e\\n:\\nF o l l o w i n g\\nO ﬀ e r\\nf o r m a t s\\na r e\\nn o t\\ns u p p o r t e d\\no n\\nG r u m b l e s\\na n d\\ns h o u l d\\nn o t\\nb e\\nu s e d\\n●\\nL i s t i n g\\nF r e e b i e\\nO ﬀ e r\\n●\\nL i s t i n g\\nd i s c o u n t\\no n\\nA P\\n( m o v i n g\\nF P )\\n●\\nL i s t i n g\\nd i s c o u n t\\no n\\nA P\\n( s t a t i c\\nF P )\\n●\\nL i s t i n g\\nd i s c o u n t\\no n\\nM R P\\nP r o d u c t\\nS e l e c t i o n', metadata={'source': 'RelevantSOPs/Offer Creation via Grumbles .pdf', 'page': 4}), Document(page_content=\"S E L E C T\\nP R O D U C T S\\n-\\nI n\\nt h i s\\ns e c t i o n ,\\ny o u\\nw i l l\\ns p e c i f y\\nt h e\\ns e l e c t i o n\\no n\\nw h i c h\\nt h e\\no ﬀ e r\\ns h o u l d\\nb e\\nc r e a t e d .\\nS e l e c t i o n\\nc a n\\nb e\\nd e ﬁ n e d\\na l o n g\\n3\\np i v o t s .\\nA t\\nl e a s t\\no n e\\no f\\nt h e s e\\np i v o t s\\nh a s\\nt o\\nb e\\ns p e c i ﬁ e d\\n-\\n1 .\\nV e r t i c a l s\\nS p e c i f y\\nv e r t i c a l s\\nt h a t\\ns h o u l d\\nb e\\ne x c l u d e d / i n c l u d e d .\\n2 .\\nC a t e g o r i e s\\nS p e c i f y\\nc a t e g o r i e s\\nt h a t\\ns h o u l d\\nb e\\ne x c l u d e d / i n c l u d e d .\\n3 .\\nU p l o a d\\nF S N s\\n○\\nD o w n l o a d\\nt h e\\ns a m p l e\\nﬁ l e\\n○\\nA d d\\nt h e\\nl i s t\\no f\\nF S N s\\nt h a t\\ns h o u l d\\nb e\\ne x c l u d e d / i n c l u d e d\\nb e l o w\\nt h e\\nh e a d e r s\\np r o v i d e d\\ni n\\nt h e\\ns a m p l e\\nﬁ l e\\na n d\\nu p l o a d\\ni n\\n. c s v\\nf o r m a t\\n○\\nL i s t\\no f\\ne r r o r s\\n-\\n■\\n' H e a d e r s\\na r e\\nm i s s i n g '\\n-\\nC h e c k\\ni f\\na l l\\nh e a d e r s\\np r e s e n t\\ni n\\nt h e\\ns a m p l e\\nﬁ l e\\na r e\\np r e s e n t\\ni n\\nt h e\\nu p l o a d e d\\nﬁ l e\\n■\\n' N o\\ne n t r i e s\\na r e\\np r e s e n t '\\n-\\nC h e c k\\ni f\\nt h e\\nu p l o a d\\nﬁ l e\\nc o n t a i n s\\na n y\\nF S N s\", metadata={'source': 'RelevantSOPs/Offer Creation via Grumbles .pdf', 'page': 5}), Document(page_content=\"■\\n' r e q u e s t\\nc o n t a i n s\\nd u p l i c a t e\\ne n t r i e s '\\n-\\nR e m o v e\\nd u p l i c a t e\\ne n t r i e s\\nf r o m\\nu p l o a d e d\\nﬁ l e\\n■\\n' N o\\nL i s t i n g s\\no r\\nP r o d u c t s\\nf o u n d '\\n-\\nC h e c k\\ni f\\nt h e r e\\na r e\\na c t i v e\\nl i s t i n g s\\nm a p p e d\\nt o\\nt h e\\nF S N s\\nu p l o a d e d\\n○\\nP l e a s e\\nn o t e\\nt h a t\\nF S N\\nw h i t e l i s t\\no ﬀ e r s\\nc a n\\nb e\\nc r e a t e d\\nl e s s\\nt h a n\\n4\\nh o u r s\\nb e f o r e\\no ﬀ e r\\ng o\\nl i v e .\\nS E L E C T\\nS E L L E R S\\n-\\n●\\nM e n t i o n\\ns e l l e r\\ni d\\no n l y\\ni f\\nt h e\\no ﬀ e r\\ni s\\nb e i n g\\nc r e a t e d\\nf o r\\na\\nd e ﬁ n e d\\ns e t\\no f\\ns e l l e r s .\\nO p t\\ni n\\no p t i o n\\nw i l l\\nb e\\na v a i l a b l e\\no n l y\\nf o r\\nt h e\\ns e l l e r s\\nm e n t i o n e d\\nh e r e .\\n●\\nI f\\nn o\\ns e l l e r\\nh a s\\nb e e n\\nm e n t i o n e d ,\\na l l\\ne l i g i b l e\\ns e l l e r s\\nw i l l\\nb e\\na l l o w e d\\nt o\\no p t - i n\\nb y\\nd e f a u l t .\\nA P P L Y\\nF I L T E R S\\n-\\n●\\nF u r t h e r\\nﬁ l t e r s\\nb a s e d\\no n\\nb r a n d ,\\nA P ,\\nl i s t i n g\\nd i s c o u n t\\no n\\nA P\\na n d\\ns e r v i c e\\np r o ﬁ l e\\nc a n\\nb e\\na p p l i e d\\no n\\nt o p\\no f\\nt h e\\ns e l e c t i o n\\nc r i t e r i a\\nd e ﬁ n e d .\\nT h i s\\nﬁ e l d\\ni s\\no p t i o n a l .\\nN o t e :\\nF o r\\ng r o c e r y ,\\ny o u\\nc a n\\na l s o\\ns p e c i f y\\nB u s i n e s s\\nZ o n e\\no n\\nw h i c h\\no ﬀ e r\\ni s\\nb e i n g\\nc r e a t e d\\nD i s c o v e r y\", metadata={'source': 'RelevantSOPs/Offer Creation via Grumbles .pdf', 'page': 6}), Document(page_content='●\\nO ﬀ e r\\nt i t l e\\n-\\nF o r\\nn o n\\nt e m p l a t i s e d\\no ﬀ e r s ,\\nt h i s\\nw i l l\\nb e\\nt h e\\no ﬀ e r\\nc a l l o u t\\nt h a t\\ns h o w s\\nu p\\no n\\nt h e\\nu s e r\\ne x p e r i e n c e .\\nI n\\nc a s e\\no f\\nt e m p l a t i s e d\\no ﬀ e r s ,\\no ﬀ e r\\nc a l l o u t\\no n\\nt h e\\nu s e r\\ne x p e r i e n c e\\nw i l l\\nb e\\nc r e a t e d\\nb a s e d\\no n\\nt e m p l a t e s\\nd e ﬁ n e d\\ni n\\nP n P .\\n●\\nS e l l e r\\nt i t l e\\n-\\nT h i s\\nw i l l\\nb e\\ns h o w n\\no n\\nt h e\\ns e l l e r\\nd a s h b o a r d .\\n●\\nO ﬀ e r\\nD e s c r i p t i o n\\n-\\nT h i s\\ni s\\nu s e d\\nf o r\\nc o m m u n i c a t i o n\\na t\\nd i ﬀ e r e n t\\nt o u c h p o i n t s\\ni n\\nt h e\\nu s e r\\nj o u r n e y\\n●\\nV i e w / e d i t\\nT n C\\n-\\nD e f a u l t\\nT n C\\nb a s e d\\no n\\nt h e\\no ﬀ e r\\nt y p e\\nw i l l\\nb e\\np o p u l a t e d\\ni n\\nt h i s\\nﬁ e l d .\\nY o u\\nc a n\\ne d i t\\nt o\\ni n c l u d e\\nn e w\\nl i n e s .\\nP l e a s e\\nd o\\nn o t\\nr e m o v e\\na n y\\np a r t s\\nf r o m\\nt h e\\nd e f a u l t\\nT n C .\\nS u m m a r y\\nS c r e e n\\nP r e v i e w\\nt h e\\no ﬀ e r\\no n\\nt h i s\\ns c r e e n\\nb e f o r e\\ny o u\\ns u b m i t .\\nY o u\\nc a n\\nc l i c k\\no n\\ne d i t\\ni f\\ny o u\\nn e e d\\nt o\\nm o d i f y\\na n y\\ns e c t i o n .', metadata={'source': 'RelevantSOPs/Offer Creation via Grumbles .pdf', 'page': 7}), Document(page_content='A p p r o v i n g\\no ﬀ e r s\\nW h o\\na p p r o v e s\\no ﬀ e r s ?\\n●\\nA l l\\no ﬀ e r s\\ne x c e p t\\nt h e\\nc a s e s\\ns p e c i ﬁ e d\\nb e l o w\\na r e\\nf o r w a r d e d\\nt o\\nt h e\\no ﬀ e r\\nc r e a t o r ’ s\\nL 1\\nm a n a g e r\\nf o r\\na p p r o v a l\\n●\\nD O T D ,\\nD O T H\\no ﬀ e r s\\na r e\\nf o r w a r d e d\\nt o\\nt h e\\nc e n t r a l\\nt e a m\\nf o r\\na p p r o v a l .\\n●\\nT a r g e t e d\\no ﬀ e r s\\na r e\\nf o r w a r d e d\\nt o\\nt h e\\nT D\\na p p r o v e r s\\ng r o u p\\nc o n t a i n i n g\\nP o C s\\nf r o m\\na l l\\nB U s\\nf o r\\na p p r o v a l .\\nL i s t\\no f\\nm e m b e r s .\\nP l e a s e\\nr e f e r\\nt o\\nt h i s\\nS O P\\ni f\\ny o u ’ r e\\na p p r o v i n g\\na\\nT D\\n.\\nR o l e\\no f\\no ﬀ e r\\na p p r o v e r\\nP l e a s e\\nn o t e\\nt h a t\\nt h e r e\\ni s\\nn o\\ns y s t e m i c\\na n o m a l y\\nc h e c k\\np r e s e n t\\np r e s e n t\\nf o r\\nc o n d i t i o n a l\\no ﬀ e r s\\nc r e a t e d\\no n\\nG r u m b l e s .\\nT h e\\no ﬀ e r\\na p p r o v e r\\ni s\\nc o m p l e t e l y\\nr e s p o n s i b l e\\nt o\\nc h e c k\\na n d\\nv a l i d a t e\\nt h e\\no ﬀ e r\\nd e t a i l s\\nt o\\ne n s u r e\\nw r o n g\\ni n t e n t s\\nd o n ’ t\\ng o\\nl i v e .\\nW e\\nf o l l o w\\na\\nm a k e r - c h e c k e r\\np r o c e s s\\ni n\\no r d e r\\nt o\\ne n s u r e\\nn o\\ne r r o n e o u s\\ni n t e n t s\\ng e t\\nt h r o u g h\\nt h e\\ns y s t e m .\\nT h e\\na p p r o v e r\\ns h o u l d\\nc h e c k\\na n d\\nv a l i d a t e\\nt h e\\nf o l l o w i n g\\n-\\n1 .\\nS a n c t i t y\\no f\\no ﬀ e r\\nc o n s t r u c t\\na n d\\ni n t e n t\\nf o r\\nr u n n i n g\\nt h e\\no ﬀ e r\\n2 .\\nA c c u r a c y\\no f\\nO ﬀ e r\\nC o n ﬁ g u r a t i o n .\\nT h i s\\ni n c l u d e s\\n-\\n○\\nO ﬀ e r\\nt y p e ,\\nm a r k e t p l a c e ,\\nB U ,\\nS C\\ne t c\\n○\\nO ﬀ e r\\nd u r a t i o n ,\\no ﬀ e r\\ns t a r t\\nt i m e ,\\no ﬀ e r\\ne n d\\nt i m e\\n○\\nO ﬀ e r\\nc l a s s i ﬁ c a t i o n\\n○\\nO ﬀ e r\\nd e t a i l s\\n( o ﬀ e r\\nf o r m a t ,\\nh u r d l e ,\\ng i v e a w a y\\ne t c )\\n○\\nB u r n\\ns h a r e\\n○\\nP r o d u c t\\ns e l e c t i o n\\n○\\nA l l\\nd i s c o v e r y\\nﬁ e l d s\\n■\\nD o\\nt h e\\no ﬀ e r\\nt i t l e\\na n d\\nd e s c r i p t i o n\\na c c u r a t e l y\\nc o n v e y\\nt h e\\nd e t a i l s\\no f\\nt h e\\no ﬀ e r\\nc o n ﬁ g u r e d ?\\n■\\nC a n\\nt h e\\nu s e r\\ne a s i l y\\nu n d e r s t a n d\\nt h e\\nv a l u e\\np r o p o s i t i o n\\no f\\nt h e\\no ﬀ e r ?\\n○\\nT n C\\nH o w\\nt o\\na p p r o v e ?\\n1 .\\nS w i t c h\\nt o\\na p p r o v e r\\nm o d e\\no n\\nG r u m b l e s :', metadata={'source': 'RelevantSOPs/Offer Creation via Grumbles .pdf', 'page': 8}), Document(page_content='T h e r e\\na r e\\nn o\\na c c e s s\\nr e s t r i c t i o n s\\nb a s e d\\no n\\nm a r k e t p l a c e / B U\\ne t c .\\nO n\\nt h i s\\ns c r e e n\\ny o u\\ns h o u l d\\nb e\\na b l e\\nt o\\ns e e\\n-\\na .\\nA l l\\no ﬀ e r s\\nc r e a t e d\\nb y\\ny o u r\\nr e p o r t e e s\\nb .\\nA l l\\nt a r g e t e d\\no ﬀ e r s ,\\ni f\\ny o u\\na r e\\na\\np a r t\\no f\\nT D _ P r o m o t i o n s _ A p p r o v e r\\nc .\\nA l l\\nD o T D ,\\nD o T H\\no ﬀ e r s ,\\ni f\\ny o u ’ r e\\na\\np a r t\\no f\\n< i n s e r t\\ng r o u p\\nn a m e >\\n2 .\\nS e a r c h\\nf o r\\nc o n s o l e\\ni d\\nt o\\na p p r o v e .\\n3 .\\nC l i c k\\no n\\na p p r o v e\\no n\\nt h e\\nr e s p e c t i v e\\no ﬀ e r\\nc a r d .\\nA\\ns u m m a r y\\ns c r e e n\\nw i t h\\nd e t a i l s\\no f\\nt h e\\no ﬀ e r\\nw i l l\\ns h o w\\nu p .\\nY o u\\nc a n\\nu s e\\nt h i s\\ns c r e e n\\nt o\\nc h e c k\\na n d\\nv a l i d a t e\\nt h e\\no ﬀ e r .', metadata={'source': 'RelevantSOPs/Offer Creation via Grumbles .pdf', 'page': 9}), Document(page_content='4 .\\nC l i c k\\no n\\na p p r o v e\\ni f\\ny o u\\nw a n t\\nt h e\\no ﬀ e r\\nt o\\ng o\\nl i v e\\na s\\ni t\\ni s .\\nC l i c k\\no n\\nr e j e c t\\ni f\\nt h e r e\\na r e\\na n y\\ne r r o r s\\ni n\\nt h e\\nc o n s t r u c t .\\nP u b l i s h i n g\\no ﬀ e r s\\n●\\nO n c e\\nt h e\\no ﬀ e r\\nh a s\\nb e e n\\nc r e a t e d\\na n d\\na p p r o v e d ,\\nt h e\\no ﬀ e r\\nc r e a t o r\\nw i l l\\ns e e\\nt h e\\no p t i o n\\nt o\\np u b l i s h\\nt h e\\no ﬀ e r\\ni n\\nt h e\\nd r a f t s\\ns c r e e n\\no n\\nt h e\\ng r u m b l e s\\nh o m e\\np a g e .', metadata={'source': 'RelevantSOPs/Offer Creation via Grumbles .pdf', 'page': 10}), Document(page_content='●\\nC l i c k\\no n\\nt h e\\np u b l i s h\\nb u t t o n\\no n\\nt h e\\no ﬀ e r\\nc a r d\\n●\\nA\\ns u c c e s s\\nm e s s a g e\\nw i t h\\na\\nu n i q u e\\no ﬀ e r\\ni d\\nw i l l\\ns h o w\\nu p\\no n\\nt h e\\ns c r e e n\\no n c e\\nt h e\\no ﬀ e r\\nh a s\\nb e e n\\np u b l i s h e d .\\nP a u s i n g\\na n\\no ﬀ e r', metadata={'source': 'RelevantSOPs/Offer Creation via Grumbles .pdf', 'page': 11}), Document(page_content='●\\nC l i c k\\no n\\nt h e\\ns c h e d u l e\\np a u s e /\\nu n p a u s e\\no p t i o n\\no n\\nt h e\\no ﬀ e r\\nc a r d\\no n\\nt h e\\ng r u m b l e s\\ns c r e e n\\na f t e r\\nt h e\\no ﬀ e r\\nh a s\\nb e e n\\np u b l i s h e d\\n●\\nE n t e r\\np a u s e\\ns t a r t\\na n d\\ne n d\\nt i m e\\ni n\\nt h i s\\ns c r e e n\\n●\\nO n l y\\n1\\np a u s e\\nc a n\\nb e\\ns c h e d u l e d\\np e r\\no ﬀ e r\\n●\\nP a u s e d\\ns t a r t\\nt i m e\\nh a s\\nt o\\nb e\\ng r e a t e r\\nt h a n\\nO ﬀ e r\\ns t a r t\\nd a t e\\na n d\\n5 m i n s\\ng r e a t e r\\nt h a n\\nc u r r e n t\\nt i m e\\n●\\nF o r\\nb a s k e t / B M G N\\no ﬀ e r s ,\\nt h e\\np a u s e\\ns t a r t\\nt i m e\\nh a s\\nt o\\ne n d\\na t\\nx x : 0 0\\nS e l l e r\\nR e c o m m e n d a t i o n\\nC a s p e r\\nD e b u g g i n g', metadata={'source': 'RelevantSOPs/Offer Creation via Grumbles .pdf', 'page': 12})] ======\n",
      "\n",
      "\n",
      "\n",
      "page_content='W h a t\\ni s\\na\\nG r o u p\\nB u y i n g\\no f f e r\\n?\\nA n s w e r :\\nG r o u p\\nB u y i n g\\no f f e r\\ni s\\na\\nc o n d i t i o n a l\\no f f e r\\nf o r m a t\\nw h e r e i n\\nc u s t o m e r s\\nc a n\\nb u y\\nt h e\\np r o d u c t\\ns e l e c t i o n\\nu n d e r\\no f f e r\\na t\\na\\nd i s c o u n t e d\\nG r o u p\\nB u y\\np r i c e\\nw h e r e\\nt h e\\no r d e r\\nw i l l\\nb e\\nd i s p a t c h e d\\no n l y\\nw h e n\\ng r o u p\\nh u r d l e\\n( B r i n g\\nm i n i m u m\\nX\\nm e m b e r s\\nw i t h i n\\nY Y\\nh o u r s )\\ni s\\nc o m p l e t e d .\\nH u r d l e\\nM i n .\\nG r o u p\\ns i z e\\na n d\\ng r o u p\\nv a l i d i t y\\nt i m e r\\nG i v e a w a y\\nE x t r a\\nX %\\no f f\\no n\\nF K F P\\nMinimum\\ngroup\\nsize\\nand\\ngroup\\nvalidity\\ntimer\\nwould\\nbe\\nfixed\\nfor\\ncategories\\nand\\ncannot\\nbe\\nselected/changed\\non\\ngrumbles\\nUI.\\nH o w\\nt o\\nc r e a t e\\na n\\nA / B\\no n\\no f f e r\\n?\\nA n s w e r :\\nCreating\\nan\\noffer\\nunder\\nan\\nA/B\\ninvolves\\n2\\nsteps:\\n○\\nCreating\\nthe\\nA/B\\non\\nStatsig\\n(which\\nis\\nFlipkart’s\\nA/B\\nplatform)\\n○\\nAdding\\nthe\\nA/B\\ncontext\\nto\\nthe\\noffer\\nwhile\\ncreating\\nit\\non\\nGrumbles\\nEvery\\noffer\\nformat\\nis\\nenabled\\nfor\\nrunning\\nA/B\\nwith\\nan\\noption\\non\\nGrumbles\\nconsole.\\nOnly\\n100%\\nseller\\nburn\\noffers\\ncan\\nbe\\nconsidered\\nfor\\nA/B\\ncreation.' metadata={'source': 'RelevantSOPs/Offer Business Use Cases (2).pdf', 'page': 8}\n",
      "[Document(page_content='W h a t\\ni s\\nG r u m b l e s ?\\nH o w\\nt o\\ng e t\\nG r u m b l e s\\nA c c e s s\\nU s i n g\\nG r u m b l e s\\nW h a t\\na r e\\nC o n d i t i o n a l\\nO ﬀ e r s ?\\nD e ﬁ n i n g\\nt h e\\no ﬀ e r\\nO ﬀ e r\\nT y p e\\nO ﬀ e r\\nF o r m a t\\nP r o d u c t\\nS e l e c t i o n\\nD i s c o v e r y\\nS u m m a r y\\nS c r e e n\\nA p p r o v i n g\\no ﬀ e r s\\nW h o\\na p p r o v e s\\no ﬀ e r s ?\\nR o l e\\no f\\no ﬀ e r\\na p p r o v e r\\nH o w\\nt o\\na p p r o v e ?\\nP u b l i s h i n g\\no ﬀ e r s\\nP a u s i n g\\na n\\no ﬀ e r\\nS e l l e r\\nR e c o m m e n d a t i o n', metadata={'source': 'RelevantSOPs/Offer Creation via Grumbles .pdf', 'page': 0}), Document(page_content='W h a t\\ni s\\nG r u m b l e s ?\\nG r u m b l e s\\ni s\\nt h e\\nc o n s o l e\\np r o v i d e d\\nb y\\nP n P\\nw h e r e\\nu s e r s\\nc a n\\nc o n ﬁ g u r e\\no ﬀ e r s .\\nL i n k\\nh e r e\\n.\\nG r u m b l e s\\ni s\\nu s e d\\nf o r\\nt h e\\nf o l l o w i n g\\nf u n c t i o n a l i t i e s\\n-\\n●\\nO ﬀ e r\\nc r e a t i o n\\n●\\nO ﬀ e r\\na p p r o v a l\\n●\\nO ﬀ e r\\np u b l i s h i n g\\n●\\nC r e a t e\\ns e l l e r\\nr e c o m m e n d a t i o n\\n●\\nO ﬀ e r\\ne d i t i n g\\n●\\nS c h e d u l i n g\\no ﬀ e r\\np a u s e\\nH o w\\nt o\\ng e t\\nG r u m b l e s\\nA c c e s s\\n1 .\\nW r i t e\\nt o\\na s k i t @ ﬂ i p k a r t . c o m\\nw i t h\\na p p r o v a l\\nf r o m\\ny o u r\\nr e p o r t i n g\\nm a n a g e r\\n2 .\\nO n c e\\na s k i t\\nh a s\\np r o v i d e d\\na c c e s s ,\\nw r i t e\\nt o\\np n p - o n c a l l @ ﬂ i p k a r t . c o m\\nN o t e\\n-\\nT h i s\\nd o c u m e n t\\nw i l l\\nd e t a i l\\no u t\\nt h e\\ns e c t i o n s\\no n\\ng r u m b l e s\\nw h i c h\\na r e\\nc o m m o n\\nt o\\na l l\\no ﬀ e r\\nf o r m a t s .\\nA n y\\nc o n s t r a i n t s\\no r\\ni n s t r u c t i o n s\\ns p e c i ﬁ c\\nt o\\na n\\no ﬀ e r\\nf o r m a t\\nw i l l\\nb e\\ni n c l u d e d\\ni n\\nt h e\\nr e s p e c t i v e\\nS O P s .\\nP l e a s e\\nr e f e r\\nt o\\nS O P\\nf o r\\ns p e c i ﬁ c\\no ﬀ e r\\nf o r m a t s\\nb e f o r e\\ny o u\\nc r e a t e\\na n\\no ﬀ e r .\\nU s i n g\\nG r u m b l e s\\nL o g i n\\nt o\\ng r u m b l e s\\nu s i n g\\ny o u r\\nL D A P\\ni d .\\nG r u m b l e s\\nh o m e\\ns c r e e n\\np r o v i d e s\\na n\\no v e r v i e w\\no f\\na l l\\no ﬀ e r s\\ny o u ’ v e\\nc r e a t e d .\\n●\\nA l l\\n-\\nA l l\\no ﬀ e r s\\nw h i c h\\na r e\\nn o t\\ni n\\nd r a f t\\ns t a t e\\na r e\\ns h o w n\\nh e r e\\n●\\nL i v e\\n-\\nO ﬀ e r s\\ni n\\nU p c o m i n g ,\\nC o m i n g\\nS o o n\\na n d\\nL i v e\\ns t a t e', metadata={'source': 'RelevantSOPs/Offer Creation via Grumbles .pdf', 'page': 1}), Document(page_content='●\\nD r a f t s\\n-\\nO ﬀ e r s\\nt h a t\\nh a v e\\nn o t\\nb e e n\\np u b l i s h e d\\n●\\nA c t i o n\\nR e q u i r e d\\n-\\nO ﬀ e r s\\nf o r\\nw h i c h\\na r e\\ni n\\nN o\\nP a r t i c i p a t i o n\\n( S e l l e r\\nh a s n ’ t\\no p t e d\\ni n\\ny e t ) , \\nI n s u ﬃ c i e n t\\nP a r t i c i p a t i o n\\n(\\nS o m e\\ns e l l e r s\\nh a v e\\no p t e d\\ni n\\nb u t\\ng o\\nl i v e\\nc r i t e r i a\\nh a s\\nn o t\\nb e e n\\nm e t ) \\no r\\nN o\\nM a t c h i n g\\nP r o d u c t\\n●\\nN o t\\nl i v e\\n-\\nO ﬀ e r\\nw h i c h\\na r e\\nD i s a b l e d ,\\nE x p i r e d\\no r\\nP r e p a r i n g\\ns t a t e\\n●\\nW a i t i n g\\n-\\nO ﬀ e r s\\nt h a t\\nh a v e\\nb e e n\\nb l o c k e d\\nd u e\\nt o\\nh i g h\\nn u m b e r\\no f\\na ﬀ e c t e d\\nl i s t i n g s .\\nT h e s e \\nw i l l\\nb e\\nr e v i e w e d\\na n d\\na p p r o v e d\\nb y\\nt h e\\nP n P\\nt e a m .\\nW h a t\\na r e\\nC o n d i t i o n a l\\nO ﬀ e r s ?\\nC o n d i t i o n a l\\nO ﬀ e r s\\na r e\\ne x t r a\\ni n c e n t i v e s\\np r o v i d e d\\nt o\\nt h e\\nc u s t o m e r\\ni f\\nt h e y\\nf u l ﬁ l l\\nt h e\\nc r i t e r i a\\no f\\np u r c h a s e\\ns p e c i ﬁ e d\\ni n\\nt h e\\no ﬀ e r .\\nT h e s e\\na r e\\na p p l i e d\\na d d i t i v e l y\\no n\\nt o p\\no f\\nu n c o n d i t i o n a l\\no ﬀ e r s\\na n d\\np r i c e s .\\nE g\\n-\\n●\\nB a s k e t\\no ﬀ e r ,\\nw h e r e\\nt h e\\nc u s t o m e r\\ng e t s\\na\\nb e n e ﬁ t\\no n l y\\ni f\\nt h e\\nb a s k e t\\ns i z e\\nc r o s s e s\\nt h e\\nh u r d l e .\\n●\\nP a y m e n t\\nB a s e d\\nO ﬀ e r s ,\\nw h e r e\\nt h e\\nc u s t o m e r\\ng e t s\\na\\nb e n e ﬁ t\\ni f\\nt h e y\\np a y\\nw i t h\\na\\ns p e c i ﬁ c\\ni n s t r u m e n t .\\nD e ﬁ n i n g\\nt h e\\no ﬀ e r\\n1 .\\nC l i c k\\no n\\nC r e a t e\\nN e w\\nO ﬀ e r\\nO ﬀ e r\\nT y p e', metadata={'source': 'RelevantSOPs/Offer Creation via Grumbles .pdf', 'page': 2}), Document(page_content='1 .\\nC h o o s e\\nC o n d i t i o n a l\\nO ﬀ e r\\n2 .\\nS i n g l e\\ns e l l e r\\na n d\\nM a r k e t p l a c e\\nO ﬀ e r s\\n○\\nS i n g l e\\ns e l l e r\\no ﬀ e r s\\n-\\nT h e s e\\na r e\\no ﬀ e r s\\nc r e a t e d\\ns p e c i ﬁ c a l l y\\nf o r\\na\\np a r t i c u l a r\\ns e l l e r .\\nO n l y\\no ﬀ e r\\nf o r m a t s\\nw h i c h\\na r e\\ns t r o n g l y\\nc o u p l e d\\nw i t h\\na\\ns e l l e r\\na r e\\ns u p p o r t e d\\nh e r e .\\n( E g\\n-\\nP r o d u c t\\ne x c h a n g e ,\\nF r e e b i e )\\n○\\nM a r k e t p l a c e\\no ﬀ e r s\\n-\\nT h e s e\\na r e\\no ﬀ e r s\\nc r e a t e d\\nf o r\\nm u l t i p l e\\ns e l l e r s .\\nS e l l e r\\ni d\\nm a y\\no r\\nm a y\\nn o t\\nb e\\ng i v e n\\ni n\\nt h e s e\\no ﬀ e r s .\\nT h i s\\nr e q u i r e s\\na n\\no p t - i n\\nt o\\nb e\\nd o n e\\nb y\\ns e l l e r s\\nf r o m\\nt h e\\ns e l l e r\\nd a s h b o a r d .\\nN o t e :\\nI f\\na\\nb a s k e t\\no r\\na\\nl i s t i n g\\nd i s c o u n t\\nn e e d s\\nt o\\nb e\\nc r e a t e d\\nf o r\\na\\ns i n g l e\\ns i n g e r ,\\ni t\\nh a s\\nt o\\nb e\\nc o n ﬁ g u r e d\\na s\\na\\nm a r k e t p l a c e\\no ﬀ e r\\nw i t h\\ns e l l e r\\ni d\\nm e n t i o n e d\\ni n\\nt h e\\np r o d u c t\\ns e l e c t i o n\\np a g e .\\n3 .\\nS p e c i f y\\nm a r k e t p l a c e\\n( F k ,\\nE m e r a l d ,\\nG r o c e r y ,\\nH y p e r l o c a l )\\nf o r\\nw h i c h\\no ﬀ e r\\ni s\\nb e i n g\\nc r e a t e d\\n4 .\\nC h o o s e\\nP r o m o t i o n\\nl a b e l', metadata={'source': 'RelevantSOPs/Offer Creation via Grumbles .pdf', 'page': 3}), Document(page_content='P r o m o t i o n\\nl a b e l\\ni s\\nv i s i b l e\\no n\\nt h e\\ns e l l e r\\nd a s h b o a r d\\na n d\\ni s\\nu s e d\\nt o\\nc o n v e y\\nc o n t e x t\\nt o\\nt h e\\ns e l l e r .\\nE g\\n-\\nA l l\\nB B D\\no ﬀ e r s\\nw i l l\\nb e\\nc r e a t e d\\nu n d e r\\nt h e\\nT B B D\\n2 0 2 0\\nt a g .\\nT h i s\\nw i l l\\nb e\\nd i s p l a y e d\\no n\\nt h e\\ns e l l e r\\nd a s h b o a r d\\na n d\\nc o n v e y\\nt o\\ns e l l e r s\\nt h a t\\ni t\\ni s\\na\\nB B D\\no ﬀ e r .\\n5 .\\nE n t e r\\nO ﬀ e r\\nS t a r t\\nt i m e\\na n d\\nE n d\\nt i m e\\n○\\nA t\\nl e a s t\\n4\\nh o u r s\\nb e t w e e n\\no ﬀ e r\\nc r e a t i o n\\nt i m e\\na n d\\no ﬀ e r\\ns t a r t\\nt i m e\\n○\\nO ﬀ e r\\ne n d\\nt i m e\\ns h o u l d\\nb e\\ng r e a t e r\\nt h a n\\no ﬀ e r\\ns t a r t\\nt i m e\\n○\\nO ﬀ e r\\nd u r a t i o n\\ns h o u l d\\nb e\\nl e s s e r\\nt h a n\\n9 0\\nd a y s\\nO ﬀ e r\\nF o r m a t\\nC h o o s e\\no ﬀ e r\\nf o r m a t\\na s\\nr e q u i r e d\\nB a s k e t\\nO ﬀ e r s\\nT a r g e t e d\\nD i s c o u n t\\no n\\nF P\\nP r o m i s e\\nC a l l o u t\\nO ﬀ e r\\nC o m b o\\nO ﬀ e r s\\nM u l t i\\nU n i t\\nL i s t i n g\\nO ﬀ e r\\nI n c e n t i v i s e d\\nA t t a c h\\nC a l l o u t\\nO ﬀ e r s\\nN o t e\\n:\\nF o l l o w i n g\\nO ﬀ e r\\nf o r m a t s\\na r e\\nn o t\\ns u p p o r t e d\\no n\\nG r u m b l e s\\na n d\\ns h o u l d\\nn o t\\nb e\\nu s e d\\n●\\nL i s t i n g\\nF r e e b i e\\nO ﬀ e r\\n●\\nL i s t i n g\\nd i s c o u n t\\no n\\nA P\\n( m o v i n g\\nF P )\\n●\\nL i s t i n g\\nd i s c o u n t\\no n\\nA P\\n( s t a t i c\\nF P )\\n●\\nL i s t i n g\\nd i s c o u n t\\no n\\nM R P\\nP r o d u c t\\nS e l e c t i o n', metadata={'source': 'RelevantSOPs/Offer Creation via Grumbles .pdf', 'page': 4}), Document(page_content=\"S E L E C T\\nP R O D U C T S\\n-\\nI n\\nt h i s\\ns e c t i o n ,\\ny o u\\nw i l l\\ns p e c i f y\\nt h e\\ns e l e c t i o n\\no n\\nw h i c h\\nt h e\\no ﬀ e r\\ns h o u l d\\nb e\\nc r e a t e d .\\nS e l e c t i o n\\nc a n\\nb e\\nd e ﬁ n e d\\na l o n g\\n3\\np i v o t s .\\nA t\\nl e a s t\\no n e\\no f\\nt h e s e\\np i v o t s\\nh a s\\nt o\\nb e\\ns p e c i ﬁ e d\\n-\\n1 .\\nV e r t i c a l s\\nS p e c i f y\\nv e r t i c a l s\\nt h a t\\ns h o u l d\\nb e\\ne x c l u d e d / i n c l u d e d .\\n2 .\\nC a t e g o r i e s\\nS p e c i f y\\nc a t e g o r i e s\\nt h a t\\ns h o u l d\\nb e\\ne x c l u d e d / i n c l u d e d .\\n3 .\\nU p l o a d\\nF S N s\\n○\\nD o w n l o a d\\nt h e\\ns a m p l e\\nﬁ l e\\n○\\nA d d\\nt h e\\nl i s t\\no f\\nF S N s\\nt h a t\\ns h o u l d\\nb e\\ne x c l u d e d / i n c l u d e d\\nb e l o w\\nt h e\\nh e a d e r s\\np r o v i d e d\\ni n\\nt h e\\ns a m p l e\\nﬁ l e\\na n d\\nu p l o a d\\ni n\\n. c s v\\nf o r m a t\\n○\\nL i s t\\no f\\ne r r o r s\\n-\\n■\\n' H e a d e r s\\na r e\\nm i s s i n g '\\n-\\nC h e c k\\ni f\\na l l\\nh e a d e r s\\np r e s e n t\\ni n\\nt h e\\ns a m p l e\\nﬁ l e\\na r e\\np r e s e n t\\ni n\\nt h e\\nu p l o a d e d\\nﬁ l e\\n■\\n' N o\\ne n t r i e s\\na r e\\np r e s e n t '\\n-\\nC h e c k\\ni f\\nt h e\\nu p l o a d\\nﬁ l e\\nc o n t a i n s\\na n y\\nF S N s\", metadata={'source': 'RelevantSOPs/Offer Creation via Grumbles .pdf', 'page': 5}), Document(page_content=\"■\\n' r e q u e s t\\nc o n t a i n s\\nd u p l i c a t e\\ne n t r i e s '\\n-\\nR e m o v e\\nd u p l i c a t e\\ne n t r i e s\\nf r o m\\nu p l o a d e d\\nﬁ l e\\n■\\n' N o\\nL i s t i n g s\\no r\\nP r o d u c t s\\nf o u n d '\\n-\\nC h e c k\\ni f\\nt h e r e\\na r e\\na c t i v e\\nl i s t i n g s\\nm a p p e d\\nt o\\nt h e\\nF S N s\\nu p l o a d e d\\n○\\nP l e a s e\\nn o t e\\nt h a t\\nF S N\\nw h i t e l i s t\\no ﬀ e r s\\nc a n\\nb e\\nc r e a t e d\\nl e s s\\nt h a n\\n4\\nh o u r s\\nb e f o r e\\no ﬀ e r\\ng o\\nl i v e .\\nS E L E C T\\nS E L L E R S\\n-\\n●\\nM e n t i o n\\ns e l l e r\\ni d\\no n l y\\ni f\\nt h e\\no ﬀ e r\\ni s\\nb e i n g\\nc r e a t e d\\nf o r\\na\\nd e ﬁ n e d\\ns e t\\no f\\ns e l l e r s .\\nO p t\\ni n\\no p t i o n\\nw i l l\\nb e\\na v a i l a b l e\\no n l y\\nf o r\\nt h e\\ns e l l e r s\\nm e n t i o n e d\\nh e r e .\\n●\\nI f\\nn o\\ns e l l e r\\nh a s\\nb e e n\\nm e n t i o n e d ,\\na l l\\ne l i g i b l e\\ns e l l e r s\\nw i l l\\nb e\\na l l o w e d\\nt o\\no p t - i n\\nb y\\nd e f a u l t .\\nA P P L Y\\nF I L T E R S\\n-\\n●\\nF u r t h e r\\nﬁ l t e r s\\nb a s e d\\no n\\nb r a n d ,\\nA P ,\\nl i s t i n g\\nd i s c o u n t\\no n\\nA P\\na n d\\ns e r v i c e\\np r o ﬁ l e\\nc a n\\nb e\\na p p l i e d\\no n\\nt o p\\no f\\nt h e\\ns e l e c t i o n\\nc r i t e r i a\\nd e ﬁ n e d .\\nT h i s\\nﬁ e l d\\ni s\\no p t i o n a l .\\nN o t e :\\nF o r\\ng r o c e r y ,\\ny o u\\nc a n\\na l s o\\ns p e c i f y\\nB u s i n e s s\\nZ o n e\\no n\\nw h i c h\\no ﬀ e r\\ni s\\nb e i n g\\nc r e a t e d\\nD i s c o v e r y\", metadata={'source': 'RelevantSOPs/Offer Creation via Grumbles .pdf', 'page': 6}), Document(page_content='●\\nO ﬀ e r\\nt i t l e\\n-\\nF o r\\nn o n\\nt e m p l a t i s e d\\no ﬀ e r s ,\\nt h i s\\nw i l l\\nb e\\nt h e\\no ﬀ e r\\nc a l l o u t\\nt h a t\\ns h o w s\\nu p\\no n\\nt h e\\nu s e r\\ne x p e r i e n c e .\\nI n\\nc a s e\\no f\\nt e m p l a t i s e d\\no ﬀ e r s ,\\no ﬀ e r\\nc a l l o u t\\no n\\nt h e\\nu s e r\\ne x p e r i e n c e\\nw i l l\\nb e\\nc r e a t e d\\nb a s e d\\no n\\nt e m p l a t e s\\nd e ﬁ n e d\\ni n\\nP n P .\\n●\\nS e l l e r\\nt i t l e\\n-\\nT h i s\\nw i l l\\nb e\\ns h o w n\\no n\\nt h e\\ns e l l e r\\nd a s h b o a r d .\\n●\\nO ﬀ e r\\nD e s c r i p t i o n\\n-\\nT h i s\\ni s\\nu s e d\\nf o r\\nc o m m u n i c a t i o n\\na t\\nd i ﬀ e r e n t\\nt o u c h p o i n t s\\ni n\\nt h e\\nu s e r\\nj o u r n e y\\n●\\nV i e w / e d i t\\nT n C\\n-\\nD e f a u l t\\nT n C\\nb a s e d\\no n\\nt h e\\no ﬀ e r\\nt y p e\\nw i l l\\nb e\\np o p u l a t e d\\ni n\\nt h i s\\nﬁ e l d .\\nY o u\\nc a n\\ne d i t\\nt o\\ni n c l u d e\\nn e w\\nl i n e s .\\nP l e a s e\\nd o\\nn o t\\nr e m o v e\\na n y\\np a r t s\\nf r o m\\nt h e\\nd e f a u l t\\nT n C .\\nS u m m a r y\\nS c r e e n\\nP r e v i e w\\nt h e\\no ﬀ e r\\no n\\nt h i s\\ns c r e e n\\nb e f o r e\\ny o u\\ns u b m i t .\\nY o u\\nc a n\\nc l i c k\\no n\\ne d i t\\ni f\\ny o u\\nn e e d\\nt o\\nm o d i f y\\na n y\\ns e c t i o n .', metadata={'source': 'RelevantSOPs/Offer Creation via Grumbles .pdf', 'page': 7}), Document(page_content='A p p r o v i n g\\no ﬀ e r s\\nW h o\\na p p r o v e s\\no ﬀ e r s ?\\n●\\nA l l\\no ﬀ e r s\\ne x c e p t\\nt h e\\nc a s e s\\ns p e c i ﬁ e d\\nb e l o w\\na r e\\nf o r w a r d e d\\nt o\\nt h e\\no ﬀ e r\\nc r e a t o r ’ s\\nL 1\\nm a n a g e r\\nf o r\\na p p r o v a l\\n●\\nD O T D ,\\nD O T H\\no ﬀ e r s\\na r e\\nf o r w a r d e d\\nt o\\nt h e\\nc e n t r a l\\nt e a m\\nf o r\\na p p r o v a l .\\n●\\nT a r g e t e d\\no ﬀ e r s\\na r e\\nf o r w a r d e d\\nt o\\nt h e\\nT D\\na p p r o v e r s\\ng r o u p\\nc o n t a i n i n g\\nP o C s\\nf r o m\\na l l\\nB U s\\nf o r\\na p p r o v a l .\\nL i s t\\no f\\nm e m b e r s .\\nP l e a s e\\nr e f e r\\nt o\\nt h i s\\nS O P\\ni f\\ny o u ’ r e\\na p p r o v i n g\\na\\nT D\\n.\\nR o l e\\no f\\no ﬀ e r\\na p p r o v e r\\nP l e a s e\\nn o t e\\nt h a t\\nt h e r e\\ni s\\nn o\\ns y s t e m i c\\na n o m a l y\\nc h e c k\\np r e s e n t\\np r e s e n t\\nf o r\\nc o n d i t i o n a l\\no ﬀ e r s\\nc r e a t e d\\no n\\nG r u m b l e s .\\nT h e\\no ﬀ e r\\na p p r o v e r\\ni s\\nc o m p l e t e l y\\nr e s p o n s i b l e\\nt o\\nc h e c k\\na n d\\nv a l i d a t e\\nt h e\\no ﬀ e r\\nd e t a i l s\\nt o\\ne n s u r e\\nw r o n g\\ni n t e n t s\\nd o n ’ t\\ng o\\nl i v e .\\nW e\\nf o l l o w\\na\\nm a k e r - c h e c k e r\\np r o c e s s\\ni n\\no r d e r\\nt o\\ne n s u r e\\nn o\\ne r r o n e o u s\\ni n t e n t s\\ng e t\\nt h r o u g h\\nt h e\\ns y s t e m .\\nT h e\\na p p r o v e r\\ns h o u l d\\nc h e c k\\na n d\\nv a l i d a t e\\nt h e\\nf o l l o w i n g\\n-\\n1 .\\nS a n c t i t y\\no f\\no ﬀ e r\\nc o n s t r u c t\\na n d\\ni n t e n t\\nf o r\\nr u n n i n g\\nt h e\\no ﬀ e r\\n2 .\\nA c c u r a c y\\no f\\nO ﬀ e r\\nC o n ﬁ g u r a t i o n .\\nT h i s\\ni n c l u d e s\\n-\\n○\\nO ﬀ e r\\nt y p e ,\\nm a r k e t p l a c e ,\\nB U ,\\nS C\\ne t c\\n○\\nO ﬀ e r\\nd u r a t i o n ,\\no ﬀ e r\\ns t a r t\\nt i m e ,\\no ﬀ e r\\ne n d\\nt i m e\\n○\\nO ﬀ e r\\nc l a s s i ﬁ c a t i o n\\n○\\nO ﬀ e r\\nd e t a i l s\\n( o ﬀ e r\\nf o r m a t ,\\nh u r d l e ,\\ng i v e a w a y\\ne t c )\\n○\\nB u r n\\ns h a r e\\n○\\nP r o d u c t\\ns e l e c t i o n\\n○\\nA l l\\nd i s c o v e r y\\nﬁ e l d s\\n■\\nD o\\nt h e\\no ﬀ e r\\nt i t l e\\na n d\\nd e s c r i p t i o n\\na c c u r a t e l y\\nc o n v e y\\nt h e\\nd e t a i l s\\no f\\nt h e\\no ﬀ e r\\nc o n ﬁ g u r e d ?\\n■\\nC a n\\nt h e\\nu s e r\\ne a s i l y\\nu n d e r s t a n d\\nt h e\\nv a l u e\\np r o p o s i t i o n\\no f\\nt h e\\no ﬀ e r ?\\n○\\nT n C\\nH o w\\nt o\\na p p r o v e ?\\n1 .\\nS w i t c h\\nt o\\na p p r o v e r\\nm o d e\\no n\\nG r u m b l e s :', metadata={'source': 'RelevantSOPs/Offer Creation via Grumbles .pdf', 'page': 8}), Document(page_content='T h e r e\\na r e\\nn o\\na c c e s s\\nr e s t r i c t i o n s\\nb a s e d\\no n\\nm a r k e t p l a c e / B U\\ne t c .\\nO n\\nt h i s\\ns c r e e n\\ny o u\\ns h o u l d\\nb e\\na b l e\\nt o\\ns e e\\n-\\na .\\nA l l\\no ﬀ e r s\\nc r e a t e d\\nb y\\ny o u r\\nr e p o r t e e s\\nb .\\nA l l\\nt a r g e t e d\\no ﬀ e r s ,\\ni f\\ny o u\\na r e\\na\\np a r t\\no f\\nT D _ P r o m o t i o n s _ A p p r o v e r\\nc .\\nA l l\\nD o T D ,\\nD o T H\\no ﬀ e r s ,\\ni f\\ny o u ’ r e\\na\\np a r t\\no f\\n< i n s e r t\\ng r o u p\\nn a m e >\\n2 .\\nS e a r c h\\nf o r\\nc o n s o l e\\ni d\\nt o\\na p p r o v e .\\n3 .\\nC l i c k\\no n\\na p p r o v e\\no n\\nt h e\\nr e s p e c t i v e\\no ﬀ e r\\nc a r d .\\nA\\ns u m m a r y\\ns c r e e n\\nw i t h\\nd e t a i l s\\no f\\nt h e\\no ﬀ e r\\nw i l l\\ns h o w\\nu p .\\nY o u\\nc a n\\nu s e\\nt h i s\\ns c r e e n\\nt o\\nc h e c k\\na n d\\nv a l i d a t e\\nt h e\\no ﬀ e r .', metadata={'source': 'RelevantSOPs/Offer Creation via Grumbles .pdf', 'page': 9}), Document(page_content='4 .\\nC l i c k\\no n\\na p p r o v e\\ni f\\ny o u\\nw a n t\\nt h e\\no ﬀ e r\\nt o\\ng o\\nl i v e\\na s\\ni t\\ni s .\\nC l i c k\\no n\\nr e j e c t\\ni f\\nt h e r e\\na r e\\na n y\\ne r r o r s\\ni n\\nt h e\\nc o n s t r u c t .\\nP u b l i s h i n g\\no ﬀ e r s\\n●\\nO n c e\\nt h e\\no ﬀ e r\\nh a s\\nb e e n\\nc r e a t e d\\na n d\\na p p r o v e d ,\\nt h e\\no ﬀ e r\\nc r e a t o r\\nw i l l\\ns e e\\nt h e\\no p t i o n\\nt o\\np u b l i s h\\nt h e\\no ﬀ e r\\ni n\\nt h e\\nd r a f t s\\ns c r e e n\\no n\\nt h e\\ng r u m b l e s\\nh o m e\\np a g e .', metadata={'source': 'RelevantSOPs/Offer Creation via Grumbles .pdf', 'page': 10}), Document(page_content='●\\nC l i c k\\no n\\nt h e\\np u b l i s h\\nb u t t o n\\no n\\nt h e\\no ﬀ e r\\nc a r d\\n●\\nA\\ns u c c e s s\\nm e s s a g e\\nw i t h\\na\\nu n i q u e\\no ﬀ e r\\ni d\\nw i l l\\ns h o w\\nu p\\no n\\nt h e\\ns c r e e n\\no n c e\\nt h e\\no ﬀ e r\\nh a s\\nb e e n\\np u b l i s h e d .\\nP a u s i n g\\na n\\no ﬀ e r', metadata={'source': 'RelevantSOPs/Offer Creation via Grumbles .pdf', 'page': 11}), Document(page_content='●\\nC l i c k\\no n\\nt h e\\ns c h e d u l e\\np a u s e /\\nu n p a u s e\\no p t i o n\\no n\\nt h e\\no ﬀ e r\\nc a r d\\no n\\nt h e\\ng r u m b l e s\\ns c r e e n\\na f t e r\\nt h e\\no ﬀ e r\\nh a s\\nb e e n\\np u b l i s h e d\\n●\\nE n t e r\\np a u s e\\ns t a r t\\na n d\\ne n d\\nt i m e\\ni n\\nt h i s\\ns c r e e n\\n●\\nO n l y\\n1\\np a u s e\\nc a n\\nb e\\ns c h e d u l e d\\np e r\\no ﬀ e r\\n●\\nP a u s e d\\ns t a r t\\nt i m e\\nh a s\\nt o\\nb e\\ng r e a t e r\\nt h a n\\nO ﬀ e r\\ns t a r t\\nd a t e\\na n d\\n5 m i n s\\ng r e a t e r\\nt h a n\\nc u r r e n t\\nt i m e\\n●\\nF o r\\nb a s k e t / B M G N\\no ﬀ e r s ,\\nt h e\\np a u s e\\ns t a r t\\nt i m e\\nh a s\\nt o\\ne n d\\na t\\nx x : 0 0\\nS e l l e r\\nR e c o m m e n d a t i o n\\nC a s p e r\\nD e b u g g i n g', metadata={'source': 'RelevantSOPs/Offer Creation via Grumbles .pdf', 'page': 12})] ======\n",
      "\n",
      "\n",
      "\n",
      "page_content='Note:\\nBMGN\\noffer\\nwill\\nnot\\napply\\nif\\nBmGn\\ndiscount\\n<\\nUnconditional\\nprice\\ndiscount.\\nExample-\\nBmGn\\ndiscount\\non\\n2\\nlistings\\nunder\\nBuy\\n1\\nGet\\n1\\nfree\\noffer\\n=\\nRs\\n500\\nUnconditional\\ndiscount\\non\\n2\\nlistings\\nunder\\nBuy\\n1\\nGet\\n1\\nfree\\noffer=\\nRs\\n510\\nIn\\nsuch\\na\\ncase,\\nBmGn\\noffer\\nwon’t\\napply\\non\\nlistingsfor\\ncustomers\\nW h a t\\na r e\\nP r e x o\\nB u m p\\nU p\\nO f f e r s ?\\nOffer\\nformat\\nused\\nto\\ngive\\nadditional\\ndiscount\\nover\\nand\\nabove\\nthe\\ndiscount\\ncustomer\\nis\\navailing\\nvia\\nproduct\\nexchange\\nor\\nBuy\\nBack\\nGuarantee\\nredemption.\\nSay\\na\\ncustomer\\nis\\nexchanging\\nproduct\\nR1\\non\\nFlipkart\\nto\\nbuy\\nproduct\\nF1\\nand\\nthe\\nexchange\\nvalue\\ndetermined\\nfor\\nR1\\nis\\n₹4000,\\nnow\\nan\\nadditional\\nbump\\nup\\ndiscount\\ncan\\nbe\\ngiven\\nover\\nand\\nabove\\nthis\\n4K\\nby\\ncreating\\na\\nBump\\nUp\\noffer.\\nW h a t\\na r e\\nC a l l o u t\\no f f e r s ?\\nThe\\ncallout\\noffer\\nunlike\\nother\\noffer\\nformats\\ndoes\\nnot\\nlead\\nto\\na\\nprice\\ncut,\\nit\\nis\\nrather\\na\\nmeans\\nto\\ncommunicate\\nto\\nthe\\ncustomer\\nsome\\nspecific\\ninformation\\nregarding\\nan\\nadditional\\noffering\\nthat\\nthe\\nproduct\\nhas\\nwhich\\nwill\\nact\\nas\\nan\\nincentive\\nfor\\nhim\\nto\\nmake\\nthe\\npurchase\\ntransaction.\\nThere\\nis\\nno\\nmonetary\\ngiveaway\\nfor\\nthese\\noffers-\\njust\\ninformation\\nis\\npassed\\nas\\ngiveaway.\\nHurdle\\nis\\non\\nproduct\\nselection\\nfor\\nthese\\noffers\\nWhen\\nto\\nuse\\nCallout\\nOffers?\\n●\\nThe\\ntext\\nbeing\\ncalled\\nout\\non\\nthe\\nproduct\\nis\\nincentivizing\\ncustomer\\nto\\npurchase\\nthe\\nproduct\\nby\\ncommunicating\\nan\\nadditional\\noffering\\nE.g.\\nCallout\\nOffer\\nof\\n“Get\\n50\\nGB\\nAirtel\\ndata\\nfree\\nfor\\n1st\\nmonth”\\non\\na\\nmobile\\n●\\nThe\\nactual\\nincentive/giveaway\\nis\\nbeing\\ngiven\\nby\\na\\n3rd\\nparty\\nand\\nthe\\ngiveaway\\nis\\nnot\\nto\\nbe\\nmodelled\\nas\\npart\\nof\\nthe\\noffer\\nconfiguration.\\nE.g.\\nIn\\nthe\\nexample\\nof\\n“Get\\n50\\nGB\\nAirtel\\ndata\\nfree\\nfor\\n1st\\nmonth”\\n,\\nthe\\noffer\\nis\\ncommunicating\\nthis\\nbut\\nthe\\nactual\\ndisbursal\\nof\\nthe\\ndata\\nto\\nthe\\ncustomer\\nwill\\nhave\\nto\\nbe\\nhandled\\noutside\\nthe\\noffer\\nconstruct.\\nWhen\\nnot\\nto\\nuse\\nCallout\\nOffers?\\n●\\nTo\\ncall\\nout\\ninformation\\nthat\\ndoes\\nnot\\ncommunicate\\nany\\nadditional\\noffering/incentive\\nto\\ncustomer\\n●\\nTo\\ncall\\nout\\nany\\nFYI\\ninformation\\n●\\nTo\\ncall\\nout\\nspecifications/information\\nabout\\nthe\\nproduct\\nWhat\\nare\\nCnC-\\nCash\\nn\\nCoins\\noffer\\n?' metadata={'source': 'RelevantSOPs/Offer Business Use Cases (2).pdf', 'page': 4}\n",
      "[Document(page_content='W h a t\\ni s\\nG r u m b l e s ?\\nH o w\\nt o\\ng e t\\nG r u m b l e s\\nA c c e s s\\nU s i n g\\nG r u m b l e s\\nW h a t\\na r e\\nC o n d i t i o n a l\\nO ﬀ e r s ?\\nD e ﬁ n i n g\\nt h e\\no ﬀ e r\\nO ﬀ e r\\nT y p e\\nO ﬀ e r\\nF o r m a t\\nP r o d u c t\\nS e l e c t i o n\\nD i s c o v e r y\\nS u m m a r y\\nS c r e e n\\nA p p r o v i n g\\no ﬀ e r s\\nW h o\\na p p r o v e s\\no ﬀ e r s ?\\nR o l e\\no f\\no ﬀ e r\\na p p r o v e r\\nH o w\\nt o\\na p p r o v e ?\\nP u b l i s h i n g\\no ﬀ e r s\\nP a u s i n g\\na n\\no ﬀ e r\\nS e l l e r\\nR e c o m m e n d a t i o n', metadata={'source': 'RelevantSOPs/Offer Creation via Grumbles .pdf', 'page': 0}), Document(page_content='W h a t\\ni s\\nG r u m b l e s ?\\nG r u m b l e s\\ni s\\nt h e\\nc o n s o l e\\np r o v i d e d\\nb y\\nP n P\\nw h e r e\\nu s e r s\\nc a n\\nc o n ﬁ g u r e\\no ﬀ e r s .\\nL i n k\\nh e r e\\n.\\nG r u m b l e s\\ni s\\nu s e d\\nf o r\\nt h e\\nf o l l o w i n g\\nf u n c t i o n a l i t i e s\\n-\\n●\\nO ﬀ e r\\nc r e a t i o n\\n●\\nO ﬀ e r\\na p p r o v a l\\n●\\nO ﬀ e r\\np u b l i s h i n g\\n●\\nC r e a t e\\ns e l l e r\\nr e c o m m e n d a t i o n\\n●\\nO ﬀ e r\\ne d i t i n g\\n●\\nS c h e d u l i n g\\no ﬀ e r\\np a u s e\\nH o w\\nt o\\ng e t\\nG r u m b l e s\\nA c c e s s\\n1 .\\nW r i t e\\nt o\\na s k i t @ ﬂ i p k a r t . c o m\\nw i t h\\na p p r o v a l\\nf r o m\\ny o u r\\nr e p o r t i n g\\nm a n a g e r\\n2 .\\nO n c e\\na s k i t\\nh a s\\np r o v i d e d\\na c c e s s ,\\nw r i t e\\nt o\\np n p - o n c a l l @ ﬂ i p k a r t . c o m\\nN o t e\\n-\\nT h i s\\nd o c u m e n t\\nw i l l\\nd e t a i l\\no u t\\nt h e\\ns e c t i o n s\\no n\\ng r u m b l e s\\nw h i c h\\na r e\\nc o m m o n\\nt o\\na l l\\no ﬀ e r\\nf o r m a t s .\\nA n y\\nc o n s t r a i n t s\\no r\\ni n s t r u c t i o n s\\ns p e c i ﬁ c\\nt o\\na n\\no ﬀ e r\\nf o r m a t\\nw i l l\\nb e\\ni n c l u d e d\\ni n\\nt h e\\nr e s p e c t i v e\\nS O P s .\\nP l e a s e\\nr e f e r\\nt o\\nS O P\\nf o r\\ns p e c i ﬁ c\\no ﬀ e r\\nf o r m a t s\\nb e f o r e\\ny o u\\nc r e a t e\\na n\\no ﬀ e r .\\nU s i n g\\nG r u m b l e s\\nL o g i n\\nt o\\ng r u m b l e s\\nu s i n g\\ny o u r\\nL D A P\\ni d .\\nG r u m b l e s\\nh o m e\\ns c r e e n\\np r o v i d e s\\na n\\no v e r v i e w\\no f\\na l l\\no ﬀ e r s\\ny o u ’ v e\\nc r e a t e d .\\n●\\nA l l\\n-\\nA l l\\no ﬀ e r s\\nw h i c h\\na r e\\nn o t\\ni n\\nd r a f t\\ns t a t e\\na r e\\ns h o w n\\nh e r e\\n●\\nL i v e\\n-\\nO ﬀ e r s\\ni n\\nU p c o m i n g ,\\nC o m i n g\\nS o o n\\na n d\\nL i v e\\ns t a t e', metadata={'source': 'RelevantSOPs/Offer Creation via Grumbles .pdf', 'page': 1}), Document(page_content='●\\nD r a f t s\\n-\\nO ﬀ e r s\\nt h a t\\nh a v e\\nn o t\\nb e e n\\np u b l i s h e d\\n●\\nA c t i o n\\nR e q u i r e d\\n-\\nO ﬀ e r s\\nf o r\\nw h i c h\\na r e\\ni n\\nN o\\nP a r t i c i p a t i o n\\n( S e l l e r\\nh a s n ’ t\\no p t e d\\ni n\\ny e t ) , \\nI n s u ﬃ c i e n t\\nP a r t i c i p a t i o n\\n(\\nS o m e\\ns e l l e r s\\nh a v e\\no p t e d\\ni n\\nb u t\\ng o\\nl i v e\\nc r i t e r i a\\nh a s\\nn o t\\nb e e n\\nm e t ) \\no r\\nN o\\nM a t c h i n g\\nP r o d u c t\\n●\\nN o t\\nl i v e\\n-\\nO ﬀ e r\\nw h i c h\\na r e\\nD i s a b l e d ,\\nE x p i r e d\\no r\\nP r e p a r i n g\\ns t a t e\\n●\\nW a i t i n g\\n-\\nO ﬀ e r s\\nt h a t\\nh a v e\\nb e e n\\nb l o c k e d\\nd u e\\nt o\\nh i g h\\nn u m b e r\\no f\\na ﬀ e c t e d\\nl i s t i n g s .\\nT h e s e \\nw i l l\\nb e\\nr e v i e w e d\\na n d\\na p p r o v e d\\nb y\\nt h e\\nP n P\\nt e a m .\\nW h a t\\na r e\\nC o n d i t i o n a l\\nO ﬀ e r s ?\\nC o n d i t i o n a l\\nO ﬀ e r s\\na r e\\ne x t r a\\ni n c e n t i v e s\\np r o v i d e d\\nt o\\nt h e\\nc u s t o m e r\\ni f\\nt h e y\\nf u l ﬁ l l\\nt h e\\nc r i t e r i a\\no f\\np u r c h a s e\\ns p e c i ﬁ e d\\ni n\\nt h e\\no ﬀ e r .\\nT h e s e\\na r e\\na p p l i e d\\na d d i t i v e l y\\no n\\nt o p\\no f\\nu n c o n d i t i o n a l\\no ﬀ e r s\\na n d\\np r i c e s .\\nE g\\n-\\n●\\nB a s k e t\\no ﬀ e r ,\\nw h e r e\\nt h e\\nc u s t o m e r\\ng e t s\\na\\nb e n e ﬁ t\\no n l y\\ni f\\nt h e\\nb a s k e t\\ns i z e\\nc r o s s e s\\nt h e\\nh u r d l e .\\n●\\nP a y m e n t\\nB a s e d\\nO ﬀ e r s ,\\nw h e r e\\nt h e\\nc u s t o m e r\\ng e t s\\na\\nb e n e ﬁ t\\ni f\\nt h e y\\np a y\\nw i t h\\na\\ns p e c i ﬁ c\\ni n s t r u m e n t .\\nD e ﬁ n i n g\\nt h e\\no ﬀ e r\\n1 .\\nC l i c k\\no n\\nC r e a t e\\nN e w\\nO ﬀ e r\\nO ﬀ e r\\nT y p e', metadata={'source': 'RelevantSOPs/Offer Creation via Grumbles .pdf', 'page': 2}), Document(page_content='1 .\\nC h o o s e\\nC o n d i t i o n a l\\nO ﬀ e r\\n2 .\\nS i n g l e\\ns e l l e r\\na n d\\nM a r k e t p l a c e\\nO ﬀ e r s\\n○\\nS i n g l e\\ns e l l e r\\no ﬀ e r s\\n-\\nT h e s e\\na r e\\no ﬀ e r s\\nc r e a t e d\\ns p e c i ﬁ c a l l y\\nf o r\\na\\np a r t i c u l a r\\ns e l l e r .\\nO n l y\\no ﬀ e r\\nf o r m a t s\\nw h i c h\\na r e\\ns t r o n g l y\\nc o u p l e d\\nw i t h\\na\\ns e l l e r\\na r e\\ns u p p o r t e d\\nh e r e .\\n( E g\\n-\\nP r o d u c t\\ne x c h a n g e ,\\nF r e e b i e )\\n○\\nM a r k e t p l a c e\\no ﬀ e r s\\n-\\nT h e s e\\na r e\\no ﬀ e r s\\nc r e a t e d\\nf o r\\nm u l t i p l e\\ns e l l e r s .\\nS e l l e r\\ni d\\nm a y\\no r\\nm a y\\nn o t\\nb e\\ng i v e n\\ni n\\nt h e s e\\no ﬀ e r s .\\nT h i s\\nr e q u i r e s\\na n\\no p t - i n\\nt o\\nb e\\nd o n e\\nb y\\ns e l l e r s\\nf r o m\\nt h e\\ns e l l e r\\nd a s h b o a r d .\\nN o t e :\\nI f\\na\\nb a s k e t\\no r\\na\\nl i s t i n g\\nd i s c o u n t\\nn e e d s\\nt o\\nb e\\nc r e a t e d\\nf o r\\na\\ns i n g l e\\ns i n g e r ,\\ni t\\nh a s\\nt o\\nb e\\nc o n ﬁ g u r e d\\na s\\na\\nm a r k e t p l a c e\\no ﬀ e r\\nw i t h\\ns e l l e r\\ni d\\nm e n t i o n e d\\ni n\\nt h e\\np r o d u c t\\ns e l e c t i o n\\np a g e .\\n3 .\\nS p e c i f y\\nm a r k e t p l a c e\\n( F k ,\\nE m e r a l d ,\\nG r o c e r y ,\\nH y p e r l o c a l )\\nf o r\\nw h i c h\\no ﬀ e r\\ni s\\nb e i n g\\nc r e a t e d\\n4 .\\nC h o o s e\\nP r o m o t i o n\\nl a b e l', metadata={'source': 'RelevantSOPs/Offer Creation via Grumbles .pdf', 'page': 3}), Document(page_content='P r o m o t i o n\\nl a b e l\\ni s\\nv i s i b l e\\no n\\nt h e\\ns e l l e r\\nd a s h b o a r d\\na n d\\ni s\\nu s e d\\nt o\\nc o n v e y\\nc o n t e x t\\nt o\\nt h e\\ns e l l e r .\\nE g\\n-\\nA l l\\nB B D\\no ﬀ e r s\\nw i l l\\nb e\\nc r e a t e d\\nu n d e r\\nt h e\\nT B B D\\n2 0 2 0\\nt a g .\\nT h i s\\nw i l l\\nb e\\nd i s p l a y e d\\no n\\nt h e\\ns e l l e r\\nd a s h b o a r d\\na n d\\nc o n v e y\\nt o\\ns e l l e r s\\nt h a t\\ni t\\ni s\\na\\nB B D\\no ﬀ e r .\\n5 .\\nE n t e r\\nO ﬀ e r\\nS t a r t\\nt i m e\\na n d\\nE n d\\nt i m e\\n○\\nA t\\nl e a s t\\n4\\nh o u r s\\nb e t w e e n\\no ﬀ e r\\nc r e a t i o n\\nt i m e\\na n d\\no ﬀ e r\\ns t a r t\\nt i m e\\n○\\nO ﬀ e r\\ne n d\\nt i m e\\ns h o u l d\\nb e\\ng r e a t e r\\nt h a n\\no ﬀ e r\\ns t a r t\\nt i m e\\n○\\nO ﬀ e r\\nd u r a t i o n\\ns h o u l d\\nb e\\nl e s s e r\\nt h a n\\n9 0\\nd a y s\\nO ﬀ e r\\nF o r m a t\\nC h o o s e\\no ﬀ e r\\nf o r m a t\\na s\\nr e q u i r e d\\nB a s k e t\\nO ﬀ e r s\\nT a r g e t e d\\nD i s c o u n t\\no n\\nF P\\nP r o m i s e\\nC a l l o u t\\nO ﬀ e r\\nC o m b o\\nO ﬀ e r s\\nM u l t i\\nU n i t\\nL i s t i n g\\nO ﬀ e r\\nI n c e n t i v i s e d\\nA t t a c h\\nC a l l o u t\\nO ﬀ e r s\\nN o t e\\n:\\nF o l l o w i n g\\nO ﬀ e r\\nf o r m a t s\\na r e\\nn o t\\ns u p p o r t e d\\no n\\nG r u m b l e s\\na n d\\ns h o u l d\\nn o t\\nb e\\nu s e d\\n●\\nL i s t i n g\\nF r e e b i e\\nO ﬀ e r\\n●\\nL i s t i n g\\nd i s c o u n t\\no n\\nA P\\n( m o v i n g\\nF P )\\n●\\nL i s t i n g\\nd i s c o u n t\\no n\\nA P\\n( s t a t i c\\nF P )\\n●\\nL i s t i n g\\nd i s c o u n t\\no n\\nM R P\\nP r o d u c t\\nS e l e c t i o n', metadata={'source': 'RelevantSOPs/Offer Creation via Grumbles .pdf', 'page': 4}), Document(page_content=\"S E L E C T\\nP R O D U C T S\\n-\\nI n\\nt h i s\\ns e c t i o n ,\\ny o u\\nw i l l\\ns p e c i f y\\nt h e\\ns e l e c t i o n\\no n\\nw h i c h\\nt h e\\no ﬀ e r\\ns h o u l d\\nb e\\nc r e a t e d .\\nS e l e c t i o n\\nc a n\\nb e\\nd e ﬁ n e d\\na l o n g\\n3\\np i v o t s .\\nA t\\nl e a s t\\no n e\\no f\\nt h e s e\\np i v o t s\\nh a s\\nt o\\nb e\\ns p e c i ﬁ e d\\n-\\n1 .\\nV e r t i c a l s\\nS p e c i f y\\nv e r t i c a l s\\nt h a t\\ns h o u l d\\nb e\\ne x c l u d e d / i n c l u d e d .\\n2 .\\nC a t e g o r i e s\\nS p e c i f y\\nc a t e g o r i e s\\nt h a t\\ns h o u l d\\nb e\\ne x c l u d e d / i n c l u d e d .\\n3 .\\nU p l o a d\\nF S N s\\n○\\nD o w n l o a d\\nt h e\\ns a m p l e\\nﬁ l e\\n○\\nA d d\\nt h e\\nl i s t\\no f\\nF S N s\\nt h a t\\ns h o u l d\\nb e\\ne x c l u d e d / i n c l u d e d\\nb e l o w\\nt h e\\nh e a d e r s\\np r o v i d e d\\ni n\\nt h e\\ns a m p l e\\nﬁ l e\\na n d\\nu p l o a d\\ni n\\n. c s v\\nf o r m a t\\n○\\nL i s t\\no f\\ne r r o r s\\n-\\n■\\n' H e a d e r s\\na r e\\nm i s s i n g '\\n-\\nC h e c k\\ni f\\na l l\\nh e a d e r s\\np r e s e n t\\ni n\\nt h e\\ns a m p l e\\nﬁ l e\\na r e\\np r e s e n t\\ni n\\nt h e\\nu p l o a d e d\\nﬁ l e\\n■\\n' N o\\ne n t r i e s\\na r e\\np r e s e n t '\\n-\\nC h e c k\\ni f\\nt h e\\nu p l o a d\\nﬁ l e\\nc o n t a i n s\\na n y\\nF S N s\", metadata={'source': 'RelevantSOPs/Offer Creation via Grumbles .pdf', 'page': 5}), Document(page_content=\"■\\n' r e q u e s t\\nc o n t a i n s\\nd u p l i c a t e\\ne n t r i e s '\\n-\\nR e m o v e\\nd u p l i c a t e\\ne n t r i e s\\nf r o m\\nu p l o a d e d\\nﬁ l e\\n■\\n' N o\\nL i s t i n g s\\no r\\nP r o d u c t s\\nf o u n d '\\n-\\nC h e c k\\ni f\\nt h e r e\\na r e\\na c t i v e\\nl i s t i n g s\\nm a p p e d\\nt o\\nt h e\\nF S N s\\nu p l o a d e d\\n○\\nP l e a s e\\nn o t e\\nt h a t\\nF S N\\nw h i t e l i s t\\no ﬀ e r s\\nc a n\\nb e\\nc r e a t e d\\nl e s s\\nt h a n\\n4\\nh o u r s\\nb e f o r e\\no ﬀ e r\\ng o\\nl i v e .\\nS E L E C T\\nS E L L E R S\\n-\\n●\\nM e n t i o n\\ns e l l e r\\ni d\\no n l y\\ni f\\nt h e\\no ﬀ e r\\ni s\\nb e i n g\\nc r e a t e d\\nf o r\\na\\nd e ﬁ n e d\\ns e t\\no f\\ns e l l e r s .\\nO p t\\ni n\\no p t i o n\\nw i l l\\nb e\\na v a i l a b l e\\no n l y\\nf o r\\nt h e\\ns e l l e r s\\nm e n t i o n e d\\nh e r e .\\n●\\nI f\\nn o\\ns e l l e r\\nh a s\\nb e e n\\nm e n t i o n e d ,\\na l l\\ne l i g i b l e\\ns e l l e r s\\nw i l l\\nb e\\na l l o w e d\\nt o\\no p t - i n\\nb y\\nd e f a u l t .\\nA P P L Y\\nF I L T E R S\\n-\\n●\\nF u r t h e r\\nﬁ l t e r s\\nb a s e d\\no n\\nb r a n d ,\\nA P ,\\nl i s t i n g\\nd i s c o u n t\\no n\\nA P\\na n d\\ns e r v i c e\\np r o ﬁ l e\\nc a n\\nb e\\na p p l i e d\\no n\\nt o p\\no f\\nt h e\\ns e l e c t i o n\\nc r i t e r i a\\nd e ﬁ n e d .\\nT h i s\\nﬁ e l d\\ni s\\no p t i o n a l .\\nN o t e :\\nF o r\\ng r o c e r y ,\\ny o u\\nc a n\\na l s o\\ns p e c i f y\\nB u s i n e s s\\nZ o n e\\no n\\nw h i c h\\no ﬀ e r\\ni s\\nb e i n g\\nc r e a t e d\\nD i s c o v e r y\", metadata={'source': 'RelevantSOPs/Offer Creation via Grumbles .pdf', 'page': 6}), Document(page_content='●\\nO ﬀ e r\\nt i t l e\\n-\\nF o r\\nn o n\\nt e m p l a t i s e d\\no ﬀ e r s ,\\nt h i s\\nw i l l\\nb e\\nt h e\\no ﬀ e r\\nc a l l o u t\\nt h a t\\ns h o w s\\nu p\\no n\\nt h e\\nu s e r\\ne x p e r i e n c e .\\nI n\\nc a s e\\no f\\nt e m p l a t i s e d\\no ﬀ e r s ,\\no ﬀ e r\\nc a l l o u t\\no n\\nt h e\\nu s e r\\ne x p e r i e n c e\\nw i l l\\nb e\\nc r e a t e d\\nb a s e d\\no n\\nt e m p l a t e s\\nd e ﬁ n e d\\ni n\\nP n P .\\n●\\nS e l l e r\\nt i t l e\\n-\\nT h i s\\nw i l l\\nb e\\ns h o w n\\no n\\nt h e\\ns e l l e r\\nd a s h b o a r d .\\n●\\nO ﬀ e r\\nD e s c r i p t i o n\\n-\\nT h i s\\ni s\\nu s e d\\nf o r\\nc o m m u n i c a t i o n\\na t\\nd i ﬀ e r e n t\\nt o u c h p o i n t s\\ni n\\nt h e\\nu s e r\\nj o u r n e y\\n●\\nV i e w / e d i t\\nT n C\\n-\\nD e f a u l t\\nT n C\\nb a s e d\\no n\\nt h e\\no ﬀ e r\\nt y p e\\nw i l l\\nb e\\np o p u l a t e d\\ni n\\nt h i s\\nﬁ e l d .\\nY o u\\nc a n\\ne d i t\\nt o\\ni n c l u d e\\nn e w\\nl i n e s .\\nP l e a s e\\nd o\\nn o t\\nr e m o v e\\na n y\\np a r t s\\nf r o m\\nt h e\\nd e f a u l t\\nT n C .\\nS u m m a r y\\nS c r e e n\\nP r e v i e w\\nt h e\\no ﬀ e r\\no n\\nt h i s\\ns c r e e n\\nb e f o r e\\ny o u\\ns u b m i t .\\nY o u\\nc a n\\nc l i c k\\no n\\ne d i t\\ni f\\ny o u\\nn e e d\\nt o\\nm o d i f y\\na n y\\ns e c t i o n .', metadata={'source': 'RelevantSOPs/Offer Creation via Grumbles .pdf', 'page': 7}), Document(page_content='A p p r o v i n g\\no ﬀ e r s\\nW h o\\na p p r o v e s\\no ﬀ e r s ?\\n●\\nA l l\\no ﬀ e r s\\ne x c e p t\\nt h e\\nc a s e s\\ns p e c i ﬁ e d\\nb e l o w\\na r e\\nf o r w a r d e d\\nt o\\nt h e\\no ﬀ e r\\nc r e a t o r ’ s\\nL 1\\nm a n a g e r\\nf o r\\na p p r o v a l\\n●\\nD O T D ,\\nD O T H\\no ﬀ e r s\\na r e\\nf o r w a r d e d\\nt o\\nt h e\\nc e n t r a l\\nt e a m\\nf o r\\na p p r o v a l .\\n●\\nT a r g e t e d\\no ﬀ e r s\\na r e\\nf o r w a r d e d\\nt o\\nt h e\\nT D\\na p p r o v e r s\\ng r o u p\\nc o n t a i n i n g\\nP o C s\\nf r o m\\na l l\\nB U s\\nf o r\\na p p r o v a l .\\nL i s t\\no f\\nm e m b e r s .\\nP l e a s e\\nr e f e r\\nt o\\nt h i s\\nS O P\\ni f\\ny o u ’ r e\\na p p r o v i n g\\na\\nT D\\n.\\nR o l e\\no f\\no ﬀ e r\\na p p r o v e r\\nP l e a s e\\nn o t e\\nt h a t\\nt h e r e\\ni s\\nn o\\ns y s t e m i c\\na n o m a l y\\nc h e c k\\np r e s e n t\\np r e s e n t\\nf o r\\nc o n d i t i o n a l\\no ﬀ e r s\\nc r e a t e d\\no n\\nG r u m b l e s .\\nT h e\\no ﬀ e r\\na p p r o v e r\\ni s\\nc o m p l e t e l y\\nr e s p o n s i b l e\\nt o\\nc h e c k\\na n d\\nv a l i d a t e\\nt h e\\no ﬀ e r\\nd e t a i l s\\nt o\\ne n s u r e\\nw r o n g\\ni n t e n t s\\nd o n ’ t\\ng o\\nl i v e .\\nW e\\nf o l l o w\\na\\nm a k e r - c h e c k e r\\np r o c e s s\\ni n\\no r d e r\\nt o\\ne n s u r e\\nn o\\ne r r o n e o u s\\ni n t e n t s\\ng e t\\nt h r o u g h\\nt h e\\ns y s t e m .\\nT h e\\na p p r o v e r\\ns h o u l d\\nc h e c k\\na n d\\nv a l i d a t e\\nt h e\\nf o l l o w i n g\\n-\\n1 .\\nS a n c t i t y\\no f\\no ﬀ e r\\nc o n s t r u c t\\na n d\\ni n t e n t\\nf o r\\nr u n n i n g\\nt h e\\no ﬀ e r\\n2 .\\nA c c u r a c y\\no f\\nO ﬀ e r\\nC o n ﬁ g u r a t i o n .\\nT h i s\\ni n c l u d e s\\n-\\n○\\nO ﬀ e r\\nt y p e ,\\nm a r k e t p l a c e ,\\nB U ,\\nS C\\ne t c\\n○\\nO ﬀ e r\\nd u r a t i o n ,\\no ﬀ e r\\ns t a r t\\nt i m e ,\\no ﬀ e r\\ne n d\\nt i m e\\n○\\nO ﬀ e r\\nc l a s s i ﬁ c a t i o n\\n○\\nO ﬀ e r\\nd e t a i l s\\n( o ﬀ e r\\nf o r m a t ,\\nh u r d l e ,\\ng i v e a w a y\\ne t c )\\n○\\nB u r n\\ns h a r e\\n○\\nP r o d u c t\\ns e l e c t i o n\\n○\\nA l l\\nd i s c o v e r y\\nﬁ e l d s\\n■\\nD o\\nt h e\\no ﬀ e r\\nt i t l e\\na n d\\nd e s c r i p t i o n\\na c c u r a t e l y\\nc o n v e y\\nt h e\\nd e t a i l s\\no f\\nt h e\\no ﬀ e r\\nc o n ﬁ g u r e d ?\\n■\\nC a n\\nt h e\\nu s e r\\ne a s i l y\\nu n d e r s t a n d\\nt h e\\nv a l u e\\np r o p o s i t i o n\\no f\\nt h e\\no ﬀ e r ?\\n○\\nT n C\\nH o w\\nt o\\na p p r o v e ?\\n1 .\\nS w i t c h\\nt o\\na p p r o v e r\\nm o d e\\no n\\nG r u m b l e s :', metadata={'source': 'RelevantSOPs/Offer Creation via Grumbles .pdf', 'page': 8}), Document(page_content='T h e r e\\na r e\\nn o\\na c c e s s\\nr e s t r i c t i o n s\\nb a s e d\\no n\\nm a r k e t p l a c e / B U\\ne t c .\\nO n\\nt h i s\\ns c r e e n\\ny o u\\ns h o u l d\\nb e\\na b l e\\nt o\\ns e e\\n-\\na .\\nA l l\\no ﬀ e r s\\nc r e a t e d\\nb y\\ny o u r\\nr e p o r t e e s\\nb .\\nA l l\\nt a r g e t e d\\no ﬀ e r s ,\\ni f\\ny o u\\na r e\\na\\np a r t\\no f\\nT D _ P r o m o t i o n s _ A p p r o v e r\\nc .\\nA l l\\nD o T D ,\\nD o T H\\no ﬀ e r s ,\\ni f\\ny o u ’ r e\\na\\np a r t\\no f\\n< i n s e r t\\ng r o u p\\nn a m e >\\n2 .\\nS e a r c h\\nf o r\\nc o n s o l e\\ni d\\nt o\\na p p r o v e .\\n3 .\\nC l i c k\\no n\\na p p r o v e\\no n\\nt h e\\nr e s p e c t i v e\\no ﬀ e r\\nc a r d .\\nA\\ns u m m a r y\\ns c r e e n\\nw i t h\\nd e t a i l s\\no f\\nt h e\\no ﬀ e r\\nw i l l\\ns h o w\\nu p .\\nY o u\\nc a n\\nu s e\\nt h i s\\ns c r e e n\\nt o\\nc h e c k\\na n d\\nv a l i d a t e\\nt h e\\no ﬀ e r .', metadata={'source': 'RelevantSOPs/Offer Creation via Grumbles .pdf', 'page': 9}), Document(page_content='4 .\\nC l i c k\\no n\\na p p r o v e\\ni f\\ny o u\\nw a n t\\nt h e\\no ﬀ e r\\nt o\\ng o\\nl i v e\\na s\\ni t\\ni s .\\nC l i c k\\no n\\nr e j e c t\\ni f\\nt h e r e\\na r e\\na n y\\ne r r o r s\\ni n\\nt h e\\nc o n s t r u c t .\\nP u b l i s h i n g\\no ﬀ e r s\\n●\\nO n c e\\nt h e\\no ﬀ e r\\nh a s\\nb e e n\\nc r e a t e d\\na n d\\na p p r o v e d ,\\nt h e\\no ﬀ e r\\nc r e a t o r\\nw i l l\\ns e e\\nt h e\\no p t i o n\\nt o\\np u b l i s h\\nt h e\\no ﬀ e r\\ni n\\nt h e\\nd r a f t s\\ns c r e e n\\no n\\nt h e\\ng r u m b l e s\\nh o m e\\np a g e .', metadata={'source': 'RelevantSOPs/Offer Creation via Grumbles .pdf', 'page': 10}), Document(page_content='●\\nC l i c k\\no n\\nt h e\\np u b l i s h\\nb u t t o n\\no n\\nt h e\\no ﬀ e r\\nc a r d\\n●\\nA\\ns u c c e s s\\nm e s s a g e\\nw i t h\\na\\nu n i q u e\\no ﬀ e r\\ni d\\nw i l l\\ns h o w\\nu p\\no n\\nt h e\\ns c r e e n\\no n c e\\nt h e\\no ﬀ e r\\nh a s\\nb e e n\\np u b l i s h e d .\\nP a u s i n g\\na n\\no ﬀ e r', metadata={'source': 'RelevantSOPs/Offer Creation via Grumbles .pdf', 'page': 11}), Document(page_content='●\\nC l i c k\\no n\\nt h e\\ns c h e d u l e\\np a u s e /\\nu n p a u s e\\no p t i o n\\no n\\nt h e\\no ﬀ e r\\nc a r d\\no n\\nt h e\\ng r u m b l e s\\ns c r e e n\\na f t e r\\nt h e\\no ﬀ e r\\nh a s\\nb e e n\\np u b l i s h e d\\n●\\nE n t e r\\np a u s e\\ns t a r t\\na n d\\ne n d\\nt i m e\\ni n\\nt h i s\\ns c r e e n\\n●\\nO n l y\\n1\\np a u s e\\nc a n\\nb e\\ns c h e d u l e d\\np e r\\no ﬀ e r\\n●\\nP a u s e d\\ns t a r t\\nt i m e\\nh a s\\nt o\\nb e\\ng r e a t e r\\nt h a n\\nO ﬀ e r\\ns t a r t\\nd a t e\\na n d\\n5 m i n s\\ng r e a t e r\\nt h a n\\nc u r r e n t\\nt i m e\\n●\\nF o r\\nb a s k e t / B M G N\\no ﬀ e r s ,\\nt h e\\np a u s e\\ns t a r t\\nt i m e\\nh a s\\nt o\\ne n d\\na t\\nx x : 0 0\\nS e l l e r\\nR e c o m m e n d a t i o n\\nC a s p e r\\nD e b u g g i n g', metadata={'source': 'RelevantSOPs/Offer Creation via Grumbles .pdf', 'page': 12})] ======\n",
      "\n",
      "\n",
      "\n"
     ]
    },
    {
     "ename": "IndexError",
     "evalue": "list index out of range",
     "output_type": "error",
     "traceback": [
      "\u001b[0;31m---------------------------------------------------------------------------\u001b[0m",
      "\u001b[0;31mIndexError\u001b[0m                                Traceback (most recent call last)",
      "Cell \u001b[0;32mIn[16], line 15\u001b[0m\n\u001b[1;32m     13\u001b[0m \u001b[38;5;66;03m# print(qdocs)\u001b[39;00m\n\u001b[1;32m     14\u001b[0m \u001b[38;5;28;01mfor\u001b[39;00m i \u001b[38;5;129;01min\u001b[39;00m \u001b[38;5;28mrange\u001b[39m(\u001b[38;5;241m0\u001b[39m,\u001b[38;5;28mlen\u001b[39m(qdocs)\u001b[38;5;241m-\u001b[39m\u001b[38;5;241m2\u001b[39m):\n\u001b[0;32m---> 15\u001b[0m     \u001b[38;5;28mprint\u001b[39m(\u001b[43mrelevantDocs\u001b[49m\u001b[43m[\u001b[49m\u001b[43mi\u001b[49m\u001b[43m]\u001b[49m)\n\u001b[1;32m     16\u001b[0m     relevantDocs[i]\u001b[38;5;241m.\u001b[39mpage_content\n\u001b[1;32m     17\u001b[0m     \u001b[38;5;28mprint\u001b[39m(item, \u001b[38;5;124m\"\u001b[39m\u001b[38;5;124m======\u001b[39m\u001b[38;5;130;01m\\n\u001b[39;00m\u001b[38;5;130;01m\\n\u001b[39;00m\u001b[38;5;130;01m\\n\u001b[39;00m\u001b[38;5;124m\"\u001b[39m)\n",
      "\u001b[0;31mIndexError\u001b[0m: list index out of range"
     ]
    },
    {
     "name": "stderr",
     "output_type": "stream",
     "text": [
      "E0623 11:54:38.959469000 123145627185152 ssl_transport_security.cc:1420] Handshake failed with fatal error SSL_ERROR_SSL: error:1000007d:SSL routines:OPENSSL_internal:CERTIFICATE_VERIFY_FAILED.\n"
     ]
    }
   ],
   "source": [
    "# query = \"how does deferred Giveaway works for offer\"\n",
    "# query = \"how do I create a Promise Callout Offer\"\n",
    "# query = \"how do I create a Basket Offer\"\n",
    "# query = \"What is insufficient participation ?\"\n",
    "# query = \"What is Either or Offer ?\"\n",
    "query = \"\"\"I am from lifestyle Business unit, I want to create an /\n",
    "offer for increaisng units per order. How do I do that?\"\"\"\n",
    "\n",
    "relevantDocs = db.max_marginal_relevance_search(query, k=5)\n",
    "# relevantDocs = db.similarity_search_with_score(query, k=10)\n",
    "\n",
    "print(len(relevantDocs))\n",
    "# print(relevantDocs)\n",
    "\n",
    "qdocs = \"\".join([relevantDocs[i].page_content for i in range(len(relevantDocs))])\n",
    "# print(qdocs)\n",
    "for i in range(0,len(qdocs)-2):\n",
    "    print(relevantDocs[i])\n",
    "    relevantDocs[i].page_content\n",
    "    print(item, \"======\\n\\n\\n\")"
   ]
  },
  {
   "cell_type": "code",
   "execution_count": 17,
   "id": "d9ad6316",
   "metadata": {},
   "outputs": [
    {
     "name": "stdout",
     "output_type": "stream",
     "text": [
      "8552\n"
     ]
    }
   ],
   "source": [
    "\n",
    "role = \"\"\"\n",
    "You are offer related query answering module for promotions platform on Flipkart.\\\n",
    "You answer questions with a high degree of precision & wherever you do not have enough precision, \\\n",
    "you always provide an output saying the answers might not be fully correct. \\\n",
    "Promotions Platform has capabilities to create and maintain an offer via its \\\n",
    "offer creation console- 'Grumbles' and maintenance console-- 'Casper'. Business users\\\n",
    "can ask multiple questions related to capabilities for creating and maintaining an offer.\n",
    "\"\"\"\n",
    "\n",
    "prompt = f\"\"\" \n",
    "Role: {role}\n",
    "Follow exactly these 3 steps:\n",
    "1. Read the context below and aggregrate this data\n",
    "Context : {qdocs}\n",
    "2. Answer the question using only this context\n",
    "3. Show the source for your answers\n",
    "User Question: {query}\n",
    "\n",
    "If you don't have any context and are unsure of the answer, reply that you don't know about this topic.\n",
    "\n",
    "\"\"\"\n",
    "print(len(prompt))"
   ]
  },
  {
   "cell_type": "code",
   "execution_count": 19,
   "id": "ff81a451",
   "metadata": {},
   "outputs": [
    {
     "name": "stderr",
     "output_type": "stream",
     "text": [
      "E0623 11:56:54.056560000 123145625575424 ssl_transport_security.cc:1420] Handshake failed with fatal error SSL_ERROR_SSL: error:1000007d:SSL routines:OPENSSL_internal:CERTIFICATE_VERIFY_FAILED.\n",
      "E0623 11:56:54.945988000 4495455744 ssl_transport_security.cc:1420]    Handshake failed with fatal error SSL_ERROR_SSL: error:1000007d:SSL routines:OPENSSL_internal:CERTIFICATE_VERIFY_FAILED.\n",
      "E0623 11:56:54.984175000 4495455744 ssl_transport_security.cc:1420]    Handshake failed with fatal error SSL_ERROR_SSL: error:1000007d:SSL routines:OPENSSL_internal:CERTIFICATE_VERIFY_FAILED.\n",
      "E0623 11:56:55.016375000 4495455744 ssl_transport_security.cc:1420]    Handshake failed with fatal error SSL_ERROR_SSL: error:1000007d:SSL routines:OPENSSL_internal:CERTIFICATE_VERIFY_FAILED.\n",
      "E0623 11:56:55.055178000 4495455744 ssl_transport_security.cc:1420]    Handshake failed with fatal error SSL_ERROR_SSL: error:1000007d:SSL routines:OPENSSL_internal:CERTIFICATE_VERIFY_FAILED.\n",
      "E0623 11:56:55.086122000 4495455744 ssl_transport_security.cc:1420]    Handshake failed with fatal error SSL_ERROR_SSL: error:1000007d:SSL routines:OPENSSL_internal:CERTIFICATE_VERIFY_FAILED.\n",
      "E0623 11:56:55.116558000 4495455744 ssl_transport_security.cc:1420]    Handshake failed with fatal error SSL_ERROR_SSL: error:1000007d:SSL routines:OPENSSL_internal:CERTIFICATE_VERIFY_FAILED.\n",
      "E0623 11:56:55.155185000 4495455744 ssl_transport_security.cc:1420]    Handshake failed with fatal error SSL_ERROR_SSL: error:1000007d:SSL routines:OPENSSL_internal:CERTIFICATE_VERIFY_FAILED.\n",
      "E0623 11:56:55.188263000 4495455744 ssl_transport_security.cc:1420]    Handshake failed with fatal error SSL_ERROR_SSL: error:1000007d:SSL routines:OPENSSL_internal:CERTIFICATE_VERIFY_FAILED.\n",
      "E0623 11:56:55.222249000 4495455744 ssl_transport_security.cc:1420]    Handshake failed with fatal error SSL_ERROR_SSL: error:1000007d:SSL routines:OPENSSL_internal:CERTIFICATE_VERIFY_FAILED.\n",
      "E0623 11:56:55.261147000 4495455744 ssl_transport_security.cc:1420]    Handshake failed with fatal error SSL_ERROR_SSL: error:1000007d:SSL routines:OPENSSL_internal:CERTIFICATE_VERIFY_FAILED.\n",
      "E0623 11:56:55.292270000 4495455744 ssl_transport_security.cc:1420]    Handshake failed with fatal error SSL_ERROR_SSL: error:1000007d:SSL routines:OPENSSL_internal:CERTIFICATE_VERIFY_FAILED.\n",
      "E0623 11:56:55.323415000 4495455744 ssl_transport_security.cc:1420]    Handshake failed with fatal error SSL_ERROR_SSL: error:1000007d:SSL routines:OPENSSL_internal:CERTIFICATE_VERIFY_FAILED.\n",
      "E0623 11:56:55.356096000 4495455744 ssl_transport_security.cc:1420]    Handshake failed with fatal error SSL_ERROR_SSL: error:1000007d:SSL routines:OPENSSL_internal:CERTIFICATE_VERIFY_FAILED.\n",
      "E0623 11:56:55.496268000 4495455744 ssl_transport_security.cc:1420]    Handshake failed with fatal error SSL_ERROR_SSL: error:1000007d:SSL routines:OPENSSL_internal:CERTIFICATE_VERIFY_FAILED.\n",
      "E0623 11:56:55.528434000 4495455744 ssl_transport_security.cc:1420]    Handshake failed with fatal error SSL_ERROR_SSL: error:1000007d:SSL routines:OPENSSL_internal:CERTIFICATE_VERIFY_FAILED.\n",
      "E0623 11:56:55.567273000 4495455744 ssl_transport_security.cc:1420]    Handshake failed with fatal error SSL_ERROR_SSL: error:1000007d:SSL routines:OPENSSL_internal:CERTIFICATE_VERIFY_FAILED.\n",
      "E0623 11:56:59.059335000 123145627185152 ssl_transport_security.cc:1420] Handshake failed with fatal error SSL_ERROR_SSL: error:1000007d:SSL routines:OPENSSL_internal:CERTIFICATE_VERIFY_FAILED.\n",
      "E0623 11:57:04.065351000 123145625575424 ssl_transport_security.cc:1420] Handshake failed with fatal error SSL_ERROR_SSL: error:1000007d:SSL routines:OPENSSL_internal:CERTIFICATE_VERIFY_FAILED.\n",
      "E0623 11:57:04.066295000 123145625575424 ssl_transport_security.cc:1420] Handshake failed with fatal error SSL_ERROR_SSL: error:1000007d:SSL routines:OPENSSL_internal:CERTIFICATE_VERIFY_FAILED.\n",
      "E0623 11:57:09.067516000 123145627185152 ssl_transport_security.cc:1420] Handshake failed with fatal error SSL_ERROR_SSL: error:1000007d:SSL routines:OPENSSL_internal:CERTIFICATE_VERIFY_FAILED.\n",
      "E0623 11:57:14.069897000 123145625575424 ssl_transport_security.cc:1420] Handshake failed with fatal error SSL_ERROR_SSL: error:1000007d:SSL routines:OPENSSL_internal:CERTIFICATE_VERIFY_FAILED.\n",
      "E0623 11:57:14.070803000 123145625575424 ssl_transport_security.cc:1420] Handshake failed with fatal error SSL_ERROR_SSL: error:1000007d:SSL routines:OPENSSL_internal:CERTIFICATE_VERIFY_FAILED.\n",
      "E0623 11:57:19.075158000 123145627185152 ssl_transport_security.cc:1420] Handshake failed with fatal error SSL_ERROR_SSL: error:1000007d:SSL routines:OPENSSL_internal:CERTIFICATE_VERIFY_FAILED.\n",
      "E0623 11:57:24.080151000 123145625575424 ssl_transport_security.cc:1420] Handshake failed with fatal error SSL_ERROR_SSL: error:1000007d:SSL routines:OPENSSL_internal:CERTIFICATE_VERIFY_FAILED.\n",
      "E0623 11:57:24.081162000 123145625575424 ssl_transport_security.cc:1420] Handshake failed with fatal error SSL_ERROR_SSL: error:1000007d:SSL routines:OPENSSL_internal:CERTIFICATE_VERIFY_FAILED.\n",
      "E0623 11:57:29.083718000 123145625575424 ssl_transport_security.cc:1420] Handshake failed with fatal error SSL_ERROR_SSL: error:1000007d:SSL routines:OPENSSL_internal:CERTIFICATE_VERIFY_FAILED.\n",
      "E0623 11:57:30.750571000 4495455744 ssl_transport_security.cc:1420]    Handshake failed with fatal error SSL_ERROR_SSL: error:1000007d:SSL routines:OPENSSL_internal:CERTIFICATE_VERIFY_FAILED.\n",
      "E0623 11:57:30.856007000 4495455744 ssl_transport_security.cc:1420]    Handshake failed with fatal error SSL_ERROR_SSL: error:1000007d:SSL routines:OPENSSL_internal:CERTIFICATE_VERIFY_FAILED.\n",
      "E0623 11:57:30.895500000 4495455744 ssl_transport_security.cc:1420]    Handshake failed with fatal error SSL_ERROR_SSL: error:1000007d:SSL routines:OPENSSL_internal:CERTIFICATE_VERIFY_FAILED.\n",
      "E0623 11:57:30.934007000 4495455744 ssl_transport_security.cc:1420]    Handshake failed with fatal error SSL_ERROR_SSL: error:1000007d:SSL routines:OPENSSL_internal:CERTIFICATE_VERIFY_FAILED.\n",
      "E0623 11:57:30.966379000 4495455744 ssl_transport_security.cc:1420]    Handshake failed with fatal error SSL_ERROR_SSL: error:1000007d:SSL routines:OPENSSL_internal:CERTIFICATE_VERIFY_FAILED.\n",
      "E0623 11:57:31.000854000 4495455744 ssl_transport_security.cc:1420]    Handshake failed with fatal error SSL_ERROR_SSL: error:1000007d:SSL routines:OPENSSL_internal:CERTIFICATE_VERIFY_FAILED.\n",
      "E0623 11:57:34.084828000 123145625575424 ssl_transport_security.cc:1420] Handshake failed with fatal error SSL_ERROR_SSL: error:1000007d:SSL routines:OPENSSL_internal:CERTIFICATE_VERIFY_FAILED.\n",
      "E0623 11:57:37.003940000 4495455744 ssl_transport_security.cc:1420]    Handshake failed with fatal error SSL_ERROR_SSL: error:1000007d:SSL routines:OPENSSL_internal:CERTIFICATE_VERIFY_FAILED.\n",
      "E0623 11:57:37.055109000 4495455744 ssl_transport_security.cc:1420]    Handshake failed with fatal error SSL_ERROR_SSL: error:1000007d:SSL routines:OPENSSL_internal:CERTIFICATE_VERIFY_FAILED.\n",
      "E0623 11:57:37.087940000 4495455744 ssl_transport_security.cc:1420]    Handshake failed with fatal error SSL_ERROR_SSL: error:1000007d:SSL routines:OPENSSL_internal:CERTIFICATE_VERIFY_FAILED.\n",
      "E0623 11:57:37.123179000 4495455744 ssl_transport_security.cc:1420]    Handshake failed with fatal error SSL_ERROR_SSL: error:1000007d:SSL routines:OPENSSL_internal:CERTIFICATE_VERIFY_FAILED.\n",
      "E0623 11:57:37.153321000 4495455744 ssl_transport_security.cc:1420]    Handshake failed with fatal error SSL_ERROR_SSL: error:1000007d:SSL routines:OPENSSL_internal:CERTIFICATE_VERIFY_FAILED.\n",
      "E0623 11:57:37.206072000 4495455744 ssl_transport_security.cc:1420]    Handshake failed with fatal error SSL_ERROR_SSL: error:1000007d:SSL routines:OPENSSL_internal:CERTIFICATE_VERIFY_FAILED.\n",
      "E0623 11:57:39.088237000 123145625575424 ssl_transport_security.cc:1420] Handshake failed with fatal error SSL_ERROR_SSL: error:1000007d:SSL routines:OPENSSL_internal:CERTIFICATE_VERIFY_FAILED.\n"
     ]
    },
    {
     "name": "stdout",
     "output_type": "stream",
     "text": [
      "Promise Callout Offers are transaction based offers with a deferred giveaway. ie - A user who shops from a particular selection as per defined criteria gets a benefit on his next purchase on a predefined set of products.\n",
      "Example:\n",
      "● Shop worth Rs 1000 in lifestyle and get 10% off on your next lifestyle purchase before 31 August\n",
      "● Shop worth Rs 200 from Puma and get extra 5% off on Puma during the next Payday sale\n",
      "● Shop in December, get 10% off on your purchase for the next 3 months\n",
      "There are 2 steps to every promise callout offer.\n",
      "1. Creation of the targeted giveaway offer -\n",
      "○ This is the offer with the giveaway which will be applicable on the customer’s second order\n",
      "○ Customers who are eligible as per the defined criteria will be automatic mapped to this offer.\n",
      "○ This is to be created first, as this is an input to the first callout offers.\n",
      "○ This is created on listings on which discounts would be given. Seller burn will be configured on this offer.\n",
      "2. Creation of the Promise callout offer -\n",
      "○ This is the callout offer which will be visible on the customer’s first\n"
     ]
    },
    {
     "name": "stderr",
     "output_type": "stream",
     "text": [
      "E0623 11:57:44.094359000 123145627185152 ssl_transport_security.cc:1420] Handshake failed with fatal error SSL_ERROR_SSL: error:1000007d:SSL routines:OPENSSL_internal:CERTIFICATE_VERIFY_FAILED.\n",
      "E0623 11:57:49.099750000 123145625575424 ssl_transport_security.cc:1420] Handshake failed with fatal error SSL_ERROR_SSL: error:1000007d:SSL routines:OPENSSL_internal:CERTIFICATE_VERIFY_FAILED.\n",
      "E0623 11:57:54.104414000 123145627185152 ssl_transport_security.cc:1420] Handshake failed with fatal error SSL_ERROR_SSL: error:1000007d:SSL routines:OPENSSL_internal:CERTIFICATE_VERIFY_FAILED.\n",
      "E0623 11:57:59.110226000 123145625575424 ssl_transport_security.cc:1420] Handshake failed with fatal error SSL_ERROR_SSL: error:1000007d:SSL routines:OPENSSL_internal:CERTIFICATE_VERIFY_FAILED.\n",
      "E0623 11:58:04.112411000 123145627185152 ssl_transport_security.cc:1420] Handshake failed with fatal error SSL_ERROR_SSL: error:1000007d:SSL routines:OPENSSL_internal:CERTIFICATE_VERIFY_FAILED.\n",
      "E0623 11:58:09.113875000 123145625575424 ssl_transport_security.cc:1420] Handshake failed with fatal error SSL_ERROR_SSL: error:1000007d:SSL routines:OPENSSL_internal:CERTIFICATE_VERIFY_FAILED.\n",
      "E0623 11:58:14.116914000 123145627185152 ssl_transport_security.cc:1420] Handshake failed with fatal error SSL_ERROR_SSL: error:1000007d:SSL routines:OPENSSL_internal:CERTIFICATE_VERIFY_FAILED.\n",
      "E0623 11:58:19.121000000 123145625575424 ssl_transport_security.cc:1420] Handshake failed with fatal error SSL_ERROR_SSL: error:1000007d:SSL routines:OPENSSL_internal:CERTIFICATE_VERIFY_FAILED.\n",
      "E0623 11:58:24.125157000 123145627185152 ssl_transport_security.cc:1420] Handshake failed with fatal error SSL_ERROR_SSL: error:1000007d:SSL routines:OPENSSL_internal:CERTIFICATE_VERIFY_FAILED.\n",
      "E0623 11:58:29.128419000 123145625575424 ssl_transport_security.cc:1420] Handshake failed with fatal error SSL_ERROR_SSL: error:1000007d:SSL routines:OPENSSL_internal:CERTIFICATE_VERIFY_FAILED.\n",
      "E0623 11:58:34.133210000 123145627185152 ssl_transport_security.cc:1420] Handshake failed with fatal error SSL_ERROR_SSL: error:1000007d:SSL routines:OPENSSL_internal:CERTIFICATE_VERIFY_FAILED.\n",
      "E0623 11:58:39.137075000 123145627185152 ssl_transport_security.cc:1420] Handshake failed with fatal error SSL_ERROR_SSL: error:1000007d:SSL routines:OPENSSL_internal:CERTIFICATE_VERIFY_FAILED.\n",
      "E0623 11:58:44.141867000 123145625575424 ssl_transport_security.cc:1420] Handshake failed with fatal error SSL_ERROR_SSL: error:1000007d:SSL routines:OPENSSL_internal:CERTIFICATE_VERIFY_FAILED.\n",
      "E0623 11:58:49.146357000 123145627185152 ssl_transport_security.cc:1420] Handshake failed with fatal error SSL_ERROR_SSL: error:1000007d:SSL routines:OPENSSL_internal:CERTIFICATE_VERIFY_FAILED.\n",
      "E0623 11:58:54.147869000 123145625575424 ssl_transport_security.cc:1420] Handshake failed with fatal error SSL_ERROR_SSL: error:1000007d:SSL routines:OPENSSL_internal:CERTIFICATE_VERIFY_FAILED.\n",
      "E0623 11:58:59.157670000 123145625575424 ssl_transport_security.cc:1420] Handshake failed with fatal error SSL_ERROR_SSL: error:1000007d:SSL routines:OPENSSL_internal:CERTIFICATE_VERIFY_FAILED.\n",
      "E0623 11:59:04.163471000 123145625575424 ssl_transport_security.cc:1420] Handshake failed with fatal error SSL_ERROR_SSL: error:1000007d:SSL routines:OPENSSL_internal:CERTIFICATE_VERIFY_FAILED.\n",
      "E0623 11:59:04.164354000 123145625575424 ssl_transport_security.cc:1420] Handshake failed with fatal error SSL_ERROR_SSL: error:1000007d:SSL routines:OPENSSL_internal:CERTIFICATE_VERIFY_FAILED.\n",
      "E0623 11:59:09.165576000 123145627185152 ssl_transport_security.cc:1420] Handshake failed with fatal error SSL_ERROR_SSL: error:1000007d:SSL routines:OPENSSL_internal:CERTIFICATE_VERIFY_FAILED.\n",
      "E0623 11:59:09.166411000 123145627185152 ssl_transport_security.cc:1420] Handshake failed with fatal error SSL_ERROR_SSL: error:1000007d:SSL routines:OPENSSL_internal:CERTIFICATE_VERIFY_FAILED.\n",
      "E0623 11:59:14.170110000 123145625575424 ssl_transport_security.cc:1420] Handshake failed with fatal error SSL_ERROR_SSL: error:1000007d:SSL routines:OPENSSL_internal:CERTIFICATE_VERIFY_FAILED.\n",
      "E0623 11:59:19.175528000 123145627185152 ssl_transport_security.cc:1420] Handshake failed with fatal error SSL_ERROR_SSL: error:1000007d:SSL routines:OPENSSL_internal:CERTIFICATE_VERIFY_FAILED.\n",
      "E0623 11:59:24.176078000 123145625575424 ssl_transport_security.cc:1420] Handshake failed with fatal error SSL_ERROR_SSL: error:1000007d:SSL routines:OPENSSL_internal:CERTIFICATE_VERIFY_FAILED.\n",
      "E0623 11:59:29.181068000 123145627185152 ssl_transport_security.cc:1420] Handshake failed with fatal error SSL_ERROR_SSL: error:1000007d:SSL routines:OPENSSL_internal:CERTIFICATE_VERIFY_FAILED.\n",
      "E0623 11:59:34.185658000 123145625575424 ssl_transport_security.cc:1420] Handshake failed with fatal error SSL_ERROR_SSL: error:1000007d:SSL routines:OPENSSL_internal:CERTIFICATE_VERIFY_FAILED.\n",
      "E0623 11:59:39.191193000 123145627185152 ssl_transport_security.cc:1420] Handshake failed with fatal error SSL_ERROR_SSL: error:1000007d:SSL routines:OPENSSL_internal:CERTIFICATE_VERIFY_FAILED.\n",
      "E0623 11:59:44.196558000 123145625575424 ssl_transport_security.cc:1420] Handshake failed with fatal error SSL_ERROR_SSL: error:1000007d:SSL routines:OPENSSL_internal:CERTIFICATE_VERIFY_FAILED.\n",
      "E0623 11:59:49.200457000 123145627185152 ssl_transport_security.cc:1420] Handshake failed with fatal error SSL_ERROR_SSL: error:1000007d:SSL routines:OPENSSL_internal:CERTIFICATE_VERIFY_FAILED.\n",
      "E0623 11:59:54.204721000 123145625575424 ssl_transport_security.cc:1420] Handshake failed with fatal error SSL_ERROR_SSL: error:1000007d:SSL routines:OPENSSL_internal:CERTIFICATE_VERIFY_FAILED.\n",
      "E0623 11:59:59.205291000 123145627185152 ssl_transport_security.cc:1420] Handshake failed with fatal error SSL_ERROR_SSL: error:1000007d:SSL routines:OPENSSL_internal:CERTIFICATE_VERIFY_FAILED.\n"
     ]
    }
   ],
   "source": [
    "print(getResponse(prompt))"
   ]
  },
  {
   "cell_type": "code",
   "execution_count": 20,
   "id": "4808cc83",
   "metadata": {},
   "outputs": [
    {
     "ename": "TypeError",
     "evalue": "tuning() missing 3 required positional arguments: 'project_id', 'location', and 'training_data'",
     "output_type": "error",
     "traceback": [
      "\u001b[0;31m---------------------------------------------------------------------------\u001b[0m",
      "\u001b[0;31mTypeError\u001b[0m                                 Traceback (most recent call last)",
      "Cell \u001b[0;32mIn[20], line 56\u001b[0m\n\u001b[1;32m     52\u001b[0m     \u001b[38;5;28;01mreturn\u001b[39;00m model\n\u001b[1;32m     55\u001b[0m \u001b[38;5;28;01mif\u001b[39;00m \u001b[38;5;18m__name__\u001b[39m \u001b[38;5;241m==\u001b[39m \u001b[38;5;124m\"\u001b[39m\u001b[38;5;124m__main__\u001b[39m\u001b[38;5;124m\"\u001b[39m:\n\u001b[0;32m---> 56\u001b[0m     \u001b[43mtuning\u001b[49m\u001b[43m(\u001b[49m\u001b[43m)\u001b[49m\n",
      "\u001b[0;31mTypeError\u001b[0m: tuning() missing 3 required positional arguments: 'project_id', 'location', and 'training_data'"
     ]
    }
   ],
   "source": [
    "\n",
    "\n",
    "# [START aiplatform_sdk_tuning]\n",
    "from __future__ import annotations\n",
    "\n",
    "\n",
    "from google.auth import default\n",
    "import pandas as pd\n",
    "import vertexai\n",
    "from vertexai.preview.language_models import TextGenerationModel\n",
    "\n",
    "credentials, _ = default(scopes=[\"https://www.googleapis.com/auth/cloud-platform\"])\n",
    "\n",
    "\n",
    "def tuning(\n",
    "    project_id: str,\n",
    "    location: str,\n",
    "    training_data: pd.DataFrame | str,\n",
    "    train_steps: int = 10,\n",
    ") -> None:\n",
    "    \"\"\"Tune a new model, based on a prompt-response data.\n",
    "\n",
    "    \"training_data\" can be either the GCS URI of a file formatted in JSONL format\n",
    "    (for example: training_data=f'gs://{bucket}/{filename}.jsonl'), or a pandas\n",
    "    DataFrame. Each training example should be JSONL record with two keys, for\n",
    "    example:\n",
    "      {\n",
    "        \"input_text\": <input prompt>,\n",
    "        \"output_text\": <associated output>\n",
    "      },\n",
    "    or the pandas DataFame should contain two columns:\n",
    "      ['input_text', 'output_text']\n",
    "    with rows for each training example.\n",
    "\n",
    "    Args:\n",
    "      project_id: GCP Project ID, used to initialize vertexai\n",
    "      location: GCP Region, used to initialize vertexai\n",
    "      training_data: GCS URI of jsonl file or pandas dataframe of training data\n",
    "      train_steps: Number of training steps to use when tuning the model.\n",
    "    \"\"\"\n",
    "#     vertexai.init(project=project_id, location=location, credentials=credentials)\n",
    "    model = TextGenerationModel.from_pretrained(\"text-bison@001\")\n",
    "\n",
    "    model.tune_model(\n",
    "        training_data=training_data,\n",
    "        # Optional:\n",
    "        train_steps=train_steps,\n",
    "        tuning_job_location=\"europe-west4\",  # Only supported in europe-west4 for Public Preview\n",
    "        tuned_model_location=location,\n",
    "    )\n",
    "\n",
    "    print(model._job.status)\n",
    "    # [END aiplatform_sdk_tuning]\n",
    "    return model\n",
    "\n",
    "\n",
    "if __name__ == \"__main__\":\n",
    "    tuning()"
   ]
  },
  {
   "cell_type": "code",
   "execution_count": null,
   "id": "3893e3d4",
   "metadata": {},
   "outputs": [],
   "source": [
    "# !gcloud auth application-default login"
   ]
  },
  {
   "cell_type": "code",
   "execution_count": 43,
   "id": "424c3e81",
   "metadata": {},
   "outputs": [
    {
     "name": "stdout",
     "output_type": "stream",
     "text": [
      "43\n",
      "===============\n",
      "\n",
      "\n",
      "\n",
      "{'doc': Document(page_content='B u r n\\nD a s h b o a r d\\n1 .\\nI n\\nt h e\\ns h i p p i n g\\nS O P\\nt e a m s\\nw i l l\\nh a v e\\nt o\\ns h a r e\\ne x p e c t e d\\nb u r n\\np e r\\nd a y\\n/\\np e r\\nh o u r\\nd u r i n g\\np e a k\\nh o u r s\\n2 .\\nB u s i n e s s\\n/ b i z\\nﬁ n\\nt e a m\\nw i l l\\nh a v e\\nt o\\nm o n i t o r\\ns h i p p i n g\\nb u r n\\nd u r i n g\\nt h e\\nd a y\\na n d\\nr a i s e\\nt h e\\nc o n c e r n s\\ni f\\nb u r n\\ni s\\nm o r e\\nt h a n\\ne x p e c t e d .\\nR u l e s\\nw i l l\\no n l y\\nb e\\nd i s a b l e d\\nw h e n\\nb u r n\\ni s\\nm o r e\\nF e e d b a c k\\n2 .\\nA d d i n g\\nc o n s u m e r\\nc u t', metadata={'source': 'RelevantSOPs/_SOP for Shipping Rule Creation.pdf', 'page': 2})}\n",
      "+++++++++++++++++++++++++++++++++++++++++++++\n",
      "{'doc': Document(page_content='D o w n l o a d\\nt h e\\nS a m p l e\\nﬁ l e .\\nI t\\nw i l l\\nl o o k\\na s\\ns h o w n\\nb e l o w .\\nA d d\\nt h e\\nF S N s\\nt h a t\\ny o u\\nw a n t\\nt o\\nb e\\np a r t\\no f\\nt h e\\nr e c o m m e n d a t i o n\\nt o\\nt h e\\nﬁ l e\\na n d\\nu p l o a d\\ni t .\\nA\\ns a m p l e\\nﬁ l e\\nw i t h\\na\\ns a m p l e\\nF S N\\nh a s\\nb e e n\\ns h o w n\\nb e l o w .', metadata={'source': 'RelevantSOPs/Seller Recommendation for an Offer.pdf', 'page': 2})}\n",
      "+++++++++++++++++++++++++++++++++++++++++++++\n",
      "{'doc': Document(page_content='W h a t\\ni s\\nG r u m b l e s ?\\nH o w\\nt o\\ng e t\\nG r u m b l e s\\nA c c e s s\\nU s i n g\\nG r u m b l e s\\nW h a t\\na r e\\nC o n d i t i o n a l\\nO ﬀ e r s ?\\nD e ﬁ n i n g\\nt h e\\no ﬀ e r\\nO ﬀ e r\\nT y p e\\nO ﬀ e r\\nF o r m a t\\nP r o d u c t\\nS e l e c t i o n\\nD i s c o v e r y\\nS u m m a r y\\nS c r e e n\\nA p p r o v i n g\\no ﬀ e r s\\nW h o\\na p p r o v e s\\no ﬀ e r s ?\\nR o l e\\no f\\no ﬀ e r\\na p p r o v e r\\nH o w\\nt o\\na p p r o v e ?\\nP u b l i s h i n g\\no ﬀ e r s\\nP a u s i n g\\na n\\no ﬀ e r\\nS e l l e r\\nR e c o m m e n d a t i o n', metadata={'source': 'RelevantSOPs/Offer Creation via Grumbles .pdf', 'page': 0})}\n",
      "+++++++++++++++++++++++++++++++++++++++++++++\n",
      "{'doc': Document(page_content='●\\nC l i c k\\no n\\nt h e\\np u b l i s h\\nb u t t o n\\no n\\nt h e\\no ﬀ e r\\nc a r d\\n●\\nA\\ns u c c e s s\\nm e s s a g e\\nw i t h\\na\\nu n i q u e\\no ﬀ e r\\ni d\\nw i l l\\ns h o w\\nu p\\no n\\nt h e\\ns c r e e n\\no n c e\\nt h e\\no ﬀ e r\\nh a s\\nb e e n\\np u b l i s h e d .\\nP a u s i n g\\na n\\no ﬀ e r', metadata={'source': 'RelevantSOPs/Offer Creation via Grumbles .pdf', 'page': 11})}\n",
      "+++++++++++++++++++++++++++++++++++++++++++++\n"
     ]
    }
   ],
   "source": [
    "from langchain.evaluation.qa import QAGenerateChain\n",
    "# ~/Documents/Mylearnings/GenAI/venv/env/lib/python3.9/site-packages/langchain/chains/llm.py:257\n",
    "example_gen_chain = QAGenerateChain.from_llm(vertex_llm_text)\n",
    "# new_examples = example_gen_chain.apply_and_parse(\n",
    "#     [{\"doc\": t} for t in pages]\n",
    "# )\n",
    "print(len(pages))\n",
    "# print([{\"doc\": t} for t in pages[0:2]])\n",
    "print(\"===============\\n\\n\\n\")\n",
    "# new_examples = []\n",
    "listt = []\n",
    "for i in range(len(pages)):\n",
    "    try:\n",
    "#         print (i)\n",
    "        dictt = {}\n",
    "        dictt[\"doc\"] = pages[i]\n",
    "        listt.append(dictt)\n",
    "    except:\n",
    "        print (ERROR)\n",
    "        \n",
    "# print (listt)\n",
    "\n",
    "# new_examples = example_gen_chain.apply_and_parse(listt)\n",
    "new_examples = []\n",
    "for item in listt:\n",
    "    try:\n",
    "        new_examples.append(example_gen_chain.apply_and_parse_pkReplica(item)[0])\n",
    "    except:\n",
    "        print(item)\n",
    "        print(\"+++++++++++++++++++++++++++++++++++++++++++++\")\n",
    "\n",
    "# print(new_examples[0])\n",
    "# for t in pages:\n",
    "#     print (t)\n",
    "#     dictt[\"doc\"] = t\n",
    "#     listt.append()\n",
    "#     new_examples.append(example_gen_chain.apply_and_parse(t})"
   ]
  },
  {
   "cell_type": "code",
   "execution_count": 44,
   "id": "82692771",
   "metadata": {},
   "outputs": [
    {
     "name": "stdout",
     "output_type": "stream",
     "text": [
      "Done\n"
     ]
    }
   ],
   "source": [
    "#### writing data into a text file\n",
    "with open(r'./training/trainingDataAutoGen.txt', 'w') as fp:\n",
    "    for item in new_examples:\n",
    "        # write each item on a new line\n",
    "        fp.write(\"%s\\n\" % item)\n",
    "    print('Done')"
   ]
  },
  {
   "cell_type": "code",
   "execution_count": null,
   "id": "6260631e",
   "metadata": {},
   "outputs": [],
   "source": []
  },
  {
   "cell_type": "code",
   "execution_count": 45,
   "id": "04acb77a",
   "metadata": {},
   "outputs": [],
   "source": [
    "### use the generated question to get answer from the model\n",
    "\n",
    "### All the above steps can be done in sigle step\n",
    "## here we are creating RetrievalQA chain\n",
    "### we pass - llm -> used for summary\n",
    "### chain_type -> simplest method to create context\n",
    "### retriever -> interface to fetch document\n",
    "from langchain.chains import RetrievalQA\n",
    "qa_stuff = RetrievalQA.from_chain_type(\n",
    "    llm=vertex_llm_text, \n",
    "    chain_type=\"stuff\", \n",
    "    retriever=retriever, \n",
    "    verbose=True,\n",
    "    chain_type_kwargs = {\n",
    "        \"document_separator\": \"<<<< >>>>>\"\n",
    "    }\n",
    ")"
   ]
  },
  {
   "cell_type": "code",
   "execution_count": 38,
   "id": "a97c27db",
   "metadata": {},
   "outputs": [
    {
     "name": "stdout",
     "output_type": "stream",
     "text": [
      "[{'query': 'What are the requirements for a dynamic segmentation offer?', 'answer': 'Dynamic segmentation is dependent on how the product selection for an offer has been defined. Following product selection configuration are of dynamic segmentation type: Following product selection configuration are NOT of dynamic segmentation type:'}, {'query': 'What is the difference between a dynamic offer and a deferred give away offer?', 'answer': 'Dynamic offers are based on system events, while deferred give away offers are based on transaction based promise call out offers.'}]\n",
      "<class 'dict'>\n",
      "\u001b[32;1m\u001b[1;3m[chain/start]\u001b[0m \u001b[1m[1:chain:RetrievalQA] Entering Chain run with input:\n",
      "\u001b[0m{\n",
      "  \"query\": \"What are the requirements for a dynamic segmentation offer?\"\n",
      "}\n",
      "\u001b[32;1m\u001b[1;3m[chain/start]\u001b[0m \u001b[1m[1:chain:RetrievalQA > 2:chain:StuffDocumentsChain] Entering Chain run with input:\n",
      "\u001b[0m[inputs]\n",
      "\u001b[32;1m\u001b[1;3m[chain/start]\u001b[0m \u001b[1m[1:chain:RetrievalQA > 2:chain:StuffDocumentsChain > 3:chain:LLMChain] Entering Chain run with input:\n",
      "\u001b[0m{\n",
      "  \"question\": \"What are the requirements for a dynamic segmentation offer?\",\n",
      "  \"context\": \"1.\\nA\\ntargeted\\noffer:\\n10%\\noff\\non\\nPuma.\\n2.\\nPromise\\ncallout\\noffer:\\nShop\\nworth\\nRs.\\n1000\\non\\nPuma.\\nThe\\ntargeted\\ngiveaway\\noffer\\nwill\\nbe\\nprovided\\nas\\ninput\\non\\ngrumbles.\\nOffer\\nLifecycle\\nPrerequisites-\\nThere\\nare\\nsome\\nhard\\nconstraints\\nfor\\nthe\\noffer\\ncreation\\nprocess.\\nThis\\nis\\nto\\nguardrail\\ncustomer\\nexperience,\\nand\\nensure\\nthat\\ncustomers\\nhave\\nenough\\ntime\\nto\\nredeem\\nthe\\noffer.\\nLet\\u2019s\\nsay\\nthe\\nfollowing\\nplan\\nis\\nmade\\nfor\\nthe\\noffer\\nto\\ngo-live\\n\\u25cf\\nTargeted\\nGiveaway\\nOffer\\n-\\nT3\\n(start\\ntime\\nof\\ntargeted\\noffer)\\nto\\nT4\\n(end\\ntime\\nof\\ntargeted\\noffer)\\n\\u25cf\\nPromise\\nCallout\\nOffer\\n-\\nT1\\n(start\\ntime\\nof\\npromise\\ncallout\\noffer)\\nto\\nT2\\n(end\\ntime\\nof\\npromise\\ncallout\\noffer)\\nThe\\nfollowing\\nconditions\\napply:\\n\\u25cf\\nT3\\nshould\\nstart\\nno\\nearlier\\nthan\\nT1\\n(which\\nmeans\\nthe\\ntargeted\\noffer\\nshould\\nnot\\nstart\\nearlier\\nthan\\nthe\\nstart\\nof\\nthe\\npromise\\ncallout\\noffer).\\n\\u25cf\\nThe\\nduration\\nbetween\\nT2\\n(end\\nof\\ncallout\\noffer)\\nand\\nT4\\n(End\\nof\\ntargeted\\noffer)\\nshould\\nbe\\nat\\nleast\\n30\\n+\\nx\\ndays,\\nwhere\\nx\\nis\\nthe\\ntime\\ndilation\\nfactor\\n(#days\\npost\\norder\\ndelivery/placement\\nwhen\\nthe\\ncustomer\\nwill\\nget\\nmapped\\nto\\nthe\\ngiveaway\\noffer.\\nThis\\nis\\nto\\nensure\\nthat\\nthe\\nuser\\nstill\\nhas\\nenough\\ntime\\nto\\nredeem\\nthe\\ngiveaway\\noffer.\\n\\u25cf\\nGiveaway\\noffer\\nshould\\nbe\\nlive\\nat\\nthe\\ntime\\nof\\ncreation\\nof\\nthe\\npromise\\ncallout\\noffer\\nW h a t\\na r e\\nS h i p p i n g\\nO f f e r s ?\\nA n s w e r :\\nShipping\\noffers\\nare\\ndiscounts\\non\\nthe\\nshipping\\nfee,\\nwhich\\ncan\\nbe\\nof\\ntwo\\ntypes:\\n1.\\nListing\\nShipping\\nOffers\\n-\\nThese\\noffers\\ndo\\nnot\\nrequire\\nany\\nvalue\\nbased\\nhurdle\\nto\\nbe\\nmet\\nfor\\nfree\\nshipping\\nto\\nbe\\napplicable\\non\\na\\nlisting.\\nExamples\\ninclude\\nFree\\nShipping\\non\\nselect\\nFSNs/Verticals\\n2.\\nBasket\\nShipping\\nOffers\\n-\\nThese\\noffers\\nrequire\\na\\nvalue\\nbased\\nhurdle\\nto\\nbe\\nmet\\nfor\\nfree\\nshipping\\nto\\nbe\\napplicable.\\nExamples\\ninclude\\nFree\\nShipping\\non\\nTshirt\\nbasket\\n>\\nRs.\\n200.\\nShipping\\nOffers\\ncan\\nonly\\nsupport\\n100%\\nGiveaway\\nie.\\nFree\\nShipping\\nis\\nthe\\nonly\\ndiscount\\navailable.\\nPartial\\ndiscounting\\nis\\nnot\\nsupported.\\nFor\\nGrocery\\nand\\nHyperlocal,\\nFree\\nShipping\\noffers\\nwill\\nbe\\nconfigured\\non\\nthe\\nentire\\nmarketplace,\\nas\\nshipping\\nfee\\nis\\nat\\na\\ncart\\nlevel\\nand\\nnot\\nat\\nlisting\\nlevel.\\nW h a t\\na r e\\nT a r g e t e d\\nD i s c o u n t s ?\\nA n s w e r :\\nTargeted\\ndiscounts\\nrefer\\nto\\nany\\noffer\\non\\nthe\\nplatform\\nthat\\nis\\navailable\\nonly\\nto\\na\\nlimited\\nset\\nof\\ncustomers.\\nW h a t\\no f f e r\\nf o r m a t s\\na r e\\na v a i l a b l e\\nf o r\\nt a r g e t e d\\nd i s c o u n t s ?\\nAll\\nconditional\\noffer\\nformats\\navailable\\nin\\ngrumbles,\\nexcept\\nFlipkart\\nWide\\nOffers,\\ncan\\nbe\\ntargeted\\nin\\nnature.\\nWhile\\nyou\\nmight\\nsee\\nthe\\noption\\non\\nGrumbles,\\nwe\\ndo\\nnot\\nsupport\\ncreation\\nof\\nsite\\nwide\\ntargeted\\noffers.<<<< >>>>>Buy\\nP1,\\nget\\nx%\\noff\\non\\nP2\\nIncentivised\\nAttach\\nOffers\\nare\\nmulti\\nproduct\\ngroup\\noffers\\nthat\\nhave\\na\\nhurdle\\non\\n1\\nproduct\\ngroup,\\nand\\na\\ngiveaway\\non\\na\\ndifferent\\nproduct\\ngroup.\\nProduct\\ngroup\\nrefers\\nto\\na\\nset\\nof\\nFSNs\\ndefined\\nby\\nthe\\noffer\\ncreator.\\nIf\\nthe\\ncombo\\noffer\\nhas\\n2\\nPGs,\\na\\nuser\\nneeds\\nto\\nbuy\\nan\\nitem\\nfrom\\neach\\nof\\nthe\\nPG\\nwhich\\nwill\\nmake\\nhim/her\\neligible\\nfor\\ndiscount\\non\\nthe\\nsecond\\nPG.\\nE.g.\\nBuy\\nmobiles,\\nget\\n10%\\noff\\non\\nearphones\\nPG1\\n-\\nMobiles\\nPG\\n2\\n-\\nEarphones\\nIf\\na\\ncustomer\\npurchases\\nboth\\n1\\nmobile\\nand\\n1\\nearphones\\nin\\nthe\\nsame\\ntransaction,\\nthey\\nwill\\nget\\n10%\\noff\\non\\nthe\\nearphones\\nlistings.\\nIncentivised\\nAttach\\nOffers\\nare\\nalso\\nknown\\nas\\nBundle\\nOffers.\\nHurdle\\nis\\non\\nbuying\\nPG1\\n+\\nPG2\\ntogether\\nGiveaway\\nis\\non\\nPG2\\nin\\nform\\nof\\npercentage\\ndiscount.\\nW h a t\\ni s\\na\\nP r o m i s e\\nC a l l o u t\\nO f f e r ?\\nA n s w e r :\\nThese\\nare\\ntransaction\\nbased\\noffers\\nwith\\na\\ndeferred\\ngiveaway.\\nie\\n-\\nA\\nuser\\nwho\\nshops\\nfrom\\na\\nparticular\\nselection\\nas\\nper\\ndefined\\ncriteria\\ngets\\na\\nbenefit\\non\\nhis\\nnext\\npurchase\\non\\na\\npredefined\\nset\\nof\\nproducts.\\nExample:\\n\\u25cf\\nShop\\nworth\\nRs\\n1000\\nin\\nlifestyle\\nand\\nget\\n10%\\noff\\non\\nyour\\nnext\\nlifestyle\\npurchase\\nbefore\\n31\\nAugust\\n\\u25cf\\nShop\\nworth\\nRs\\n200\\nfrom\\nPuma\\nand\\nget\\nextra\\n5%\\noff\\non\\nPuma\\nduring\\nthe\\nnext\\nPayday\\nsale\\n\\u25cf\\nShop\\nin\\nDecember,\\nget\\n10%\\noff\\non\\nyour\\npurchase\\nfor\\nthe\\nnext\\n3\\nmonths\\nThere\\nare\\n2\\nsteps\\nto\\nevery\\npromise\\ncallout\\noffer.\\n1.\\nCreation\\nof\\nthe\\ntargeted\\ngiveaway\\noffer\\n-\\n\\u25cb\\nThis\\nis\\nthe\\noffer\\nwith\\nthe\\ngiveaway\\nwhich\\nwill\\nbe\\napplicable\\non\\nthe\\ncustomer\\u2019s\\nsecond\\norder\\n\\u25cb\\nCustomers\\nwho\\nare\\neligible\\nas\\nper\\nthe\\ndefined\\ncriteria\\nwill\\nbe\\nautomatic\\nmapped\\nto\\nthis\\noffer.\\n\\u25cb\\nThis\\nis\\nto\\nbe\\ncreated\\nfirst,\\nas\\nthis\\nis\\nan\\ninput\\nto\\nthe\\nfirst\\ncallout\\noffers.\\n\\u25cb\\nThis\\nis\\ncreated\\non\\nlistings\\non\\nwhich\\ndiscounts\\nwould\\nbe\\ngiven.\\nSeller\\nburn\\nwill\\nbe\\nconfigured\\non\\nthis\\noffer.\\n2.\\nCreation\\nof\\nthe\\nPromise\\ncallout\\noffer\\n-\\n\\u25cb\\nThis\\nis\\nthe\\ncallout\\noffer\\nwhich\\nwill\\nbe\\nvisible\\non\\nthe\\ncustomer\\u2019s\\nfirst\\norder.\\n\\u25cb\\nThis\\nis\\nto\\nbe\\ncreated\\nsecond,\\nas\\nthis\\nrequires\\nthe\\nabove\\noffer\\nto\\nbe\\ngiven\\nas\\ninput\\n\\u25cb\\nThis\\nis\\ncreated\\non\\nlistings\\non\\nwhich\\ncallout\\nwould\\nbe\\ndone.\\nThere\\nis\\nno\\nseller\\nburn\\nassociated\\nwith\\nthis\\noffer.\\n\\u25cb\\nAny\\ncustomer\\nwho\\nfulfils\\nthe\\ncriteria\\ndefined\\nin\\nthis\\noffer\\nwill\\nbe\\nautomatically\\nmapped\\nto\\nthe\\ntargeted\\ngiveaway\\noffer.\\nExample:\\nShop\\nworth\\nRs\\n1000\\nfrom\\nPuma\\nand\\nget\\nextra\\n10%\\noff\\non\\nPuma\\non\\nyour\\nnext\\npurchase\\nTo\\nenable\\nthis\\nconstruct,\\n2\\noffers\\nwill\\nhave\\nto\\nbe\\ncreated\\non\\nGrumbles.\\nThe\\nsteps\\nfor\\neach\\nhas\\nbeen\\ndetailed\\nbelow<<<< >>>>>Cash\\nand\\nCoins\\noffers\\nare\\nused\\nto\\ncreate\\nsupercoins\\noffer\\non\\nyour\\nproduct\\nselection\\nwherein\\ncustomers\\ncan\\npurchase\\na\\nproduct\\nby\\npaying\\npart\\namount\\nin\\ncash\\nand\\npart\\namount\\nin\\nsupercoins.\\nHurdle\\nis\\non\\nproduct\\nselection\\nand\\ngiveaway\\nis\\npercentage\\nconvertible\\ncoins\\nor\\namount\\nconvertible\\ncoins.\\nW h a t\\na r e\\nC o m b o\\nO f f e r s ?\\nCombo\\nOffers\\nare\\nmulti\\nproduct\\ngroup\\noffers\\nthat\\nhave\\na\\nhurdle\\non\\nPGs\\nthat\\nhave\\nbeen\\ndefined\\nin\\nthe\\noffer\\nwith\\ngiveaway\\non\\neach\\nof\\nthe\\nPGs\\nin\\nthe\\noffer.\\nE.g.\\nIf\\nthe\\ncombo\\noffer\\nhas\\n2\\nPGs,\\na\\nuser\\nneeds\\nto\\nbuy\\nan\\nitem\\nfrom\\neach\\nof\\nthe\\nPG\\nwhich\\nwill\\nmake\\nhim/her\\neligible\\nfor\\ndiscount\\non\\nproducts\\nof\\nboth\\nthe\\nPGs.\\nCombo\\nOffers\\nalso\\nopen\\nup\\nthe\\nopportunity\\nto\\nhave\\nsoft\\nbundling\\nenabled\\non\\nthe\\nFlipkart\\nPlatform.\\nHurdle-\\nProduct\\nSelection-\\nPG1,\\nPG2\\nor\\nPG3\\nGIveaway-\\npercentage\\noff,\\nflat\\namount\\noff\\nCombo\\nOffers\\ncan\\nbe\\nmanifested\\nin\\nthe\\nfollowing\\nforms\\n:\\n1)\\nBuy\\nP1\\nand\\nP2\\nget\\n10%\\noff\\non\\nboth\\nP1\\nand\\nP2\\n2)\\nBuy\\nP1\\nand\\nP2\\nget\\n10%\\noff\\non\\nP1\\nand\\n5%\\noff\\non\\nP2\\n3)\\nBuy\\n3\\nof\\nP1\\nget\\n10%\\noff\\non\\nall\\n3\\nunits\\nof\\nP1\\n4)\\nBuy\\n2\\nof\\nP1\\nand\\n1\\nof\\nP2\\nget\\n10%\\noff\\non\\n2\\nunits\\nfrom\\nP1\\nand\\n1\\nfrom\\nP2.\\nCombo\\noffers\\nare\\navailable\\nfully\\nfor\\nGrocery\\nwith\\nrelevant\\nexperience\\nand\\nfor\\nFlipkart\\nmarketplace\\nas\\nwell\\nbut\\nwith\\nno\\nexperience\\nas\\nsuch\\nas\\nof\\ntoday.\\nW h a t\\ni s\\nE i t h e r\\no r\\nc a p a b i l i t y\\n?\\nA n s w e r :\\nOffers\\nmarked\\nwith\\neither\\nor\\ndo\\nnot\\nadd\\nup\\nfor\\na\\nuser,\\n&\\nif\\nboth\\nthe\\noffers\\nbecome\\navailable\\nfor\\na\\nuser,\\nthey\\nneed\\nto\\nchoose\\namongst\\none\\nof\\nthem,\\nalthough\\nwe\\npre\\nselect\\nthe\\nmost\\nrelevant\\none\\nfor\\nthem\\nby\\ndefault.\\nEither\\nor\\nworks\\nat\\na\\nlisting\\nlevel\\nmeaning,\\nif\\nthere\\nare\\n2\\nor\\nmore\\nEO\\noffers\\navailable\\nonly\\nthen\\nwill\\nthe\\nEO\\nflows\\nbe\\ntriggered,\\nelse\\nthey\\nare\\ntreated\\nas\\nnormal\\noffer.\\nAs\\nof\\nnow\\nBank\\noffer\\nand\\nexchange\\noffer\\nare\\navailable\\nas\\neither\\nor\\ncapability\\nenabled\\noffer\\nW h a t\\na r e\\nI n c e n t i v i s e d\\nA t t a c h\\nO f f e r s ?\\nA n s w e r :<<<< >>>>>W h a t\\ni s\\na\\nG r o u p\\nB u y i n g\\no f f e r\\n?\\nA n s w e r :\\nG r o u p\\nB u y i n g\\no f f e r\\ni s\\na\\nc o n d i t i o n a l\\no f f e r\\nf o r m a t\\nw h e r e i n\\nc u s t o m e r s\\nc a n\\nb u y\\nt h e\\np r o d u c t\\ns e l e c t i o n\\nu n d e r\\no f f e r\\na t\\na\\nd i s c o u n t e d\\nG r o u p\\nB u y\\np r i c e\\nw h e r e\\nt h e\\no r d e r\\nw i l l\\nb e\\nd i s p a t c h e d\\no n l y\\nw h e n\\ng r o u p\\nh u r d l e\\n( B r i n g\\nm i n i m u m\\nX\\nm e m b e r s\\nw i t h i n\\nY Y\\nh o u r s )\\ni s\\nc o m p l e t e d .\\nH u r d l e\\nM i n .\\nG r o u p\\ns i z e\\na n d\\ng r o u p\\nv a l i d i t y\\nt i m e r\\nG i v e a w a y\\nE x t r a\\nX %\\no f f\\no n\\nF K F P\\nMinimum\\ngroup\\nsize\\nand\\ngroup\\nvalidity\\ntimer\\nwould\\nbe\\nfixed\\nfor\\ncategories\\nand\\ncannot\\nbe\\nselected/changed\\non\\ngrumbles\\nUI.\\nH o w\\nt o\\nc r e a t e\\na n\\nA / B\\no n\\no f f e r\\n?\\nA n s w e r :\\nCreating\\nan\\noffer\\nunder\\nan\\nA/B\\ninvolves\\n2\\nsteps:\\n\\u25cb\\nCreating\\nthe\\nA/B\\non\\nStatsig\\n(which\\nis\\nFlipkart\\u2019s\\nA/B\\nplatform)\\n\\u25cb\\nAdding\\nthe\\nA/B\\ncontext\\nto\\nthe\\noffer\\nwhile\\ncreating\\nit\\non\\nGrumbles\\nEvery\\noffer\\nformat\\nis\\nenabled\\nfor\\nrunning\\nA/B\\nwith\\nan\\noption\\non\\nGrumbles\\nconsole.\\nOnly\\n100%\\nseller\\nburn\\noffers\\ncan\\nbe\\nconsidered\\nfor\\nA/B\\ncreation.\"\n",
      "}\n",
      "\u001b[32;1m\u001b[1;3m[llm/start]\u001b[0m \u001b[1m[1:chain:RetrievalQA > 2:chain:StuffDocumentsChain > 3:chain:LLMChain > 4:llm:VertexAI] Entering LLM run with input:\n",
      "\u001b[0m{\n",
      "  \"prompts\": [\n",
      "    \"Use the following pieces of context to answer the question at the end. If you don't know the answer, just say that you don't know, don't try to make up an answer.\\n\\n1.\\nA\\ntargeted\\noffer:\\n10%\\noff\\non\\nPuma.\\n2.\\nPromise\\ncallout\\noffer:\\nShop\\nworth\\nRs.\\n1000\\non\\nPuma.\\nThe\\ntargeted\\ngiveaway\\noffer\\nwill\\nbe\\nprovided\\nas\\ninput\\non\\ngrumbles.\\nOffer\\nLifecycle\\nPrerequisites-\\nThere\\nare\\nsome\\nhard\\nconstraints\\nfor\\nthe\\noffer\\ncreation\\nprocess.\\nThis\\nis\\nto\\nguardrail\\ncustomer\\nexperience,\\nand\\nensure\\nthat\\ncustomers\\nhave\\nenough\\ntime\\nto\\nredeem\\nthe\\noffer.\\nLet\\u2019s\\nsay\\nthe\\nfollowing\\nplan\\nis\\nmade\\nfor\\nthe\\noffer\\nto\\ngo-live\\n\\u25cf\\nTargeted\\nGiveaway\\nOffer\\n-\\nT3\\n(start\\ntime\\nof\\ntargeted\\noffer)\\nto\\nT4\\n(end\\ntime\\nof\\ntargeted\\noffer)\\n\\u25cf\\nPromise\\nCallout\\nOffer\\n-\\nT1\\n(start\\ntime\\nof\\npromise\\ncallout\\noffer)\\nto\\nT2\\n(end\\ntime\\nof\\npromise\\ncallout\\noffer)\\nThe\\nfollowing\\nconditions\\napply:\\n\\u25cf\\nT3\\nshould\\nstart\\nno\\nearlier\\nthan\\nT1\\n(which\\nmeans\\nthe\\ntargeted\\noffer\\nshould\\nnot\\nstart\\nearlier\\nthan\\nthe\\nstart\\nof\\nthe\\npromise\\ncallout\\noffer).\\n\\u25cf\\nThe\\nduration\\nbetween\\nT2\\n(end\\nof\\ncallout\\noffer)\\nand\\nT4\\n(End\\nof\\ntargeted\\noffer)\\nshould\\nbe\\nat\\nleast\\n30\\n+\\nx\\ndays,\\nwhere\\nx\\nis\\nthe\\ntime\\ndilation\\nfactor\\n(#days\\npost\\norder\\ndelivery/placement\\nwhen\\nthe\\ncustomer\\nwill\\nget\\nmapped\\nto\\nthe\\ngiveaway\\noffer.\\nThis\\nis\\nto\\nensure\\nthat\\nthe\\nuser\\nstill\\nhas\\nenough\\ntime\\nto\\nredeem\\nthe\\ngiveaway\\noffer.\\n\\u25cf\\nGiveaway\\noffer\\nshould\\nbe\\nlive\\nat\\nthe\\ntime\\nof\\ncreation\\nof\\nthe\\npromise\\ncallout\\noffer\\nW h a t\\na r e\\nS h i p p i n g\\nO f f e r s ?\\nA n s w e r :\\nShipping\\noffers\\nare\\ndiscounts\\non\\nthe\\nshipping\\nfee,\\nwhich\\ncan\\nbe\\nof\\ntwo\\ntypes:\\n1.\\nListing\\nShipping\\nOffers\\n-\\nThese\\noffers\\ndo\\nnot\\nrequire\\nany\\nvalue\\nbased\\nhurdle\\nto\\nbe\\nmet\\nfor\\nfree\\nshipping\\nto\\nbe\\napplicable\\non\\na\\nlisting.\\nExamples\\ninclude\\nFree\\nShipping\\non\\nselect\\nFSNs/Verticals\\n2.\\nBasket\\nShipping\\nOffers\\n-\\nThese\\noffers\\nrequire\\na\\nvalue\\nbased\\nhurdle\\nto\\nbe\\nmet\\nfor\\nfree\\nshipping\\nto\\nbe\\napplicable.\\nExamples\\ninclude\\nFree\\nShipping\\non\\nTshirt\\nbasket\\n>\\nRs.\\n200.\\nShipping\\nOffers\\ncan\\nonly\\nsupport\\n100%\\nGiveaway\\nie.\\nFree\\nShipping\\nis\\nthe\\nonly\\ndiscount\\navailable.\\nPartial\\ndiscounting\\nis\\nnot\\nsupported.\\nFor\\nGrocery\\nand\\nHyperlocal,\\nFree\\nShipping\\noffers\\nwill\\nbe\\nconfigured\\non\\nthe\\nentire\\nmarketplace,\\nas\\nshipping\\nfee\\nis\\nat\\na\\ncart\\nlevel\\nand\\nnot\\nat\\nlisting\\nlevel.\\nW h a t\\na r e\\nT a r g e t e d\\nD i s c o u n t s ?\\nA n s w e r :\\nTargeted\\ndiscounts\\nrefer\\nto\\nany\\noffer\\non\\nthe\\nplatform\\nthat\\nis\\navailable\\nonly\\nto\\na\\nlimited\\nset\\nof\\ncustomers.\\nW h a t\\no f f e r\\nf o r m a t s\\na r e\\na v a i l a b l e\\nf o r\\nt a r g e t e d\\nd i s c o u n t s ?\\nAll\\nconditional\\noffer\\nformats\\navailable\\nin\\ngrumbles,\\nexcept\\nFlipkart\\nWide\\nOffers,\\ncan\\nbe\\ntargeted\\nin\\nnature.\\nWhile\\nyou\\nmight\\nsee\\nthe\\noption\\non\\nGrumbles,\\nwe\\ndo\\nnot\\nsupport\\ncreation\\nof\\nsite\\nwide\\ntargeted\\noffers.<<<< >>>>>Buy\\nP1,\\nget\\nx%\\noff\\non\\nP2\\nIncentivised\\nAttach\\nOffers\\nare\\nmulti\\nproduct\\ngroup\\noffers\\nthat\\nhave\\na\\nhurdle\\non\\n1\\nproduct\\ngroup,\\nand\\na\\ngiveaway\\non\\na\\ndifferent\\nproduct\\ngroup.\\nProduct\\ngroup\\nrefers\\nto\\na\\nset\\nof\\nFSNs\\ndefined\\nby\\nthe\\noffer\\ncreator.\\nIf\\nthe\\ncombo\\noffer\\nhas\\n2\\nPGs,\\na\\nuser\\nneeds\\nto\\nbuy\\nan\\nitem\\nfrom\\neach\\nof\\nthe\\nPG\\nwhich\\nwill\\nmake\\nhim/her\\neligible\\nfor\\ndiscount\\non\\nthe\\nsecond\\nPG.\\nE.g.\\nBuy\\nmobiles,\\nget\\n10%\\noff\\non\\nearphones\\nPG1\\n-\\nMobiles\\nPG\\n2\\n-\\nEarphones\\nIf\\na\\ncustomer\\npurchases\\nboth\\n1\\nmobile\\nand\\n1\\nearphones\\nin\\nthe\\nsame\\ntransaction,\\nthey\\nwill\\nget\\n10%\\noff\\non\\nthe\\nearphones\\nlistings.\\nIncentivised\\nAttach\\nOffers\\nare\\nalso\\nknown\\nas\\nBundle\\nOffers.\\nHurdle\\nis\\non\\nbuying\\nPG1\\n+\\nPG2\\ntogether\\nGiveaway\\nis\\non\\nPG2\\nin\\nform\\nof\\npercentage\\ndiscount.\\nW h a t\\ni s\\na\\nP r o m i s e\\nC a l l o u t\\nO f f e r ?\\nA n s w e r :\\nThese\\nare\\ntransaction\\nbased\\noffers\\nwith\\na\\ndeferred\\ngiveaway.\\nie\\n-\\nA\\nuser\\nwho\\nshops\\nfrom\\na\\nparticular\\nselection\\nas\\nper\\ndefined\\ncriteria\\ngets\\na\\nbenefit\\non\\nhis\\nnext\\npurchase\\non\\na\\npredefined\\nset\\nof\\nproducts.\\nExample:\\n\\u25cf\\nShop\\nworth\\nRs\\n1000\\nin\\nlifestyle\\nand\\nget\\n10%\\noff\\non\\nyour\\nnext\\nlifestyle\\npurchase\\nbefore\\n31\\nAugust\\n\\u25cf\\nShop\\nworth\\nRs\\n200\\nfrom\\nPuma\\nand\\nget\\nextra\\n5%\\noff\\non\\nPuma\\nduring\\nthe\\nnext\\nPayday\\nsale\\n\\u25cf\\nShop\\nin\\nDecember,\\nget\\n10%\\noff\\non\\nyour\\npurchase\\nfor\\nthe\\nnext\\n3\\nmonths\\nThere\\nare\\n2\\nsteps\\nto\\nevery\\npromise\\ncallout\\noffer.\\n1.\\nCreation\\nof\\nthe\\ntargeted\\ngiveaway\\noffer\\n-\\n\\u25cb\\nThis\\nis\\nthe\\noffer\\nwith\\nthe\\ngiveaway\\nwhich\\nwill\\nbe\\napplicable\\non\\nthe\\ncustomer\\u2019s\\nsecond\\norder\\n\\u25cb\\nCustomers\\nwho\\nare\\neligible\\nas\\nper\\nthe\\ndefined\\ncriteria\\nwill\\nbe\\nautomatic\\nmapped\\nto\\nthis\\noffer.\\n\\u25cb\\nThis\\nis\\nto\\nbe\\ncreated\\nfirst,\\nas\\nthis\\nis\\nan\\ninput\\nto\\nthe\\nfirst\\ncallout\\noffers.\\n\\u25cb\\nThis\\nis\\ncreated\\non\\nlistings\\non\\nwhich\\ndiscounts\\nwould\\nbe\\ngiven.\\nSeller\\nburn\\nwill\\nbe\\nconfigured\\non\\nthis\\noffer.\\n2.\\nCreation\\nof\\nthe\\nPromise\\ncallout\\noffer\\n-\\n\\u25cb\\nThis\\nis\\nthe\\ncallout\\noffer\\nwhich\\nwill\\nbe\\nvisible\\non\\nthe\\ncustomer\\u2019s\\nfirst\\norder.\\n\\u25cb\\nThis\\nis\\nto\\nbe\\ncreated\\nsecond,\\nas\\nthis\\nrequires\\nthe\\nabove\\noffer\\nto\\nbe\\ngiven\\nas\\ninput\\n\\u25cb\\nThis\\nis\\ncreated\\non\\nlistings\\non\\nwhich\\ncallout\\nwould\\nbe\\ndone.\\nThere\\nis\\nno\\nseller\\nburn\\nassociated\\nwith\\nthis\\noffer.\\n\\u25cb\\nAny\\ncustomer\\nwho\\nfulfils\\nthe\\ncriteria\\ndefined\\nin\\nthis\\noffer\\nwill\\nbe\\nautomatically\\nmapped\\nto\\nthe\\ntargeted\\ngiveaway\\noffer.\\nExample:\\nShop\\nworth\\nRs\\n1000\\nfrom\\nPuma\\nand\\nget\\nextra\\n10%\\noff\\non\\nPuma\\non\\nyour\\nnext\\npurchase\\nTo\\nenable\\nthis\\nconstruct,\\n2\\noffers\\nwill\\nhave\\nto\\nbe\\ncreated\\non\\nGrumbles.\\nThe\\nsteps\\nfor\\neach\\nhas\\nbeen\\ndetailed\\nbelow<<<< >>>>>Cash\\nand\\nCoins\\noffers\\nare\\nused\\nto\\ncreate\\nsupercoins\\noffer\\non\\nyour\\nproduct\\nselection\\nwherein\\ncustomers\\ncan\\npurchase\\na\\nproduct\\nby\\npaying\\npart\\namount\\nin\\ncash\\nand\\npart\\namount\\nin\\nsupercoins.\\nHurdle\\nis\\non\\nproduct\\nselection\\nand\\ngiveaway\\nis\\npercentage\\nconvertible\\ncoins\\nor\\namount\\nconvertible\\ncoins.\\nW h a t\\na r e\\nC o m b o\\nO f f e r s ?\\nCombo\\nOffers\\nare\\nmulti\\nproduct\\ngroup\\noffers\\nthat\\nhave\\na\\nhurdle\\non\\nPGs\\nthat\\nhave\\nbeen\\ndefined\\nin\\nthe\\noffer\\nwith\\ngiveaway\\non\\neach\\nof\\nthe\\nPGs\\nin\\nthe\\noffer.\\nE.g.\\nIf\\nthe\\ncombo\\noffer\\nhas\\n2\\nPGs,\\na\\nuser\\nneeds\\nto\\nbuy\\nan\\nitem\\nfrom\\neach\\nof\\nthe\\nPG\\nwhich\\nwill\\nmake\\nhim/her\\neligible\\nfor\\ndiscount\\non\\nproducts\\nof\\nboth\\nthe\\nPGs.\\nCombo\\nOffers\\nalso\\nopen\\nup\\nthe\\nopportunity\\nto\\nhave\\nsoft\\nbundling\\nenabled\\non\\nthe\\nFlipkart\\nPlatform.\\nHurdle-\\nProduct\\nSelection-\\nPG1,\\nPG2\\nor\\nPG3\\nGIveaway-\\npercentage\\noff,\\nflat\\namount\\noff\\nCombo\\nOffers\\ncan\\nbe\\nmanifested\\nin\\nthe\\nfollowing\\nforms\\n:\\n1)\\nBuy\\nP1\\nand\\nP2\\nget\\n10%\\noff\\non\\nboth\\nP1\\nand\\nP2\\n2)\\nBuy\\nP1\\nand\\nP2\\nget\\n10%\\noff\\non\\nP1\\nand\\n5%\\noff\\non\\nP2\\n3)\\nBuy\\n3\\nof\\nP1\\nget\\n10%\\noff\\non\\nall\\n3\\nunits\\nof\\nP1\\n4)\\nBuy\\n2\\nof\\nP1\\nand\\n1\\nof\\nP2\\nget\\n10%\\noff\\non\\n2\\nunits\\nfrom\\nP1\\nand\\n1\\nfrom\\nP2.\\nCombo\\noffers\\nare\\navailable\\nfully\\nfor\\nGrocery\\nwith\\nrelevant\\nexperience\\nand\\nfor\\nFlipkart\\nmarketplace\\nas\\nwell\\nbut\\nwith\\nno\\nexperience\\nas\\nsuch\\nas\\nof\\ntoday.\\nW h a t\\ni s\\nE i t h e r\\no r\\nc a p a b i l i t y\\n?\\nA n s w e r :\\nOffers\\nmarked\\nwith\\neither\\nor\\ndo\\nnot\\nadd\\nup\\nfor\\na\\nuser,\\n&\\nif\\nboth\\nthe\\noffers\\nbecome\\navailable\\nfor\\na\\nuser,\\nthey\\nneed\\nto\\nchoose\\namongst\\none\\nof\\nthem,\\nalthough\\nwe\\npre\\nselect\\nthe\\nmost\\nrelevant\\none\\nfor\\nthem\\nby\\ndefault.\\nEither\\nor\\nworks\\nat\\na\\nlisting\\nlevel\\nmeaning,\\nif\\nthere\\nare\\n2\\nor\\nmore\\nEO\\noffers\\navailable\\nonly\\nthen\\nwill\\nthe\\nEO\\nflows\\nbe\\ntriggered,\\nelse\\nthey\\nare\\ntreated\\nas\\nnormal\\noffer.\\nAs\\nof\\nnow\\nBank\\noffer\\nand\\nexchange\\noffer\\nare\\navailable\\nas\\neither\\nor\\ncapability\\nenabled\\noffer\\nW h a t\\na r e\\nI n c e n t i v i s e d\\nA t t a c h\\nO f f e r s ?\\nA n s w e r :<<<< >>>>>W h a t\\ni s\\na\\nG r o u p\\nB u y i n g\\no f f e r\\n?\\nA n s w e r :\\nG r o u p\\nB u y i n g\\no f f e r\\ni s\\na\\nc o n d i t i o n a l\\no f f e r\\nf o r m a t\\nw h e r e i n\\nc u s t o m e r s\\nc a n\\nb u y\\nt h e\\np r o d u c t\\ns e l e c t i o n\\nu n d e r\\no f f e r\\na t\\na\\nd i s c o u n t e d\\nG r o u p\\nB u y\\np r i c e\\nw h e r e\\nt h e\\no r d e r\\nw i l l\\nb e\\nd i s p a t c h e d\\no n l y\\nw h e n\\ng r o u p\\nh u r d l e\\n( B r i n g\\nm i n i m u m\\nX\\nm e m b e r s\\nw i t h i n\\nY Y\\nh o u r s )\\ni s\\nc o m p l e t e d .\\nH u r d l e\\nM i n .\\nG r o u p\\ns i z e\\na n d\\ng r o u p\\nv a l i d i t y\\nt i m e r\\nG i v e a w a y\\nE x t r a\\nX %\\no f f\\no n\\nF K F P\\nMinimum\\ngroup\\nsize\\nand\\ngroup\\nvalidity\\ntimer\\nwould\\nbe\\nfixed\\nfor\\ncategories\\nand\\ncannot\\nbe\\nselected/changed\\non\\ngrumbles\\nUI.\\nH o w\\nt o\\nc r e a t e\\na n\\nA / B\\no n\\no f f e r\\n?\\nA n s w e r :\\nCreating\\nan\\noffer\\nunder\\nan\\nA/B\\ninvolves\\n2\\nsteps:\\n\\u25cb\\nCreating\\nthe\\nA/B\\non\\nStatsig\\n(which\\nis\\nFlipkart\\u2019s\\nA/B\\nplatform)\\n\\u25cb\\nAdding\\nthe\\nA/B\\ncontext\\nto\\nthe\\noffer\\nwhile\\ncreating\\nit\\non\\nGrumbles\\nEvery\\noffer\\nformat\\nis\\nenabled\\nfor\\nrunning\\nA/B\\nwith\\nan\\noption\\non\\nGrumbles\\nconsole.\\nOnly\\n100%\\nseller\\nburn\\noffers\\ncan\\nbe\\nconsidered\\nfor\\nA/B\\ncreation.\\n\\nQuestion: What are the requirements for a dynamic segmentation offer?\\nHelpful Answer:\"\n",
      "  ]\n",
      "}\n"
     ]
    },
    {
     "name": "stdout",
     "output_type": "stream",
     "text": [
      "\u001b[36;1m\u001b[1;3m[llm/end]\u001b[0m \u001b[1m[1:chain:RetrievalQA > 2:chain:StuffDocumentsChain > 3:chain:LLMChain > 4:llm:VertexAI] [2.20s] Exiting LLM run with output:\n",
      "\u001b[0m{\n",
      "  \"generations\": [\n",
      "    [\n",
      "      {\n",
      "        \"text\": \"Dynamic\\nsegmentation\\noffers\\nare\\noffers\\nthat\\nare\\ntriggered\\nbased\\non\\nthe\\ncustomer\\nbehaviour\\nor\\nattributes.\\nFor\\nexample,\\nan\\noffer\\ncan\\nbe\\ntriggered\\nfor\\na\\ncustomer\\nwho\\nhas\\nnot\\npurchased\\nfrom\\na\\nseller\\nin\\nthe\\nlast\\n30\\ndays.\\nDynamic\\nsegmentation\\noffers\\nare\\ncreated\\non\\nGrumbles\\nand\\ntriggered\\nby\\nthe\\nFlipkart\\nplatform.\\nThe\\noffer\\nis\\ntriggered\\nbased\\non\\nthe\\ncustomer\\nbehaviour\\nor\\n\",\n",
      "        \"generation_info\": null\n",
      "      }\n",
      "    ]\n",
      "  ],\n",
      "  \"llm_output\": null\n",
      "}\n",
      "\u001b[36;1m\u001b[1;3m[chain/end]\u001b[0m \u001b[1m[1:chain:RetrievalQA > 2:chain:StuffDocumentsChain > 3:chain:LLMChain] [2.20s] Exiting Chain run with output:\n",
      "\u001b[0m{\n",
      "  \"text\": \"Dynamic\\nsegmentation\\noffers\\nare\\noffers\\nthat\\nare\\ntriggered\\nbased\\non\\nthe\\ncustomer\\nbehaviour\\nor\\nattributes.\\nFor\\nexample,\\nan\\noffer\\ncan\\nbe\\ntriggered\\nfor\\na\\ncustomer\\nwho\\nhas\\nnot\\npurchased\\nfrom\\na\\nseller\\nin\\nthe\\nlast\\n30\\ndays.\\nDynamic\\nsegmentation\\noffers\\nare\\ncreated\\non\\nGrumbles\\nand\\ntriggered\\nby\\nthe\\nFlipkart\\nplatform.\\nThe\\noffer\\nis\\ntriggered\\nbased\\non\\nthe\\ncustomer\\nbehaviour\\nor\\n\"\n",
      "}\n",
      "\u001b[36;1m\u001b[1;3m[chain/end]\u001b[0m \u001b[1m[1:chain:RetrievalQA > 2:chain:StuffDocumentsChain] [2.20s] Exiting Chain run with output:\n",
      "\u001b[0m{\n",
      "  \"output_text\": \"Dynamic\\nsegmentation\\noffers\\nare\\noffers\\nthat\\nare\\ntriggered\\nbased\\non\\nthe\\ncustomer\\nbehaviour\\nor\\nattributes.\\nFor\\nexample,\\nan\\noffer\\ncan\\nbe\\ntriggered\\nfor\\na\\ncustomer\\nwho\\nhas\\nnot\\npurchased\\nfrom\\na\\nseller\\nin\\nthe\\nlast\\n30\\ndays.\\nDynamic\\nsegmentation\\noffers\\nare\\ncreated\\non\\nGrumbles\\nand\\ntriggered\\nby\\nthe\\nFlipkart\\nplatform.\\nThe\\noffer\\nis\\ntriggered\\nbased\\non\\nthe\\ncustomer\\nbehaviour\\nor\\n\"\n",
      "}\n",
      "\u001b[36;1m\u001b[1;3m[chain/end]\u001b[0m \u001b[1m[1:chain:RetrievalQA] [3.87s] Exiting Chain run with output:\n",
      "\u001b[0m{\n",
      "  \"result\": \"Dynamic\\nsegmentation\\noffers\\nare\\noffers\\nthat\\nare\\ntriggered\\nbased\\non\\nthe\\ncustomer\\nbehaviour\\nor\\nattributes.\\nFor\\nexample,\\nan\\noffer\\ncan\\nbe\\ntriggered\\nfor\\na\\ncustomer\\nwho\\nhas\\nnot\\npurchased\\nfrom\\na\\nseller\\nin\\nthe\\nlast\\n30\\ndays.\\nDynamic\\nsegmentation\\noffers\\nare\\ncreated\\non\\nGrumbles\\nand\\ntriggered\\nby\\nthe\\nFlipkart\\nplatform.\\nThe\\noffer\\nis\\ntriggered\\nbased\\non\\nthe\\ncustomer\\nbehaviour\\nor\\n\"\n",
      "}\n"
     ]
    }
   ],
   "source": [
    "import langchain\n",
    "langchain.debug = True\n",
    "### feed the question to model\n",
    "print(new_examples)\n",
    "print(type(new_examples[0]))\n",
    "qa_stuff.run(new_examples[0][\"query\"])\n",
    "langchain.debug = False"
   ]
  },
  {
   "cell_type": "code",
   "execution_count": 46,
   "id": "08323f97",
   "metadata": {},
   "outputs": [
    {
     "name": "stdout",
     "output_type": "stream",
     "text": [
      "\n",
      "\n",
      "\u001b[1m> Entering new RetrievalQA chain...\u001b[0m\n",
      "\n",
      "\u001b[1m> Finished chain.\u001b[0m\n",
      "\n",
      "\n",
      "\u001b[1m> Entering new RetrievalQA chain...\u001b[0m\n",
      "\n",
      "\u001b[1m> Finished chain.\u001b[0m\n",
      "\n",
      "\n",
      "\u001b[1m> Entering new RetrievalQA chain...\u001b[0m\n",
      "\n",
      "\u001b[1m> Finished chain.\u001b[0m\n",
      "\n",
      "\n",
      "\u001b[1m> Entering new RetrievalQA chain...\u001b[0m\n",
      "\n",
      "\u001b[1m> Finished chain.\u001b[0m\n",
      "\n",
      "\n",
      "\u001b[1m> Entering new RetrievalQA chain...\u001b[0m\n",
      "\n",
      "\u001b[1m> Finished chain.\u001b[0m\n",
      "\n",
      "\n",
      "\u001b[1m> Entering new RetrievalQA chain...\u001b[0m\n",
      "\n",
      "\u001b[1m> Finished chain.\u001b[0m\n",
      "\n",
      "\n",
      "\u001b[1m> Entering new RetrievalQA chain...\u001b[0m\n",
      "\n",
      "\u001b[1m> Finished chain.\u001b[0m\n",
      "\n",
      "\n",
      "\u001b[1m> Entering new RetrievalQA chain...\u001b[0m\n",
      "\n",
      "\u001b[1m> Finished chain.\u001b[0m\n",
      "\n",
      "\n",
      "\u001b[1m> Entering new RetrievalQA chain...\u001b[0m\n",
      "\n",
      "\u001b[1m> Finished chain.\u001b[0m\n",
      "\n",
      "\n",
      "\u001b[1m> Entering new RetrievalQA chain...\u001b[0m\n",
      "\n",
      "\u001b[1m> Finished chain.\u001b[0m\n",
      "\n",
      "\n",
      "\u001b[1m> Entering new RetrievalQA chain...\u001b[0m\n",
      "\n",
      "\u001b[1m> Finished chain.\u001b[0m\n",
      "\n",
      "\n",
      "\u001b[1m> Entering new RetrievalQA chain...\u001b[0m\n",
      "\n",
      "\u001b[1m> Finished chain.\u001b[0m\n",
      "\n",
      "\n",
      "\u001b[1m> Entering new RetrievalQA chain...\u001b[0m\n",
      "\n",
      "\u001b[1m> Finished chain.\u001b[0m\n",
      "\n",
      "\n",
      "\u001b[1m> Entering new RetrievalQA chain...\u001b[0m\n",
      "\n",
      "\u001b[1m> Finished chain.\u001b[0m\n",
      "\n",
      "\n",
      "\u001b[1m> Entering new RetrievalQA chain...\u001b[0m\n",
      "\n",
      "\u001b[1m> Finished chain.\u001b[0m\n",
      "\n",
      "\n",
      "\u001b[1m> Entering new RetrievalQA chain...\u001b[0m\n",
      "\n",
      "\u001b[1m> Finished chain.\u001b[0m\n",
      "\n",
      "\n",
      "\u001b[1m> Entering new RetrievalQA chain...\u001b[0m\n",
      "\n",
      "\u001b[1m> Finished chain.\u001b[0m\n",
      "\n",
      "\n",
      "\u001b[1m> Entering new RetrievalQA chain...\u001b[0m\n",
      "\n",
      "\u001b[1m> Finished chain.\u001b[0m\n",
      "\n",
      "\n",
      "\u001b[1m> Entering new RetrievalQA chain...\u001b[0m\n",
      "\n",
      "\u001b[1m> Finished chain.\u001b[0m\n",
      "\n",
      "\n",
      "\u001b[1m> Entering new RetrievalQA chain...\u001b[0m\n",
      "\n",
      "\u001b[1m> Finished chain.\u001b[0m\n",
      "\n",
      "\n",
      "\u001b[1m> Entering new RetrievalQA chain...\u001b[0m\n",
      "\n",
      "\u001b[1m> Finished chain.\u001b[0m\n",
      "\n",
      "\n",
      "\u001b[1m> Entering new RetrievalQA chain...\u001b[0m\n",
      "\n",
      "\u001b[1m> Finished chain.\u001b[0m\n",
      "\n",
      "\n",
      "\u001b[1m> Entering new RetrievalQA chain...\u001b[0m\n",
      "\n",
      "\u001b[1m> Finished chain.\u001b[0m\n",
      "\n",
      "\n",
      "\u001b[1m> Entering new RetrievalQA chain...\u001b[0m\n",
      "\n",
      "\u001b[1m> Finished chain.\u001b[0m\n",
      "\n",
      "\n",
      "\u001b[1m> Entering new RetrievalQA chain...\u001b[0m\n",
      "\n",
      "\u001b[1m> Finished chain.\u001b[0m\n",
      "\n",
      "\n",
      "\u001b[1m> Entering new RetrievalQA chain...\u001b[0m\n",
      "\n",
      "\u001b[1m> Finished chain.\u001b[0m\n",
      "\n",
      "\n",
      "\u001b[1m> Entering new RetrievalQA chain...\u001b[0m\n",
      "\n",
      "\u001b[1m> Finished chain.\u001b[0m\n",
      "\n",
      "\n",
      "\u001b[1m> Entering new RetrievalQA chain...\u001b[0m\n",
      "\n",
      "\u001b[1m> Finished chain.\u001b[0m\n",
      "\n",
      "\n",
      "\u001b[1m> Entering new RetrievalQA chain...\u001b[0m\n",
      "\n",
      "\u001b[1m> Finished chain.\u001b[0m\n",
      "\n",
      "\n",
      "\u001b[1m> Entering new RetrievalQA chain...\u001b[0m\n",
      "\n",
      "\u001b[1m> Finished chain.\u001b[0m\n",
      "\n",
      "\n",
      "\u001b[1m> Entering new RetrievalQA chain...\u001b[0m\n",
      "\n",
      "\u001b[1m> Finished chain.\u001b[0m\n",
      "\n",
      "\n",
      "\u001b[1m> Entering new RetrievalQA chain...\u001b[0m\n",
      "\n",
      "\u001b[1m> Finished chain.\u001b[0m\n",
      "\n",
      "\n",
      "\u001b[1m> Entering new RetrievalQA chain...\u001b[0m\n",
      "\n",
      "\u001b[1m> Finished chain.\u001b[0m\n",
      "\n",
      "\n",
      "\u001b[1m> Entering new RetrievalQA chain...\u001b[0m\n",
      "\n",
      "\u001b[1m> Finished chain.\u001b[0m\n",
      "\n",
      "\n",
      "\u001b[1m> Entering new RetrievalQA chain...\u001b[0m\n",
      "\n",
      "\u001b[1m> Finished chain.\u001b[0m\n",
      "\n",
      "\n",
      "\u001b[1m> Entering new RetrievalQA chain...\u001b[0m\n",
      "\n",
      "\u001b[1m> Finished chain.\u001b[0m\n",
      "\n",
      "\n",
      "\u001b[1m> Entering new RetrievalQA chain...\u001b[0m\n",
      "\n",
      "\u001b[1m> Finished chain.\u001b[0m\n",
      "\n",
      "\n",
      "\u001b[1m> Entering new RetrievalQA chain...\u001b[0m\n",
      "\n",
      "\u001b[1m> Finished chain.\u001b[0m\n",
      "\n",
      "\n",
      "\u001b[1m> Entering new RetrievalQA chain...\u001b[0m\n",
      "\n",
      "\u001b[1m> Finished chain.\u001b[0m\n"
     ]
    }
   ],
   "source": [
    "predictions = qa_stuff.apply(new_examples)"
   ]
  },
  {
   "cell_type": "code",
   "execution_count": 56,
   "id": "1cdef53a",
   "metadata": {},
   "outputs": [],
   "source": [
    "from langchain.evaluation.qa import QAEvalChain\n",
    "eval_chain = QAEvalChain.from_llm(vertex_llm_text)\n",
    "graded_outputs = eval_chain.evaluate(new_examples, predictions)"
   ]
  },
  {
   "cell_type": "code",
   "execution_count": 57,
   "id": "21c005af",
   "metadata": {},
   "outputs": [
    {
     "name": "stdout",
     "output_type": "stream",
     "text": [
      "39\n",
      "39\n"
     ]
    },
    {
     "data": {
      "text/plain": [
       "39"
      ]
     },
     "execution_count": 57,
     "metadata": {},
     "output_type": "execute_result"
    }
   ],
   "source": [
    "print(len(graded_outputs))\n",
    "print(len(predictions))\n",
    "len(new_examples)"
   ]
  },
  {
   "cell_type": "code",
   "execution_count": 58,
   "id": "a02a851a",
   "metadata": {},
   "outputs": [
    {
     "name": "stdout",
     "output_type": "stream",
     "text": [
      "39\n"
     ]
    }
   ],
   "source": [
    "listOfcomparisions = []\n",
    "for i, eg in enumerate(new_examples):\n",
    "    try:\n",
    "        dictt = {}\n",
    "        dictt[\"Example\"] = i\n",
    "        dictt[\"Question\"] = predictions[i]['query']\n",
    "        dictt[\"Real Answer\"] = predictions[i]['answer']\n",
    "        dictt[\"Predicted Answer\"] = predictions[i]['result']\n",
    "        dictt[\"Predicted Grade\"] = graded_outputs[i]['text']\n",
    "        listOfcomparisions.append(dictt)\n",
    "    except:\n",
    "        print (i)\n",
    "#     print(f\"Example {i}:\")\n",
    "#     print(\"Question: \" + predictions[i]['query'])\n",
    "#     print(\"Real Answer: \" + predictions[i]['answer'])\n",
    "#     print(\"Predicted Answer: \" + predictions[i]['result'])\n",
    "#     print(\"Predicted Grade: \" + graded_outputs[i]['text'])\n",
    "\n",
    "print(len(listOfcomparisions))\n"
   ]
  },
  {
   "cell_type": "code",
   "execution_count": 60,
   "id": "b857d069",
   "metadata": {},
   "outputs": [
    {
     "name": "stdout",
     "output_type": "stream",
     "text": [
      "Done\n"
     ]
    }
   ],
   "source": [
    "#### writing data into a text file\n",
    "with open(r'./training/trainingDataLlmModelPrediction.txt', 'w') as fp:\n",
    "    for item in listOfcomparisions:\n",
    "        # write each item on a new line\n",
    "        fp.write(\"%s\\n\" % item)\n",
    "    print('Done')"
   ]
  },
  {
   "cell_type": "code",
   "execution_count": 66,
   "id": "e1068ab5",
   "metadata": {},
   "outputs": [
    {
     "name": "stdout",
     "output_type": "stream",
     "text": [
      "0\n",
      "1\n",
      "2\n",
      "[{'doc': 1}, {'doc': 2}, {'doc': 3}]\n"
     ]
    }
   ],
   "source": [
    "# l = [1,2,3]\n",
    "# # print([{\"doc\": t} for t in l])\n",
    "\n",
    "# listt = []\n",
    "# for i in range(len(l)):\n",
    "#     print (i)\n",
    "#     dictt = {}\n",
    "#     dictt[\"doc\"] = l[i]\n",
    "#     listt.append(dictt)\n",
    "# print(listt)"
   ]
  },
  {
   "cell_type": "code",
   "execution_count": null,
   "id": "178a1e7b",
   "metadata": {},
   "outputs": [],
   "source": []
  },
  {
   "cell_type": "code",
   "execution_count": 48,
   "id": "f614d85f",
   "metadata": {},
   "outputs": [
    {
     "name": "stdout",
     "output_type": "stream",
     "text": [
      "<class 'int'>\n",
      "0\n",
      "{'query': 'What are the requirements for a dynamic segmentation offer?', 'answer': 'Dynamic segmentation is dependent on how the product selection for an offer has been defined. Following product selection configuration are of dynamic segmentation type: Following product selection configuration are NOT of dynamic segmentation type:'}\n",
      "43\n"
     ]
    }
   ],
   "source": [
    "a = len(pages) - 1\n",
    "print (type(a))\n",
    "for i in range(0,a):\n",
    "    print(i)\n",
    "    print(new_examples[i])\n",
    "print(len(pages))"
   ]
  },
  {
   "cell_type": "code",
   "execution_count": 22,
   "id": "57d0d364",
   "metadata": {},
   "outputs": [
    {
     "data": {
      "text/plain": [
       "Document(page_content='C a n\\nI\\ne d i t\\nt h e\\nn o d e s\\ni d s\\no r\\nF S N s\\no r\\nc a t e g o r y\\no r\\nv e r t i c a l\\ni n\\nm y\\no ﬀ e r\\nw h i c h\\ni s\\nl i v e ?\\nY o u\\nc a n\\ne d i t\\nm a k e\\nt h e\\ne d i t s\\ni f\\nt h e\\no ﬀ e r\\ni f\\nt h e\\no ﬀ e r\\ni s\\na\\nd y n a m i c\\ns e g m e n t a t i o n\\no ﬀ e r .\\nD y n a m i c\\ns e g m e n t a t i o n\\ni s\\nd e p e n d e n t\\no n\\nh o w\\nt h e\\np r o d u c t\\ns e l e c t i o n\\nf o r\\na n\\no ﬀ e r\\nh a s\\nb e e n\\nd e ﬁ n e d .\\nF o l l o w i n g\\np r o d u c t\\ns e l e c t i o n\\nc o n ﬁ g u r a t i o n s\\na r e\\no f\\nd y n a m i c\\ns e g m e n t a t i o n\\nt y p e :\\nF o l l o w i n g\\np r o d u c t\\ns e l e c t i o n\\nc o n ﬁ g u r a t i o n s\\na r e\\nN O T\\no f\\nd y n a m i c\\ns e g m e n t a t i o n\\nt y p e :\\nW h y\\ni s\\nm y\\no ﬀ e r\\nn o t\\ng o i n g\\nl i v e\\n?\\nI f\\ny o u\\na r e\\ns e e i n g\\nt h e\\no ﬀ e r\\ni n\\np r o c e s s i n g\\ns t a t e\\nt h e\\no ﬀ e r\\ni s\\ns t i l l\\nb e i n g\\np r e p a r e d\\na n d\\nw i l l\\ng o\\nl i v e\\na u t o m a t i c a l l y\\np o s t\\nt h e\\np r o c e s s i n g\\nb e i n g\\nc o m p l e t e .\\nT h i s\\nw i l l\\nh a p p e n\\ns p e c i ﬁ c a l l y\\nf o r\\no ﬀ e r s\\nw h e r e\\nt h e\\no ﬀ e r\\ni s\\nn o t\\no f\\nd y n a m i c\\ns e g m e n t a t i o n\\nt y p e :\\nI f\\ny o u r\\no ﬀ e r\\ni s\\ns t u c k\\ni n\\nn o\\np a r t i c i p a t i o n\\ns t a t e\\ny o u\\nn e e d\\nt o\\nd r i v e\\ns e l l e r\\no p t\\ni n\\nt o\\ng e t\\nt h e\\no ﬀ e r\\nl i v e .\\nW h y\\ni s\\nm y\\nd i g i t a l\\nf r e e b i e\\no ﬀ e r\\ns t u c k\\ni n\\na n\\nu n h e a l t h y\\ni n v e n t o r y\\ns t a t e\\n?\\nF o r\\na\\nd i g i t a l\\nf r e e b i e\\no ﬀ e r\\nt o\\nb e\\na c t i v a t e d\\ni t\\nm u s t\\nh a v e\\nt h e\\nt h r e s h o l d\\nv a l u e\\ns e t\\nt o\\nm o r e\\nt h a n\\ne q u a l\\nt o\\n2 0 0 0 .\\nA f t e r\\nt h a t ,\\ne ﬀ e c t i v e\\nq u a n t i t y\\ni s\\nc o m p u t e d ,\\nw h i c h\\ni s\\nt o t a l\\ni n v e n t o r y\\n-\\nt h r e s h o l d .\\nT h i s\\ne ﬀ e c t i v e\\nq u a n t i t y\\nm u s t\\nb e\\nm o r e\\nt h a n\\n1 . 0 5\\nt i m e s\\nt h e\\nt h r e s h o l d\\nv a l u e\\ny o u\\nh a v e\\ns e t .\\nW h a t\\na p p r o v a l s\\na r e\\nr e q u i r e d\\nf o r\\na n\\no ﬀ e r\\nt o\\ng o\\nl i v e ?\\nW h y\\ni s\\nm y\\no ﬀ e r\\ng o i n g\\nl i v e\\np o s t\\na p p r o v a l\\n?\\n-\\nF o r\\na n\\no ﬀ e r\\nt h a t\\nh a s\\nF l i p k a r t\\nB u r n\\ny o u\\nn e e d\\nt o\\ng e t\\na p p r o v a l\\nf r o m\\nr e s p e c t i v e\\nc a t e g o r y ’ s\\nb i z ﬁ n\\na p p r o v e r\\n-\\nF o r\\na n\\no ﬀ e r\\nt h a t\\nh a s\\nt a r g e t i n g\\nt o w a r d s\\nc e r t a i n\\nu s e r\\nc o h o r t s\\n( i s\\na\\nT D )\\ny o u\\nn e e d\\nt o\\ng e t\\na n\\na d d i t i o n a l\\na p p r o v a l\\nf r o m\\nT D\\na p p r o v e r\\ng r o u p\\n-\\nF o r\\na n\\no ﬀ e r\\nt h a t\\nh a s\\nA B\\nt e s t i n g\\nb e i n g\\nd o n e\\no n\\ni t\\ny o u\\nn e e d\\nt o\\ng e t\\na n\\na d d i t i o n a l\\na p p r o v a l\\nf r o m\\nt h e\\nA B\\na p p r o v e r\\ng r o u p\\n-\\nE x c l u d i n g\\na l l\\nt h e s e\\nc a s e s ,\\na n\\na p p r o v a l\\nf r o m\\nL 1\\nm a n a g e r\\ni s\\nt h e\\no n l y\\na p p r o v a l\\nr e q u i r e d\\nf o r\\na n\\no ﬀ e r\\nt o\\ng o\\nl i v e', metadata={'source': 'RelevantSOPs/Offer Maintainance Doc.pdf', 'page': 0})"
      ]
     },
     "execution_count": 22,
     "metadata": {},
     "output_type": "execute_result"
    }
   ],
   "source": [
    "pages[0]\n"
   ]
  },
  {
   "cell_type": "code",
   "execution_count": null,
   "id": "bc6e5ab3",
   "metadata": {},
   "outputs": [],
   "source": []
  }
 ],
 "metadata": {
  "kernelspec": {
   "display_name": "Python 3 (ipykernel)",
   "language": "python",
   "name": "python3"
  },
  "language_info": {
   "codemirror_mode": {
    "name": "ipython",
    "version": 3
   },
   "file_extension": ".py",
   "mimetype": "text/x-python",
   "name": "python",
   "nbconvert_exporter": "python",
   "pygments_lexer": "ipython3",
   "version": "3.9.6"
  }
 },
 "nbformat": 4,
 "nbformat_minor": 5
}
