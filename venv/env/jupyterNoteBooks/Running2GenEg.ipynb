{
 "cells": [
  {
   "cell_type": "code",
   "execution_count": 3,
   "id": "049ded7b",
   "metadata": {},
   "outputs": [],
   "source": [
    "import urllib\n",
    "import warnings\n",
    "from pathlib import Path as p\n",
    "from pprint import pprint\n",
    "\n",
    "import pandas as pd\n",
    "from langchain import PromptTemplate\n",
    "from langchain.chains.question_answering import load_qa_chain\n",
    "from langchain.document_loaders import PyPDFLoader\n",
    "from langchain.embeddings import VertexAIEmbeddings\n",
    "from langchain.llms import VertexAI\n",
    "from langchain.text_splitter import CharacterTextSplitter\n",
    "from langchain.vectorstores import Chroma\n",
    "from IPython.display import display, Markdown\n",
    "\n",
    "warnings.filterwarnings(\"ignore\")"
   ]
  },
  {
   "cell_type": "code",
   "execution_count": 2,
   "id": "d1d25f40",
   "metadata": {},
   "outputs": [],
   "source": [
    "# from langchain.document_loaders import PyPDFLoader\n",
    "# from langchain.document_loaders import CSVLoader\n",
    "# file = 'OutdoorClothingCatalog_1000.csv'\n",
    "# loader1 = CSVLoader(file_path=file)\n",
    "# pdfFile = '/OfferCreationviaGrumbles.pdf'\n",
    "\n",
    "# loader1"
   ]
  },
  {
   "cell_type": "code",
   "execution_count": 6,
   "id": "4e2f135c",
   "metadata": {},
   "outputs": [
    {
     "name": "stdout",
     "output_type": "stream",
     "text": [
      "RelevantSOPs/Offer Maintainance Doc.pdf\n",
      "RelevantSOPs/_SOP for Shipping Rule Creation.pdf\n",
      "RelevantSOPs/Offer Business Use Cases (2).pdf\n",
      "RelevantSOPs/Seller Recommendation for an Offer.pdf\n",
      "RelevantSOPs/Offer Creation via Grumbles .pdf\n",
      "<class 'list'>\n"
     ]
    }
   ],
   "source": [
    "import pathlib\n",
    "desktop = pathlib.Path(\"./RelevantSOPs\")\n",
    "files = []\n",
    "list(desktop.iterdir())\n",
    "pages1 = []\n",
    "# for item in list(desktop.iterdir())[:1]:\n",
    "for item in list(desktop.iterdir()):\n",
    "    try:\n",
    "        print(str(item))\n",
    "        fileLoader = PyPDFLoader(str(item))\n",
    "#         pages = fileLoader.load_and_split()\n",
    "#         print(len(fileLoader.load_and_split()))\n",
    "        pages1.append(fileLoader.load_and_split())\n",
    "#         files.append(pages)\n",
    "    except:\n",
    "        print(\"An exception occurred\")\n",
    "  \n",
    "print (type(pages1))\n"
   ]
  },
  {
   "cell_type": "code",
   "execution_count": 7,
   "id": "cfd78bdd",
   "metadata": {},
   "outputs": [
    {
     "name": "stdout",
     "output_type": "stream",
     "text": [
      "5\n",
      "43\n"
     ]
    }
   ],
   "source": [
    "\n",
    "pages = []\n",
    "print(len(pages1))\n",
    "for item in pages1:\n",
    "    try:\n",
    "        if(item.page_content):\n",
    "            pages.append(item)\n",
    "            print(item)\n",
    "#         print(\"-------------------------------------------\")\n",
    "        \n",
    "#         print(item.page_content)\n",
    "#         print(\"+++++++++++++++++++++++++++++++++++++++++++++++++++++++++++++++\")\n",
    "    except:\n",
    "        for item2 in item:\n",
    "            pages.append(item2)\n",
    "\n",
    "print(len(pages))"
   ]
  },
  {
   "cell_type": "code",
   "execution_count": 8,
   "id": "ebd6ad71",
   "metadata": {},
   "outputs": [],
   "source": [
    "vertex_llm_text = VertexAI(model_name=\"text-bison@001\")\n",
    "vertex_embeddings = VertexAIEmbeddings(model_name=\"textembedding-gecko@001\")"
   ]
  },
  {
   "cell_type": "code",
   "execution_count": 6,
   "id": "d85ea93b",
   "metadata": {},
   "outputs": [],
   "source": [
    "# text_splitter = CharacterTextSplitter(chunk_size=10000, chunk_overlap=0)\n",
    "\n",
    "# for item in pages:\n",
    "# #     if()\n",
    "#     try:\n",
    "# #         context = \"\\n\\n\".join(str(p.page_content) for p in pages)\n",
    "#         context +=\"\\n\\n\".join(str(item.page_content))\n",
    "#         texts = text_splitter.split_text(context)\n",
    "#     except:\n",
    "# #         print(item)\n",
    "#         print(\"ERRRRR\")\n",
    "\n",
    "# print(type(context))"
   ]
  },
  {
   "cell_type": "code",
   "execution_count": 7,
   "id": "1ea2b563",
   "metadata": {},
   "outputs": [],
   "source": [
    "# vector_index = Chroma.from_texts(texts, vertex_embeddings).as_retriever()"
   ]
  },
  {
   "cell_type": "code",
   "execution_count": 15,
   "id": "7092820e",
   "metadata": {},
   "outputs": [],
   "source": [
    "# !pip install docarray\n",
    "from langchain.vectorstores import DocArrayInMemorySearch\n",
    "db = DocArrayInMemorySearch.from_documents(\n",
    "    pages, \n",
    "    vertex_embeddings\n",
    ")"
   ]
  },
  {
   "cell_type": "code",
   "execution_count": 9,
   "id": "b345fd4e",
   "metadata": {},
   "outputs": [],
   "source": [
    "# print(type(pages))"
   ]
  },
  {
   "cell_type": "code",
   "execution_count": 10,
   "id": "d3b13aac",
   "metadata": {},
   "outputs": [],
   "source": [
    "### we will use above vectorstore to find answer to query\n",
    "# query = \"What is Incentivised offer\""
   ]
  },
  {
   "cell_type": "code",
   "execution_count": 11,
   "id": "f953cee1",
   "metadata": {},
   "outputs": [],
   "source": [
    "## find all similar document\n",
    "# docs = db.similarity_search(query)\n",
    "# print(len(docs))\n",
    "## 4 docs are returned\n",
    "# docs[0] ## indeed a shirt"
   ]
  },
  {
   "cell_type": "code",
   "execution_count": 16,
   "id": "ef9349f5",
   "metadata": {},
   "outputs": [],
   "source": [
    "retriever = db.as_retriever()"
   ]
  },
  {
   "cell_type": "code",
   "execution_count": 13,
   "id": "6f30c363",
   "metadata": {},
   "outputs": [],
   "source": [
    "from vertexai.preview.language_models import TextGenerationModel\n",
    "\n",
    "\n",
    "def getResponse(prompt ,temperature: float = 0.2):\n",
    "    \"\"\"Ideation example with a Large Language Model\"\"\"\n",
    "\n",
    "    # TODO developer - override these parameters as needed:\n",
    "    parameters = {\n",
    "        \"temperature\": temperature,  # Temperature controls the degree of randomness in token selection.\n",
    "        \"max_output_tokens\": 256,  # Token limit determines the maximum amount of text output.\n",
    "        \"top_p\": 0.8,  # Tokens are selected from most probable to least until the sum of their probabilities equals the top_p value.\n",
    "        \"top_k\": 40,  # A top_k of 1 means the selected token is the most probable among all tokens.\n",
    "    }\n",
    "\n",
    "    model = TextGenerationModel.from_pretrained(\"text-bison@001\")\n",
    "    response = model.predict(\n",
    "        prompt,\n",
    "        **parameters,\n",
    "    )\n",
    "    \n",
    "    return response\n"
   ]
  },
  {
   "cell_type": "code",
   "execution_count": 17,
   "id": "6bb258bf",
   "metadata": {},
   "outputs": [
    {
     "name": "stdout",
     "output_type": "stream",
     "text": [
      "6\n",
      "page_content='Buy\\nP1,\\nget\\nx%\\noff\\non\\nP2\\nIncentivised\\nAttach\\nOffers\\nare\\nmulti\\nproduct\\ngroup\\noffers\\nthat\\nhave\\na\\nhurdle\\non\\n1\\nproduct\\ngroup,\\nand\\na\\ngiveaway\\non\\na\\ndifferent\\nproduct\\ngroup.\\nProduct\\ngroup\\nrefers\\nto\\na\\nset\\nof\\nFSNs\\ndefined\\nby\\nthe\\noffer\\ncreator.\\nIf\\nthe\\ncombo\\noffer\\nhas\\n2\\nPGs,\\na\\nuser\\nneeds\\nto\\nbuy\\nan\\nitem\\nfrom\\neach\\nof\\nthe\\nPG\\nwhich\\nwill\\nmake\\nhim/her\\neligible\\nfor\\ndiscount\\non\\nthe\\nsecond\\nPG.\\nE.g.\\nBuy\\nmobiles,\\nget\\n10%\\noff\\non\\nearphones\\nPG1\\n-\\nMobiles\\nPG\\n2\\n-\\nEarphones\\nIf\\na\\ncustomer\\npurchases\\nboth\\n1\\nmobile\\nand\\n1\\nearphones\\nin\\nthe\\nsame\\ntransaction,\\nthey\\nwill\\nget\\n10%\\noff\\non\\nthe\\nearphones\\nlistings.\\nIncentivised\\nAttach\\nOffers\\nare\\nalso\\nknown\\nas\\nBundle\\nOffers.\\nHurdle\\nis\\non\\nbuying\\nPG1\\n+\\nPG2\\ntogether\\nGiveaway\\nis\\non\\nPG2\\nin\\nform\\nof\\npercentage\\ndiscount.\\nW h a t\\ni s\\na\\nP r o m i s e\\nC a l l o u t\\nO f f e r ?\\nA n s w e r :\\nThese\\nare\\ntransaction\\nbased\\noffers\\nwith\\na\\ndeferred\\ngiveaway.\\nie\\n-\\nA\\nuser\\nwho\\nshops\\nfrom\\na\\nparticular\\nselection\\nas\\nper\\ndefined\\ncriteria\\ngets\\na\\nbenefit\\non\\nhis\\nnext\\npurchase\\non\\na\\npredefined\\nset\\nof\\nproducts.\\nExample:\\n●\\nShop\\nworth\\nRs\\n1000\\nin\\nlifestyle\\nand\\nget\\n10%\\noff\\non\\nyour\\nnext\\nlifestyle\\npurchase\\nbefore\\n31\\nAugust\\n●\\nShop\\nworth\\nRs\\n200\\nfrom\\nPuma\\nand\\nget\\nextra\\n5%\\noff\\non\\nPuma\\nduring\\nthe\\nnext\\nPayday\\nsale\\n●\\nShop\\nin\\nDecember,\\nget\\n10%\\noff\\non\\nyour\\npurchase\\nfor\\nthe\\nnext\\n3\\nmonths\\nThere\\nare\\n2\\nsteps\\nto\\nevery\\npromise\\ncallout\\noffer.\\n1.\\nCreation\\nof\\nthe\\ntargeted\\ngiveaway\\noffer\\n-\\n○\\nThis\\nis\\nthe\\noffer\\nwith\\nthe\\ngiveaway\\nwhich\\nwill\\nbe\\napplicable\\non\\nthe\\ncustomer’s\\nsecond\\norder\\n○\\nCustomers\\nwho\\nare\\neligible\\nas\\nper\\nthe\\ndefined\\ncriteria\\nwill\\nbe\\nautomatic\\nmapped\\nto\\nthis\\noffer.\\n○\\nThis\\nis\\nto\\nbe\\ncreated\\nfirst,\\nas\\nthis\\nis\\nan\\ninput\\nto\\nthe\\nfirst\\ncallout\\noffers.\\n○\\nThis\\nis\\ncreated\\non\\nlistings\\non\\nwhich\\ndiscounts\\nwould\\nbe\\ngiven.\\nSeller\\nburn\\nwill\\nbe\\nconfigured\\non\\nthis\\noffer.\\n2.\\nCreation\\nof\\nthe\\nPromise\\ncallout\\noffer\\n-\\n○\\nThis\\nis\\nthe\\ncallout\\noffer\\nwhich\\nwill\\nbe\\nvisible\\non\\nthe\\ncustomer’s\\nfirst\\norder.\\n○\\nThis\\nis\\nto\\nbe\\ncreated\\nsecond,\\nas\\nthis\\nrequires\\nthe\\nabove\\noffer\\nto\\nbe\\ngiven\\nas\\ninput\\n○\\nThis\\nis\\ncreated\\non\\nlistings\\non\\nwhich\\ncallout\\nwould\\nbe\\ndone.\\nThere\\nis\\nno\\nseller\\nburn\\nassociated\\nwith\\nthis\\noffer.\\n○\\nAny\\ncustomer\\nwho\\nfulfils\\nthe\\ncriteria\\ndefined\\nin\\nthis\\noffer\\nwill\\nbe\\nautomatically\\nmapped\\nto\\nthe\\ntargeted\\ngiveaway\\noffer.\\nExample:\\nShop\\nworth\\nRs\\n1000\\nfrom\\nPuma\\nand\\nget\\nextra\\n10%\\noff\\non\\nPuma\\non\\nyour\\nnext\\npurchase\\nTo\\nenable\\nthis\\nconstruct,\\n2\\noffers\\nwill\\nhave\\nto\\nbe\\ncreated\\non\\nGrumbles.\\nThe\\nsteps\\nfor\\neach\\nhas\\nbeen\\ndetailed\\nbelow' metadata={'source': 'RelevantSOPs/Offer Business Use Cases (2).pdf', 'page': 6}\n",
      "[{'query': 'What is the minimum time between the start of an offer and the start of a pause?', 'answer': '5 minutes'}] ======\n",
      "\n",
      "\n",
      "\n",
      "page_content='E d i t i n g\\na\\nS e l l e r\\nR e c o m m e n d a t i o n\\nO n c e\\na n\\no ﬀ e r\\ni s\\np u b l i s h e d\\nt h e\\no p t i o n\\nt o\\nE d i t\\nt h e\\ne x i s t i n g\\ns e l l e r\\nr e c o m m e n d a t i o n\\nw i l l\\nb e\\na v a i l a b l e\\no n\\nG r u m b l e s .\\nE d i t i n g\\no f\\na n\\ne x i s t i n g\\ns e l l e r\\nr e c o m m e n d a t i o n\\ni s\\na l l o w e d\\nt i l l\\nt h e\\no ﬀ e r\\ne x p i r e s .' metadata={'source': 'RelevantSOPs/Seller Recommendation for an Offer.pdf', 'page': 6}\n",
      "[{'query': 'What is the minimum time between the start of an offer and the start of a pause?', 'answer': '5 minutes'}] ======\n",
      "\n",
      "\n",
      "\n",
      "page_content='offers\\nBGM\\n(Books\\nand \\nGeneral\\nMerchandise)and \\nHome\\nImprove\\naffordability\\nof \\nproduct\\nselection\\nI\\nwant\\nto\\nimprove\\nthe \\nprice/affordability\\nfor \\nmy\\nproduct\\nselection\\nE.g.-\\nBuy\\nProduct\\nA\\nat \\nextra\\nRs\\n50\\noff\\n1.\\nCash\\nand\\nCoins \\noffer\\n2.\\nFixed\\nPrice \\noffers\\n3.\\nTargeted\\noffers\\nLifestyle\\nImprove\\nunits\\nper\\norder \\nor\\naverage\\norder\\nvalue\\nI\\nwant\\nto\\nimprove\\nunits \\nbought\\nper\\norder\\nor \\naverage\\norder\\nvalue\\nE.g-\\nBuy\\n1\\nGet\\n1\\nfree, \\nBuy\\nworth\\n1000\\nand \\nget\\n10%\\noff\\netc.\\n1.\\nBMGN\\noffers \\n2.\\nBasket\\noffer\\n( \\nBuy\\nX\\nat\\nY% \\noff,\\nBuy\\nX\\nunits \\nat\\nflat\\nRs\\nXXX) \\n3.\\nCombo\\noffer\\nNote:\\n●\\nEfficiency\\nis\\nbased\\non\\nRevenue\\nper\\ncost\\n(RPC)\\nmetrics\\nmeasured\\ndirectionally\\nfor\\neach\\nbusiness\\nunit\\n●\\nShipping\\noffers\\nare\\nrelevant\\nto\\nevery\\nBusiness\\nunit\\nand\\nSHipping\\noffers/Discounts\\ncan\\nbe\\nused\\nto\\noffer\\nreduced\\nshipping\\nfee.\\nDefinitions\\nand\\ndetailed\\nexamples\\nof\\nmultiple\\noffer\\nformats\\navailable\\ngiven\\nbelow-\\nW h a t\\na r e\\nB a s k e t\\nO f f e r s\\n?\\nBasket\\noffers\\nhave\\nan\\nobjective\\nto\\nincrease\\nunits\\nper\\norder\\nor\\naverage\\norder\\nvalue.\\nFollowing\\nBasket\\noffer\\ntypes\\nare\\npossible\\non\\nFlipkart-\\n●\\nBuy\\n2\\nat\\n999:\\nHurdle\\nis\\n2\\nunits\\nand\\nGiveaway\\nis\\nFinal\\nprice\\nGiveaway\\nof\\nRs\\n999\\n●\\nBuy\\n2\\nat\\n5%\\noff:\\nHurdle\\nis\\n2\\nunits\\nand\\nGiveaway\\nis\\npercentage\\ndiscount\\noff\\nof\\n5%\\n●\\nBuy\\nworth\\n1000\\nand\\nget\\n5%\\noff:\\nHurdle\\nis\\nRs\\n1000\\nvalue\\nbased\\nand\\nGiveaway\\nis\\npercentage\\ndiscount\\noff\\nof\\n5%\\n●\\nBuy\\nworth\\n1000\\nand\\nget\\nRs\\n100\\noff:\\nHurdle\\nis\\nRs\\n1000\\nvalue\\nbased\\nhurdle\\nand\\nGiveaway\\nis\\nflat\\namount\\noff\\nof\\nRs\\n100\\nFollowing\\noptions\\nare\\navailable\\nfor\\nbasket\\noffers-\\n●\\nDo\\nyou\\nwant\\nthis\\nto\\nbe\\nshipped\\ntogether\\n?-\\nThis\\noption\\nincreases\\nunits\\nto\\nshipment\\nin\\na\\nbasket\\noffer\\n●\\nFor\\nValue\\nBased\\nBasket\\nOffers-\\nSingle\\nunit\\norder\\nrestriction\\nis\\nimplemented' metadata={'source': 'RelevantSOPs/Offer Business Use Cases (2).pdf', 'page': 2}\n",
      "[{'query': 'What is the minimum time between the start of an offer and the start of a pause?', 'answer': '5 minutes'}] ======\n",
      "\n",
      "\n",
      "\n",
      "page_content='W h a t\\ni s\\na\\nG r o u p\\nB u y i n g\\no f f e r\\n?\\nA n s w e r :\\nG r o u p\\nB u y i n g\\no f f e r\\ni s\\na\\nc o n d i t i o n a l\\no f f e r\\nf o r m a t\\nw h e r e i n\\nc u s t o m e r s\\nc a n\\nb u y\\nt h e\\np r o d u c t\\ns e l e c t i o n\\nu n d e r\\no f f e r\\na t\\na\\nd i s c o u n t e d\\nG r o u p\\nB u y\\np r i c e\\nw h e r e\\nt h e\\no r d e r\\nw i l l\\nb e\\nd i s p a t c h e d\\no n l y\\nw h e n\\ng r o u p\\nh u r d l e\\n( B r i n g\\nm i n i m u m\\nX\\nm e m b e r s\\nw i t h i n\\nY Y\\nh o u r s )\\ni s\\nc o m p l e t e d .\\nH u r d l e\\nM i n .\\nG r o u p\\ns i z e\\na n d\\ng r o u p\\nv a l i d i t y\\nt i m e r\\nG i v e a w a y\\nE x t r a\\nX %\\no f f\\no n\\nF K F P\\nMinimum\\ngroup\\nsize\\nand\\ngroup\\nvalidity\\ntimer\\nwould\\nbe\\nfixed\\nfor\\ncategories\\nand\\ncannot\\nbe\\nselected/changed\\non\\ngrumbles\\nUI.\\nH o w\\nt o\\nc r e a t e\\na n\\nA / B\\no n\\no f f e r\\n?\\nA n s w e r :\\nCreating\\nan\\noffer\\nunder\\nan\\nA/B\\ninvolves\\n2\\nsteps:\\n○\\nCreating\\nthe\\nA/B\\non\\nStatsig\\n(which\\nis\\nFlipkart’s\\nA/B\\nplatform)\\n○\\nAdding\\nthe\\nA/B\\ncontext\\nto\\nthe\\noffer\\nwhile\\ncreating\\nit\\non\\nGrumbles\\nEvery\\noffer\\nformat\\nis\\nenabled\\nfor\\nrunning\\nA/B\\nwith\\nan\\noption\\non\\nGrumbles\\nconsole.\\nOnly\\n100%\\nseller\\nburn\\noffers\\ncan\\nbe\\nconsidered\\nfor\\nA/B\\ncreation.' metadata={'source': 'RelevantSOPs/Offer Business Use Cases (2).pdf', 'page': 8}\n",
      "[{'query': 'What is the minimum time between the start of an offer and the start of a pause?', 'answer': '5 minutes'}] ======\n",
      "\n",
      "\n",
      "\n",
      "page_content='i.e\\n-\\nIf\\nAny\\nvalue\\nbased\\nbasket\\noffer\\nis\\ncreated-\\nMinimum\\n2\\nproducts\\nwill\\nhave\\nto\\nbe\\nbought\\nby\\ncustomers\\nto\\nsuffice\\nthe\\nvalue\\nbased\\nbasket\\noffer\\nhurdle\\nand\\nto\\nensure\\ncustomers\\ndont\\ncheckout\\nwith\\na\\nsingle\\nitem\\nwith\\nbasket\\noffer\\napplied\\non\\nit.\\nHowever,\\nbusiness\\nteams\\ncan\\nalso\\nselect\\nnot\\nto\\nhave\\nthis\\nrestriction\\nby\\nchecking\\nthis\\nbox-\\n“Do\\nyou\\nwant\\nthe\\noffer\\nto\\nbe\\nan\\nintended\\nsingle\\nunit\\noffer\\n?”\\nBasket\\noffer\\nformat\\ncan\\nbe\\nused\\nto\\ncreate\\nshipping\\nand\\nbank\\nbased\\noffers\\ntoo.\\nOption\\nto\\nselect\\nrelevant\\nbasket\\nuse\\ncase\\nis\\navailable\\non\\noffer\\ndetails\\nscreen.\\nW h a t\\na r e\\nB M G N\\no f f e r s\\n?\\nBMGN-Buy\\nM\\nand\\nget\\nN\\nis\\na\\nconditional\\noffer\\nformat\\nwherein\\nif\\na\\ncustomer\\nbuys\\nM+N\\nor\\ngreater\\nunits\\nat\\nMRP\\non\\ncart,\\nlowest\\nN\\nitems\\nwould\\nbe\\nfree/or\\nat\\na\\ny%\\ndiscount.\\nExamples\\nof\\nBMGN\\nOffers-\\nO f f e r\\nf o r m a t\\ne x a m p l e\\nO f f e r \\nP a r a m e t e \\nr s\\nF K\\nu s e r\\na c t i o n s \\nr e q u i r e d\\nD i s c o u n t i n g\\nM a x .\\np o s s i b l e \\nd i s c o u n t\\nB u y\\n1\\nG e t\\n1\\nF r e e\\nM = 1 , \\nN = 1 , \\ny = 1 0 0 %\\nA d d\\na n y\\n2\\ni t e m s\\nf r o m \\no f f e r\\ns e l e c t i o n\\nt o\\nc a r t\\nM R P\\no f\\nl o w e s t \\np r i c e\\ni t e m \\nw o u l d\\nb e \\nd i s c o u n t\\nn / n + m\\n5 0 %\\nB u y\\n1\\nG e t\\n2\\nF r e e\\nM = 1 , \\nN = 2 , \\ny = 1 0 0 %\\nA d d\\na n y\\n3\\ni t e m s\\nf r o m \\no f f e r\\ns e l e c t i o n\\nt o\\nc a r t\\nS u m\\no f\\nM R P\\no f \\n2\\nl o w e s t\\np r i c e d \\ni t e m s\\nw o u l d\\nb e \\nd i s c o u n t\\n6 6 %\\nB u y\\n3\\nG e t\\n2\\nF r e e\\nM = 3 , \\nN = 2 , \\ny = 1 0 0 %\\nA d d\\na n y\\n5\\ni t e m s\\nf r o m \\no f f e r\\ns e l e c t i o n\\nt o\\nc a r t\\nS u m\\no f\\nM R P\\no f \\n2\\nl o w e s t\\np r i c e d \\ni t e m s\\nw o u l d\\nb e \\nd i s c o u n t\\n4 0 %\\nB u y\\n2\\nG e t\\n1\\na t\\n5 0 %\\no f f\\nM = 2 , \\nN = 1 , \\ny = 5 0 %\\nA d d\\na n y\\n3\\ni t e m s\\nf r o m \\no f f e r\\ns e l e c t i o n\\nt o\\nc a r t\\nM R P * 5 0 %\\no f \\nl o w e s t\\np r i c e d \\ni t e m\\nw o u l d\\nb e \\nd i s c o u n t' metadata={'source': 'RelevantSOPs/Offer Business Use Cases (2).pdf', 'page': 3}\n",
      "[{'query': 'What is the minimum time between the start of an offer and the start of a pause?', 'answer': '5 minutes'}] ======\n",
      "\n",
      "\n",
      "\n",
      "page_content='Cash\\nand\\nCoins\\noffers\\nare\\nused\\nto\\ncreate\\nsupercoins\\noffer\\non\\nyour\\nproduct\\nselection\\nwherein\\ncustomers\\ncan\\npurchase\\na\\nproduct\\nby\\npaying\\npart\\namount\\nin\\ncash\\nand\\npart\\namount\\nin\\nsupercoins.\\nHurdle\\nis\\non\\nproduct\\nselection\\nand\\ngiveaway\\nis\\npercentage\\nconvertible\\ncoins\\nor\\namount\\nconvertible\\ncoins.\\nW h a t\\na r e\\nC o m b o\\nO f f e r s ?\\nCombo\\nOffers\\nare\\nmulti\\nproduct\\ngroup\\noffers\\nthat\\nhave\\na\\nhurdle\\non\\nPGs\\nthat\\nhave\\nbeen\\ndefined\\nin\\nthe\\noffer\\nwith\\ngiveaway\\non\\neach\\nof\\nthe\\nPGs\\nin\\nthe\\noffer.\\nE.g.\\nIf\\nthe\\ncombo\\noffer\\nhas\\n2\\nPGs,\\na\\nuser\\nneeds\\nto\\nbuy\\nan\\nitem\\nfrom\\neach\\nof\\nthe\\nPG\\nwhich\\nwill\\nmake\\nhim/her\\neligible\\nfor\\ndiscount\\non\\nproducts\\nof\\nboth\\nthe\\nPGs.\\nCombo\\nOffers\\nalso\\nopen\\nup\\nthe\\nopportunity\\nto\\nhave\\nsoft\\nbundling\\nenabled\\non\\nthe\\nFlipkart\\nPlatform.\\nHurdle-\\nProduct\\nSelection-\\nPG1,\\nPG2\\nor\\nPG3\\nGIveaway-\\npercentage\\noff,\\nflat\\namount\\noff\\nCombo\\nOffers\\ncan\\nbe\\nmanifested\\nin\\nthe\\nfollowing\\nforms\\n:\\n1)\\nBuy\\nP1\\nand\\nP2\\nget\\n10%\\noff\\non\\nboth\\nP1\\nand\\nP2\\n2)\\nBuy\\nP1\\nand\\nP2\\nget\\n10%\\noff\\non\\nP1\\nand\\n5%\\noff\\non\\nP2\\n3)\\nBuy\\n3\\nof\\nP1\\nget\\n10%\\noff\\non\\nall\\n3\\nunits\\nof\\nP1\\n4)\\nBuy\\n2\\nof\\nP1\\nand\\n1\\nof\\nP2\\nget\\n10%\\noff\\non\\n2\\nunits\\nfrom\\nP1\\nand\\n1\\nfrom\\nP2.\\nCombo\\noffers\\nare\\navailable\\nfully\\nfor\\nGrocery\\nwith\\nrelevant\\nexperience\\nand\\nfor\\nFlipkart\\nmarketplace\\nas\\nwell\\nbut\\nwith\\nno\\nexperience\\nas\\nsuch\\nas\\nof\\ntoday.\\nW h a t\\ni s\\nE i t h e r\\no r\\nc a p a b i l i t y\\n?\\nA n s w e r :\\nOffers\\nmarked\\nwith\\neither\\nor\\ndo\\nnot\\nadd\\nup\\nfor\\na\\nuser,\\n&\\nif\\nboth\\nthe\\noffers\\nbecome\\navailable\\nfor\\na\\nuser,\\nthey\\nneed\\nto\\nchoose\\namongst\\none\\nof\\nthem,\\nalthough\\nwe\\npre\\nselect\\nthe\\nmost\\nrelevant\\none\\nfor\\nthem\\nby\\ndefault.\\nEither\\nor\\nworks\\nat\\na\\nlisting\\nlevel\\nmeaning,\\nif\\nthere\\nare\\n2\\nor\\nmore\\nEO\\noffers\\navailable\\nonly\\nthen\\nwill\\nthe\\nEO\\nflows\\nbe\\ntriggered,\\nelse\\nthey\\nare\\ntreated\\nas\\nnormal\\noffer.\\nAs\\nof\\nnow\\nBank\\noffer\\nand\\nexchange\\noffer\\nare\\navailable\\nas\\neither\\nor\\ncapability\\nenabled\\noffer\\nW h a t\\na r e\\nI n c e n t i v i s e d\\nA t t a c h\\nO f f e r s ?\\nA n s w e r :' metadata={'source': 'RelevantSOPs/Offer Business Use Cases (2).pdf', 'page': 5}\n",
      "[{'query': 'What is the minimum time between the start of an offer and the start of a pause?', 'answer': '5 minutes'}] ======\n",
      "\n",
      "\n",
      "\n"
     ]
    },
    {
     "ename": "IndexError",
     "evalue": "list index out of range",
     "output_type": "error",
     "traceback": [
      "\u001b[0;31m---------------------------------------------------------------------------\u001b[0m",
      "\u001b[0;31mIndexError\u001b[0m                                Traceback (most recent call last)",
      "Cell \u001b[0;32mIn[17], line 15\u001b[0m\n\u001b[1;32m     13\u001b[0m \u001b[38;5;66;03m# print(qdocs)\u001b[39;00m\n\u001b[1;32m     14\u001b[0m \u001b[38;5;28;01mfor\u001b[39;00m i \u001b[38;5;129;01min\u001b[39;00m \u001b[38;5;28mrange\u001b[39m(\u001b[38;5;241m0\u001b[39m,\u001b[38;5;28mlen\u001b[39m(qdocs)\u001b[38;5;241m-\u001b[39m\u001b[38;5;241m2\u001b[39m):\n\u001b[0;32m---> 15\u001b[0m     \u001b[38;5;28mprint\u001b[39m(\u001b[43mrelevantDocs\u001b[49m\u001b[43m[\u001b[49m\u001b[43mi\u001b[49m\u001b[43m]\u001b[49m)\n\u001b[1;32m     16\u001b[0m     relevantDocs[i]\u001b[38;5;241m.\u001b[39mpage_content\n\u001b[1;32m     17\u001b[0m     \u001b[38;5;28mprint\u001b[39m(item, \u001b[38;5;124m\"\u001b[39m\u001b[38;5;124m======\u001b[39m\u001b[38;5;130;01m\\n\u001b[39;00m\u001b[38;5;130;01m\\n\u001b[39;00m\u001b[38;5;130;01m\\n\u001b[39;00m\u001b[38;5;124m\"\u001b[39m)\n",
      "\u001b[0;31mIndexError\u001b[0m: list index out of range"
     ]
    }
   ],
   "source": [
    "# query = \"how does deferred Giveaway works for offer\"\n",
    "# query = \"how do I create a Promise Callout Offer\"\n",
    "query = \"how do I create a Basket Offer\"\n",
    "# query = \"What is insufficient participation ?\"\n",
    "# query = \"What is Either or Offer ?\"\n",
    "relevantDocs = db.max_marginal_relevance_search(query, k=6)\n",
    "# relevantDocs = db.similarity_search_with_score(query, k=10)\n",
    "\n",
    "print(len(relevantDocs))\n",
    "# print(relevantDocs)\n",
    "\n",
    "qdocs = \"\".join([relevantDocs[i].page_content for i in range(len(relevantDocs))])\n",
    "# print(qdocs)\n",
    "for i in range(0,len(qdocs)-2):\n",
    "    print(relevantDocs[i])\n",
    "    relevantDocs[i].page_content\n",
    "    print(item, \"======\\n\\n\\n\")"
   ]
  },
  {
   "cell_type": "code",
   "execution_count": null,
   "id": "d9ad6316",
   "metadata": {},
   "outputs": [],
   "source": [
    "\n",
    "role = \"\"\"\n",
    "You are offer related query answering module for promotions platform on Flipkart.\\\n",
    "You answer questions with a high degree of precision & wherever you do not have enough precision, \\\n",
    "you always provide an output saying the answers might not be fully correct. \\\n",
    "Promotions Platform has capabilities to create and maintain an offer via its \\\n",
    "offer creation console- 'Grumbles' and maintenance console-- 'Casper'. Business users\\\n",
    "can ask multiple questions related to capabilities for creating and maintaining an offer.\n",
    "\"\"\"\n",
    "\n",
    "prompt = f\"\"\" \n",
    "Role: {role}\n",
    "Follow exactly these 3 steps:\n",
    "1. Read the context below and aggregrate this data\n",
    "Context : {qdocs}\n",
    "2. Answer the question using only this context\n",
    "3. Show the source for your answers\n",
    "User Question: {query}\n",
    "\n",
    "If you don't have any context and are unsure of the answer, reply that you don't know about this topic.\n",
    "\n",
    "\"\"\"\n",
    "print(len(prompt))"
   ]
  },
  {
   "cell_type": "code",
   "execution_count": null,
   "id": "ff81a451",
   "metadata": {},
   "outputs": [],
   "source": [
    "print(getResponse(prompt))"
   ]
  },
  {
   "cell_type": "code",
   "execution_count": null,
   "id": "4808cc83",
   "metadata": {},
   "outputs": [],
   "source": [
    "\n",
    "# response = vertex_llm_text.call_as_llm(f\"{qdocs} Question: What is Incentivised offer.\") \n",
    "\n",
    "# print (sopContext)\n",
    "\n",
    "# print(prompt)\n",
    "# question =  f\"{qdocs} {prompt}\"\n",
    "# print(question)\n",
    "# print(getResponse(question))\n",
    "# display(Markdown(response))\n",
    "\n",
    "# getChatResponse()"
   ]
  },
  {
   "cell_type": "code",
   "execution_count": null,
   "id": "3893e3d4",
   "metadata": {},
   "outputs": [],
   "source": [
    "# !gcloud auth application-default login"
   ]
  },
  {
   "cell_type": "code",
   "execution_count": 43,
   "id": "424c3e81",
   "metadata": {},
   "outputs": [
    {
     "name": "stdout",
     "output_type": "stream",
     "text": [
      "43\n",
      "===============\n",
      "\n",
      "\n",
      "\n",
      "{'doc': Document(page_content='B u r n\\nD a s h b o a r d\\n1 .\\nI n\\nt h e\\ns h i p p i n g\\nS O P\\nt e a m s\\nw i l l\\nh a v e\\nt o\\ns h a r e\\ne x p e c t e d\\nb u r n\\np e r\\nd a y\\n/\\np e r\\nh o u r\\nd u r i n g\\np e a k\\nh o u r s\\n2 .\\nB u s i n e s s\\n/ b i z\\nﬁ n\\nt e a m\\nw i l l\\nh a v e\\nt o\\nm o n i t o r\\ns h i p p i n g\\nb u r n\\nd u r i n g\\nt h e\\nd a y\\na n d\\nr a i s e\\nt h e\\nc o n c e r n s\\ni f\\nb u r n\\ni s\\nm o r e\\nt h a n\\ne x p e c t e d .\\nR u l e s\\nw i l l\\no n l y\\nb e\\nd i s a b l e d\\nw h e n\\nb u r n\\ni s\\nm o r e\\nF e e d b a c k\\n2 .\\nA d d i n g\\nc o n s u m e r\\nc u t', metadata={'source': 'RelevantSOPs/_SOP for Shipping Rule Creation.pdf', 'page': 2})}\n",
      "+++++++++++++++++++++++++++++++++++++++++++++\n",
      "{'doc': Document(page_content='D o w n l o a d\\nt h e\\nS a m p l e\\nﬁ l e .\\nI t\\nw i l l\\nl o o k\\na s\\ns h o w n\\nb e l o w .\\nA d d\\nt h e\\nF S N s\\nt h a t\\ny o u\\nw a n t\\nt o\\nb e\\np a r t\\no f\\nt h e\\nr e c o m m e n d a t i o n\\nt o\\nt h e\\nﬁ l e\\na n d\\nu p l o a d\\ni t .\\nA\\ns a m p l e\\nﬁ l e\\nw i t h\\na\\ns a m p l e\\nF S N\\nh a s\\nb e e n\\ns h o w n\\nb e l o w .', metadata={'source': 'RelevantSOPs/Seller Recommendation for an Offer.pdf', 'page': 2})}\n",
      "+++++++++++++++++++++++++++++++++++++++++++++\n",
      "{'doc': Document(page_content='W h a t\\ni s\\nG r u m b l e s ?\\nH o w\\nt o\\ng e t\\nG r u m b l e s\\nA c c e s s\\nU s i n g\\nG r u m b l e s\\nW h a t\\na r e\\nC o n d i t i o n a l\\nO ﬀ e r s ?\\nD e ﬁ n i n g\\nt h e\\no ﬀ e r\\nO ﬀ e r\\nT y p e\\nO ﬀ e r\\nF o r m a t\\nP r o d u c t\\nS e l e c t i o n\\nD i s c o v e r y\\nS u m m a r y\\nS c r e e n\\nA p p r o v i n g\\no ﬀ e r s\\nW h o\\na p p r o v e s\\no ﬀ e r s ?\\nR o l e\\no f\\no ﬀ e r\\na p p r o v e r\\nH o w\\nt o\\na p p r o v e ?\\nP u b l i s h i n g\\no ﬀ e r s\\nP a u s i n g\\na n\\no ﬀ e r\\nS e l l e r\\nR e c o m m e n d a t i o n', metadata={'source': 'RelevantSOPs/Offer Creation via Grumbles .pdf', 'page': 0})}\n",
      "+++++++++++++++++++++++++++++++++++++++++++++\n",
      "{'doc': Document(page_content='●\\nC l i c k\\no n\\nt h e\\np u b l i s h\\nb u t t o n\\no n\\nt h e\\no ﬀ e r\\nc a r d\\n●\\nA\\ns u c c e s s\\nm e s s a g e\\nw i t h\\na\\nu n i q u e\\no ﬀ e r\\ni d\\nw i l l\\ns h o w\\nu p\\no n\\nt h e\\ns c r e e n\\no n c e\\nt h e\\no ﬀ e r\\nh a s\\nb e e n\\np u b l i s h e d .\\nP a u s i n g\\na n\\no ﬀ e r', metadata={'source': 'RelevantSOPs/Offer Creation via Grumbles .pdf', 'page': 11})}\n",
      "+++++++++++++++++++++++++++++++++++++++++++++\n"
     ]
    }
   ],
   "source": [
    "from langchain.evaluation.qa import QAGenerateChain\n",
    "# ~/Documents/Mylearnings/GenAI/venv/env/lib/python3.9/site-packages/langchain/chains/llm.py:257\n",
    "example_gen_chain = QAGenerateChain.from_llm(vertex_llm_text)\n",
    "# new_examples = example_gen_chain.apply_and_parse(\n",
    "#     [{\"doc\": t} for t in pages]\n",
    "# )\n",
    "print(len(pages))\n",
    "# print([{\"doc\": t} for t in pages[0:2]])\n",
    "print(\"===============\\n\\n\\n\")\n",
    "# new_examples = []\n",
    "listt = []\n",
    "for i in range(len(pages)):\n",
    "    try:\n",
    "#         print (i)\n",
    "        dictt = {}\n",
    "        dictt[\"doc\"] = pages[i]\n",
    "        listt.append(dictt)\n",
    "    except:\n",
    "        print (ERROR)\n",
    "        \n",
    "# print (listt)\n",
    "\n",
    "# new_examples = example_gen_chain.apply_and_parse(listt)\n",
    "new_examples = []\n",
    "for item in listt:\n",
    "    try:\n",
    "        new_examples.append(example_gen_chain.apply_and_parse_pkReplica(item)[0])\n",
    "    except:\n",
    "        print(item)\n",
    "        print(\"+++++++++++++++++++++++++++++++++++++++++++++\")\n",
    "\n",
    "# print(new_examples[0])\n",
    "# for t in pages:\n",
    "#     print (t)\n",
    "#     dictt[\"doc\"] = t\n",
    "#     listt.append()\n",
    "#     new_examples.append(example_gen_chain.apply_and_parse(t})"
   ]
  },
  {
   "cell_type": "code",
   "execution_count": 44,
   "id": "82692771",
   "metadata": {},
   "outputs": [
    {
     "name": "stdout",
     "output_type": "stream",
     "text": [
      "Done\n"
     ]
    }
   ],
   "source": [
    "#### writing data into a text file\n",
    "with open(r'./training/trainingDataAutoGen.txt', 'w') as fp:\n",
    "    for item in new_examples:\n",
    "        # write each item on a new line\n",
    "        fp.write(\"%s\\n\" % item)\n",
    "    print('Done')"
   ]
  },
  {
   "cell_type": "code",
   "execution_count": null,
   "id": "6260631e",
   "metadata": {},
   "outputs": [],
   "source": []
  },
  {
   "cell_type": "code",
   "execution_count": 45,
   "id": "04acb77a",
   "metadata": {},
   "outputs": [],
   "source": [
    "### use the generated question to get answer from the model\n",
    "\n",
    "### All the above steps can be done in sigle step\n",
    "## here we are creating RetrievalQA chain\n",
    "### we pass - llm -> used for summary\n",
    "### chain_type -> simplest method to create context\n",
    "### retriever -> interface to fetch document\n",
    "from langchain.chains import RetrievalQA\n",
    "qa_stuff = RetrievalQA.from_chain_type(\n",
    "    llm=vertex_llm_text, \n",
    "    chain_type=\"stuff\", \n",
    "    retriever=retriever, \n",
    "    verbose=True,\n",
    "    chain_type_kwargs = {\n",
    "        \"document_separator\": \"<<<< >>>>>\"\n",
    "    }\n",
    ")"
   ]
  },
  {
   "cell_type": "code",
   "execution_count": 38,
   "id": "a97c27db",
   "metadata": {},
   "outputs": [
    {
     "name": "stdout",
     "output_type": "stream",
     "text": [
      "[{'query': 'What are the requirements for a dynamic segmentation offer?', 'answer': 'Dynamic segmentation is dependent on how the product selection for an offer has been defined. Following product selection configuration are of dynamic segmentation type: Following product selection configuration are NOT of dynamic segmentation type:'}, {'query': 'What is the difference between a dynamic offer and a deferred give away offer?', 'answer': 'Dynamic offers are based on system events, while deferred give away offers are based on transaction based promise call out offers.'}]\n",
      "<class 'dict'>\n",
      "\u001b[32;1m\u001b[1;3m[chain/start]\u001b[0m \u001b[1m[1:chain:RetrievalQA] Entering Chain run with input:\n",
      "\u001b[0m{\n",
      "  \"query\": \"What are the requirements for a dynamic segmentation offer?\"\n",
      "}\n",
      "\u001b[32;1m\u001b[1;3m[chain/start]\u001b[0m \u001b[1m[1:chain:RetrievalQA > 2:chain:StuffDocumentsChain] Entering Chain run with input:\n",
      "\u001b[0m[inputs]\n",
      "\u001b[32;1m\u001b[1;3m[chain/start]\u001b[0m \u001b[1m[1:chain:RetrievalQA > 2:chain:StuffDocumentsChain > 3:chain:LLMChain] Entering Chain run with input:\n",
      "\u001b[0m{\n",
      "  \"question\": \"What are the requirements for a dynamic segmentation offer?\",\n",
      "  \"context\": \"1.\\nA\\ntargeted\\noffer:\\n10%\\noff\\non\\nPuma.\\n2.\\nPromise\\ncallout\\noffer:\\nShop\\nworth\\nRs.\\n1000\\non\\nPuma.\\nThe\\ntargeted\\ngiveaway\\noffer\\nwill\\nbe\\nprovided\\nas\\ninput\\non\\ngrumbles.\\nOffer\\nLifecycle\\nPrerequisites-\\nThere\\nare\\nsome\\nhard\\nconstraints\\nfor\\nthe\\noffer\\ncreation\\nprocess.\\nThis\\nis\\nto\\nguardrail\\ncustomer\\nexperience,\\nand\\nensure\\nthat\\ncustomers\\nhave\\nenough\\ntime\\nto\\nredeem\\nthe\\noffer.\\nLet\\u2019s\\nsay\\nthe\\nfollowing\\nplan\\nis\\nmade\\nfor\\nthe\\noffer\\nto\\ngo-live\\n\\u25cf\\nTargeted\\nGiveaway\\nOffer\\n-\\nT3\\n(start\\ntime\\nof\\ntargeted\\noffer)\\nto\\nT4\\n(end\\ntime\\nof\\ntargeted\\noffer)\\n\\u25cf\\nPromise\\nCallout\\nOffer\\n-\\nT1\\n(start\\ntime\\nof\\npromise\\ncallout\\noffer)\\nto\\nT2\\n(end\\ntime\\nof\\npromise\\ncallout\\noffer)\\nThe\\nfollowing\\nconditions\\napply:\\n\\u25cf\\nT3\\nshould\\nstart\\nno\\nearlier\\nthan\\nT1\\n(which\\nmeans\\nthe\\ntargeted\\noffer\\nshould\\nnot\\nstart\\nearlier\\nthan\\nthe\\nstart\\nof\\nthe\\npromise\\ncallout\\noffer).\\n\\u25cf\\nThe\\nduration\\nbetween\\nT2\\n(end\\nof\\ncallout\\noffer)\\nand\\nT4\\n(End\\nof\\ntargeted\\noffer)\\nshould\\nbe\\nat\\nleast\\n30\\n+\\nx\\ndays,\\nwhere\\nx\\nis\\nthe\\ntime\\ndilation\\nfactor\\n(#days\\npost\\norder\\ndelivery/placement\\nwhen\\nthe\\ncustomer\\nwill\\nget\\nmapped\\nto\\nthe\\ngiveaway\\noffer.\\nThis\\nis\\nto\\nensure\\nthat\\nthe\\nuser\\nstill\\nhas\\nenough\\ntime\\nto\\nredeem\\nthe\\ngiveaway\\noffer.\\n\\u25cf\\nGiveaway\\noffer\\nshould\\nbe\\nlive\\nat\\nthe\\ntime\\nof\\ncreation\\nof\\nthe\\npromise\\ncallout\\noffer\\nW h a t\\na r e\\nS h i p p i n g\\nO f f e r s ?\\nA n s w e r :\\nShipping\\noffers\\nare\\ndiscounts\\non\\nthe\\nshipping\\nfee,\\nwhich\\ncan\\nbe\\nof\\ntwo\\ntypes:\\n1.\\nListing\\nShipping\\nOffers\\n-\\nThese\\noffers\\ndo\\nnot\\nrequire\\nany\\nvalue\\nbased\\nhurdle\\nto\\nbe\\nmet\\nfor\\nfree\\nshipping\\nto\\nbe\\napplicable\\non\\na\\nlisting.\\nExamples\\ninclude\\nFree\\nShipping\\non\\nselect\\nFSNs/Verticals\\n2.\\nBasket\\nShipping\\nOffers\\n-\\nThese\\noffers\\nrequire\\na\\nvalue\\nbased\\nhurdle\\nto\\nbe\\nmet\\nfor\\nfree\\nshipping\\nto\\nbe\\napplicable.\\nExamples\\ninclude\\nFree\\nShipping\\non\\nTshirt\\nbasket\\n>\\nRs.\\n200.\\nShipping\\nOffers\\ncan\\nonly\\nsupport\\n100%\\nGiveaway\\nie.\\nFree\\nShipping\\nis\\nthe\\nonly\\ndiscount\\navailable.\\nPartial\\ndiscounting\\nis\\nnot\\nsupported.\\nFor\\nGrocery\\nand\\nHyperlocal,\\nFree\\nShipping\\noffers\\nwill\\nbe\\nconfigured\\non\\nthe\\nentire\\nmarketplace,\\nas\\nshipping\\nfee\\nis\\nat\\na\\ncart\\nlevel\\nand\\nnot\\nat\\nlisting\\nlevel.\\nW h a t\\na r e\\nT a r g e t e d\\nD i s c o u n t s ?\\nA n s w e r :\\nTargeted\\ndiscounts\\nrefer\\nto\\nany\\noffer\\non\\nthe\\nplatform\\nthat\\nis\\navailable\\nonly\\nto\\na\\nlimited\\nset\\nof\\ncustomers.\\nW h a t\\no f f e r\\nf o r m a t s\\na r e\\na v a i l a b l e\\nf o r\\nt a r g e t e d\\nd i s c o u n t s ?\\nAll\\nconditional\\noffer\\nformats\\navailable\\nin\\ngrumbles,\\nexcept\\nFlipkart\\nWide\\nOffers,\\ncan\\nbe\\ntargeted\\nin\\nnature.\\nWhile\\nyou\\nmight\\nsee\\nthe\\noption\\non\\nGrumbles,\\nwe\\ndo\\nnot\\nsupport\\ncreation\\nof\\nsite\\nwide\\ntargeted\\noffers.<<<< >>>>>Buy\\nP1,\\nget\\nx%\\noff\\non\\nP2\\nIncentivised\\nAttach\\nOffers\\nare\\nmulti\\nproduct\\ngroup\\noffers\\nthat\\nhave\\na\\nhurdle\\non\\n1\\nproduct\\ngroup,\\nand\\na\\ngiveaway\\non\\na\\ndifferent\\nproduct\\ngroup.\\nProduct\\ngroup\\nrefers\\nto\\na\\nset\\nof\\nFSNs\\ndefined\\nby\\nthe\\noffer\\ncreator.\\nIf\\nthe\\ncombo\\noffer\\nhas\\n2\\nPGs,\\na\\nuser\\nneeds\\nto\\nbuy\\nan\\nitem\\nfrom\\neach\\nof\\nthe\\nPG\\nwhich\\nwill\\nmake\\nhim/her\\neligible\\nfor\\ndiscount\\non\\nthe\\nsecond\\nPG.\\nE.g.\\nBuy\\nmobiles,\\nget\\n10%\\noff\\non\\nearphones\\nPG1\\n-\\nMobiles\\nPG\\n2\\n-\\nEarphones\\nIf\\na\\ncustomer\\npurchases\\nboth\\n1\\nmobile\\nand\\n1\\nearphones\\nin\\nthe\\nsame\\ntransaction,\\nthey\\nwill\\nget\\n10%\\noff\\non\\nthe\\nearphones\\nlistings.\\nIncentivised\\nAttach\\nOffers\\nare\\nalso\\nknown\\nas\\nBundle\\nOffers.\\nHurdle\\nis\\non\\nbuying\\nPG1\\n+\\nPG2\\ntogether\\nGiveaway\\nis\\non\\nPG2\\nin\\nform\\nof\\npercentage\\ndiscount.\\nW h a t\\ni s\\na\\nP r o m i s e\\nC a l l o u t\\nO f f e r ?\\nA n s w e r :\\nThese\\nare\\ntransaction\\nbased\\noffers\\nwith\\na\\ndeferred\\ngiveaway.\\nie\\n-\\nA\\nuser\\nwho\\nshops\\nfrom\\na\\nparticular\\nselection\\nas\\nper\\ndefined\\ncriteria\\ngets\\na\\nbenefit\\non\\nhis\\nnext\\npurchase\\non\\na\\npredefined\\nset\\nof\\nproducts.\\nExample:\\n\\u25cf\\nShop\\nworth\\nRs\\n1000\\nin\\nlifestyle\\nand\\nget\\n10%\\noff\\non\\nyour\\nnext\\nlifestyle\\npurchase\\nbefore\\n31\\nAugust\\n\\u25cf\\nShop\\nworth\\nRs\\n200\\nfrom\\nPuma\\nand\\nget\\nextra\\n5%\\noff\\non\\nPuma\\nduring\\nthe\\nnext\\nPayday\\nsale\\n\\u25cf\\nShop\\nin\\nDecember,\\nget\\n10%\\noff\\non\\nyour\\npurchase\\nfor\\nthe\\nnext\\n3\\nmonths\\nThere\\nare\\n2\\nsteps\\nto\\nevery\\npromise\\ncallout\\noffer.\\n1.\\nCreation\\nof\\nthe\\ntargeted\\ngiveaway\\noffer\\n-\\n\\u25cb\\nThis\\nis\\nthe\\noffer\\nwith\\nthe\\ngiveaway\\nwhich\\nwill\\nbe\\napplicable\\non\\nthe\\ncustomer\\u2019s\\nsecond\\norder\\n\\u25cb\\nCustomers\\nwho\\nare\\neligible\\nas\\nper\\nthe\\ndefined\\ncriteria\\nwill\\nbe\\nautomatic\\nmapped\\nto\\nthis\\noffer.\\n\\u25cb\\nThis\\nis\\nto\\nbe\\ncreated\\nfirst,\\nas\\nthis\\nis\\nan\\ninput\\nto\\nthe\\nfirst\\ncallout\\noffers.\\n\\u25cb\\nThis\\nis\\ncreated\\non\\nlistings\\non\\nwhich\\ndiscounts\\nwould\\nbe\\ngiven.\\nSeller\\nburn\\nwill\\nbe\\nconfigured\\non\\nthis\\noffer.\\n2.\\nCreation\\nof\\nthe\\nPromise\\ncallout\\noffer\\n-\\n\\u25cb\\nThis\\nis\\nthe\\ncallout\\noffer\\nwhich\\nwill\\nbe\\nvisible\\non\\nthe\\ncustomer\\u2019s\\nfirst\\norder.\\n\\u25cb\\nThis\\nis\\nto\\nbe\\ncreated\\nsecond,\\nas\\nthis\\nrequires\\nthe\\nabove\\noffer\\nto\\nbe\\ngiven\\nas\\ninput\\n\\u25cb\\nThis\\nis\\ncreated\\non\\nlistings\\non\\nwhich\\ncallout\\nwould\\nbe\\ndone.\\nThere\\nis\\nno\\nseller\\nburn\\nassociated\\nwith\\nthis\\noffer.\\n\\u25cb\\nAny\\ncustomer\\nwho\\nfulfils\\nthe\\ncriteria\\ndefined\\nin\\nthis\\noffer\\nwill\\nbe\\nautomatically\\nmapped\\nto\\nthe\\ntargeted\\ngiveaway\\noffer.\\nExample:\\nShop\\nworth\\nRs\\n1000\\nfrom\\nPuma\\nand\\nget\\nextra\\n10%\\noff\\non\\nPuma\\non\\nyour\\nnext\\npurchase\\nTo\\nenable\\nthis\\nconstruct,\\n2\\noffers\\nwill\\nhave\\nto\\nbe\\ncreated\\non\\nGrumbles.\\nThe\\nsteps\\nfor\\neach\\nhas\\nbeen\\ndetailed\\nbelow<<<< >>>>>Cash\\nand\\nCoins\\noffers\\nare\\nused\\nto\\ncreate\\nsupercoins\\noffer\\non\\nyour\\nproduct\\nselection\\nwherein\\ncustomers\\ncan\\npurchase\\na\\nproduct\\nby\\npaying\\npart\\namount\\nin\\ncash\\nand\\npart\\namount\\nin\\nsupercoins.\\nHurdle\\nis\\non\\nproduct\\nselection\\nand\\ngiveaway\\nis\\npercentage\\nconvertible\\ncoins\\nor\\namount\\nconvertible\\ncoins.\\nW h a t\\na r e\\nC o m b o\\nO f f e r s ?\\nCombo\\nOffers\\nare\\nmulti\\nproduct\\ngroup\\noffers\\nthat\\nhave\\na\\nhurdle\\non\\nPGs\\nthat\\nhave\\nbeen\\ndefined\\nin\\nthe\\noffer\\nwith\\ngiveaway\\non\\neach\\nof\\nthe\\nPGs\\nin\\nthe\\noffer.\\nE.g.\\nIf\\nthe\\ncombo\\noffer\\nhas\\n2\\nPGs,\\na\\nuser\\nneeds\\nto\\nbuy\\nan\\nitem\\nfrom\\neach\\nof\\nthe\\nPG\\nwhich\\nwill\\nmake\\nhim/her\\neligible\\nfor\\ndiscount\\non\\nproducts\\nof\\nboth\\nthe\\nPGs.\\nCombo\\nOffers\\nalso\\nopen\\nup\\nthe\\nopportunity\\nto\\nhave\\nsoft\\nbundling\\nenabled\\non\\nthe\\nFlipkart\\nPlatform.\\nHurdle-\\nProduct\\nSelection-\\nPG1,\\nPG2\\nor\\nPG3\\nGIveaway-\\npercentage\\noff,\\nflat\\namount\\noff\\nCombo\\nOffers\\ncan\\nbe\\nmanifested\\nin\\nthe\\nfollowing\\nforms\\n:\\n1)\\nBuy\\nP1\\nand\\nP2\\nget\\n10%\\noff\\non\\nboth\\nP1\\nand\\nP2\\n2)\\nBuy\\nP1\\nand\\nP2\\nget\\n10%\\noff\\non\\nP1\\nand\\n5%\\noff\\non\\nP2\\n3)\\nBuy\\n3\\nof\\nP1\\nget\\n10%\\noff\\non\\nall\\n3\\nunits\\nof\\nP1\\n4)\\nBuy\\n2\\nof\\nP1\\nand\\n1\\nof\\nP2\\nget\\n10%\\noff\\non\\n2\\nunits\\nfrom\\nP1\\nand\\n1\\nfrom\\nP2.\\nCombo\\noffers\\nare\\navailable\\nfully\\nfor\\nGrocery\\nwith\\nrelevant\\nexperience\\nand\\nfor\\nFlipkart\\nmarketplace\\nas\\nwell\\nbut\\nwith\\nno\\nexperience\\nas\\nsuch\\nas\\nof\\ntoday.\\nW h a t\\ni s\\nE i t h e r\\no r\\nc a p a b i l i t y\\n?\\nA n s w e r :\\nOffers\\nmarked\\nwith\\neither\\nor\\ndo\\nnot\\nadd\\nup\\nfor\\na\\nuser,\\n&\\nif\\nboth\\nthe\\noffers\\nbecome\\navailable\\nfor\\na\\nuser,\\nthey\\nneed\\nto\\nchoose\\namongst\\none\\nof\\nthem,\\nalthough\\nwe\\npre\\nselect\\nthe\\nmost\\nrelevant\\none\\nfor\\nthem\\nby\\ndefault.\\nEither\\nor\\nworks\\nat\\na\\nlisting\\nlevel\\nmeaning,\\nif\\nthere\\nare\\n2\\nor\\nmore\\nEO\\noffers\\navailable\\nonly\\nthen\\nwill\\nthe\\nEO\\nflows\\nbe\\ntriggered,\\nelse\\nthey\\nare\\ntreated\\nas\\nnormal\\noffer.\\nAs\\nof\\nnow\\nBank\\noffer\\nand\\nexchange\\noffer\\nare\\navailable\\nas\\neither\\nor\\ncapability\\nenabled\\noffer\\nW h a t\\na r e\\nI n c e n t i v i s e d\\nA t t a c h\\nO f f e r s ?\\nA n s w e r :<<<< >>>>>W h a t\\ni s\\na\\nG r o u p\\nB u y i n g\\no f f e r\\n?\\nA n s w e r :\\nG r o u p\\nB u y i n g\\no f f e r\\ni s\\na\\nc o n d i t i o n a l\\no f f e r\\nf o r m a t\\nw h e r e i n\\nc u s t o m e r s\\nc a n\\nb u y\\nt h e\\np r o d u c t\\ns e l e c t i o n\\nu n d e r\\no f f e r\\na t\\na\\nd i s c o u n t e d\\nG r o u p\\nB u y\\np r i c e\\nw h e r e\\nt h e\\no r d e r\\nw i l l\\nb e\\nd i s p a t c h e d\\no n l y\\nw h e n\\ng r o u p\\nh u r d l e\\n( B r i n g\\nm i n i m u m\\nX\\nm e m b e r s\\nw i t h i n\\nY Y\\nh o u r s )\\ni s\\nc o m p l e t e d .\\nH u r d l e\\nM i n .\\nG r o u p\\ns i z e\\na n d\\ng r o u p\\nv a l i d i t y\\nt i m e r\\nG i v e a w a y\\nE x t r a\\nX %\\no f f\\no n\\nF K F P\\nMinimum\\ngroup\\nsize\\nand\\ngroup\\nvalidity\\ntimer\\nwould\\nbe\\nfixed\\nfor\\ncategories\\nand\\ncannot\\nbe\\nselected/changed\\non\\ngrumbles\\nUI.\\nH o w\\nt o\\nc r e a t e\\na n\\nA / B\\no n\\no f f e r\\n?\\nA n s w e r :\\nCreating\\nan\\noffer\\nunder\\nan\\nA/B\\ninvolves\\n2\\nsteps:\\n\\u25cb\\nCreating\\nthe\\nA/B\\non\\nStatsig\\n(which\\nis\\nFlipkart\\u2019s\\nA/B\\nplatform)\\n\\u25cb\\nAdding\\nthe\\nA/B\\ncontext\\nto\\nthe\\noffer\\nwhile\\ncreating\\nit\\non\\nGrumbles\\nEvery\\noffer\\nformat\\nis\\nenabled\\nfor\\nrunning\\nA/B\\nwith\\nan\\noption\\non\\nGrumbles\\nconsole.\\nOnly\\n100%\\nseller\\nburn\\noffers\\ncan\\nbe\\nconsidered\\nfor\\nA/B\\ncreation.\"\n",
      "}\n",
      "\u001b[32;1m\u001b[1;3m[llm/start]\u001b[0m \u001b[1m[1:chain:RetrievalQA > 2:chain:StuffDocumentsChain > 3:chain:LLMChain > 4:llm:VertexAI] Entering LLM run with input:\n",
      "\u001b[0m{\n",
      "  \"prompts\": [\n",
      "    \"Use the following pieces of context to answer the question at the end. If you don't know the answer, just say that you don't know, don't try to make up an answer.\\n\\n1.\\nA\\ntargeted\\noffer:\\n10%\\noff\\non\\nPuma.\\n2.\\nPromise\\ncallout\\noffer:\\nShop\\nworth\\nRs.\\n1000\\non\\nPuma.\\nThe\\ntargeted\\ngiveaway\\noffer\\nwill\\nbe\\nprovided\\nas\\ninput\\non\\ngrumbles.\\nOffer\\nLifecycle\\nPrerequisites-\\nThere\\nare\\nsome\\nhard\\nconstraints\\nfor\\nthe\\noffer\\ncreation\\nprocess.\\nThis\\nis\\nto\\nguardrail\\ncustomer\\nexperience,\\nand\\nensure\\nthat\\ncustomers\\nhave\\nenough\\ntime\\nto\\nredeem\\nthe\\noffer.\\nLet\\u2019s\\nsay\\nthe\\nfollowing\\nplan\\nis\\nmade\\nfor\\nthe\\noffer\\nto\\ngo-live\\n\\u25cf\\nTargeted\\nGiveaway\\nOffer\\n-\\nT3\\n(start\\ntime\\nof\\ntargeted\\noffer)\\nto\\nT4\\n(end\\ntime\\nof\\ntargeted\\noffer)\\n\\u25cf\\nPromise\\nCallout\\nOffer\\n-\\nT1\\n(start\\ntime\\nof\\npromise\\ncallout\\noffer)\\nto\\nT2\\n(end\\ntime\\nof\\npromise\\ncallout\\noffer)\\nThe\\nfollowing\\nconditions\\napply:\\n\\u25cf\\nT3\\nshould\\nstart\\nno\\nearlier\\nthan\\nT1\\n(which\\nmeans\\nthe\\ntargeted\\noffer\\nshould\\nnot\\nstart\\nearlier\\nthan\\nthe\\nstart\\nof\\nthe\\npromise\\ncallout\\noffer).\\n\\u25cf\\nThe\\nduration\\nbetween\\nT2\\n(end\\nof\\ncallout\\noffer)\\nand\\nT4\\n(End\\nof\\ntargeted\\noffer)\\nshould\\nbe\\nat\\nleast\\n30\\n+\\nx\\ndays,\\nwhere\\nx\\nis\\nthe\\ntime\\ndilation\\nfactor\\n(#days\\npost\\norder\\ndelivery/placement\\nwhen\\nthe\\ncustomer\\nwill\\nget\\nmapped\\nto\\nthe\\ngiveaway\\noffer.\\nThis\\nis\\nto\\nensure\\nthat\\nthe\\nuser\\nstill\\nhas\\nenough\\ntime\\nto\\nredeem\\nthe\\ngiveaway\\noffer.\\n\\u25cf\\nGiveaway\\noffer\\nshould\\nbe\\nlive\\nat\\nthe\\ntime\\nof\\ncreation\\nof\\nthe\\npromise\\ncallout\\noffer\\nW h a t\\na r e\\nS h i p p i n g\\nO f f e r s ?\\nA n s w e r :\\nShipping\\noffers\\nare\\ndiscounts\\non\\nthe\\nshipping\\nfee,\\nwhich\\ncan\\nbe\\nof\\ntwo\\ntypes:\\n1.\\nListing\\nShipping\\nOffers\\n-\\nThese\\noffers\\ndo\\nnot\\nrequire\\nany\\nvalue\\nbased\\nhurdle\\nto\\nbe\\nmet\\nfor\\nfree\\nshipping\\nto\\nbe\\napplicable\\non\\na\\nlisting.\\nExamples\\ninclude\\nFree\\nShipping\\non\\nselect\\nFSNs/Verticals\\n2.\\nBasket\\nShipping\\nOffers\\n-\\nThese\\noffers\\nrequire\\na\\nvalue\\nbased\\nhurdle\\nto\\nbe\\nmet\\nfor\\nfree\\nshipping\\nto\\nbe\\napplicable.\\nExamples\\ninclude\\nFree\\nShipping\\non\\nTshirt\\nbasket\\n>\\nRs.\\n200.\\nShipping\\nOffers\\ncan\\nonly\\nsupport\\n100%\\nGiveaway\\nie.\\nFree\\nShipping\\nis\\nthe\\nonly\\ndiscount\\navailable.\\nPartial\\ndiscounting\\nis\\nnot\\nsupported.\\nFor\\nGrocery\\nand\\nHyperlocal,\\nFree\\nShipping\\noffers\\nwill\\nbe\\nconfigured\\non\\nthe\\nentire\\nmarketplace,\\nas\\nshipping\\nfee\\nis\\nat\\na\\ncart\\nlevel\\nand\\nnot\\nat\\nlisting\\nlevel.\\nW h a t\\na r e\\nT a r g e t e d\\nD i s c o u n t s ?\\nA n s w e r :\\nTargeted\\ndiscounts\\nrefer\\nto\\nany\\noffer\\non\\nthe\\nplatform\\nthat\\nis\\navailable\\nonly\\nto\\na\\nlimited\\nset\\nof\\ncustomers.\\nW h a t\\no f f e r\\nf o r m a t s\\na r e\\na v a i l a b l e\\nf o r\\nt a r g e t e d\\nd i s c o u n t s ?\\nAll\\nconditional\\noffer\\nformats\\navailable\\nin\\ngrumbles,\\nexcept\\nFlipkart\\nWide\\nOffers,\\ncan\\nbe\\ntargeted\\nin\\nnature.\\nWhile\\nyou\\nmight\\nsee\\nthe\\noption\\non\\nGrumbles,\\nwe\\ndo\\nnot\\nsupport\\ncreation\\nof\\nsite\\nwide\\ntargeted\\noffers.<<<< >>>>>Buy\\nP1,\\nget\\nx%\\noff\\non\\nP2\\nIncentivised\\nAttach\\nOffers\\nare\\nmulti\\nproduct\\ngroup\\noffers\\nthat\\nhave\\na\\nhurdle\\non\\n1\\nproduct\\ngroup,\\nand\\na\\ngiveaway\\non\\na\\ndifferent\\nproduct\\ngroup.\\nProduct\\ngroup\\nrefers\\nto\\na\\nset\\nof\\nFSNs\\ndefined\\nby\\nthe\\noffer\\ncreator.\\nIf\\nthe\\ncombo\\noffer\\nhas\\n2\\nPGs,\\na\\nuser\\nneeds\\nto\\nbuy\\nan\\nitem\\nfrom\\neach\\nof\\nthe\\nPG\\nwhich\\nwill\\nmake\\nhim/her\\neligible\\nfor\\ndiscount\\non\\nthe\\nsecond\\nPG.\\nE.g.\\nBuy\\nmobiles,\\nget\\n10%\\noff\\non\\nearphones\\nPG1\\n-\\nMobiles\\nPG\\n2\\n-\\nEarphones\\nIf\\na\\ncustomer\\npurchases\\nboth\\n1\\nmobile\\nand\\n1\\nearphones\\nin\\nthe\\nsame\\ntransaction,\\nthey\\nwill\\nget\\n10%\\noff\\non\\nthe\\nearphones\\nlistings.\\nIncentivised\\nAttach\\nOffers\\nare\\nalso\\nknown\\nas\\nBundle\\nOffers.\\nHurdle\\nis\\non\\nbuying\\nPG1\\n+\\nPG2\\ntogether\\nGiveaway\\nis\\non\\nPG2\\nin\\nform\\nof\\npercentage\\ndiscount.\\nW h a t\\ni s\\na\\nP r o m i s e\\nC a l l o u t\\nO f f e r ?\\nA n s w e r :\\nThese\\nare\\ntransaction\\nbased\\noffers\\nwith\\na\\ndeferred\\ngiveaway.\\nie\\n-\\nA\\nuser\\nwho\\nshops\\nfrom\\na\\nparticular\\nselection\\nas\\nper\\ndefined\\ncriteria\\ngets\\na\\nbenefit\\non\\nhis\\nnext\\npurchase\\non\\na\\npredefined\\nset\\nof\\nproducts.\\nExample:\\n\\u25cf\\nShop\\nworth\\nRs\\n1000\\nin\\nlifestyle\\nand\\nget\\n10%\\noff\\non\\nyour\\nnext\\nlifestyle\\npurchase\\nbefore\\n31\\nAugust\\n\\u25cf\\nShop\\nworth\\nRs\\n200\\nfrom\\nPuma\\nand\\nget\\nextra\\n5%\\noff\\non\\nPuma\\nduring\\nthe\\nnext\\nPayday\\nsale\\n\\u25cf\\nShop\\nin\\nDecember,\\nget\\n10%\\noff\\non\\nyour\\npurchase\\nfor\\nthe\\nnext\\n3\\nmonths\\nThere\\nare\\n2\\nsteps\\nto\\nevery\\npromise\\ncallout\\noffer.\\n1.\\nCreation\\nof\\nthe\\ntargeted\\ngiveaway\\noffer\\n-\\n\\u25cb\\nThis\\nis\\nthe\\noffer\\nwith\\nthe\\ngiveaway\\nwhich\\nwill\\nbe\\napplicable\\non\\nthe\\ncustomer\\u2019s\\nsecond\\norder\\n\\u25cb\\nCustomers\\nwho\\nare\\neligible\\nas\\nper\\nthe\\ndefined\\ncriteria\\nwill\\nbe\\nautomatic\\nmapped\\nto\\nthis\\noffer.\\n\\u25cb\\nThis\\nis\\nto\\nbe\\ncreated\\nfirst,\\nas\\nthis\\nis\\nan\\ninput\\nto\\nthe\\nfirst\\ncallout\\noffers.\\n\\u25cb\\nThis\\nis\\ncreated\\non\\nlistings\\non\\nwhich\\ndiscounts\\nwould\\nbe\\ngiven.\\nSeller\\nburn\\nwill\\nbe\\nconfigured\\non\\nthis\\noffer.\\n2.\\nCreation\\nof\\nthe\\nPromise\\ncallout\\noffer\\n-\\n\\u25cb\\nThis\\nis\\nthe\\ncallout\\noffer\\nwhich\\nwill\\nbe\\nvisible\\non\\nthe\\ncustomer\\u2019s\\nfirst\\norder.\\n\\u25cb\\nThis\\nis\\nto\\nbe\\ncreated\\nsecond,\\nas\\nthis\\nrequires\\nthe\\nabove\\noffer\\nto\\nbe\\ngiven\\nas\\ninput\\n\\u25cb\\nThis\\nis\\ncreated\\non\\nlistings\\non\\nwhich\\ncallout\\nwould\\nbe\\ndone.\\nThere\\nis\\nno\\nseller\\nburn\\nassociated\\nwith\\nthis\\noffer.\\n\\u25cb\\nAny\\ncustomer\\nwho\\nfulfils\\nthe\\ncriteria\\ndefined\\nin\\nthis\\noffer\\nwill\\nbe\\nautomatically\\nmapped\\nto\\nthe\\ntargeted\\ngiveaway\\noffer.\\nExample:\\nShop\\nworth\\nRs\\n1000\\nfrom\\nPuma\\nand\\nget\\nextra\\n10%\\noff\\non\\nPuma\\non\\nyour\\nnext\\npurchase\\nTo\\nenable\\nthis\\nconstruct,\\n2\\noffers\\nwill\\nhave\\nto\\nbe\\ncreated\\non\\nGrumbles.\\nThe\\nsteps\\nfor\\neach\\nhas\\nbeen\\ndetailed\\nbelow<<<< >>>>>Cash\\nand\\nCoins\\noffers\\nare\\nused\\nto\\ncreate\\nsupercoins\\noffer\\non\\nyour\\nproduct\\nselection\\nwherein\\ncustomers\\ncan\\npurchase\\na\\nproduct\\nby\\npaying\\npart\\namount\\nin\\ncash\\nand\\npart\\namount\\nin\\nsupercoins.\\nHurdle\\nis\\non\\nproduct\\nselection\\nand\\ngiveaway\\nis\\npercentage\\nconvertible\\ncoins\\nor\\namount\\nconvertible\\ncoins.\\nW h a t\\na r e\\nC o m b o\\nO f f e r s ?\\nCombo\\nOffers\\nare\\nmulti\\nproduct\\ngroup\\noffers\\nthat\\nhave\\na\\nhurdle\\non\\nPGs\\nthat\\nhave\\nbeen\\ndefined\\nin\\nthe\\noffer\\nwith\\ngiveaway\\non\\neach\\nof\\nthe\\nPGs\\nin\\nthe\\noffer.\\nE.g.\\nIf\\nthe\\ncombo\\noffer\\nhas\\n2\\nPGs,\\na\\nuser\\nneeds\\nto\\nbuy\\nan\\nitem\\nfrom\\neach\\nof\\nthe\\nPG\\nwhich\\nwill\\nmake\\nhim/her\\neligible\\nfor\\ndiscount\\non\\nproducts\\nof\\nboth\\nthe\\nPGs.\\nCombo\\nOffers\\nalso\\nopen\\nup\\nthe\\nopportunity\\nto\\nhave\\nsoft\\nbundling\\nenabled\\non\\nthe\\nFlipkart\\nPlatform.\\nHurdle-\\nProduct\\nSelection-\\nPG1,\\nPG2\\nor\\nPG3\\nGIveaway-\\npercentage\\noff,\\nflat\\namount\\noff\\nCombo\\nOffers\\ncan\\nbe\\nmanifested\\nin\\nthe\\nfollowing\\nforms\\n:\\n1)\\nBuy\\nP1\\nand\\nP2\\nget\\n10%\\noff\\non\\nboth\\nP1\\nand\\nP2\\n2)\\nBuy\\nP1\\nand\\nP2\\nget\\n10%\\noff\\non\\nP1\\nand\\n5%\\noff\\non\\nP2\\n3)\\nBuy\\n3\\nof\\nP1\\nget\\n10%\\noff\\non\\nall\\n3\\nunits\\nof\\nP1\\n4)\\nBuy\\n2\\nof\\nP1\\nand\\n1\\nof\\nP2\\nget\\n10%\\noff\\non\\n2\\nunits\\nfrom\\nP1\\nand\\n1\\nfrom\\nP2.\\nCombo\\noffers\\nare\\navailable\\nfully\\nfor\\nGrocery\\nwith\\nrelevant\\nexperience\\nand\\nfor\\nFlipkart\\nmarketplace\\nas\\nwell\\nbut\\nwith\\nno\\nexperience\\nas\\nsuch\\nas\\nof\\ntoday.\\nW h a t\\ni s\\nE i t h e r\\no r\\nc a p a b i l i t y\\n?\\nA n s w e r :\\nOffers\\nmarked\\nwith\\neither\\nor\\ndo\\nnot\\nadd\\nup\\nfor\\na\\nuser,\\n&\\nif\\nboth\\nthe\\noffers\\nbecome\\navailable\\nfor\\na\\nuser,\\nthey\\nneed\\nto\\nchoose\\namongst\\none\\nof\\nthem,\\nalthough\\nwe\\npre\\nselect\\nthe\\nmost\\nrelevant\\none\\nfor\\nthem\\nby\\ndefault.\\nEither\\nor\\nworks\\nat\\na\\nlisting\\nlevel\\nmeaning,\\nif\\nthere\\nare\\n2\\nor\\nmore\\nEO\\noffers\\navailable\\nonly\\nthen\\nwill\\nthe\\nEO\\nflows\\nbe\\ntriggered,\\nelse\\nthey\\nare\\ntreated\\nas\\nnormal\\noffer.\\nAs\\nof\\nnow\\nBank\\noffer\\nand\\nexchange\\noffer\\nare\\navailable\\nas\\neither\\nor\\ncapability\\nenabled\\noffer\\nW h a t\\na r e\\nI n c e n t i v i s e d\\nA t t a c h\\nO f f e r s ?\\nA n s w e r :<<<< >>>>>W h a t\\ni s\\na\\nG r o u p\\nB u y i n g\\no f f e r\\n?\\nA n s w e r :\\nG r o u p\\nB u y i n g\\no f f e r\\ni s\\na\\nc o n d i t i o n a l\\no f f e r\\nf o r m a t\\nw h e r e i n\\nc u s t o m e r s\\nc a n\\nb u y\\nt h e\\np r o d u c t\\ns e l e c t i o n\\nu n d e r\\no f f e r\\na t\\na\\nd i s c o u n t e d\\nG r o u p\\nB u y\\np r i c e\\nw h e r e\\nt h e\\no r d e r\\nw i l l\\nb e\\nd i s p a t c h e d\\no n l y\\nw h e n\\ng r o u p\\nh u r d l e\\n( B r i n g\\nm i n i m u m\\nX\\nm e m b e r s\\nw i t h i n\\nY Y\\nh o u r s )\\ni s\\nc o m p l e t e d .\\nH u r d l e\\nM i n .\\nG r o u p\\ns i z e\\na n d\\ng r o u p\\nv a l i d i t y\\nt i m e r\\nG i v e a w a y\\nE x t r a\\nX %\\no f f\\no n\\nF K F P\\nMinimum\\ngroup\\nsize\\nand\\ngroup\\nvalidity\\ntimer\\nwould\\nbe\\nfixed\\nfor\\ncategories\\nand\\ncannot\\nbe\\nselected/changed\\non\\ngrumbles\\nUI.\\nH o w\\nt o\\nc r e a t e\\na n\\nA / B\\no n\\no f f e r\\n?\\nA n s w e r :\\nCreating\\nan\\noffer\\nunder\\nan\\nA/B\\ninvolves\\n2\\nsteps:\\n\\u25cb\\nCreating\\nthe\\nA/B\\non\\nStatsig\\n(which\\nis\\nFlipkart\\u2019s\\nA/B\\nplatform)\\n\\u25cb\\nAdding\\nthe\\nA/B\\ncontext\\nto\\nthe\\noffer\\nwhile\\ncreating\\nit\\non\\nGrumbles\\nEvery\\noffer\\nformat\\nis\\nenabled\\nfor\\nrunning\\nA/B\\nwith\\nan\\noption\\non\\nGrumbles\\nconsole.\\nOnly\\n100%\\nseller\\nburn\\noffers\\ncan\\nbe\\nconsidered\\nfor\\nA/B\\ncreation.\\n\\nQuestion: What are the requirements for a dynamic segmentation offer?\\nHelpful Answer:\"\n",
      "  ]\n",
      "}\n"
     ]
    },
    {
     "name": "stdout",
     "output_type": "stream",
     "text": [
      "\u001b[36;1m\u001b[1;3m[llm/end]\u001b[0m \u001b[1m[1:chain:RetrievalQA > 2:chain:StuffDocumentsChain > 3:chain:LLMChain > 4:llm:VertexAI] [2.20s] Exiting LLM run with output:\n",
      "\u001b[0m{\n",
      "  \"generations\": [\n",
      "    [\n",
      "      {\n",
      "        \"text\": \"Dynamic\\nsegmentation\\noffers\\nare\\noffers\\nthat\\nare\\ntriggered\\nbased\\non\\nthe\\ncustomer\\nbehaviour\\nor\\nattributes.\\nFor\\nexample,\\nan\\noffer\\ncan\\nbe\\ntriggered\\nfor\\na\\ncustomer\\nwho\\nhas\\nnot\\npurchased\\nfrom\\na\\nseller\\nin\\nthe\\nlast\\n30\\ndays.\\nDynamic\\nsegmentation\\noffers\\nare\\ncreated\\non\\nGrumbles\\nand\\ntriggered\\nby\\nthe\\nFlipkart\\nplatform.\\nThe\\noffer\\nis\\ntriggered\\nbased\\non\\nthe\\ncustomer\\nbehaviour\\nor\\n\",\n",
      "        \"generation_info\": null\n",
      "      }\n",
      "    ]\n",
      "  ],\n",
      "  \"llm_output\": null\n",
      "}\n",
      "\u001b[36;1m\u001b[1;3m[chain/end]\u001b[0m \u001b[1m[1:chain:RetrievalQA > 2:chain:StuffDocumentsChain > 3:chain:LLMChain] [2.20s] Exiting Chain run with output:\n",
      "\u001b[0m{\n",
      "  \"text\": \"Dynamic\\nsegmentation\\noffers\\nare\\noffers\\nthat\\nare\\ntriggered\\nbased\\non\\nthe\\ncustomer\\nbehaviour\\nor\\nattributes.\\nFor\\nexample,\\nan\\noffer\\ncan\\nbe\\ntriggered\\nfor\\na\\ncustomer\\nwho\\nhas\\nnot\\npurchased\\nfrom\\na\\nseller\\nin\\nthe\\nlast\\n30\\ndays.\\nDynamic\\nsegmentation\\noffers\\nare\\ncreated\\non\\nGrumbles\\nand\\ntriggered\\nby\\nthe\\nFlipkart\\nplatform.\\nThe\\noffer\\nis\\ntriggered\\nbased\\non\\nthe\\ncustomer\\nbehaviour\\nor\\n\"\n",
      "}\n",
      "\u001b[36;1m\u001b[1;3m[chain/end]\u001b[0m \u001b[1m[1:chain:RetrievalQA > 2:chain:StuffDocumentsChain] [2.20s] Exiting Chain run with output:\n",
      "\u001b[0m{\n",
      "  \"output_text\": \"Dynamic\\nsegmentation\\noffers\\nare\\noffers\\nthat\\nare\\ntriggered\\nbased\\non\\nthe\\ncustomer\\nbehaviour\\nor\\nattributes.\\nFor\\nexample,\\nan\\noffer\\ncan\\nbe\\ntriggered\\nfor\\na\\ncustomer\\nwho\\nhas\\nnot\\npurchased\\nfrom\\na\\nseller\\nin\\nthe\\nlast\\n30\\ndays.\\nDynamic\\nsegmentation\\noffers\\nare\\ncreated\\non\\nGrumbles\\nand\\ntriggered\\nby\\nthe\\nFlipkart\\nplatform.\\nThe\\noffer\\nis\\ntriggered\\nbased\\non\\nthe\\ncustomer\\nbehaviour\\nor\\n\"\n",
      "}\n",
      "\u001b[36;1m\u001b[1;3m[chain/end]\u001b[0m \u001b[1m[1:chain:RetrievalQA] [3.87s] Exiting Chain run with output:\n",
      "\u001b[0m{\n",
      "  \"result\": \"Dynamic\\nsegmentation\\noffers\\nare\\noffers\\nthat\\nare\\ntriggered\\nbased\\non\\nthe\\ncustomer\\nbehaviour\\nor\\nattributes.\\nFor\\nexample,\\nan\\noffer\\ncan\\nbe\\ntriggered\\nfor\\na\\ncustomer\\nwho\\nhas\\nnot\\npurchased\\nfrom\\na\\nseller\\nin\\nthe\\nlast\\n30\\ndays.\\nDynamic\\nsegmentation\\noffers\\nare\\ncreated\\non\\nGrumbles\\nand\\ntriggered\\nby\\nthe\\nFlipkart\\nplatform.\\nThe\\noffer\\nis\\ntriggered\\nbased\\non\\nthe\\ncustomer\\nbehaviour\\nor\\n\"\n",
      "}\n"
     ]
    }
   ],
   "source": [
    "import langchain\n",
    "langchain.debug = True\n",
    "### feed the question to model\n",
    "print(new_examples)\n",
    "print(type(new_examples[0]))\n",
    "qa_stuff.run(new_examples[0][\"query\"])\n",
    "langchain.debug = False"
   ]
  },
  {
   "cell_type": "code",
   "execution_count": 46,
   "id": "08323f97",
   "metadata": {},
   "outputs": [
    {
     "name": "stdout",
     "output_type": "stream",
     "text": [
      "\n",
      "\n",
      "\u001b[1m> Entering new RetrievalQA chain...\u001b[0m\n",
      "\n",
      "\u001b[1m> Finished chain.\u001b[0m\n",
      "\n",
      "\n",
      "\u001b[1m> Entering new RetrievalQA chain...\u001b[0m\n",
      "\n",
      "\u001b[1m> Finished chain.\u001b[0m\n",
      "\n",
      "\n",
      "\u001b[1m> Entering new RetrievalQA chain...\u001b[0m\n",
      "\n",
      "\u001b[1m> Finished chain.\u001b[0m\n",
      "\n",
      "\n",
      "\u001b[1m> Entering new RetrievalQA chain...\u001b[0m\n",
      "\n",
      "\u001b[1m> Finished chain.\u001b[0m\n",
      "\n",
      "\n",
      "\u001b[1m> Entering new RetrievalQA chain...\u001b[0m\n",
      "\n",
      "\u001b[1m> Finished chain.\u001b[0m\n",
      "\n",
      "\n",
      "\u001b[1m> Entering new RetrievalQA chain...\u001b[0m\n",
      "\n",
      "\u001b[1m> Finished chain.\u001b[0m\n",
      "\n",
      "\n",
      "\u001b[1m> Entering new RetrievalQA chain...\u001b[0m\n",
      "\n",
      "\u001b[1m> Finished chain.\u001b[0m\n",
      "\n",
      "\n",
      "\u001b[1m> Entering new RetrievalQA chain...\u001b[0m\n",
      "\n",
      "\u001b[1m> Finished chain.\u001b[0m\n",
      "\n",
      "\n",
      "\u001b[1m> Entering new RetrievalQA chain...\u001b[0m\n",
      "\n",
      "\u001b[1m> Finished chain.\u001b[0m\n",
      "\n",
      "\n",
      "\u001b[1m> Entering new RetrievalQA chain...\u001b[0m\n",
      "\n",
      "\u001b[1m> Finished chain.\u001b[0m\n",
      "\n",
      "\n",
      "\u001b[1m> Entering new RetrievalQA chain...\u001b[0m\n",
      "\n",
      "\u001b[1m> Finished chain.\u001b[0m\n",
      "\n",
      "\n",
      "\u001b[1m> Entering new RetrievalQA chain...\u001b[0m\n",
      "\n",
      "\u001b[1m> Finished chain.\u001b[0m\n",
      "\n",
      "\n",
      "\u001b[1m> Entering new RetrievalQA chain...\u001b[0m\n",
      "\n",
      "\u001b[1m> Finished chain.\u001b[0m\n",
      "\n",
      "\n",
      "\u001b[1m> Entering new RetrievalQA chain...\u001b[0m\n",
      "\n",
      "\u001b[1m> Finished chain.\u001b[0m\n",
      "\n",
      "\n",
      "\u001b[1m> Entering new RetrievalQA chain...\u001b[0m\n",
      "\n",
      "\u001b[1m> Finished chain.\u001b[0m\n",
      "\n",
      "\n",
      "\u001b[1m> Entering new RetrievalQA chain...\u001b[0m\n",
      "\n",
      "\u001b[1m> Finished chain.\u001b[0m\n",
      "\n",
      "\n",
      "\u001b[1m> Entering new RetrievalQA chain...\u001b[0m\n",
      "\n",
      "\u001b[1m> Finished chain.\u001b[0m\n",
      "\n",
      "\n",
      "\u001b[1m> Entering new RetrievalQA chain...\u001b[0m\n",
      "\n",
      "\u001b[1m> Finished chain.\u001b[0m\n",
      "\n",
      "\n",
      "\u001b[1m> Entering new RetrievalQA chain...\u001b[0m\n",
      "\n",
      "\u001b[1m> Finished chain.\u001b[0m\n",
      "\n",
      "\n",
      "\u001b[1m> Entering new RetrievalQA chain...\u001b[0m\n",
      "\n",
      "\u001b[1m> Finished chain.\u001b[0m\n",
      "\n",
      "\n",
      "\u001b[1m> Entering new RetrievalQA chain...\u001b[0m\n",
      "\n",
      "\u001b[1m> Finished chain.\u001b[0m\n",
      "\n",
      "\n",
      "\u001b[1m> Entering new RetrievalQA chain...\u001b[0m\n",
      "\n",
      "\u001b[1m> Finished chain.\u001b[0m\n",
      "\n",
      "\n",
      "\u001b[1m> Entering new RetrievalQA chain...\u001b[0m\n",
      "\n",
      "\u001b[1m> Finished chain.\u001b[0m\n",
      "\n",
      "\n",
      "\u001b[1m> Entering new RetrievalQA chain...\u001b[0m\n",
      "\n",
      "\u001b[1m> Finished chain.\u001b[0m\n",
      "\n",
      "\n",
      "\u001b[1m> Entering new RetrievalQA chain...\u001b[0m\n",
      "\n",
      "\u001b[1m> Finished chain.\u001b[0m\n",
      "\n",
      "\n",
      "\u001b[1m> Entering new RetrievalQA chain...\u001b[0m\n",
      "\n",
      "\u001b[1m> Finished chain.\u001b[0m\n",
      "\n",
      "\n",
      "\u001b[1m> Entering new RetrievalQA chain...\u001b[0m\n",
      "\n",
      "\u001b[1m> Finished chain.\u001b[0m\n",
      "\n",
      "\n",
      "\u001b[1m> Entering new RetrievalQA chain...\u001b[0m\n",
      "\n",
      "\u001b[1m> Finished chain.\u001b[0m\n",
      "\n",
      "\n",
      "\u001b[1m> Entering new RetrievalQA chain...\u001b[0m\n",
      "\n",
      "\u001b[1m> Finished chain.\u001b[0m\n",
      "\n",
      "\n",
      "\u001b[1m> Entering new RetrievalQA chain...\u001b[0m\n",
      "\n",
      "\u001b[1m> Finished chain.\u001b[0m\n",
      "\n",
      "\n",
      "\u001b[1m> Entering new RetrievalQA chain...\u001b[0m\n",
      "\n",
      "\u001b[1m> Finished chain.\u001b[0m\n",
      "\n",
      "\n",
      "\u001b[1m> Entering new RetrievalQA chain...\u001b[0m\n",
      "\n",
      "\u001b[1m> Finished chain.\u001b[0m\n",
      "\n",
      "\n",
      "\u001b[1m> Entering new RetrievalQA chain...\u001b[0m\n",
      "\n",
      "\u001b[1m> Finished chain.\u001b[0m\n",
      "\n",
      "\n",
      "\u001b[1m> Entering new RetrievalQA chain...\u001b[0m\n",
      "\n",
      "\u001b[1m> Finished chain.\u001b[0m\n",
      "\n",
      "\n",
      "\u001b[1m> Entering new RetrievalQA chain...\u001b[0m\n",
      "\n",
      "\u001b[1m> Finished chain.\u001b[0m\n",
      "\n",
      "\n",
      "\u001b[1m> Entering new RetrievalQA chain...\u001b[0m\n",
      "\n",
      "\u001b[1m> Finished chain.\u001b[0m\n",
      "\n",
      "\n",
      "\u001b[1m> Entering new RetrievalQA chain...\u001b[0m\n",
      "\n",
      "\u001b[1m> Finished chain.\u001b[0m\n",
      "\n",
      "\n",
      "\u001b[1m> Entering new RetrievalQA chain...\u001b[0m\n",
      "\n",
      "\u001b[1m> Finished chain.\u001b[0m\n",
      "\n",
      "\n",
      "\u001b[1m> Entering new RetrievalQA chain...\u001b[0m\n",
      "\n",
      "\u001b[1m> Finished chain.\u001b[0m\n"
     ]
    }
   ],
   "source": [
    "predictions = qa_stuff.apply(new_examples)"
   ]
  },
  {
   "cell_type": "code",
   "execution_count": 56,
   "id": "1cdef53a",
   "metadata": {},
   "outputs": [],
   "source": [
    "from langchain.evaluation.qa import QAEvalChain\n",
    "eval_chain = QAEvalChain.from_llm(vertex_llm_text)\n",
    "graded_outputs = eval_chain.evaluate(new_examples, predictions)"
   ]
  },
  {
   "cell_type": "code",
   "execution_count": 57,
   "id": "21c005af",
   "metadata": {},
   "outputs": [
    {
     "name": "stdout",
     "output_type": "stream",
     "text": [
      "39\n",
      "39\n"
     ]
    },
    {
     "data": {
      "text/plain": [
       "39"
      ]
     },
     "execution_count": 57,
     "metadata": {},
     "output_type": "execute_result"
    }
   ],
   "source": [
    "print(len(graded_outputs))\n",
    "print(len(predictions))\n",
    "len(new_examples)"
   ]
  },
  {
   "cell_type": "code",
   "execution_count": 58,
   "id": "a02a851a",
   "metadata": {},
   "outputs": [
    {
     "name": "stdout",
     "output_type": "stream",
     "text": [
      "39\n"
     ]
    }
   ],
   "source": [
    "listOfcomparisions = []\n",
    "for i, eg in enumerate(new_examples):\n",
    "    try:\n",
    "        dictt = {}\n",
    "        dictt[\"Example\"] = i\n",
    "        dictt[\"Question\"] = predictions[i]['query']\n",
    "        dictt[\"Real Answer\"] = predictions[i]['answer']\n",
    "        dictt[\"Predicted Answer\"] = predictions[i]['result']\n",
    "        dictt[\"Predicted Grade\"] = graded_outputs[i]['text']\n",
    "        listOfcomparisions.append(dictt)\n",
    "    except:\n",
    "        print (i)\n",
    "#     print(f\"Example {i}:\")\n",
    "#     print(\"Question: \" + predictions[i]['query'])\n",
    "#     print(\"Real Answer: \" + predictions[i]['answer'])\n",
    "#     print(\"Predicted Answer: \" + predictions[i]['result'])\n",
    "#     print(\"Predicted Grade: \" + graded_outputs[i]['text'])\n",
    "\n",
    "print(len(listOfcomparisions))\n"
   ]
  },
  {
   "cell_type": "code",
   "execution_count": 60,
   "id": "b857d069",
   "metadata": {},
   "outputs": [
    {
     "name": "stdout",
     "output_type": "stream",
     "text": [
      "Done\n"
     ]
    }
   ],
   "source": [
    "#### writing data into a text file\n",
    "with open(r'./training/trainingDataLlmModelPrediction.txt', 'w') as fp:\n",
    "    for item in listOfcomparisions:\n",
    "        # write each item on a new line\n",
    "        fp.write(\"%s\\n\" % item)\n",
    "    print('Done')"
   ]
  },
  {
   "cell_type": "code",
   "execution_count": 66,
   "id": "e1068ab5",
   "metadata": {},
   "outputs": [
    {
     "name": "stdout",
     "output_type": "stream",
     "text": [
      "0\n",
      "1\n",
      "2\n",
      "[{'doc': 1}, {'doc': 2}, {'doc': 3}]\n"
     ]
    }
   ],
   "source": [
    "# l = [1,2,3]\n",
    "# # print([{\"doc\": t} for t in l])\n",
    "\n",
    "# listt = []\n",
    "# for i in range(len(l)):\n",
    "#     print (i)\n",
    "#     dictt = {}\n",
    "#     dictt[\"doc\"] = l[i]\n",
    "#     listt.append(dictt)\n",
    "# print(listt)"
   ]
  },
  {
   "cell_type": "code",
   "execution_count": null,
   "id": "178a1e7b",
   "metadata": {},
   "outputs": [],
   "source": []
  },
  {
   "cell_type": "code",
   "execution_count": 48,
   "id": "f614d85f",
   "metadata": {},
   "outputs": [
    {
     "name": "stdout",
     "output_type": "stream",
     "text": [
      "<class 'int'>\n",
      "0\n",
      "{'query': 'What are the requirements for a dynamic segmentation offer?', 'answer': 'Dynamic segmentation is dependent on how the product selection for an offer has been defined. Following product selection configuration are of dynamic segmentation type: Following product selection configuration are NOT of dynamic segmentation type:'}\n",
      "43\n"
     ]
    }
   ],
   "source": [
    "a = len(pages) - 1\n",
    "print (type(a))\n",
    "for i in range(0,a):\n",
    "    print(i)\n",
    "    print(new_examples[i])\n",
    "print(len(pages))"
   ]
  },
  {
   "cell_type": "code",
   "execution_count": 22,
   "id": "57d0d364",
   "metadata": {},
   "outputs": [
    {
     "data": {
      "text/plain": [
       "Document(page_content='C a n\\nI\\ne d i t\\nt h e\\nn o d e s\\ni d s\\no r\\nF S N s\\no r\\nc a t e g o r y\\no r\\nv e r t i c a l\\ni n\\nm y\\no ﬀ e r\\nw h i c h\\ni s\\nl i v e ?\\nY o u\\nc a n\\ne d i t\\nm a k e\\nt h e\\ne d i t s\\ni f\\nt h e\\no ﬀ e r\\ni f\\nt h e\\no ﬀ e r\\ni s\\na\\nd y n a m i c\\ns e g m e n t a t i o n\\no ﬀ e r .\\nD y n a m i c\\ns e g m e n t a t i o n\\ni s\\nd e p e n d e n t\\no n\\nh o w\\nt h e\\np r o d u c t\\ns e l e c t i o n\\nf o r\\na n\\no ﬀ e r\\nh a s\\nb e e n\\nd e ﬁ n e d .\\nF o l l o w i n g\\np r o d u c t\\ns e l e c t i o n\\nc o n ﬁ g u r a t i o n s\\na r e\\no f\\nd y n a m i c\\ns e g m e n t a t i o n\\nt y p e :\\nF o l l o w i n g\\np r o d u c t\\ns e l e c t i o n\\nc o n ﬁ g u r a t i o n s\\na r e\\nN O T\\no f\\nd y n a m i c\\ns e g m e n t a t i o n\\nt y p e :\\nW h y\\ni s\\nm y\\no ﬀ e r\\nn o t\\ng o i n g\\nl i v e\\n?\\nI f\\ny o u\\na r e\\ns e e i n g\\nt h e\\no ﬀ e r\\ni n\\np r o c e s s i n g\\ns t a t e\\nt h e\\no ﬀ e r\\ni s\\ns t i l l\\nb e i n g\\np r e p a r e d\\na n d\\nw i l l\\ng o\\nl i v e\\na u t o m a t i c a l l y\\np o s t\\nt h e\\np r o c e s s i n g\\nb e i n g\\nc o m p l e t e .\\nT h i s\\nw i l l\\nh a p p e n\\ns p e c i ﬁ c a l l y\\nf o r\\no ﬀ e r s\\nw h e r e\\nt h e\\no ﬀ e r\\ni s\\nn o t\\no f\\nd y n a m i c\\ns e g m e n t a t i o n\\nt y p e :\\nI f\\ny o u r\\no ﬀ e r\\ni s\\ns t u c k\\ni n\\nn o\\np a r t i c i p a t i o n\\ns t a t e\\ny o u\\nn e e d\\nt o\\nd r i v e\\ns e l l e r\\no p t\\ni n\\nt o\\ng e t\\nt h e\\no ﬀ e r\\nl i v e .\\nW h y\\ni s\\nm y\\nd i g i t a l\\nf r e e b i e\\no ﬀ e r\\ns t u c k\\ni n\\na n\\nu n h e a l t h y\\ni n v e n t o r y\\ns t a t e\\n?\\nF o r\\na\\nd i g i t a l\\nf r e e b i e\\no ﬀ e r\\nt o\\nb e\\na c t i v a t e d\\ni t\\nm u s t\\nh a v e\\nt h e\\nt h r e s h o l d\\nv a l u e\\ns e t\\nt o\\nm o r e\\nt h a n\\ne q u a l\\nt o\\n2 0 0 0 .\\nA f t e r\\nt h a t ,\\ne ﬀ e c t i v e\\nq u a n t i t y\\ni s\\nc o m p u t e d ,\\nw h i c h\\ni s\\nt o t a l\\ni n v e n t o r y\\n-\\nt h r e s h o l d .\\nT h i s\\ne ﬀ e c t i v e\\nq u a n t i t y\\nm u s t\\nb e\\nm o r e\\nt h a n\\n1 . 0 5\\nt i m e s\\nt h e\\nt h r e s h o l d\\nv a l u e\\ny o u\\nh a v e\\ns e t .\\nW h a t\\na p p r o v a l s\\na r e\\nr e q u i r e d\\nf o r\\na n\\no ﬀ e r\\nt o\\ng o\\nl i v e ?\\nW h y\\ni s\\nm y\\no ﬀ e r\\ng o i n g\\nl i v e\\np o s t\\na p p r o v a l\\n?\\n-\\nF o r\\na n\\no ﬀ e r\\nt h a t\\nh a s\\nF l i p k a r t\\nB u r n\\ny o u\\nn e e d\\nt o\\ng e t\\na p p r o v a l\\nf r o m\\nr e s p e c t i v e\\nc a t e g o r y ’ s\\nb i z ﬁ n\\na p p r o v e r\\n-\\nF o r\\na n\\no ﬀ e r\\nt h a t\\nh a s\\nt a r g e t i n g\\nt o w a r d s\\nc e r t a i n\\nu s e r\\nc o h o r t s\\n( i s\\na\\nT D )\\ny o u\\nn e e d\\nt o\\ng e t\\na n\\na d d i t i o n a l\\na p p r o v a l\\nf r o m\\nT D\\na p p r o v e r\\ng r o u p\\n-\\nF o r\\na n\\no ﬀ e r\\nt h a t\\nh a s\\nA B\\nt e s t i n g\\nb e i n g\\nd o n e\\no n\\ni t\\ny o u\\nn e e d\\nt o\\ng e t\\na n\\na d d i t i o n a l\\na p p r o v a l\\nf r o m\\nt h e\\nA B\\na p p r o v e r\\ng r o u p\\n-\\nE x c l u d i n g\\na l l\\nt h e s e\\nc a s e s ,\\na n\\na p p r o v a l\\nf r o m\\nL 1\\nm a n a g e r\\ni s\\nt h e\\no n l y\\na p p r o v a l\\nr e q u i r e d\\nf o r\\na n\\no ﬀ e r\\nt o\\ng o\\nl i v e', metadata={'source': 'RelevantSOPs/Offer Maintainance Doc.pdf', 'page': 0})"
      ]
     },
     "execution_count": 22,
     "metadata": {},
     "output_type": "execute_result"
    }
   ],
   "source": [
    "pages[0]\n"
   ]
  },
  {
   "cell_type": "code",
   "execution_count": null,
   "id": "bc6e5ab3",
   "metadata": {},
   "outputs": [],
   "source": []
  }
 ],
 "metadata": {
  "kernelspec": {
   "display_name": "Python 3 (ipykernel)",
   "language": "python",
   "name": "python3"
  },
  "language_info": {
   "codemirror_mode": {
    "name": "ipython",
    "version": 3
   },
   "file_extension": ".py",
   "mimetype": "text/x-python",
   "name": "python",
   "nbconvert_exporter": "python",
   "pygments_lexer": "ipython3",
   "version": "3.9.6"
  }
 },
 "nbformat": 4,
 "nbformat_minor": 5
}
