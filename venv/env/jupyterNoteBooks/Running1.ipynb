{
 "cells": [
  {
   "cell_type": "code",
   "execution_count": 224,
   "id": "d8277348",
   "metadata": {},
   "outputs": [],
   "source": [
    "import urllib\n",
    "import warnings\n",
    "from pathlib import Path as p\n",
    "from pprint import pprint\n",
    "\n",
    "import pandas as pd\n",
    "from langchain import PromptTemplate\n",
    "from langchain.chains.question_answering import load_qa_chain\n",
    "from langchain.document_loaders import PyPDFLoader\n",
    "from langchain.embeddings import VertexAIEmbeddings\n",
    "from langchain.llms import VertexAI\n",
    "from langchain.text_splitter import CharacterTextSplitter\n",
    "from langchain.vectorstores import Chroma\n",
    "from IPython.display import display, Markdown\n",
    "\n",
    "warnings.filterwarnings(\"ignore\")"
   ]
  },
  {
   "cell_type": "code",
   "execution_count": 225,
   "id": "8569ba6a",
   "metadata": {},
   "outputs": [
    {
     "data": {
      "text/plain": [
       "<langchain.document_loaders.csv_loader.CSVLoader at 0x12b7c6eb0>"
      ]
     },
     "execution_count": 225,
     "metadata": {},
     "output_type": "execute_result"
    }
   ],
   "source": [
    "from langchain.document_loaders import PyPDFLoader\n",
    "from langchain.document_loaders import CSVLoader\n",
    "file = 'OutdoorClothingCatalog_1000.csv'\n",
    "loader1 = CSVLoader(file_path=file)\n",
    "pdfFile = '/OfferCreationviaGrumbles.pdf'\n",
    "\n",
    "loader1"
   ]
  },
  {
   "cell_type": "code",
   "execution_count": 226,
   "id": "eecd719c",
   "metadata": {},
   "outputs": [
    {
     "name": "stdout",
     "output_type": "stream",
     "text": [
      "SOP/Incentivised Attach SOP.pdf\n",
      "SOP/Targeted Discounts - SOP.pdf\n",
      "SOP/Bump Up Offers.pdf\n",
      "SOP/Casper SOP.pdf\n",
      "SOP/Targeted Discount on FP - SOP.pdf\n",
      "SOP/_SOP for Shipping Rule Creation.pdf\n",
      "SOP/Exchange Offers.pdf\n",
      "SOP/Prebook Offer.pdf\n",
      "SOP/Shipping Offers - SOP.pdf\n",
      "SOP/Either Or offers SOP.pdf\n",
      "SOP/Promise Callout Offers - SOP.pdf\n",
      "SOP/BMGN v1 Offer SOP.pdf\n",
      "SOP/Callout Offer.pdf\n",
      "SOP/CnC Offers - SOP.pdf\n",
      "SOP/Multi Unit Listing Offers - SOP.pdf\n",
      "SOP/Seller Recommendation for an Offer.pdf\n",
      "SOP/Offer Creation via Grumbles .pdf\n",
      "SOP/Basket Offers - SOP (1).pdf\n",
      "SOP/Early Access SOP.pdf\n",
      "SOP/Combo Offers - SOP.pdf\n",
      "SOP/PBO SOP.pdf\n",
      "<class 'list'>\n"
     ]
    }
   ],
   "source": [
    "import pathlib\n",
    "desktop = pathlib.Path(\"./SOP\")\n",
    "files = []\n",
    "list(desktop.iterdir())\n",
    "pages1 = []\n",
    "# for item in list(desktop.iterdir())[:1]:\n",
    "for item in list(desktop.iterdir()):\n",
    "    try:\n",
    "        print(str(item))\n",
    "        fileLoader = PyPDFLoader(str(item))\n",
    "#         pages = fileLoader.load_and_split()\n",
    "#         print(len(fileLoader.load_and_split()))\n",
    "        pages1.append(fileLoader.load_and_split())\n",
    "#         files.append(pages)\n",
    "    except:\n",
    "        print(\"An exception occurred\")\n",
    "  \n",
    "print (type(pages1))\n"
   ]
  },
  {
   "cell_type": "code",
   "execution_count": 114,
   "id": "df54ff6a",
   "metadata": {},
   "outputs": [
    {
     "name": "stdout",
     "output_type": "stream",
     "text": [
      "21\n",
      "207\n"
     ]
    }
   ],
   "source": [
    "\n",
    "# print(len(pages))\n",
    "# for item in pages:\n",
    "#     try:\n",
    "#         print(item)\n",
    "#         print(\"-------------------------------------------\")\n",
    "#         print(item.page_content)\n",
    "#         print(\"+++++++++++++++++++++++++++++++++++++++++++++++++++++++++++++++\")\n",
    "#     except:\n",
    "#         print(len(item))\n",
    "#         print(\"======================================================================\", item)\n",
    "        \n",
    "# #     print(item.page_content)\n",
    "\n",
    "pages = []\n",
    "print(len(pages1))\n",
    "for item in pages1:\n",
    "    try:\n",
    "        if(item.page_content):\n",
    "            pages.append(item)\n",
    "            print(item)\n",
    "#         print(\"-------------------------------------------\")\n",
    "        \n",
    "#         print(item.page_content)\n",
    "#         print(\"+++++++++++++++++++++++++++++++++++++++++++++++++++++++++++++++\")\n",
    "    except:\n",
    "        for item2 in item:\n",
    "            pages.append(item2)\n",
    "#         print(type(item))\n",
    "#         print(len(item))\n",
    "#         print(\"======================================================================\", item)\n",
    "#     except:\n",
    "#         print(\"======================================================================\", item)\n",
    "#     print(item.page_content)\n",
    "print(len(pages))"
   ]
  },
  {
   "cell_type": "code",
   "execution_count": 115,
   "id": "fb934439",
   "metadata": {},
   "outputs": [],
   "source": [
    "vertex_llm_text = VertexAI(model_name=\"text-bison@001\")\n",
    "vertex_embeddings = VertexAIEmbeddings(model_name=\"textembedding-gecko@001\")"
   ]
  },
  {
   "cell_type": "code",
   "execution_count": 91,
   "id": "50bc5d00",
   "metadata": {},
   "outputs": [],
   "source": [
    "# text_splitter = CharacterTextSplitter(chunk_size=10000, chunk_overlap=0)\n",
    "\n",
    "# for item in pages:\n",
    "# #     if()\n",
    "#     try:\n",
    "# #         context = \"\\n\\n\".join(str(p.page_content) for p in pages)\n",
    "#         context +=\"\\n\\n\".join(str(item.page_content))\n",
    "#         texts = text_splitter.split_text(context)\n",
    "#     except:\n",
    "# #         print(item)\n",
    "#         print(\"ERRRRR\")\n",
    "\n",
    "# print(type(context))"
   ]
  },
  {
   "cell_type": "code",
   "execution_count": 116,
   "id": "292440f6",
   "metadata": {},
   "outputs": [],
   "source": [
    "# vector_index = Chroma.from_texts(texts, vertex_embeddings).as_retriever()"
   ]
  },
  {
   "cell_type": "code",
   "execution_count": 117,
   "id": "647f28bc",
   "metadata": {},
   "outputs": [],
   "source": [
    "# !pip install docarray\n",
    "from langchain.vectorstores import DocArrayInMemorySearch\n",
    "db = DocArrayInMemorySearch.from_documents(\n",
    "    pages, \n",
    "    vertex_embeddings\n",
    ")"
   ]
  },
  {
   "cell_type": "code",
   "execution_count": null,
   "id": "cba2935f",
   "metadata": {},
   "outputs": [],
   "source": [
    "# print(type(pages))"
   ]
  },
  {
   "cell_type": "code",
   "execution_count": null,
   "id": "e6c1b6a2",
   "metadata": {},
   "outputs": [],
   "source": [
    "### we will use above vectorstore to find answer to query\n",
    "# query = \"What is Incentivised offer\""
   ]
  },
  {
   "cell_type": "code",
   "execution_count": null,
   "id": "96a2a7c3",
   "metadata": {},
   "outputs": [],
   "source": [
    "## find all similar document\n",
    "# docs = db.similarity_search(query)\n",
    "# print(len(docs))\n",
    "## 4 docs are returned\n",
    "# docs[0] ## indeed a shirt"
   ]
  },
  {
   "cell_type": "code",
   "execution_count": 118,
   "id": "9142f6e3",
   "metadata": {},
   "outputs": [],
   "source": [
    "retriever = db.as_retriever()"
   ]
  },
  {
   "cell_type": "code",
   "execution_count": 194,
   "id": "f3dfc1aa",
   "metadata": {},
   "outputs": [],
   "source": [
    "from vertexai.preview.language_models import TextGenerationModel\n",
    "\n",
    "\n",
    "def getResponse(prompt ,temperature: float = 0.2):\n",
    "    \"\"\"Ideation example with a Large Language Model\"\"\"\n",
    "\n",
    "    # TODO developer - override these parameters as needed:\n",
    "    parameters = {\n",
    "        \"temperature\": temperature,  # Temperature controls the degree of randomness in token selection.\n",
    "        \"max_output_tokens\": 256,  # Token limit determines the maximum amount of text output.\n",
    "        \"top_p\": 0.8,  # Tokens are selected from most probable to least until the sum of their probabilities equals the top_p value.\n",
    "        \"top_k\": 40,  # A top_k of 1 means the selected token is the most probable among all tokens.\n",
    "    }\n",
    "\n",
    "    model = TextGenerationModel.from_pretrained(\"text-bison@001\")\n",
    "    response = model.\n",
    "    (\n",
    "        prompt,\n",
    "        **parameters,\n",
    "    )\n",
    "    \n",
    "    return response\n"
   ]
  },
  {
   "cell_type": "code",
   "execution_count": 137,
   "id": "4734db21",
   "metadata": {},
   "outputs": [],
   "source": [
    "\n",
    "# from vertexai.preview.language_models import ChatModel, InputOutputTextPair\n",
    "\n",
    "# def getChatResponse(prompt, temperature: float = 0.2):\n",
    "#     chat_model = ChatModel.from_pretrained(\"chat-bison@001\")\n",
    "\n",
    "#     # TODO developer - override these parameters as needed:\n",
    "#     parameters = {\n",
    "#         \"temperature\": temperature,  # Temperature controls the degree of randomness in token selection.\n",
    "#         \"max_output_tokens\": 256,  # Token limit determines the maximum amount of text output.\n",
    "#         \"top_p\": 0.95,  # Tokens are selected from most probable to least until the sum of their probabilities equals the top_p value.\n",
    "# #         \"top_k\": 40,  # A top_k of 1 means the selected token is the most probable among all tokens.\n",
    "#     }\n",
    "\n",
    "#     chat = chat_model.start_chat(\n",
    "#         context=SOPContext,\n",
    "#         examples=[\n",
    "#             InputOutputTextPair(\n",
    "#             ),\n",
    "#         ],\n",
    "#     )\n",
    "\n",
    "#     response = chat.send_message(\n",
    "#         query, **parameters\n",
    "#           )\n",
    "#     print(f\"Response from Model: {response.text}\")\n"
   ]
  },
  {
   "cell_type": "code",
   "execution_count": 203,
   "id": "0d46449b",
   "metadata": {},
   "outputs": [
    {
     "name": "stdout",
     "output_type": "stream",
     "text": [
      "5\n",
      "page_content='PBO\\nOverview\\nand\\nSOP\\n1 2 .\\nU p d a t e\\nr e q u i r e d\\nd e t a i l s\\ni n\\nP a y m e n t\\nc a t e g o r y\\n(\\nl i k e\\np a y m e n t\\ni n s t r u m e n t\\na n d\\nE M I\\nt y p e\\ni f\\na p p l i c a b l e )\\n1 3 .\\nE n t e r\\nF K\\na d v a n z\\no r\\ns e l l e r\\nb u r n\\na s\\n1 0 0 %\\nb a s e d\\no n\\nr e q u i r e m e n t .\\n1 4 .\\nS e l e c t\\np r i m a r y\\no b j e c t i v e\\na s\\nG M V\\nm a x i m i z a t i o n\\na n d\\ne x p e c t e d\\nR P C\\nd e f a u l t\\nv a l u e\\na s\\n1 .\\nC l i c k\\no n\\nc o n t i n u e\\nf e a t u r e .' metadata={'source': 'SOP/PBO SOP.pdf', 'page': 37}\n",
      "0 ======\n",
      "\n",
      "page_content='PBO\\nOverview\\nand\\nSOP\\nS e l e c t\\nA g g r e g a t i o n\\nT a b\\n( N e x t\\nt o\\nD i s c o u n t\\nT a b )\\n-\\nT h i s\\ns e c t i o n\\nd e f i n e s\\nt h e\\nl i m i t\\no n\\nt h e\\nn u m b e r\\no f\\nr e d e m p t i o n s\\no n\\nP a y t m\\nW a l l e t\\na c c\\ni d\\no r\\nM a x\\nd i s c o u n t\\na g a i n s t\\na\\nP a y t m\\nw a l l e t\\na c c o u n t\\ni d .\\nT h e\\ns e l e c t i o n s\\np o s s i b l e\\nh e r e\\na r e :\\nP F B\\ns c r e e n s h o t\\nf o r\\nr e f e r e n c e .\\n1 2 . U p d a t e\\nt h e\\nm a n d a t o r y\\nd e t a i l s\\ni n\\nP a y m e n t\\nc a t e g o r y .\\nA l w a y s\\np a y m e n t\\ni n s t r u m e n t s\\nm u s t\\nb e\\nW a l l e t\\na n d\\nW a l l e t\\np r o v i d e r\\ns h o u l d\\nb e\\nc h o s e n\\na s\\nP a y t m\\nW a l l e t .\\n1 3 .\\nU p d a t e\\nF A P L\\nb u r n\\na s\\n1 0 0 % .' metadata={'source': 'SOP/PBO SOP.pdf', 'page': 42}\n",
      "0 ======\n",
      "\n",
      "page_content='Unconditional\\nOf fer\\nD e t a i l s\\nS e c t i o n\\nI t\\ni s\\ns a m e\\na s\\ne x p l a i n e d\\nf o r\\nC o n d i t i o n a l\\nO ﬀ e r s\\na b o v e' metadata={'source': 'SOP/Casper SOP.pdf', 'page': 6}\n",
      "0 ======\n",
      "\n",
      "page_content='PBO\\nOverview\\nand\\nSOP\\n6 .\\nS e l e c t\\no f f e r\\nf o r m a t\\na s\\nS i n g l e L i s t i n g B P O .\\n7 .\\nS e l e c t\\nc l a s s i f i c a t i o n\\na s\\nN o n e\\na n d\\nc l i c k\\no n\\nt h e\\nc o n t i n u e\\nf e a t u r e .\\n8 .\\nU s e\\n“ N B F C ”\\np a y m e n t\\no f f e r\\nb a s e d\\n( S e l e c t\\nR a d i o\\nB u t t o n\\na s\\nB a n k\\n“ T y p e\\no f\\nd i s c o u n t\\nt o\\nb e\\na p p l i e d\\na s\\n“\\nI n s t a n t\\nd i s c o u n t\\n”\\n9 .\\nD i s c o u n t :\\nA .\\nO f f e r\\nt o\\nb e\\na p p l i e d\\no n\\nE M I\\na n d\\nu p d a t e\\na l l\\ni m p o r t a n t\\nt e x t\\nf i e l d s\\n-\\nB .\\nP e r c e n t a g e\\nD i s c o u n t\\nt o\\nb e\\na p p l i e d\\ni s\\n1 0 0 %\\nn u m b e r\\no f\\nE M I\\nm o n t h s\\n( 3\\na n d\\n6\\nm o n t h s ) .\\n1 0 .\\nA g g r e g a t i o n :\\n1 1 .\\nS e l e c t\\nt h e\\nc r i t e r i a\\nf o r\\nr e d e m p t i o n\\n“\\nf o r\\nc u r r e n t\\nt r a n s a c t i o n ’\\nw i t h\\nl i m i t\\no n\\n“\\nM a x\\nn u m b e r\\no f\\nt r a n s a c t i o n s ”\\na n d\\nv a l u e\\ni s\\n“ 1 0 ”' metadata={'source': 'SOP/PBO SOP.pdf', 'page': 14}\n",
      "0 ======\n",
      "\n",
      "page_content='PBO\\nOverview\\nand\\nSOP\\ni i i .\\nM a x\\nn u m b e r\\no f\\nt r a n s a c t i o n s\\np e r\\nc a r d .\\ni v .\\nM a x\\nt o t a l\\na m o u n t\\nf o r\\nt r a n s a c t i o n s\\na t\\nc a r d\\nl e v e l\\n( m a x\\no f f e r\\na m o u n t\\nc u s t o m e r\\nc a n\\na v a i l\\nd u r i n g\\no f f e r\\np e r i o d\\n)\\nE g :\\nI f\\nI\\nw a n t\\nt o\\nl i m i t\\nM a x i m u m\\nd i s c o u n t\\nt o\\nR s\\n3 0 0 0\\no n\\na n y\\nc a r d .\\nI\\nw i l l\\nC h o o s e\\n●\\nC r i t e r i a\\nf o r\\nr e d e m p t i o n\\n-\\nC r e d i t / D e b i t\\nc a r d\\nn u m b e r\\n●\\nL i m i t\\no n\\n-\\nM a x\\nt o t a l\\na m o u n t\\nf o r\\nt r a n s a c t i o n s\\n●\\nV a l u e\\ni s\\n-\\n3 0 0 0\\n1 2 .\\nU p d a t e\\nr e q u i r e d\\nd e t a i l s\\ni n\\nP a y m e n t\\nc a t e g o r y (\\nl i k e\\np a y m e n t\\nm e t h o d ,\\nP a r t i c i p a t i n g\\nb a n k\\na n d\\nE M I\\nt y p e )\\n1 3 .\\nE n t e r\\nF A P L\\nb u r n\\no r\\ns e l l e r\\nb u r n\\na s\\n1 0 0 %\\nb a s e d\\no n\\nr e q u i r e m e n t .' metadata={'source': 'SOP/PBO SOP.pdf', 'page': 5}\n",
      "0 ======\n",
      "\n"
     ]
    },
    {
     "ename": "IndexError",
     "evalue": "list index out of range",
     "output_type": "error",
     "traceback": [
      "\u001b[0;31m---------------------------------------------------------------------------\u001b[0m",
      "\u001b[0;31mIndexError\u001b[0m                                Traceback (most recent call last)",
      "Cell \u001b[0;32mIn[203], line 13\u001b[0m\n\u001b[1;32m     11\u001b[0m \u001b[38;5;66;03m# print(qdocs)\u001b[39;00m\n\u001b[1;32m     12\u001b[0m \u001b[38;5;28;01mfor\u001b[39;00m i \u001b[38;5;129;01min\u001b[39;00m \u001b[38;5;28mrange\u001b[39m(\u001b[38;5;241m0\u001b[39m,\u001b[38;5;28mlen\u001b[39m(qdocs)\u001b[38;5;241m-\u001b[39m\u001b[38;5;241m2\u001b[39m):\n\u001b[0;32m---> 13\u001b[0m     \u001b[38;5;28mprint\u001b[39m(\u001b[43mrelevantDocs\u001b[49m\u001b[43m[\u001b[49m\u001b[43mi\u001b[49m\u001b[43m]\u001b[49m)\n\u001b[1;32m     14\u001b[0m     relevantDocs[i]\u001b[38;5;241m.\u001b[39mpage_content\n\u001b[1;32m     15\u001b[0m     \u001b[38;5;28mprint\u001b[39m(item, \u001b[38;5;124m\"\u001b[39m\u001b[38;5;124m======\u001b[39m\u001b[38;5;130;01m\\n\u001b[39;00m\u001b[38;5;124m\"\u001b[39m)\n",
      "\u001b[0;31mIndexError\u001b[0m: list index out of range"
     ]
    }
   ],
   "source": [
    "# query = \"how does deferred Giveaway works for offer\"\n",
    "# query = \"how does I create a Promise Callout Offer\"\n",
    "query = \"What is Insufficient Participation?\"\n",
    "relevantDocs = db.similarity_search(query, k=5)\n",
    "# relevantDocs = db.similarity_search_with_score(query, k=10)\n",
    "\n",
    "print(len(relevantDocs))\n",
    "# print(relevantDocs)\n",
    "\n",
    "qdocs = \"\".join([relevantDocs[i].page_content for i in range(len(relevantDocs))])\n",
    "# print(qdocs)\n",
    "for i in range(0,len(qdocs)-2):\n",
    "    print(relevantDocs[i])\n",
    "    relevantDocs[i].page_content\n",
    "    print(item, \"======\\n\")"
   ]
  },
  {
   "cell_type": "code",
   "execution_count": 204,
   "id": "da6912e2",
   "metadata": {},
   "outputs": [
    {
     "name": "stdout",
     "output_type": "stream",
     "text": [
      "3987\n"
     ]
    }
   ],
   "source": [
    "\n",
    "role = \"\"\"\n",
    "You are offer related query answering module for promotions platform on Flipkart.\\\n",
    "You answer questions with a high degree of precision & wherever you do not have enough precision, \\\n",
    "you always provide an output saying the answers might not be fully correct. \\\n",
    "Promotions Platform has capabilities to create and maintain an offer via its \\\n",
    "offer creation console- 'Grumbles' and maintenance console-- 'Casper'. Business users\\\n",
    "can ask multiple questions related to capabilities for creating and maintaining an offer.\n",
    "\"\"\"\n",
    "\n",
    "prompt = f\"\"\" \n",
    "Role: {role}\n",
    "Follow exactly these 3 steps:\n",
    "1. Read the context below and aggregrate this data\n",
    "Context : {qdocs}\n",
    "2. Answer the question using only this context\n",
    "3. Show the source for your answers\n",
    "User Question: {query}\n",
    "\n",
    "If you don't have any context and are unsure of the answer, reply that you don't know about this topic.\n",
    "\n",
    "\"\"\"\n",
    "print(len(prompt))"
   ]
  },
  {
   "cell_type": "code",
   "execution_count": 205,
   "id": "809ccacb",
   "metadata": {},
   "outputs": [
    {
     "name": "stdout",
     "output_type": "stream",
     "text": [
      "Insufficient participation is a situation where the number of transactions or amount of discount redeemed by customers is less than the expected value. This can happen for a variety of reasons, such as the offer not being well-publicized, the offer not being relevant to customers' needs, or the offer not being competitive with other offers. In order to avoid insufficient participation, it is important to carefully design and test offers before launching them.\n"
     ]
    }
   ],
   "source": [
    "print(getResponse(prompt))"
   ]
  },
  {
   "cell_type": "code",
   "execution_count": 52,
   "id": "5eb2f52d",
   "metadata": {},
   "outputs": [],
   "source": [
    "\n",
    "# response = vertex_llm_text.call_as_llm(f\"{qdocs} Question: What is Incentivised offer.\") \n",
    "\n",
    "# print (sopContext)\n",
    "\n",
    "# print(prompt)\n",
    "# question =  f\"{qdocs} {prompt}\"\n",
    "# print(question)\n",
    "# print(getResponse(question))\n",
    "# display(Markdown(response))\n",
    "\n",
    "# getChatResponse()"
   ]
  },
  {
   "cell_type": "code",
   "execution_count": 44,
   "id": "0f380111",
   "metadata": {},
   "outputs": [
    {
     "name": "stdout",
     "output_type": "stream",
     "text": [
      "Your browser has been opened to visit:\n",
      "\n",
      "    https://accounts.google.com/o/oauth2/auth?response_type=code&client_id=764086051850-6qr4p6gpi6hn506pt8ejuq83di341hur.apps.googleusercontent.com&redirect_uri=http%3A%2F%2Flocalhost%3A8085%2F&scope=openid+https%3A%2F%2Fwww.googleapis.com%2Fauth%2Fuserinfo.email+https%3A%2F%2Fwww.googleapis.com%2Fauth%2Fcloud-platform+https%3A%2F%2Fwww.googleapis.com%2Fauth%2Fsqlservice.login+https%3A%2F%2Fwww.googleapis.com%2Fauth%2Faccounts.reauth&state=pADgtmPZNHZvxRpgD8V4RTFV4W5pFb&access_type=offline&code_challenge=ZXf2KQ2SRUq0VcPQIU07fBCCOZK64fwwHr2kNM-VFHw&code_challenge_method=S256\n",
      "\n",
      "\n",
      "Credentials saved to file: [/Users/princekumar.k/.config/gcloud/application_default_credentials.json]\n",
      "\n",
      "These credentials will be used by any library that requests Application Default Credentials (ADC).\n",
      "\n",
      "Quota project \"sxp-genai-innovdays-team-9\" was added to ADC which can be used by Google client libraries for billing and quota. Note that some services may still bill the project owning the resource.\n"
     ]
    }
   ],
   "source": [
    "!gcloud auth application-default login"
   ]
  },
  {
   "cell_type": "code",
   "execution_count": null,
   "id": "7e9d59bb",
   "metadata": {},
   "outputs": [],
   "source": []
  }
 ],
 "metadata": {
  "kernelspec": {
   "display_name": "Python 3 (ipykernel)",
   "language": "python",
   "name": "python3"
  },
  "language_info": {
   "codemirror_mode": {
    "name": "ipython",
    "version": 3
   },
   "file_extension": ".py",
   "mimetype": "text/x-python",
   "name": "python",
   "nbconvert_exporter": "python",
   "pygments_lexer": "ipython3",
   "version": "3.9.6"
  }
 },
 "nbformat": 4,
 "nbformat_minor": 5
}
