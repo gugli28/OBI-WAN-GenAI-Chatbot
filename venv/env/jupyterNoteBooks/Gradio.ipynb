{
 "cells": [
  {
   "cell_type": "code",
   "execution_count": 2,
   "id": "5c1ba2a9",
   "metadata": {},
   "outputs": [
    {
     "name": "stdout",
     "output_type": "stream",
     "text": [
      "Collecting gradio\n",
      "  Downloading gradio-3.35.2-py3-none-any.whl (19.7 MB)\n",
      "\u001b[2K     \u001b[38;2;114;156;31m━━━━━━━━━━━━━━━━━━━━━━━━━━━━━━━━━━━━━━━━\u001b[0m \u001b[32m19.7/19.7 MB\u001b[0m \u001b[31m24.6 MB/s\u001b[0m eta \u001b[36m0:00:00\u001b[0mm eta \u001b[36m0:00:01\u001b[0m[36m0:00:01\u001b[0m\n",
      "\u001b[?25hCollecting aiofiles (from gradio)\n",
      "  Downloading aiofiles-23.1.0-py3-none-any.whl (14 kB)\n",
      "Requirement already satisfied: aiohttp in ./lib/python3.9/site-packages (from gradio) (3.8.4)\n",
      "Collecting altair>=4.2.0 (from gradio)\n",
      "  Downloading altair-5.0.1-py3-none-any.whl (471 kB)\n",
      "\u001b[2K     \u001b[38;2;114;156;31m━━━━━━━━━━━━━━━━━━━━━━━━━━━━━━━━━━━━━━\u001b[0m \u001b[32m471.5/471.5 kB\u001b[0m \u001b[31m11.0 MB/s\u001b[0m eta \u001b[36m0:00:00\u001b[0mm eta \u001b[36m0:00:01\u001b[0m\n",
      "\u001b[?25hCollecting fastapi (from gradio)\n",
      "  Using cached fastapi-0.98.0-py3-none-any.whl (56 kB)\n",
      "Collecting ffmpy (from gradio)\n",
      "  Downloading ffmpy-0.3.0.tar.gz (4.8 kB)\n",
      "  Installing build dependencies ... \u001b[?25ldone\n",
      "\u001b[?25h  Getting requirements to build wheel ... \u001b[?25ldone\n",
      "\u001b[?25h  Preparing metadata (pyproject.toml) ... \u001b[?25ldone\n",
      "\u001b[?25hCollecting gradio-client>=0.2.7 (from gradio)\n",
      "  Downloading gradio_client-0.2.7-py3-none-any.whl (288 kB)\n",
      "\u001b[2K     \u001b[38;2;114;156;31m━━━━━━━━━━━━━━━━━━━━━━━━━━━━━━━━━━━━━━\u001b[0m \u001b[32m288.4/288.4 kB\u001b[0m \u001b[31m10.1 MB/s\u001b[0m eta \u001b[36m0:00:00\u001b[0m\n",
      "\u001b[?25hRequirement already satisfied: httpx in ./lib/python3.9/site-packages (from gradio) (0.23.3)\n",
      "Requirement already satisfied: huggingface-hub>=0.14.0 in ./lib/python3.9/site-packages (from gradio) (0.15.1)\n",
      "Requirement already satisfied: jinja2 in ./lib/python3.9/site-packages (from gradio) (3.1.2)\n",
      "Requirement already satisfied: markdown-it-py[linkify]>=2.0.0 in ./lib/python3.9/site-packages (from gradio) (3.0.0)\n",
      "Requirement already satisfied: markupsafe in ./lib/python3.9/site-packages (from gradio) (2.1.3)\n",
      "Collecting matplotlib (from gradio)\n",
      "  Downloading matplotlib-3.7.1-cp39-cp39-macosx_10_12_x86_64.whl (7.4 MB)\n",
      "\u001b[2K     \u001b[38;2;114;156;31m━━━━━━━━━━━━━━━━━━━━━━━━━━━━━━━━━━━━━━━━\u001b[0m \u001b[32m7.4/7.4 MB\u001b[0m \u001b[31m24.9 MB/s\u001b[0m eta \u001b[36m0:00:00\u001b[0mm eta \u001b[36m0:00:01\u001b[0m[36m0:00:01\u001b[0m\n",
      "\u001b[?25hCollecting mdit-py-plugins<=0.3.3 (from gradio)\n",
      "  Downloading mdit_py_plugins-0.3.3-py3-none-any.whl (50 kB)\n",
      "\u001b[2K     \u001b[38;2;114;156;31m━━━━━━━━━━━━━━━━━━━━━━━━━━━━━━━━━━━━━━━\u001b[0m \u001b[32m50.5/50.5 kB\u001b[0m \u001b[31m935.4 kB/s\u001b[0m eta \u001b[36m0:00:00\u001b[0m MB/s\u001b[0m eta \u001b[36m0:00:01\u001b[0m\n",
      "\u001b[?25hRequirement already satisfied: numpy in ./lib/python3.9/site-packages (from gradio) (1.23.5)\n",
      "Requirement already satisfied: orjson in ./lib/python3.9/site-packages (from gradio) (3.9.1)\n",
      "Requirement already satisfied: pandas in ./lib/python3.9/site-packages (from gradio) (1.5.3)\n",
      "Requirement already satisfied: pillow in ./lib/python3.9/site-packages (from gradio) (9.5.0)\n",
      "Requirement already satisfied: pydantic in ./lib/python3.9/site-packages (from gradio) (1.10.9)\n",
      "Collecting pydub (from gradio)\n",
      "  Using cached pydub-0.25.1-py2.py3-none-any.whl (32 kB)\n",
      "Requirement already satisfied: pygments>=2.12.0 in ./lib/python3.9/site-packages (from gradio) (2.15.1)\n",
      "Collecting python-multipart (from gradio)\n",
      "  Downloading python_multipart-0.0.6-py3-none-any.whl (45 kB)\n",
      "\u001b[2K     \u001b[38;2;114;156;31m━━━━━━━━━━━━━━━━━━━━━━━━━━━━━━━━━━━━━━━━\u001b[0m \u001b[32m45.7/45.7 kB\u001b[0m \u001b[31m1.5 MB/s\u001b[0m eta \u001b[36m0:00:00\u001b[0m\n",
      "\u001b[?25hRequirement already satisfied: pyyaml in ./lib/python3.9/site-packages (from gradio) (6.0)\n",
      "Requirement already satisfied: requests in ./lib/python3.9/site-packages (from gradio) (2.31.0)\n",
      "Collecting semantic-version (from gradio)\n",
      "  Downloading semantic_version-2.10.0-py2.py3-none-any.whl (15 kB)\n",
      "Collecting uvicorn>=0.14.0 (from gradio)\n",
      "  Using cached uvicorn-0.22.0-py3-none-any.whl (58 kB)\n",
      "Collecting websockets>=10.0 (from gradio)\n",
      "  Using cached websockets-11.0.3-cp39-cp39-macosx_10_9_x86_64.whl (120 kB)\n",
      "Requirement already satisfied: jsonschema>=3.0 in ./lib/python3.9/site-packages (from altair>=4.2.0->gradio) (4.17.3)\n",
      "Collecting toolz (from altair>=4.2.0->gradio)\n",
      "  Downloading toolz-0.12.0-py3-none-any.whl (55 kB)\n",
      "\u001b[2K     \u001b[38;2;114;156;31m━━━━━━━━━━━━━━━━━━━━━━━━━━━━━━━━━━━━━━━━\u001b[0m \u001b[32m55.8/55.8 kB\u001b[0m \u001b[31m1.8 MB/s\u001b[0m eta \u001b[36m0:00:00\u001b[0m\n",
      "\u001b[?25hRequirement already satisfied: typing-extensions>=4.0.1 in ./lib/python3.9/site-packages (from altair>=4.2.0->gradio) (4.6.3)\n",
      "Requirement already satisfied: fsspec in ./lib/python3.9/site-packages (from gradio-client>=0.2.7->gradio) (2023.6.0)\n",
      "Requirement already satisfied: packaging in ./lib/python3.9/site-packages (from gradio-client>=0.2.7->gradio) (23.1)\n",
      "Requirement already satisfied: filelock in ./lib/python3.9/site-packages (from huggingface-hub>=0.14.0->gradio) (3.12.2)\n",
      "Requirement already satisfied: tqdm>=4.42.1 in ./lib/python3.9/site-packages (from huggingface-hub>=0.14.0->gradio) (4.65.0)\n",
      "Requirement already satisfied: mdurl~=0.1 in ./lib/python3.9/site-packages (from markdown-it-py[linkify]>=2.0.0->gradio) (0.1.2)\n",
      "Collecting linkify-it-py<3,>=1 (from markdown-it-py[linkify]>=2.0.0->gradio)\n",
      "  Downloading linkify_it_py-2.0.2-py3-none-any.whl (19 kB)\n",
      "INFO: pip is looking at multiple versions of mdit-py-plugins to determine which version is compatible with other requirements. This could take a while.\n",
      "Collecting mdit-py-plugins<=0.3.3 (from gradio)\n",
      "  Downloading mdit_py_plugins-0.3.2-py3-none-any.whl (50 kB)\n",
      "\u001b[2K     \u001b[38;2;114;156;31m━━━━━━━━━━━━━━━━━━━━━━━━━━━━━━━━━━━━━━━━\u001b[0m \u001b[32m50.4/50.4 kB\u001b[0m \u001b[31m1.7 MB/s\u001b[0m eta \u001b[36m0:00:00\u001b[0m\n",
      "\u001b[?25h  Downloading mdit_py_plugins-0.3.1-py3-none-any.whl (46 kB)\n",
      "\u001b[2K     \u001b[38;2;114;156;31m━━━━━━━━━━━━━━━━━━━━━━━━━━━━━━━━━━━━━━━\u001b[0m \u001b[32m46.5/46.5 kB\u001b[0m \u001b[31m887.2 kB/s\u001b[0m eta \u001b[36m0:00:00\u001b[0m MB/s\u001b[0m eta \u001b[36m0:00:01\u001b[0m\n",
      "\u001b[?25h  Downloading mdit_py_plugins-0.3.0-py3-none-any.whl (43 kB)\n",
      "\u001b[2K     \u001b[38;2;114;156;31m━━━━━━━━━━━━━━━━━━━━━━━━━━━━━━━━━━━━━━━\u001b[0m \u001b[32m43.7/43.7 kB\u001b[0m \u001b[31m799.8 kB/s\u001b[0m eta \u001b[36m0:00:00\u001b[0m31m93.6 MB/s\u001b[0m eta \u001b[36m0:00:01\u001b[0m\n",
      "\u001b[?25h  Downloading mdit_py_plugins-0.2.8-py3-none-any.whl (41 kB)\n",
      "\u001b[2K     \u001b[38;2;114;156;31m━━━━━━━━━━━━━━━━━━━━━━━━━━━━━━━━━━━━━━━\u001b[0m \u001b[32m41.0/41.0 kB\u001b[0m \u001b[31m731.8 kB/s\u001b[0m eta \u001b[36m0:00:00\u001b[0mm eta \u001b[36m0:00:01\u001b[0m\n",
      "\u001b[?25h  Downloading mdit_py_plugins-0.2.7-py3-none-any.whl (41 kB)\n",
      "\u001b[2K     \u001b[38;2;114;156;31m━━━━━━━━━━━━━━━━━━━━━━━━━━━━━━━━━━━━━━━━\u001b[0m \u001b[32m41.0/41.0 kB\u001b[0m \u001b[31m1.3 MB/s\u001b[0m eta \u001b[36m0:00:00\u001b[0m\n",
      "\u001b[?25h  Downloading mdit_py_plugins-0.2.6-py3-none-any.whl (39 kB)\n",
      "  Downloading mdit_py_plugins-0.2.5-py3-none-any.whl (39 kB)\n",
      "INFO: pip is looking at multiple versions of mdit-py-plugins to determine which version is compatible with other requirements. This could take a while.\n",
      "  Downloading mdit_py_plugins-0.2.4-py3-none-any.whl (39 kB)\n",
      "  Downloading mdit_py_plugins-0.2.3-py3-none-any.whl (39 kB)\n",
      "  Downloading mdit_py_plugins-0.2.2-py3-none-any.whl (39 kB)\n",
      "  Downloading mdit_py_plugins-0.2.1-py3-none-any.whl (38 kB)\n",
      "  Downloading mdit_py_plugins-0.2.0-py3-none-any.whl (38 kB)\n",
      "INFO: This is taking longer than usual. You might need to provide the dependency resolver with stricter constraints to reduce runtime. See https://pip.pypa.io/warnings/backtracking for guidance. If you want to abort this run, press Ctrl + C.\n",
      "  Downloading mdit_py_plugins-0.1.0-py3-none-any.whl (37 kB)\n",
      "Collecting markdown-it-py[linkify]>=2.0.0 (from gradio)\n",
      "  Using cached markdown_it_py-3.0.0-py3-none-any.whl (87 kB)\n",
      "  Downloading markdown_it_py-2.2.0-py3-none-any.whl (84 kB)\n",
      "\u001b[2K     \u001b[38;2;114;156;31m━━━━━━━━━━━━━━━━━━━━━━━━━━━━━━━━━━━━━━━━\u001b[0m \u001b[32m84.5/84.5 kB\u001b[0m \u001b[31m3.0 MB/s\u001b[0m eta \u001b[36m0:00:00\u001b[0m\n",
      "\u001b[?25hRequirement already satisfied: python-dateutil>=2.8.1 in ./lib/python3.9/site-packages (from pandas->gradio) (2.8.2)\n",
      "Requirement already satisfied: pytz>=2020.1 in ./lib/python3.9/site-packages (from pandas->gradio) (2023.3)\n",
      "Requirement already satisfied: click>=7.0 in ./lib/python3.9/site-packages (from uvicorn>=0.14.0->gradio) (8.1.3)\n",
      "Requirement already satisfied: h11>=0.8 in ./lib/python3.9/site-packages (from uvicorn>=0.14.0->gradio) (0.14.0)\n",
      "Requirement already satisfied: attrs>=17.3.0 in ./lib/python3.9/site-packages (from aiohttp->gradio) (23.1.0)\n",
      "Requirement already satisfied: charset-normalizer<4.0,>=2.0 in ./lib/python3.9/site-packages (from aiohttp->gradio) (3.1.0)\n",
      "Requirement already satisfied: multidict<7.0,>=4.5 in ./lib/python3.9/site-packages (from aiohttp->gradio) (6.0.4)\n",
      "Requirement already satisfied: async-timeout<5.0,>=4.0.0a3 in ./lib/python3.9/site-packages (from aiohttp->gradio) (4.0.2)\n",
      "Requirement already satisfied: yarl<2.0,>=1.0 in ./lib/python3.9/site-packages (from aiohttp->gradio) (1.9.2)\n",
      "Requirement already satisfied: frozenlist>=1.1.1 in ./lib/python3.9/site-packages (from aiohttp->gradio) (1.3.3)\n",
      "Requirement already satisfied: aiosignal>=1.1.2 in ./lib/python3.9/site-packages (from aiohttp->gradio) (1.3.1)\n"
     ]
    },
    {
     "name": "stdout",
     "output_type": "stream",
     "text": [
      "Collecting starlette<0.28.0,>=0.27.0 (from fastapi->gradio)\n",
      "  Using cached starlette-0.27.0-py3-none-any.whl (66 kB)\n",
      "Requirement already satisfied: certifi in ./lib/python3.9/site-packages (from httpx->gradio) (2023.5.7)\n",
      "Requirement already satisfied: httpcore<0.17.0,>=0.15.0 in ./lib/python3.9/site-packages (from httpx->gradio) (0.16.3)\n",
      "Requirement already satisfied: rfc3986[idna2008]<2,>=1.3 in ./lib/python3.9/site-packages (from httpx->gradio) (1.5.0)\n",
      "Requirement already satisfied: sniffio in ./lib/python3.9/site-packages (from httpx->gradio) (1.3.0)\n",
      "Collecting contourpy>=1.0.1 (from matplotlib->gradio)\n",
      "  Downloading contourpy-1.1.0-cp39-cp39-macosx_10_9_x86_64.whl (243 kB)\n",
      "\u001b[2K     \u001b[38;2;114;156;31m━━━━━━━━━━━━━━━━━━━━━━━━━━━━━━━━━━━━━━━\u001b[0m \u001b[32m243.7/243.7 kB\u001b[0m \u001b[31m6.1 MB/s\u001b[0m eta \u001b[36m0:00:00\u001b[0m31m50.1 MB/s\u001b[0m eta \u001b[36m0:00:01\u001b[0m\n",
      "\u001b[?25hCollecting cycler>=0.10 (from matplotlib->gradio)\n",
      "  Downloading cycler-0.11.0-py3-none-any.whl (6.4 kB)\n",
      "Collecting fonttools>=4.22.0 (from matplotlib->gradio)\n",
      "  Downloading fonttools-4.40.0-cp39-cp39-macosx_10_9_x86_64.whl (2.1 MB)\n",
      "\u001b[2K     \u001b[38;2;114;156;31m━━━━━━━━━━━━━━━━━━━━━━━━━━━━━━━━━━━━━━━━\u001b[0m \u001b[32m2.1/2.1 MB\u001b[0m \u001b[31m22.3 MB/s\u001b[0m eta \u001b[36m0:00:00\u001b[0mm eta \u001b[36m0:00:01\u001b[0m[36m0:00:01\u001b[0m\n",
      "\u001b[?25hCollecting kiwisolver>=1.0.1 (from matplotlib->gradio)\n",
      "  Downloading kiwisolver-1.4.4-cp39-cp39-macosx_10_9_x86_64.whl (65 kB)\n",
      "\u001b[2K     \u001b[38;2;114;156;31m━━━━━━━━━━━━━━━━━━━━━━━━━━━━━━━━━━━━━━━━\u001b[0m \u001b[32m65.5/65.5 kB\u001b[0m \u001b[31m2.4 MB/s\u001b[0m eta \u001b[36m0:00:00\u001b[0m\n",
      "\u001b[?25hCollecting pyparsing>=2.3.1 (from matplotlib->gradio)\n",
      "  Downloading pyparsing-3.1.0-py3-none-any.whl (102 kB)\n",
      "\u001b[2K     \u001b[38;2;114;156;31m━━━━━━━━━━━━━━━━━━━━━━━━━━━━━━━━━━━━━━━\u001b[0m \u001b[32m102.6/102.6 kB\u001b[0m \u001b[31m3.5 MB/s\u001b[0m eta \u001b[36m0:00:00\u001b[0m\n",
      "\u001b[?25hCollecting importlib-resources>=3.2.0 (from matplotlib->gradio)\n",
      "  Downloading importlib_resources-5.12.0-py3-none-any.whl (36 kB)\n",
      "Requirement already satisfied: idna<4,>=2.5 in ./lib/python3.9/site-packages (from requests->gradio) (3.4)\n",
      "Requirement already satisfied: urllib3<3,>=1.21.1 in ./lib/python3.9/site-packages (from requests->gradio) (1.24.3)\n",
      "Requirement already satisfied: anyio<5.0,>=3.0 in ./lib/python3.9/site-packages (from httpcore<0.17.0,>=0.15.0->httpx->gradio) (3.7.0)\n",
      "Requirement already satisfied: zipp>=3.1.0 in ./lib/python3.9/site-packages (from importlib-resources>=3.2.0->matplotlib->gradio) (3.15.0)\n",
      "Requirement already satisfied: pyrsistent!=0.17.0,!=0.17.1,!=0.17.2,>=0.14.0 in ./lib/python3.9/site-packages (from jsonschema>=3.0->altair>=4.2.0->gradio) (0.19.3)\n",
      "Collecting uc-micro-py (from linkify-it-py<3,>=1->markdown-it-py[linkify]>=2.0.0->gradio)\n",
      "  Downloading uc_micro_py-1.0.2-py3-none-any.whl (6.2 kB)\n",
      "Requirement already satisfied: six>=1.5 in ./lib/python3.9/site-packages (from python-dateutil>=2.8.1->pandas->gradio) (1.16.0)\n",
      "Requirement already satisfied: exceptiongroup in ./lib/python3.9/site-packages (from anyio<5.0,>=3.0->httpcore<0.17.0,>=0.15.0->httpx->gradio) (1.1.1)\n",
      "Building wheels for collected packages: ffmpy\n",
      "  Building wheel for ffmpy (pyproject.toml) ... \u001b[?25ldone\n",
      "\u001b[?25h  Created wheel for ffmpy: filename=ffmpy-0.3.0-py3-none-any.whl size=4694 sha256=2416c625fe62e8b0445f6e70c1be8d4510acc68398db5928c5bc62fbb4a15851\n",
      "  Stored in directory: /Users/princekumar.k/Library/Caches/pip/wheels/91/e2/96/f676aa08bfd789328c6576cd0f1fde4a3d686703bb0c247697\n",
      "Successfully built ffmpy\n",
      "Installing collected packages: pydub, ffmpy, websockets, uvicorn, uc-micro-py, toolz, semantic-version, python-multipart, pyparsing, markdown-it-py, kiwisolver, importlib-resources, fonttools, cycler, contourpy, aiofiles, starlette, mdit-py-plugins, matplotlib, linkify-it-py, fastapi, altair, gradio-client, gradio\n",
      "  Attempting uninstall: markdown-it-py\n",
      "    Found existing installation: markdown-it-py 3.0.0\n",
      "    Uninstalling markdown-it-py-3.0.0:\n",
      "      Successfully uninstalled markdown-it-py-3.0.0\n",
      "Successfully installed aiofiles-23.1.0 altair-5.0.1 contourpy-1.1.0 cycler-0.11.0 fastapi-0.98.0 ffmpy-0.3.0 fonttools-4.40.0 gradio-3.35.2 gradio-client-0.2.7 importlib-resources-5.12.0 kiwisolver-1.4.4 linkify-it-py-2.0.2 markdown-it-py-2.2.0 matplotlib-3.7.1 mdit-py-plugins-0.3.3 pydub-0.25.1 pyparsing-3.1.0 python-multipart-0.0.6 semantic-version-2.10.0 starlette-0.27.0 toolz-0.12.0 uc-micro-py-1.0.2 uvicorn-0.22.0 websockets-11.0.3\n"
     ]
    }
   ],
   "source": [
    "!pip3 install gradio"
   ]
  },
  {
   "cell_type": "code",
   "execution_count": 3,
   "id": "25cdf16d",
   "metadata": {},
   "outputs": [
    {
     "name": "stderr",
     "output_type": "stream",
     "text": [
      "/Users/princekumar.k/Documents/Mylearnings/GenAI/venv/env/lib/python3.9/site-packages/tqdm/auto.py:21: TqdmWarning: IProgress not found. Please update jupyter and ipywidgets. See https://ipywidgets.readthedocs.io/en/stable/user_install.html\n",
      "  from .autonotebook import tqdm as notebook_tqdm\n"
     ]
    },
    {
     "name": "stdout",
     "output_type": "stream",
     "text": [
      "Running on local URL:  http://127.0.0.1:7860\n",
      "\n",
      "To create a public link, set `share=True` in `launch()`.\n"
     ]
    },
    {
     "data": {
      "text/html": [
       "<div><iframe src=\"http://127.0.0.1:7860/\" width=\"100%\" height=\"500\" allow=\"autoplay; camera; microphone; clipboard-read; clipboard-write;\" frameborder=\"0\" allowfullscreen></iframe></div>"
      ],
      "text/plain": [
       "<IPython.core.display.HTML object>"
      ]
     },
     "metadata": {},
     "output_type": "display_data"
    },
    {
     "name": "stdout",
     "output_type": "stream",
     "text": [
      "Keyboard interruption in main thread... closing server.\n"
     ]
    },
    {
     "data": {
      "text/plain": []
     },
     "execution_count": 3,
     "metadata": {},
     "output_type": "execute_result"
    }
   ],
   "source": [
    "import os\n",
    "import openai\n",
    "import gradio\n",
    "openai.api_key = \"YOUR_API_KEY\"\n",
    "prompt = \"Enter Your Query Here\"\n",
    "def api_calling(prompt):\n",
    "    completions = openai.Completion.create(\n",
    "        engine=\"text-davinci-003\",\n",
    "        prompt=prompt,\n",
    "        max_tokens=1024,\n",
    "        n=1,\n",
    "        stop=None,\n",
    "        temperature=0.5,\n",
    "    )\n",
    "    message = completions.choices[0].text\n",
    "    return message\n",
    "def message_and_history(input, history):\n",
    "    history = history or []\n",
    "    s = list(sum(history, ()))\n",
    "    s.append(input)\n",
    "    inp = ' '.join(s)\n",
    "    output = api_calling(inp)\n",
    "    history.append((input, output))\n",
    "    return history, history\n",
    "block = gradio.Blocks(theme=gradio.themes.Monochrome())\n",
    "with block:\n",
    "    gradio.Markdown(\"\"\"<h1><center>ChatGPT \n",
    "    ChatBot with Gradio and OpenAI</center></h1>\n",
    "    \"\"\")\n",
    "    chatbot = gradio.Chatbot()\n",
    "    message = gradio.Textbox(placeholder=prompt)\n",
    "    state = gradio.State()\n",
    "    submit = gradio.Button(\"SEND\")\n",
    "    submit.click(message_and_history, \n",
    "                 inputs=[message, state], \n",
    "                 outputs=[chatbot, state])\n",
    "block.launch(debug = True)"
   ]
  },
  {
   "cell_type": "code",
   "execution_count": null,
   "id": "22f42ee0",
   "metadata": {},
   "outputs": [],
   "source": []
  }
 ],
 "metadata": {
  "kernelspec": {
   "display_name": "Python 3 (ipykernel)",
   "language": "python",
   "name": "python3"
  },
  "language_info": {
   "codemirror_mode": {
    "name": "ipython",
    "version": 3
   },
   "file_extension": ".py",
   "mimetype": "text/x-python",
   "name": "python",
   "nbconvert_exporter": "python",
   "pygments_lexer": "ipython3",
   "version": "3.9.6"
  }
 },
 "nbformat": 4,
 "nbformat_minor": 5
}
